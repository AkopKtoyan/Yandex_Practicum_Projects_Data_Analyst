{
 "cells": [
  {
   "cell_type": "markdown",
   "id": "1c15739a",
   "metadata": {},
   "source": [
    "Ссылка на дашборд: \n",
    "https://public.tableau.com/app/profile/akop.ktoyan/viz/Tableau3_16940820914770/TED-?publish=yes  "
   ]
  }
 ],
 "metadata": {
  "ExecuteTimeLog": [
   {
    "duration": 102,
    "start_time": "2023-09-06T06:32:36.372Z"
   },
   {
    "duration": 130,
    "start_time": "2023-09-06T18:40:57.906Z"
   },
   {
    "duration": 3,
    "start_time": "2023-09-07T10:24:13.302Z"
   }
  ],
  "kernelspec": {
   "display_name": "Python 3 (ipykernel)",
   "language": "python",
   "name": "python3"
  },
  "language_info": {
   "codemirror_mode": {
    "name": "ipython",
    "version": 3
   },
   "file_extension": ".py",
   "mimetype": "text/x-python",
   "name": "python",
   "nbconvert_exporter": "python",
   "pygments_lexer": "ipython3",
   "version": "3.9.5"
  },
  "toc": {
   "base_numbering": 1,
   "nav_menu": {},
   "number_sections": true,
   "sideBar": true,
   "skip_h1_title": true,
   "title_cell": "Table of Contents",
   "title_sidebar": "Contents",
   "toc_cell": false,
   "toc_position": {},
   "toc_section_display": true,
   "toc_window_display": false
  }
 },
 "nbformat": 4,
 "nbformat_minor": 5
}
