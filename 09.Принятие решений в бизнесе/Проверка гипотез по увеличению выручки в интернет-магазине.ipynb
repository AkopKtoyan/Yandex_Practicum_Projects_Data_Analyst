{
 "cells": [
  {
   "cell_type": "markdown",
   "id": "89f4b63a",
   "metadata": {},
   "source": [
    "# Проверка гипотез по увеличению выручки в интернет-магазине "
   ]
  },
  {
   "cell_type": "markdown",
   "id": "fdbee196",
   "metadata": {},
   "source": [
    "## 1 Описание проекта"
   ]
  },
  {
   "cell_type": "markdown",
   "id": "ed19ed56",
   "metadata": {},
   "source": [
    " Исходные данные : Вместе с отделом маркетинга был подготовлен список гипотез для увеличения выручки в крупном интернет-магазине.\n",
    "\n",
    "Цель исследования - Приоритизация гипотез, запуск A/B-теста и анализ результатов.\n"
   ]
  },
  {
   "cell_type": "markdown",
   "id": "baa8ebce",
   "metadata": {},
   "source": [
    "## 2  Описание данных"
   ]
  },
  {
   "cell_type": "markdown",
   "id": "9856a0d4",
   "metadata": {},
   "source": [
    "Данные для первой части\n",
    "\n",
    "Файл /datasets/hypothesis.csv\n",
    "\n",
    "   * Hypothesis — краткое описание гипотезы;\n",
    "   * Reach — охват пользователей по 10-балльной шкале;\n",
    "   * Impact — влияние на пользователей по 10-балльной шкале;\n",
    "   * Confidence — уверенность в гипотезе по 10-балльной шкале;\n",
    "   * Efforts — затраты ресурсов на проверку гипотезы по 10-балльной шкале. Чем больше значение Efforts, тем дороже проверка гипотезы.\n",
    "\n",
    "Данные для второй части\n",
    "Файл /datasets/orders.csv\n",
    "\n",
    "  *  transactionId — идентификатор заказа;\n",
    "  *  visitorId — идентификатор пользователя, совершившего заказ;\n",
    "  *  date — дата, когда был совершён заказ;\n",
    "  *  revenue — выручка заказа;\n",
    "  *  group — группа A/B-теста, в которую попал заказ.\n",
    "\n",
    "Файл /datasets/visitors.csv\n",
    "\n",
    "   * date — дата;\n",
    "   * group — группа A/B-теста;\n",
    "   * visitors — количество пользователей в указанную дату в указанной группе A/B-теста"
   ]
  },
  {
   "cell_type": "markdown",
   "id": "0168269f",
   "metadata": {},
   "source": [
    "Ход исследования содержит следующие шаги: \n",
    "1. Загрузка данных и подготовка их к анализу\n",
    "2. Приоритизация гипотез\n",
    "3. Анализ A/B-теста \n"
   ]
  },
  {
   "cell_type": "markdown",
   "id": "9965191e",
   "metadata": {},
   "source": [
    "## 3 1  Загрузка данных и подготовка их к анализу "
   ]
  },
  {
   "cell_type": "markdown",
   "id": "58fc103c",
   "metadata": {},
   "source": [
    "Загрузим список библиотек, необходимых для работы "
   ]
  },
  {
   "cell_type": "code",
   "execution_count": 1,
   "id": "5505ce42",
   "metadata": {},
   "outputs": [],
   "source": [
    "import pandas as pd \n",
    "import numpy as np \n",
    "import seaborn as sns \n",
    "import matplotlib.pyplot as plt \n",
    "import scipy.stats as stats\n",
    "import datetime as dt \n",
    "from pandas.plotting import register_matplotlib_converters \n",
    "register_matplotlib_converters()  \n",
    "plt.style.use('dark_background') "
   ]
  },
  {
   "cell_type": "markdown",
   "id": "61fa448c",
   "metadata": {},
   "source": [
    "Загрузим данные о гипотезах, заказах и посетителях из CSV-файлов в переменные."
   ]
  },
  {
   "cell_type": "code",
   "execution_count": 2,
   "id": "943610ca",
   "metadata": {},
   "outputs": [],
   "source": [
    "# Применим конструкцию try-except и сохраним файлы о  гипотезах, заказах и посетителях.\n",
    "\n",
    "server_path_1 = '/datasets/hypothesis.csv' \n",
    "\n",
    "local_path_1  = \"C:\\\\Users\\\\user\\\\Documents\\\\hypothesis.csv\"\n",
    "\n",
    "server_path_2 =   '/datasets/orders.csv'\n",
    "\n",
    "local_path_2 =  \"C:\\\\Users\\\\user\\\\Documents\\\\orders.csv\"\n",
    "\n",
    "server_path_3 =   '/datasets/visitors.csv'\n",
    "\n",
    "local_path_3  = \"C:\\\\Users\\\\user\\\\Documents\\\\visitors.csv\"\n",
    "\n",
    "try:  \n",
    "    df_hypothesis = pd.read_csv(server_path_1) \n",
    "    \n",
    "    df_orders = pd.read_csv(server_path_2)\n",
    "    \n",
    "    df_visitors = pd.read_csv(server_path_3)\n",
    "\n",
    "except: \n",
    "    \n",
    "    df_hypothesis = pd.read_csv(local_path_1)\n",
    "   \n",
    "    df_orders = pd.read_csv(local_path_2)\n",
    " \n",
    "    df_visitors = pd.read_csv(local_path_3)\n"
   ]
  },
  {
   "cell_type": "markdown",
   "id": "b12ba3ce",
   "metadata": {},
   "source": [
    " Изучим информацию о каждом из датафреймов"
   ]
  },
  {
   "cell_type": "code",
   "execution_count": 3,
   "id": "391df7c8",
   "metadata": {},
   "outputs": [
    {
     "data": {
      "text/html": [
       "<div>\n",
       "<style scoped>\n",
       "    .dataframe tbody tr th:only-of-type {\n",
       "        vertical-align: middle;\n",
       "    }\n",
       "\n",
       "    .dataframe tbody tr th {\n",
       "        vertical-align: top;\n",
       "    }\n",
       "\n",
       "    .dataframe thead th {\n",
       "        text-align: right;\n",
       "    }\n",
       "</style>\n",
       "<table border=\"1\" class=\"dataframe\">\n",
       "  <thead>\n",
       "    <tr style=\"text-align: right;\">\n",
       "      <th></th>\n",
       "      <th>Hypothesis</th>\n",
       "      <th>Reach</th>\n",
       "      <th>Impact</th>\n",
       "      <th>Confidence</th>\n",
       "      <th>Efforts</th>\n",
       "    </tr>\n",
       "  </thead>\n",
       "  <tbody>\n",
       "    <tr>\n",
       "      <th>0</th>\n",
       "      <td>Добавить два новых канала привлечения трафика, что позволит привлекать на 30% больше пользователей</td>\n",
       "      <td>3</td>\n",
       "      <td>10</td>\n",
       "      <td>8</td>\n",
       "      <td>6</td>\n",
       "    </tr>\n",
       "    <tr>\n",
       "      <th>1</th>\n",
       "      <td>Запустить собственную службу доставки, что сократит срок доставки заказов</td>\n",
       "      <td>2</td>\n",
       "      <td>5</td>\n",
       "      <td>4</td>\n",
       "      <td>10</td>\n",
       "    </tr>\n",
       "    <tr>\n",
       "      <th>2</th>\n",
       "      <td>Добавить блоки рекомендаций товаров на сайт интернет магазина, чтобы повысить конверсию и средний чек заказа</td>\n",
       "      <td>8</td>\n",
       "      <td>3</td>\n",
       "      <td>7</td>\n",
       "      <td>3</td>\n",
       "    </tr>\n",
       "    <tr>\n",
       "      <th>3</th>\n",
       "      <td>Изменить структура категорий, что увеличит конверсию, т.к. пользователи быстрее найдут нужный товар</td>\n",
       "      <td>8</td>\n",
       "      <td>3</td>\n",
       "      <td>3</td>\n",
       "      <td>8</td>\n",
       "    </tr>\n",
       "    <tr>\n",
       "      <th>4</th>\n",
       "      <td>Изменить цвет фона главной страницы, чтобы увеличить вовлеченность пользователей</td>\n",
       "      <td>3</td>\n",
       "      <td>1</td>\n",
       "      <td>1</td>\n",
       "      <td>1</td>\n",
       "    </tr>\n",
       "    <tr>\n",
       "      <th>5</th>\n",
       "      <td>Добавить страницу отзывов клиентов о магазине, что позволит увеличить количество заказов</td>\n",
       "      <td>3</td>\n",
       "      <td>2</td>\n",
       "      <td>2</td>\n",
       "      <td>3</td>\n",
       "    </tr>\n",
       "    <tr>\n",
       "      <th>6</th>\n",
       "      <td>Показать на главной странице баннеры с актуальными акциями и распродажами, чтобы увеличить конверсию</td>\n",
       "      <td>5</td>\n",
       "      <td>3</td>\n",
       "      <td>8</td>\n",
       "      <td>3</td>\n",
       "    </tr>\n",
       "    <tr>\n",
       "      <th>7</th>\n",
       "      <td>Добавить форму подписки на все основные страницы, чтобы собрать базу клиентов для email-рассылок</td>\n",
       "      <td>10</td>\n",
       "      <td>7</td>\n",
       "      <td>8</td>\n",
       "      <td>5</td>\n",
       "    </tr>\n",
       "    <tr>\n",
       "      <th>8</th>\n",
       "      <td>Запустить акцию, дающую скидку на товар в день рождения</td>\n",
       "      <td>1</td>\n",
       "      <td>9</td>\n",
       "      <td>9</td>\n",
       "      <td>5</td>\n",
       "    </tr>\n",
       "  </tbody>\n",
       "</table>\n",
       "</div>"
      ],
      "text/plain": [
       "                                                                                                     Hypothesis  \\\n",
       "0            Добавить два новых канала привлечения трафика, что позволит привлекать на 30% больше пользователей   \n",
       "1                                     Запустить собственную службу доставки, что сократит срок доставки заказов   \n",
       "2  Добавить блоки рекомендаций товаров на сайт интернет магазина, чтобы повысить конверсию и средний чек заказа   \n",
       "3           Изменить структура категорий, что увеличит конверсию, т.к. пользователи быстрее найдут нужный товар   \n",
       "4                              Изменить цвет фона главной страницы, чтобы увеличить вовлеченность пользователей   \n",
       "5                      Добавить страницу отзывов клиентов о магазине, что позволит увеличить количество заказов   \n",
       "6          Показать на главной странице баннеры с актуальными акциями и распродажами, чтобы увеличить конверсию   \n",
       "7              Добавить форму подписки на все основные страницы, чтобы собрать базу клиентов для email-рассылок   \n",
       "8                                                       Запустить акцию, дающую скидку на товар в день рождения   \n",
       "\n",
       "   Reach  Impact  Confidence  Efforts  \n",
       "0      3      10           8        6  \n",
       "1      2       5           4       10  \n",
       "2      8       3           7        3  \n",
       "3      8       3           3        8  \n",
       "4      3       1           1        1  \n",
       "5      3       2           2        3  \n",
       "6      5       3           8        3  \n",
       "7     10       7           8        5  \n",
       "8      1       9           9        5  "
      ]
     },
     "execution_count": 3,
     "metadata": {},
     "output_type": "execute_result"
    }
   ],
   "source": [
    "# Изучим информацию о датафрейме df_hypothesis\n",
    "df_hypothesis \n",
    "pd.set_option('max_colwidth', 200) \n",
    "df_hypothesis"
   ]
  },
  {
   "cell_type": "code",
   "execution_count": 4,
   "id": "94eee6cc",
   "metadata": {},
   "outputs": [
    {
     "name": "stdout",
     "output_type": "stream",
     "text": [
      "<class 'pandas.core.frame.DataFrame'>\n",
      "RangeIndex: 9 entries, 0 to 8\n",
      "Data columns (total 5 columns):\n",
      " #   Column      Non-Null Count  Dtype \n",
      "---  ------      --------------  ----- \n",
      " 0   Hypothesis  9 non-null      object\n",
      " 1   Reach       9 non-null      int64 \n",
      " 2   Impact      9 non-null      int64 \n",
      " 3   Confidence  9 non-null      int64 \n",
      " 4   Efforts     9 non-null      int64 \n",
      "dtypes: int64(4), object(1)\n",
      "memory usage: 488.0+ bytes\n"
     ]
    }
   ],
   "source": [
    "# Изучим общую информацию о датафрейме df_hypothesis\n",
    "df_hypothesis.info() "
   ]
  },
  {
   "cell_type": "markdown",
   "id": "818693a8",
   "metadata": {},
   "source": [
    "     Всего в таблице 5 столбцов и 9 строк.  4 столбца с целочисленным типом данных int64 и 1 столбец со строковым типом данных object. Общий объем данных составляет 488 байтов. "
   ]
  },
  {
   "cell_type": "code",
   "execution_count": 5,
   "id": "b31ea07e",
   "metadata": {},
   "outputs": [],
   "source": [
    "# Приведем названия столбцов к нижнему регистру\n",
    "df_hypothesis = df_hypothesis.rename(columns = {'Hypothesis': 'hypothesis','Reach':'reach', 'Impact': 'impact', 'Confidence' : 'confidence'\n",
    "                    ,'Efforts': 'efforts'})\n"
   ]
  },
  {
   "cell_type": "code",
   "execution_count": 6,
   "id": "9cb6db35",
   "metadata": {},
   "outputs": [
    {
     "data": {
      "text/plain": [
       "9"
      ]
     },
     "execution_count": 6,
     "metadata": {},
     "output_type": "execute_result"
    }
   ],
   "source": [
    "# Узнаем количество строк в датафрейме\n",
    "len(df_hypothesis) "
   ]
  },
  {
   "cell_type": "code",
   "execution_count": 7,
   "id": "1980f9c2",
   "metadata": {},
   "outputs": [
    {
     "data": {
      "text/plain": [
       "hypothesis    0\n",
       "reach         0\n",
       "impact        0\n",
       "confidence    0\n",
       "efforts       0\n",
       "dtype: int64"
      ]
     },
     "execution_count": 7,
     "metadata": {},
     "output_type": "execute_result"
    }
   ],
   "source": [
    "# Проверим таблицу на наличие пропущенных значений \n",
    "df_hypothesis.isna().sum()"
   ]
  },
  {
   "cell_type": "markdown",
   "id": "14faa8e6",
   "metadata": {},
   "source": [
    "В таблице нет пропущенных значений. "
   ]
  },
  {
   "cell_type": "code",
   "execution_count": 8,
   "id": "fd46031e",
   "metadata": {},
   "outputs": [
    {
     "data": {
      "text/plain": [
       "0"
      ]
     },
     "execution_count": 8,
     "metadata": {},
     "output_type": "execute_result"
    }
   ],
   "source": [
    "# Проверка на наличие явных дубликатов \n",
    "df_hypothesis.duplicated().sum()"
   ]
  },
  {
   "cell_type": "markdown",
   "id": "6f1dfded",
   "metadata": {},
   "source": [
    "Перейдем к изучению датафрейма df_orders, в котором содержится информация о заказах\n"
   ]
  },
  {
   "cell_type": "code",
   "execution_count": 9,
   "id": "c73e4bca",
   "metadata": {},
   "outputs": [
    {
     "data": {
      "text/html": [
       "<div>\n",
       "<style scoped>\n",
       "    .dataframe tbody tr th:only-of-type {\n",
       "        vertical-align: middle;\n",
       "    }\n",
       "\n",
       "    .dataframe tbody tr th {\n",
       "        vertical-align: top;\n",
       "    }\n",
       "\n",
       "    .dataframe thead th {\n",
       "        text-align: right;\n",
       "    }\n",
       "</style>\n",
       "<table border=\"1\" class=\"dataframe\">\n",
       "  <thead>\n",
       "    <tr style=\"text-align: right;\">\n",
       "      <th></th>\n",
       "      <th>transactionId</th>\n",
       "      <th>visitorId</th>\n",
       "      <th>date</th>\n",
       "      <th>revenue</th>\n",
       "      <th>group</th>\n",
       "    </tr>\n",
       "  </thead>\n",
       "  <tbody>\n",
       "    <tr>\n",
       "      <th>0</th>\n",
       "      <td>3667963787</td>\n",
       "      <td>3312258926</td>\n",
       "      <td>2019-08-15</td>\n",
       "      <td>1650</td>\n",
       "      <td>B</td>\n",
       "    </tr>\n",
       "    <tr>\n",
       "      <th>1</th>\n",
       "      <td>2804400009</td>\n",
       "      <td>3642806036</td>\n",
       "      <td>2019-08-15</td>\n",
       "      <td>730</td>\n",
       "      <td>B</td>\n",
       "    </tr>\n",
       "    <tr>\n",
       "      <th>2</th>\n",
       "      <td>2961555356</td>\n",
       "      <td>4069496402</td>\n",
       "      <td>2019-08-15</td>\n",
       "      <td>400</td>\n",
       "      <td>A</td>\n",
       "    </tr>\n",
       "    <tr>\n",
       "      <th>3</th>\n",
       "      <td>3797467345</td>\n",
       "      <td>1196621759</td>\n",
       "      <td>2019-08-15</td>\n",
       "      <td>9759</td>\n",
       "      <td>B</td>\n",
       "    </tr>\n",
       "    <tr>\n",
       "      <th>4</th>\n",
       "      <td>2282983706</td>\n",
       "      <td>2322279887</td>\n",
       "      <td>2019-08-15</td>\n",
       "      <td>2308</td>\n",
       "      <td>B</td>\n",
       "    </tr>\n",
       "  </tbody>\n",
       "</table>\n",
       "</div>"
      ],
      "text/plain": [
       "   transactionId   visitorId        date  revenue group\n",
       "0     3667963787  3312258926  2019-08-15     1650     B\n",
       "1     2804400009  3642806036  2019-08-15      730     B\n",
       "2     2961555356  4069496402  2019-08-15      400     A\n",
       "3     3797467345  1196621759  2019-08-15     9759     B\n",
       "4     2282983706  2322279887  2019-08-15     2308     B"
      ]
     },
     "execution_count": 9,
     "metadata": {},
     "output_type": "execute_result"
    }
   ],
   "source": [
    "# Выведем первые пять строк таблицы \n",
    "df_orders.head() "
   ]
  },
  {
   "cell_type": "code",
   "execution_count": 10,
   "id": "c318d9f7",
   "metadata": {},
   "outputs": [
    {
     "data": {
      "text/html": [
       "<div>\n",
       "<style scoped>\n",
       "    .dataframe tbody tr th:only-of-type {\n",
       "        vertical-align: middle;\n",
       "    }\n",
       "\n",
       "    .dataframe tbody tr th {\n",
       "        vertical-align: top;\n",
       "    }\n",
       "\n",
       "    .dataframe thead th {\n",
       "        text-align: right;\n",
       "    }\n",
       "</style>\n",
       "<table border=\"1\" class=\"dataframe\">\n",
       "  <thead>\n",
       "    <tr style=\"text-align: right;\">\n",
       "      <th></th>\n",
       "      <th>transactionId</th>\n",
       "      <th>visitorId</th>\n",
       "      <th>date</th>\n",
       "      <th>revenue</th>\n",
       "      <th>group</th>\n",
       "    </tr>\n",
       "  </thead>\n",
       "  <tbody>\n",
       "    <tr>\n",
       "      <th>1192</th>\n",
       "      <td>2662137336</td>\n",
       "      <td>3733762160</td>\n",
       "      <td>2019-08-14</td>\n",
       "      <td>6490</td>\n",
       "      <td>B</td>\n",
       "    </tr>\n",
       "    <tr>\n",
       "      <th>1193</th>\n",
       "      <td>2203539145</td>\n",
       "      <td>370388673</td>\n",
       "      <td>2019-08-14</td>\n",
       "      <td>3190</td>\n",
       "      <td>A</td>\n",
       "    </tr>\n",
       "    <tr>\n",
       "      <th>1194</th>\n",
       "      <td>1807773912</td>\n",
       "      <td>573423106</td>\n",
       "      <td>2019-08-14</td>\n",
       "      <td>10550</td>\n",
       "      <td>A</td>\n",
       "    </tr>\n",
       "    <tr>\n",
       "      <th>1195</th>\n",
       "      <td>1947021204</td>\n",
       "      <td>1614305549</td>\n",
       "      <td>2019-08-14</td>\n",
       "      <td>100</td>\n",
       "      <td>A</td>\n",
       "    </tr>\n",
       "    <tr>\n",
       "      <th>1196</th>\n",
       "      <td>3936777065</td>\n",
       "      <td>2108080724</td>\n",
       "      <td>2019-08-15</td>\n",
       "      <td>202740</td>\n",
       "      <td>B</td>\n",
       "    </tr>\n",
       "  </tbody>\n",
       "</table>\n",
       "</div>"
      ],
      "text/plain": [
       "      transactionId   visitorId        date  revenue group\n",
       "1192     2662137336  3733762160  2019-08-14     6490     B\n",
       "1193     2203539145   370388673  2019-08-14     3190     A\n",
       "1194     1807773912   573423106  2019-08-14    10550     A\n",
       "1195     1947021204  1614305549  2019-08-14      100     A\n",
       "1196     3936777065  2108080724  2019-08-15   202740     B"
      ]
     },
     "execution_count": 10,
     "metadata": {},
     "output_type": "execute_result"
    }
   ],
   "source": [
    "# Выведем последние пять строк таблицы \n",
    "df_orders.tail()"
   ]
  },
  {
   "cell_type": "code",
   "execution_count": 11,
   "id": "5e721850",
   "metadata": {},
   "outputs": [
    {
     "data": {
      "text/html": [
       "<div>\n",
       "<style scoped>\n",
       "    .dataframe tbody tr th:only-of-type {\n",
       "        vertical-align: middle;\n",
       "    }\n",
       "\n",
       "    .dataframe tbody tr th {\n",
       "        vertical-align: top;\n",
       "    }\n",
       "\n",
       "    .dataframe thead th {\n",
       "        text-align: right;\n",
       "    }\n",
       "</style>\n",
       "<table border=\"1\" class=\"dataframe\">\n",
       "  <thead>\n",
       "    <tr style=\"text-align: right;\">\n",
       "      <th></th>\n",
       "      <th>transactionId</th>\n",
       "      <th>visitorId</th>\n",
       "      <th>date</th>\n",
       "      <th>revenue</th>\n",
       "      <th>group</th>\n",
       "    </tr>\n",
       "  </thead>\n",
       "  <tbody>\n",
       "    <tr>\n",
       "      <th>886</th>\n",
       "      <td>51443164</td>\n",
       "      <td>4278982564</td>\n",
       "      <td>2019-08-05</td>\n",
       "      <td>24744</td>\n",
       "      <td>A</td>\n",
       "    </tr>\n",
       "    <tr>\n",
       "      <th>1093</th>\n",
       "      <td>3894437543</td>\n",
       "      <td>276558944</td>\n",
       "      <td>2019-08-12</td>\n",
       "      <td>5050</td>\n",
       "      <td>A</td>\n",
       "    </tr>\n",
       "    <tr>\n",
       "      <th>801</th>\n",
       "      <td>504373597</td>\n",
       "      <td>2604012846</td>\n",
       "      <td>2019-08-05</td>\n",
       "      <td>890</td>\n",
       "      <td>B</td>\n",
       "    </tr>\n",
       "    <tr>\n",
       "      <th>189</th>\n",
       "      <td>4189935502</td>\n",
       "      <td>1648269707</td>\n",
       "      <td>2019-08-17</td>\n",
       "      <td>290</td>\n",
       "      <td>B</td>\n",
       "    </tr>\n",
       "    <tr>\n",
       "      <th>808</th>\n",
       "      <td>2344401705</td>\n",
       "      <td>366673373</td>\n",
       "      <td>2019-08-05</td>\n",
       "      <td>1460</td>\n",
       "      <td>A</td>\n",
       "    </tr>\n",
       "    <tr>\n",
       "      <th>480</th>\n",
       "      <td>1954636284</td>\n",
       "      <td>2600415354</td>\n",
       "      <td>2019-08-06</td>\n",
       "      <td>1530</td>\n",
       "      <td>B</td>\n",
       "    </tr>\n",
       "    <tr>\n",
       "      <th>202</th>\n",
       "      <td>532398042</td>\n",
       "      <td>1306302251</td>\n",
       "      <td>2019-08-23</td>\n",
       "      <td>1498</td>\n",
       "      <td>A</td>\n",
       "    </tr>\n",
       "    <tr>\n",
       "      <th>311</th>\n",
       "      <td>3567356314</td>\n",
       "      <td>3077396270</td>\n",
       "      <td>2019-08-24</td>\n",
       "      <td>4195</td>\n",
       "      <td>B</td>\n",
       "    </tr>\n",
       "    <tr>\n",
       "      <th>866</th>\n",
       "      <td>707525727</td>\n",
       "      <td>1270030113</td>\n",
       "      <td>2019-08-30</td>\n",
       "      <td>3290</td>\n",
       "      <td>B</td>\n",
       "    </tr>\n",
       "    <tr>\n",
       "      <th>752</th>\n",
       "      <td>237002862</td>\n",
       "      <td>1398592185</td>\n",
       "      <td>2019-08-20</td>\n",
       "      <td>390</td>\n",
       "      <td>A</td>\n",
       "    </tr>\n",
       "  </tbody>\n",
       "</table>\n",
       "</div>"
      ],
      "text/plain": [
       "      transactionId   visitorId        date  revenue group\n",
       "886        51443164  4278982564  2019-08-05    24744     A\n",
       "1093     3894437543   276558944  2019-08-12     5050     A\n",
       "801       504373597  2604012846  2019-08-05      890     B\n",
       "189      4189935502  1648269707  2019-08-17      290     B\n",
       "808      2344401705   366673373  2019-08-05     1460     A\n",
       "480      1954636284  2600415354  2019-08-06     1530     B\n",
       "202       532398042  1306302251  2019-08-23     1498     A\n",
       "311      3567356314  3077396270  2019-08-24     4195     B\n",
       "866       707525727  1270030113  2019-08-30     3290     B\n",
       "752       237002862  1398592185  2019-08-20      390     A"
      ]
     },
     "execution_count": 11,
     "metadata": {},
     "output_type": "execute_result"
    }
   ],
   "source": [
    "# Выведем 10 строк даатфрейма, отобранных случайным образом\n",
    "df_orders.sample(n= 10, random_state =1)"
   ]
  },
  {
   "cell_type": "code",
   "execution_count": 12,
   "id": "dcb5859d",
   "metadata": {},
   "outputs": [
    {
     "data": {
      "text/plain": [
       "1197"
      ]
     },
     "execution_count": 12,
     "metadata": {},
     "output_type": "execute_result"
    }
   ],
   "source": [
    "# Посчитаем количество строк в датафрейме df_orders\n",
    "len(df_orders)"
   ]
  },
  {
   "cell_type": "code",
   "execution_count": 13,
   "id": "d1e847e1",
   "metadata": {},
   "outputs": [
    {
     "name": "stdout",
     "output_type": "stream",
     "text": [
      "<class 'pandas.core.frame.DataFrame'>\n",
      "RangeIndex: 1197 entries, 0 to 1196\n",
      "Data columns (total 5 columns):\n",
      " #   Column         Non-Null Count  Dtype \n",
      "---  ------         --------------  ----- \n",
      " 0   transactionId  1197 non-null   int64 \n",
      " 1   visitorId      1197 non-null   int64 \n",
      " 2   date           1197 non-null   object\n",
      " 3   revenue        1197 non-null   int64 \n",
      " 4   group          1197 non-null   object\n",
      "dtypes: int64(3), object(2)\n",
      "memory usage: 46.9+ KB\n"
     ]
    }
   ],
   "source": [
    "# Изучим общую информацию о датафрейме \n",
    "df_orders.info()"
   ]
  },
  {
   "cell_type": "markdown",
   "id": "7e950955",
   "metadata": {},
   "source": [
    "    Всего в таблице df_orders 5 cтолбцов и 1197 строк. Общий объем данных составил 46.9 килобайт.  Столбец 'date' на данный момент представлен в типе данных object. Это некорректно. Поменяем тип данных на datetime"
   ]
  },
  {
   "cell_type": "code",
   "execution_count": 14,
   "id": "54a60284",
   "metadata": {},
   "outputs": [],
   "source": [
    "df_orders['date'] = pd.to_datetime(df_orders['date'], format = '%Y-%m-%d')\n"
   ]
  },
  {
   "cell_type": "code",
   "execution_count": 15,
   "id": "6b464031",
   "metadata": {},
   "outputs": [
    {
     "name": "stdout",
     "output_type": "stream",
     "text": [
      "<class 'pandas.core.frame.DataFrame'>\n",
      "RangeIndex: 1197 entries, 0 to 1196\n",
      "Data columns (total 5 columns):\n",
      " #   Column         Non-Null Count  Dtype         \n",
      "---  ------         --------------  -----         \n",
      " 0   transactionId  1197 non-null   int64         \n",
      " 1   visitorId      1197 non-null   int64         \n",
      " 2   date           1197 non-null   datetime64[ns]\n",
      " 3   revenue        1197 non-null   int64         \n",
      " 4   group          1197 non-null   object        \n",
      "dtypes: datetime64[ns](1), int64(3), object(1)\n",
      "memory usage: 46.9+ KB\n"
     ]
    }
   ],
   "source": [
    "# Проверим на изменение типа данных\n",
    "df_orders.info()"
   ]
  },
  {
   "cell_type": "code",
   "execution_count": 16,
   "id": "c4408259",
   "metadata": {},
   "outputs": [
    {
     "name": "stdout",
     "output_type": "stream",
     "text": [
      "Минимальная дата: 2019-08-01 00:00:00\n",
      "Макимальная дата: 2019-08-31 00:00:00\n"
     ]
    }
   ],
   "source": [
    "# Найдем минимальную и максимальную дату  \n",
    "print('Минимальная дата:',df_orders['date'].min())\n",
    "print('Макимальная дата:',df_orders['date'].max()) "
   ]
  },
  {
   "cell_type": "markdown",
   "id": "19ef45d2",
   "metadata": {},
   "source": [
    "В файле df_orders содержится информация о проведении A/B теста за август 2019 года"
   ]
  },
  {
   "cell_type": "code",
   "execution_count": 17,
   "id": "cfe22dba",
   "metadata": {},
   "outputs": [
    {
     "data": {
      "text/html": [
       "<div>\n",
       "<style scoped>\n",
       "    .dataframe tbody tr th:only-of-type {\n",
       "        vertical-align: middle;\n",
       "    }\n",
       "\n",
       "    .dataframe tbody tr th {\n",
       "        vertical-align: top;\n",
       "    }\n",
       "\n",
       "    .dataframe thead th {\n",
       "        text-align: right;\n",
       "    }\n",
       "</style>\n",
       "<table border=\"1\" class=\"dataframe\">\n",
       "  <thead>\n",
       "    <tr style=\"text-align: right;\">\n",
       "      <th></th>\n",
       "      <th>transaction_Id</th>\n",
       "      <th>visitor_Id</th>\n",
       "      <th>date</th>\n",
       "      <th>revenue</th>\n",
       "      <th>group</th>\n",
       "    </tr>\n",
       "  </thead>\n",
       "  <tbody>\n",
       "    <tr>\n",
       "      <th>0</th>\n",
       "      <td>3667963787</td>\n",
       "      <td>3312258926</td>\n",
       "      <td>2019-08-15</td>\n",
       "      <td>1650</td>\n",
       "      <td>B</td>\n",
       "    </tr>\n",
       "    <tr>\n",
       "      <th>1</th>\n",
       "      <td>2804400009</td>\n",
       "      <td>3642806036</td>\n",
       "      <td>2019-08-15</td>\n",
       "      <td>730</td>\n",
       "      <td>B</td>\n",
       "    </tr>\n",
       "    <tr>\n",
       "      <th>2</th>\n",
       "      <td>2961555356</td>\n",
       "      <td>4069496402</td>\n",
       "      <td>2019-08-15</td>\n",
       "      <td>400</td>\n",
       "      <td>A</td>\n",
       "    </tr>\n",
       "    <tr>\n",
       "      <th>3</th>\n",
       "      <td>3797467345</td>\n",
       "      <td>1196621759</td>\n",
       "      <td>2019-08-15</td>\n",
       "      <td>9759</td>\n",
       "      <td>B</td>\n",
       "    </tr>\n",
       "    <tr>\n",
       "      <th>4</th>\n",
       "      <td>2282983706</td>\n",
       "      <td>2322279887</td>\n",
       "      <td>2019-08-15</td>\n",
       "      <td>2308</td>\n",
       "      <td>B</td>\n",
       "    </tr>\n",
       "  </tbody>\n",
       "</table>\n",
       "</div>"
      ],
      "text/plain": [
       "   transaction_Id  visitor_Id       date  revenue group\n",
       "0      3667963787  3312258926 2019-08-15     1650     B\n",
       "1      2804400009  3642806036 2019-08-15      730     B\n",
       "2      2961555356  4069496402 2019-08-15      400     A\n",
       "3      3797467345  1196621759 2019-08-15     9759     B\n",
       "4      2282983706  2322279887 2019-08-15     2308     B"
      ]
     },
     "execution_count": 17,
     "metadata": {},
     "output_type": "execute_result"
    }
   ],
   "source": [
    "# Приведем к змеиному регистру названия столбцов для transactionId и visitorId\n",
    "df_orders = df_orders.rename(columns = {'transactionId': 'transaction_Id', 'visitorId' : 'visitor_Id'})\n",
    "df_orders.head()"
   ]
  },
  {
   "cell_type": "code",
   "execution_count": 18,
   "id": "3ba142f0",
   "metadata": {},
   "outputs": [
    {
     "data": {
      "text/plain": [
       "transaction_Id    0\n",
       "visitor_Id        0\n",
       "date              0\n",
       "revenue           0\n",
       "group             0\n",
       "dtype: int64"
      ]
     },
     "execution_count": 18,
     "metadata": {},
     "output_type": "execute_result"
    }
   ],
   "source": [
    "# Проверим на наличие пропущенных значений в таблице df_orders\n",
    "df_orders.isna().sum() "
   ]
  },
  {
   "cell_type": "code",
   "execution_count": 19,
   "id": "c456157e",
   "metadata": {},
   "outputs": [
    {
     "data": {
      "text/plain": [
       "0"
      ]
     },
     "execution_count": 19,
     "metadata": {},
     "output_type": "execute_result"
    }
   ],
   "source": [
    "# Проверим на наличие явных дубликатов \n",
    "df_orders.duplicated().sum()  "
   ]
  },
  {
   "cell_type": "markdown",
   "id": "eef690fd",
   "metadata": {},
   "source": [
    "Перейдем к изучению датафрейма df_visitors "
   ]
  },
  {
   "cell_type": "code",
   "execution_count": 20,
   "id": "8e5e7488",
   "metadata": {},
   "outputs": [
    {
     "data": {
      "text/html": [
       "<div>\n",
       "<style scoped>\n",
       "    .dataframe tbody tr th:only-of-type {\n",
       "        vertical-align: middle;\n",
       "    }\n",
       "\n",
       "    .dataframe tbody tr th {\n",
       "        vertical-align: top;\n",
       "    }\n",
       "\n",
       "    .dataframe thead th {\n",
       "        text-align: right;\n",
       "    }\n",
       "</style>\n",
       "<table border=\"1\" class=\"dataframe\">\n",
       "  <thead>\n",
       "    <tr style=\"text-align: right;\">\n",
       "      <th></th>\n",
       "      <th>date</th>\n",
       "      <th>group</th>\n",
       "      <th>visitors</th>\n",
       "    </tr>\n",
       "  </thead>\n",
       "  <tbody>\n",
       "    <tr>\n",
       "      <th>0</th>\n",
       "      <td>2019-08-01</td>\n",
       "      <td>A</td>\n",
       "      <td>719</td>\n",
       "    </tr>\n",
       "    <tr>\n",
       "      <th>1</th>\n",
       "      <td>2019-08-02</td>\n",
       "      <td>A</td>\n",
       "      <td>619</td>\n",
       "    </tr>\n",
       "    <tr>\n",
       "      <th>2</th>\n",
       "      <td>2019-08-03</td>\n",
       "      <td>A</td>\n",
       "      <td>507</td>\n",
       "    </tr>\n",
       "    <tr>\n",
       "      <th>3</th>\n",
       "      <td>2019-08-04</td>\n",
       "      <td>A</td>\n",
       "      <td>717</td>\n",
       "    </tr>\n",
       "    <tr>\n",
       "      <th>4</th>\n",
       "      <td>2019-08-05</td>\n",
       "      <td>A</td>\n",
       "      <td>756</td>\n",
       "    </tr>\n",
       "  </tbody>\n",
       "</table>\n",
       "</div>"
      ],
      "text/plain": [
       "         date group  visitors\n",
       "0  2019-08-01     A       719\n",
       "1  2019-08-02     A       619\n",
       "2  2019-08-03     A       507\n",
       "3  2019-08-04     A       717\n",
       "4  2019-08-05     A       756"
      ]
     },
     "execution_count": 20,
     "metadata": {},
     "output_type": "execute_result"
    }
   ],
   "source": [
    "# Выведем первые пять строк датафрейма\n",
    "df_visitors.head() "
   ]
  },
  {
   "cell_type": "code",
   "execution_count": 21,
   "id": "bb8df9e4",
   "metadata": {},
   "outputs": [
    {
     "data": {
      "text/html": [
       "<div>\n",
       "<style scoped>\n",
       "    .dataframe tbody tr th:only-of-type {\n",
       "        vertical-align: middle;\n",
       "    }\n",
       "\n",
       "    .dataframe tbody tr th {\n",
       "        vertical-align: top;\n",
       "    }\n",
       "\n",
       "    .dataframe thead th {\n",
       "        text-align: right;\n",
       "    }\n",
       "</style>\n",
       "<table border=\"1\" class=\"dataframe\">\n",
       "  <thead>\n",
       "    <tr style=\"text-align: right;\">\n",
       "      <th></th>\n",
       "      <th>date</th>\n",
       "      <th>group</th>\n",
       "      <th>visitors</th>\n",
       "    </tr>\n",
       "  </thead>\n",
       "  <tbody>\n",
       "    <tr>\n",
       "      <th>57</th>\n",
       "      <td>2019-08-27</td>\n",
       "      <td>B</td>\n",
       "      <td>720</td>\n",
       "    </tr>\n",
       "    <tr>\n",
       "      <th>58</th>\n",
       "      <td>2019-08-28</td>\n",
       "      <td>B</td>\n",
       "      <td>654</td>\n",
       "    </tr>\n",
       "    <tr>\n",
       "      <th>59</th>\n",
       "      <td>2019-08-29</td>\n",
       "      <td>B</td>\n",
       "      <td>531</td>\n",
       "    </tr>\n",
       "    <tr>\n",
       "      <th>60</th>\n",
       "      <td>2019-08-30</td>\n",
       "      <td>B</td>\n",
       "      <td>490</td>\n",
       "    </tr>\n",
       "    <tr>\n",
       "      <th>61</th>\n",
       "      <td>2019-08-31</td>\n",
       "      <td>B</td>\n",
       "      <td>718</td>\n",
       "    </tr>\n",
       "  </tbody>\n",
       "</table>\n",
       "</div>"
      ],
      "text/plain": [
       "          date group  visitors\n",
       "57  2019-08-27     B       720\n",
       "58  2019-08-28     B       654\n",
       "59  2019-08-29     B       531\n",
       "60  2019-08-30     B       490\n",
       "61  2019-08-31     B       718"
      ]
     },
     "execution_count": 21,
     "metadata": {},
     "output_type": "execute_result"
    }
   ],
   "source": [
    "# Выведем последние пять строк датафрейма \n",
    "df_visitors.tail() "
   ]
  },
  {
   "cell_type": "code",
   "execution_count": 22,
   "id": "1793e91b",
   "metadata": {},
   "outputs": [
    {
     "data": {
      "text/html": [
       "<div>\n",
       "<style scoped>\n",
       "    .dataframe tbody tr th:only-of-type {\n",
       "        vertical-align: middle;\n",
       "    }\n",
       "\n",
       "    .dataframe tbody tr th {\n",
       "        vertical-align: top;\n",
       "    }\n",
       "\n",
       "    .dataframe thead th {\n",
       "        text-align: right;\n",
       "    }\n",
       "</style>\n",
       "<table border=\"1\" class=\"dataframe\">\n",
       "  <thead>\n",
       "    <tr style=\"text-align: right;\">\n",
       "      <th></th>\n",
       "      <th>date</th>\n",
       "      <th>group</th>\n",
       "      <th>visitors</th>\n",
       "    </tr>\n",
       "  </thead>\n",
       "  <tbody>\n",
       "    <tr>\n",
       "      <th>21</th>\n",
       "      <td>2019-08-22</td>\n",
       "      <td>A</td>\n",
       "      <td>609</td>\n",
       "    </tr>\n",
       "    <tr>\n",
       "      <th>52</th>\n",
       "      <td>2019-08-22</td>\n",
       "      <td>B</td>\n",
       "      <td>650</td>\n",
       "    </tr>\n",
       "    <tr>\n",
       "      <th>38</th>\n",
       "      <td>2019-08-08</td>\n",
       "      <td>B</td>\n",
       "      <td>654</td>\n",
       "    </tr>\n",
       "    <tr>\n",
       "      <th>24</th>\n",
       "      <td>2019-08-25</td>\n",
       "      <td>A</td>\n",
       "      <td>621</td>\n",
       "    </tr>\n",
       "    <tr>\n",
       "      <th>2</th>\n",
       "      <td>2019-08-03</td>\n",
       "      <td>A</td>\n",
       "      <td>507</td>\n",
       "    </tr>\n",
       "    <tr>\n",
       "      <th>41</th>\n",
       "      <td>2019-08-11</td>\n",
       "      <td>B</td>\n",
       "      <td>721</td>\n",
       "    </tr>\n",
       "    <tr>\n",
       "      <th>60</th>\n",
       "      <td>2019-08-30</td>\n",
       "      <td>B</td>\n",
       "      <td>490</td>\n",
       "    </tr>\n",
       "    <tr>\n",
       "      <th>50</th>\n",
       "      <td>2019-08-20</td>\n",
       "      <td>B</td>\n",
       "      <td>560</td>\n",
       "    </tr>\n",
       "    <tr>\n",
       "      <th>35</th>\n",
       "      <td>2019-08-05</td>\n",
       "      <td>B</td>\n",
       "      <td>707</td>\n",
       "    </tr>\n",
       "    <tr>\n",
       "      <th>44</th>\n",
       "      <td>2019-08-14</td>\n",
       "      <td>B</td>\n",
       "      <td>746</td>\n",
       "    </tr>\n",
       "  </tbody>\n",
       "</table>\n",
       "</div>"
      ],
      "text/plain": [
       "          date group  visitors\n",
       "21  2019-08-22     A       609\n",
       "52  2019-08-22     B       650\n",
       "38  2019-08-08     B       654\n",
       "24  2019-08-25     A       621\n",
       "2   2019-08-03     A       507\n",
       "41  2019-08-11     B       721\n",
       "60  2019-08-30     B       490\n",
       "50  2019-08-20     B       560\n",
       "35  2019-08-05     B       707\n",
       "44  2019-08-14     B       746"
      ]
     },
     "execution_count": 22,
     "metadata": {},
     "output_type": "execute_result"
    }
   ],
   "source": [
    "# Выведем случайным образом 10 строк таблицы \n",
    "df_visitors.sample(n=10, random_state=1)   "
   ]
  },
  {
   "cell_type": "code",
   "execution_count": 23,
   "id": "5aa69a35",
   "metadata": {},
   "outputs": [
    {
     "data": {
      "text/plain": [
       "62"
      ]
     },
     "execution_count": 23,
     "metadata": {},
     "output_type": "execute_result"
    }
   ],
   "source": [
    "# Посчитаем количество строк \n",
    "len(df_visitors)  "
   ]
  },
  {
   "cell_type": "code",
   "execution_count": 24,
   "id": "822310bd",
   "metadata": {},
   "outputs": [
    {
     "name": "stdout",
     "output_type": "stream",
     "text": [
      "<class 'pandas.core.frame.DataFrame'>\n",
      "RangeIndex: 62 entries, 0 to 61\n",
      "Data columns (total 3 columns):\n",
      " #   Column    Non-Null Count  Dtype \n",
      "---  ------    --------------  ----- \n",
      " 0   date      62 non-null     object\n",
      " 1   group     62 non-null     object\n",
      " 2   visitors  62 non-null     int64 \n",
      "dtypes: int64(1), object(2)\n",
      "memory usage: 1.6+ KB\n"
     ]
    }
   ],
   "source": [
    "# Изучим общую информацию о датафрейме \n",
    "df_visitors.info()"
   ]
  },
  {
   "cell_type": "markdown",
   "id": "7c683870",
   "metadata": {},
   "source": [
    "    Всего в таблице 3 столбца и 62 строки. Общий объем данных составил 1.6 килобайт. Для столбца date указан неверный тип данных. Поменяем его на datetime."
   ]
  },
  {
   "cell_type": "code",
   "execution_count": 25,
   "id": "0bd1e19f",
   "metadata": {},
   "outputs": [],
   "source": [
    "df_visitors['date'] = pd.to_datetime(df_visitors['date'], format = '%Y-%m-%d')  "
   ]
  },
  {
   "cell_type": "code",
   "execution_count": 26,
   "id": "bccf8a36",
   "metadata": {},
   "outputs": [
    {
     "name": "stdout",
     "output_type": "stream",
     "text": [
      "<class 'pandas.core.frame.DataFrame'>\n",
      "RangeIndex: 62 entries, 0 to 61\n",
      "Data columns (total 3 columns):\n",
      " #   Column    Non-Null Count  Dtype         \n",
      "---  ------    --------------  -----         \n",
      " 0   date      62 non-null     datetime64[ns]\n",
      " 1   group     62 non-null     object        \n",
      " 2   visitors  62 non-null     int64         \n",
      "dtypes: datetime64[ns](1), int64(1), object(1)\n",
      "memory usage: 1.6+ KB\n"
     ]
    }
   ],
   "source": [
    "# Проверка на изменение типа данных \n",
    "df_visitors.info() "
   ]
  },
  {
   "cell_type": "code",
   "execution_count": 27,
   "id": "cd3b047e",
   "metadata": {},
   "outputs": [
    {
     "name": "stdout",
     "output_type": "stream",
     "text": [
      "Минимальная дата: 2019-08-01 00:00:00\n",
      "Максимальная дата: 2019-08-31 00:00:00\n"
     ]
    }
   ],
   "source": [
    "# Найдем минимальную и максимальную дату \n",
    "print('Минимальная дата:',df_visitors['date'].min()) \n",
    "print('Максимальная дата:',df_visitors['date'].max())  "
   ]
  },
  {
   "cell_type": "markdown",
   "id": "adb360ca",
   "metadata": {},
   "source": [
    "Таким образом, в файле df_visitors содержатся сводные данные о результатах проведения A/B тестирования за август 2019 года "
   ]
  },
  {
   "cell_type": "code",
   "execution_count": 28,
   "id": "66480b0f",
   "metadata": {},
   "outputs": [
    {
     "data": {
      "text/plain": [
       "date        0\n",
       "group       0\n",
       "visitors    0\n",
       "dtype: int64"
      ]
     },
     "execution_count": 28,
     "metadata": {},
     "output_type": "execute_result"
    }
   ],
   "source": [
    "# Проверка на наличие пропущенных значений \n",
    "df_visitors.isna().sum()  "
   ]
  },
  {
   "cell_type": "code",
   "execution_count": 29,
   "id": "ea06b9fe",
   "metadata": {},
   "outputs": [
    {
     "data": {
      "text/plain": [
       "0"
      ]
     },
     "execution_count": 29,
     "metadata": {},
     "output_type": "execute_result"
    }
   ],
   "source": [
    "# Проверкка на наличие явных дубликатов \n",
    "df_visitors.duplicated().sum() "
   ]
  },
  {
   "cell_type": "markdown",
   "id": "75e74da5",
   "metadata": {},
   "source": [
    "Выводы по Загрузке данных и подготовке к анализу: \n",
    "\n",
    "* была изучена общая информация о каждом из датафреймов: df_hypothesis, df_orders, df_visitors; \n",
    "\n",
    "* была произведена проверка на наличие  пропущенных значений и дубликатов, в каждом из трех датасетов отсутствуют пропуски и дубликаты; \n",
    "\n",
    "* для столбца date в таблице df_orders и df_visitors поменяли тип данных на datetime; \n",
    "\n",
    "* преобразовали названия столбцов, приведя их к нижнему регистру и к \"змеиному\" регистру; \n",
    "\n",
    "* определили, что в нашем распоряжении результаты проведения A/B теста с 2019-08-01 по 2019-08-31.\n",
    "\n",
    "В следующем шаге исследования будем приоритизировать имеющиеся гипотезы. "
   ]
  },
  {
   "cell_type": "markdown",
   "id": "dc96f4ec",
   "metadata": {},
   "source": [
    "##  4  2 Приоритизация гипотез "
   ]
  },
  {
   "cell_type": "markdown",
   "id": "44f190d9",
   "metadata": {},
   "source": [
    " Чтобы принять решение о наиболее приоритетной гипотезе применим фреймворки ICE  и RICE"
   ]
  },
  {
   "cell_type": "markdown",
   "id": "e92b56b9",
   "metadata": {},
   "source": [
    "## 5  2.1 Применим фреймворк ICE для приоритизации гипотез. Отсортируем их по убыванию приоритета. "
   ]
  },
  {
   "cell_type": "markdown",
   "id": "ef3226a5",
   "metadata": {},
   "source": [
    "Рассчитаем для каждой из гипотез показатель ICE. Отсортируем их по убыванию приоритета."
   ]
  },
  {
   "cell_type": "code",
   "execution_count": 30,
   "id": "892356a1",
   "metadata": {},
   "outputs": [
    {
     "data": {
      "text/html": [
       "<div>\n",
       "<style scoped>\n",
       "    .dataframe tbody tr th:only-of-type {\n",
       "        vertical-align: middle;\n",
       "    }\n",
       "\n",
       "    .dataframe tbody tr th {\n",
       "        vertical-align: top;\n",
       "    }\n",
       "\n",
       "    .dataframe thead th {\n",
       "        text-align: right;\n",
       "    }\n",
       "</style>\n",
       "<table border=\"1\" class=\"dataframe\">\n",
       "  <thead>\n",
       "    <tr style=\"text-align: right;\">\n",
       "      <th></th>\n",
       "      <th>hypothesis</th>\n",
       "      <th>ice</th>\n",
       "    </tr>\n",
       "  </thead>\n",
       "  <tbody>\n",
       "    <tr>\n",
       "      <th>8</th>\n",
       "      <td>Запустить акцию, дающую скидку на товар в день рождения</td>\n",
       "      <td>16.20</td>\n",
       "    </tr>\n",
       "    <tr>\n",
       "      <th>0</th>\n",
       "      <td>Добавить два новых канала привлечения трафика, что позволит привлекать на 30% больше пользователей</td>\n",
       "      <td>13.33</td>\n",
       "    </tr>\n",
       "    <tr>\n",
       "      <th>7</th>\n",
       "      <td>Добавить форму подписки на все основные страницы, чтобы собрать базу клиентов для email-рассылок</td>\n",
       "      <td>11.20</td>\n",
       "    </tr>\n",
       "    <tr>\n",
       "      <th>6</th>\n",
       "      <td>Показать на главной странице баннеры с актуальными акциями и распродажами, чтобы увеличить конверсию</td>\n",
       "      <td>8.00</td>\n",
       "    </tr>\n",
       "    <tr>\n",
       "      <th>2</th>\n",
       "      <td>Добавить блоки рекомендаций товаров на сайт интернет магазина, чтобы повысить конверсию и средний чек заказа</td>\n",
       "      <td>7.00</td>\n",
       "    </tr>\n",
       "    <tr>\n",
       "      <th>1</th>\n",
       "      <td>Запустить собственную службу доставки, что сократит срок доставки заказов</td>\n",
       "      <td>2.00</td>\n",
       "    </tr>\n",
       "    <tr>\n",
       "      <th>5</th>\n",
       "      <td>Добавить страницу отзывов клиентов о магазине, что позволит увеличить количество заказов</td>\n",
       "      <td>1.33</td>\n",
       "    </tr>\n",
       "    <tr>\n",
       "      <th>3</th>\n",
       "      <td>Изменить структура категорий, что увеличит конверсию, т.к. пользователи быстрее найдут нужный товар</td>\n",
       "      <td>1.12</td>\n",
       "    </tr>\n",
       "    <tr>\n",
       "      <th>4</th>\n",
       "      <td>Изменить цвет фона главной страницы, чтобы увеличить вовлеченность пользователей</td>\n",
       "      <td>1.00</td>\n",
       "    </tr>\n",
       "  </tbody>\n",
       "</table>\n",
       "</div>"
      ],
      "text/plain": [
       "                                                                                                     hypothesis  \\\n",
       "8                                                       Запустить акцию, дающую скидку на товар в день рождения   \n",
       "0            Добавить два новых канала привлечения трафика, что позволит привлекать на 30% больше пользователей   \n",
       "7              Добавить форму подписки на все основные страницы, чтобы собрать базу клиентов для email-рассылок   \n",
       "6          Показать на главной странице баннеры с актуальными акциями и распродажами, чтобы увеличить конверсию   \n",
       "2  Добавить блоки рекомендаций товаров на сайт интернет магазина, чтобы повысить конверсию и средний чек заказа   \n",
       "1                                     Запустить собственную службу доставки, что сократит срок доставки заказов   \n",
       "5                      Добавить страницу отзывов клиентов о магазине, что позволит увеличить количество заказов   \n",
       "3           Изменить структура категорий, что увеличит конверсию, т.к. пользователи быстрее найдут нужный товар   \n",
       "4                              Изменить цвет фона главной страницы, чтобы увеличить вовлеченность пользователей   \n",
       "\n",
       "     ice  \n",
       "8  16.20  \n",
       "0  13.33  \n",
       "7  11.20  \n",
       "6   8.00  \n",
       "2   7.00  \n",
       "1   2.00  \n",
       "5   1.33  \n",
       "3   1.12  \n",
       "4   1.00  "
      ]
     },
     "execution_count": 30,
     "metadata": {},
     "output_type": "execute_result"
    }
   ],
   "source": [
    "df_hypothesis['ice'] = (df_hypothesis['impact'] * df_hypothesis['confidence']) / df_hypothesis['efforts'] \n",
    "\n",
    "df_hypothesis['ice'] = df_hypothesis['ice'] \n",
    "\n",
    "df_hypothesis[['hypothesis', 'ice']].sort_values(by='ice',ascending = False).round(2)"
   ]
  },
  {
   "cell_type": "code",
   "execution_count": 31,
   "id": "8ec073ad",
   "metadata": {},
   "outputs": [
    {
     "data": {
      "text/plain": [
       "16.2"
      ]
     },
     "execution_count": 31,
     "metadata": {},
     "output_type": "execute_result"
    }
   ],
   "source": [
    "ice_max = df_hypothesis['ice'].max()\n",
    "ice_max"
   ]
  },
  {
   "cell_type": "code",
   "execution_count": 32,
   "id": "e3393f88",
   "metadata": {},
   "outputs": [
    {
     "name": "stdout",
     "output_type": "stream",
     "text": [
      "Наиболее приоритетная гипотеза N 9: Запустить акцию, дающую скидку на товар в день рождения\n"
     ]
    }
   ],
   "source": [
    "print('Наиболее приоритетная гипотеза N 9:', df_hypothesis.loc[8,'hypothesis']) "
   ]
  },
  {
   "cell_type": "markdown",
   "id": "ebac2361",
   "metadata": {},
   "source": [
    "Вывод: Максимальное значение ICE имеет гипотеза N 9: \"Запустить акцию, дающую скидку на товар в день рождения\". "
   ]
  },
  {
   "cell_type": "markdown",
   "id": "703d8e58",
   "metadata": {},
   "source": [
    "##  6 2.2  Применим фреймворк RICE для приоритизации гипотез. Отсортируем их по убыванию приоритета."
   ]
  },
  {
   "cell_type": "code",
   "execution_count": 33,
   "id": "f4579e60",
   "metadata": {},
   "outputs": [
    {
     "data": {
      "text/html": [
       "<div>\n",
       "<style scoped>\n",
       "    .dataframe tbody tr th:only-of-type {\n",
       "        vertical-align: middle;\n",
       "    }\n",
       "\n",
       "    .dataframe tbody tr th {\n",
       "        vertical-align: top;\n",
       "    }\n",
       "\n",
       "    .dataframe thead th {\n",
       "        text-align: right;\n",
       "    }\n",
       "</style>\n",
       "<table border=\"1\" class=\"dataframe\">\n",
       "  <thead>\n",
       "    <tr style=\"text-align: right;\">\n",
       "      <th></th>\n",
       "      <th>hypothesis</th>\n",
       "      <th>rice</th>\n",
       "    </tr>\n",
       "  </thead>\n",
       "  <tbody>\n",
       "    <tr>\n",
       "      <th>7</th>\n",
       "      <td>Добавить форму подписки на все основные страницы, чтобы собрать базу клиентов для email-рассылок</td>\n",
       "      <td>112.0</td>\n",
       "    </tr>\n",
       "    <tr>\n",
       "      <th>2</th>\n",
       "      <td>Добавить блоки рекомендаций товаров на сайт интернет магазина, чтобы повысить конверсию и средний чек заказа</td>\n",
       "      <td>56.0</td>\n",
       "    </tr>\n",
       "    <tr>\n",
       "      <th>0</th>\n",
       "      <td>Добавить два новых канала привлечения трафика, что позволит привлекать на 30% больше пользователей</td>\n",
       "      <td>40.0</td>\n",
       "    </tr>\n",
       "    <tr>\n",
       "      <th>6</th>\n",
       "      <td>Показать на главной странице баннеры с актуальными акциями и распродажами, чтобы увеличить конверсию</td>\n",
       "      <td>40.0</td>\n",
       "    </tr>\n",
       "    <tr>\n",
       "      <th>8</th>\n",
       "      <td>Запустить акцию, дающую скидку на товар в день рождения</td>\n",
       "      <td>16.2</td>\n",
       "    </tr>\n",
       "    <tr>\n",
       "      <th>3</th>\n",
       "      <td>Изменить структура категорий, что увеличит конверсию, т.к. пользователи быстрее найдут нужный товар</td>\n",
       "      <td>9.0</td>\n",
       "    </tr>\n",
       "    <tr>\n",
       "      <th>1</th>\n",
       "      <td>Запустить собственную службу доставки, что сократит срок доставки заказов</td>\n",
       "      <td>4.0</td>\n",
       "    </tr>\n",
       "    <tr>\n",
       "      <th>5</th>\n",
       "      <td>Добавить страницу отзывов клиентов о магазине, что позволит увеличить количество заказов</td>\n",
       "      <td>4.0</td>\n",
       "    </tr>\n",
       "    <tr>\n",
       "      <th>4</th>\n",
       "      <td>Изменить цвет фона главной страницы, чтобы увеличить вовлеченность пользователей</td>\n",
       "      <td>3.0</td>\n",
       "    </tr>\n",
       "  </tbody>\n",
       "</table>\n",
       "</div>"
      ],
      "text/plain": [
       "                                                                                                     hypothesis  \\\n",
       "7              Добавить форму подписки на все основные страницы, чтобы собрать базу клиентов для email-рассылок   \n",
       "2  Добавить блоки рекомендаций товаров на сайт интернет магазина, чтобы повысить конверсию и средний чек заказа   \n",
       "0            Добавить два новых канала привлечения трафика, что позволит привлекать на 30% больше пользователей   \n",
       "6          Показать на главной странице баннеры с актуальными акциями и распродажами, чтобы увеличить конверсию   \n",
       "8                                                       Запустить акцию, дающую скидку на товар в день рождения   \n",
       "3           Изменить структура категорий, что увеличит конверсию, т.к. пользователи быстрее найдут нужный товар   \n",
       "1                                     Запустить собственную службу доставки, что сократит срок доставки заказов   \n",
       "5                      Добавить страницу отзывов клиентов о магазине, что позволит увеличить количество заказов   \n",
       "4                              Изменить цвет фона главной страницы, чтобы увеличить вовлеченность пользователей   \n",
       "\n",
       "    rice  \n",
       "7  112.0  \n",
       "2   56.0  \n",
       "0   40.0  \n",
       "6   40.0  \n",
       "8   16.2  \n",
       "3    9.0  \n",
       "1    4.0  \n",
       "5    4.0  \n",
       "4    3.0  "
      ]
     },
     "execution_count": 33,
     "metadata": {},
     "output_type": "execute_result"
    }
   ],
   "source": [
    "df_hypothesis['rice'] = (df_hypothesis['reach'] *  df_hypothesis['impact'] *  df_hypothesis['confidence']) / df_hypothesis['efforts']\n",
    "\n",
    "df_hypothesis['rice'] =  df_hypothesis['rice'] \n",
    "\n",
    "\n",
    "(df_hypothesis[['hypothesis', 'rice']].sort_values(by='rice',ascending = False)).round(2)"
   ]
  },
  {
   "cell_type": "code",
   "execution_count": 34,
   "id": "d9ba5868",
   "metadata": {},
   "outputs": [
    {
     "data": {
      "text/plain": [
       "112.0"
      ]
     },
     "execution_count": 34,
     "metadata": {},
     "output_type": "execute_result"
    }
   ],
   "source": [
    "# Наибольшее значение RICE \n",
    "rice_max = df_hypothesis['rice'].max() \n",
    "rice_max"
   ]
  },
  {
   "cell_type": "code",
   "execution_count": 35,
   "id": "49f3a20d",
   "metadata": {},
   "outputs": [
    {
     "name": "stdout",
     "output_type": "stream",
     "text": [
      "Наиболее приоритетная гипотеза N 8: Добавить форму подписки на все основные страницы, чтобы собрать базу клиентов для email-рассылок\n"
     ]
    }
   ],
   "source": [
    "print('Наиболее приоритетная гипотеза N 8:', df_hypothesis.loc[7,'hypothesis']) "
   ]
  },
  {
   "cell_type": "markdown",
   "id": "76a981b9",
   "metadata": {},
   "source": [
    "Вывод: Максимальное значение RICE имеет гипотеза N 8: \"Добавить форму подписки на все основные страницы, чтобы собрать базу клиентов для email-рассылок\"\n"
   ]
  },
  {
   "cell_type": "markdown",
   "id": "b5301d71",
   "metadata": {},
   "source": [
    "## 7 2.3 Укажите, как изменилась приоритизация гипотез при применении RICE вместо ICE. Объясните, почему так произошло."
   ]
  },
  {
   "cell_type": "markdown",
   "id": "d2a2f732",
   "metadata": {},
   "source": [
    "        При добавлении компонента Reach приоритизация гипотез изменилась. Теперь значение гипотез зависит от количества пользователей, которых коснется изменение. Следовательно, приоретной гипотезой стала \"Добавить форму подписки на все основные страницы, чтобы собрать базу клиентов для email-рассылок\" "
   ]
  },
  {
   "cell_type": "markdown",
   "id": "3c7beb6f",
   "metadata": {},
   "source": [
    "Выводы по Приоритизации гипотез:  \n",
    "1. Во втором шаге исследования были посчитаны показатели ICE и RICE. \n",
    "2. Наиболее приоритетной гипотезой была признана гипотеза N 8 \"Добавить форму подписки на все основные страницы, чтобы собрать базу клиентов для email-рассылок\"\n",
    "    "
   ]
  },
  {
   "cell_type": "markdown",
   "id": "f9b8f718",
   "metadata": {},
   "source": [
    "## 8   Анализ A/B-теста"
   ]
  },
  {
   "cell_type": "markdown",
   "id": "c8de68c8",
   "metadata": {},
   "source": [
    "Проведем анализ проведенного результата A/B теста"
   ]
  },
  {
   "cell_type": "markdown",
   "id": "b2ecd8f0",
   "metadata": {},
   "source": [
    "## 9 3.1 Построим график кумулятивной выручки по группам. Сделаем выводы и предположения."
   ]
  },
  {
   "cell_type": "code",
   "execution_count": 36,
   "id": "61838e3b",
   "metadata": {},
   "outputs": [
    {
     "name": "stdout",
     "output_type": "stream",
     "text": [
      "   transaction_Id  visitor_Id       date  revenue group\n",
      "0      3667963787  3312258926 2019-08-15     1650     B\n",
      "1      2804400009  3642806036 2019-08-15      730     B\n",
      "2      2961555356  4069496402 2019-08-15      400     A\n",
      "3      3797467345  1196621759 2019-08-15     9759     B\n",
      "4      2282983706  2322279887 2019-08-15     2308     B\n",
      "        date group  visitors\n",
      "0 2019-08-01     A       719\n",
      "1 2019-08-02     A       619\n",
      "2 2019-08-03     A       507\n",
      "3 2019-08-04     A       717\n",
      "4 2019-08-05     A       756\n"
     ]
    }
   ],
   "source": [
    "\n",
    "print(df_orders.head()) \n",
    "\n",
    "print(df_visitors.head())"
   ]
  },
  {
   "cell_type": "code",
   "execution_count": 37,
   "id": "25d3726c",
   "metadata": {},
   "outputs": [],
   "source": [
    "# создадим массив уникальных пар значений дат и групп теста\n",
    "datesGroups = df_orders[['date','group']].drop_duplicates()  "
   ]
  },
  {
   "cell_type": "markdown",
   "id": "e67f13b6",
   "metadata": {},
   "source": [
    "Объявим переменную ordersAggregated, содержащую:\n",
    "\n",
    "    *   дату;\n",
    "    *   группу A/B-теста;\n",
    "    *   число уникальных заказов в группе теста по указанную дату включительно;\n",
    "    *   число уникальных пользователей, совершивших хотя бы 1 заказ в группе теста по указанную дату включительно;\n",
    "    *   суммарную выручку заказов в группе теста по указанную дату включительно."
   ]
  },
  {
   "cell_type": "code",
   "execution_count": 38,
   "id": "f01c4a56",
   "metadata": {},
   "outputs": [],
   "source": [
    "# получаем агрегированные кумулятивные по дням данные о заказах  \n",
    "ordersAggregated = datesGroups.apply(lambda x: df_orders[np.logical_and(df_orders['date'] <= x['date'], df_orders['group'] == x['group'])]\\\n",
    ".agg({'date' : 'max', 'group' : 'max', 'transaction_Id' : 'nunique', 'visitor_Id' : 'nunique', 'revenue' : 'sum'}), axis=1).sort_values(by=['date','group'])"
   ]
  },
  {
   "cell_type": "code",
   "execution_count": 39,
   "id": "bbba4875",
   "metadata": {},
   "outputs": [
    {
     "data": {
      "text/html": [
       "<div>\n",
       "<style scoped>\n",
       "    .dataframe tbody tr th:only-of-type {\n",
       "        vertical-align: middle;\n",
       "    }\n",
       "\n",
       "    .dataframe tbody tr th {\n",
       "        vertical-align: top;\n",
       "    }\n",
       "\n",
       "    .dataframe thead th {\n",
       "        text-align: right;\n",
       "    }\n",
       "</style>\n",
       "<table border=\"1\" class=\"dataframe\">\n",
       "  <thead>\n",
       "    <tr style=\"text-align: right;\">\n",
       "      <th></th>\n",
       "      <th>date</th>\n",
       "      <th>group</th>\n",
       "      <th>transaction_Id</th>\n",
       "      <th>visitor_Id</th>\n",
       "      <th>revenue</th>\n",
       "    </tr>\n",
       "  </thead>\n",
       "  <tbody>\n",
       "    <tr>\n",
       "      <th>55</th>\n",
       "      <td>2019-08-01</td>\n",
       "      <td>A</td>\n",
       "      <td>24</td>\n",
       "      <td>20</td>\n",
       "      <td>148579</td>\n",
       "    </tr>\n",
       "    <tr>\n",
       "      <th>66</th>\n",
       "      <td>2019-08-01</td>\n",
       "      <td>B</td>\n",
       "      <td>21</td>\n",
       "      <td>20</td>\n",
       "      <td>101217</td>\n",
       "    </tr>\n",
       "    <tr>\n",
       "      <th>175</th>\n",
       "      <td>2019-08-02</td>\n",
       "      <td>A</td>\n",
       "      <td>44</td>\n",
       "      <td>38</td>\n",
       "      <td>242401</td>\n",
       "    </tr>\n",
       "    <tr>\n",
       "      <th>173</th>\n",
       "      <td>2019-08-02</td>\n",
       "      <td>B</td>\n",
       "      <td>45</td>\n",
       "      <td>43</td>\n",
       "      <td>266748</td>\n",
       "    </tr>\n",
       "    <tr>\n",
       "      <th>291</th>\n",
       "      <td>2019-08-03</td>\n",
       "      <td>A</td>\n",
       "      <td>68</td>\n",
       "      <td>62</td>\n",
       "      <td>354874</td>\n",
       "    </tr>\n",
       "  </tbody>\n",
       "</table>\n",
       "</div>"
      ],
      "text/plain": [
       "          date group  transaction_Id  visitor_Id  revenue\n",
       "55  2019-08-01     A              24          20   148579\n",
       "66  2019-08-01     B              21          20   101217\n",
       "175 2019-08-02     A              44          38   242401\n",
       "173 2019-08-02     B              45          43   266748\n",
       "291 2019-08-03     A              68          62   354874"
      ]
     },
     "execution_count": 39,
     "metadata": {},
     "output_type": "execute_result"
    }
   ],
   "source": [
    "# Выведем первые 5 строк \n",
    "ordersAggregated.head()"
   ]
  },
  {
   "cell_type": "markdown",
   "id": "ba9e3f32",
   "metadata": {},
   "source": [
    "Объявим переменную visitorsAggregated, содержащую: \n",
    "\n",
    "    * дату;\n",
    "    * группу A/B-теста;\n",
    "    * количество уникальных посетителей в группе теста по указанную дату включительно."
   ]
  },
  {
   "cell_type": "code",
   "execution_count": 40,
   "id": "d53d3c9b",
   "metadata": {},
   "outputs": [],
   "source": [
    "# получаем агрегированные кумулятивные по дням данные о посетителях интернет-магазина \n",
    "visitorsAggregated = datesGroups.apply(lambda x: df_visitors[np.logical_and(df_visitors['date'] <= x['date'], df_visitors['group'] == x['group'])].agg({'date' : 'max', 'group' : 'max', 'visitors' : 'sum'}), axis=1).sort_values(by=['date','group']) "
   ]
  },
  {
   "cell_type": "code",
   "execution_count": 41,
   "id": "34a4fcf9",
   "metadata": {},
   "outputs": [
    {
     "data": {
      "text/html": [
       "<div>\n",
       "<style scoped>\n",
       "    .dataframe tbody tr th:only-of-type {\n",
       "        vertical-align: middle;\n",
       "    }\n",
       "\n",
       "    .dataframe tbody tr th {\n",
       "        vertical-align: top;\n",
       "    }\n",
       "\n",
       "    .dataframe thead th {\n",
       "        text-align: right;\n",
       "    }\n",
       "</style>\n",
       "<table border=\"1\" class=\"dataframe\">\n",
       "  <thead>\n",
       "    <tr style=\"text-align: right;\">\n",
       "      <th></th>\n",
       "      <th>date</th>\n",
       "      <th>group</th>\n",
       "      <th>visitors</th>\n",
       "    </tr>\n",
       "  </thead>\n",
       "  <tbody>\n",
       "    <tr>\n",
       "      <th>55</th>\n",
       "      <td>2019-08-01</td>\n",
       "      <td>A</td>\n",
       "      <td>719</td>\n",
       "    </tr>\n",
       "    <tr>\n",
       "      <th>66</th>\n",
       "      <td>2019-08-01</td>\n",
       "      <td>B</td>\n",
       "      <td>713</td>\n",
       "    </tr>\n",
       "    <tr>\n",
       "      <th>175</th>\n",
       "      <td>2019-08-02</td>\n",
       "      <td>A</td>\n",
       "      <td>1338</td>\n",
       "    </tr>\n",
       "    <tr>\n",
       "      <th>173</th>\n",
       "      <td>2019-08-02</td>\n",
       "      <td>B</td>\n",
       "      <td>1294</td>\n",
       "    </tr>\n",
       "    <tr>\n",
       "      <th>291</th>\n",
       "      <td>2019-08-03</td>\n",
       "      <td>A</td>\n",
       "      <td>1845</td>\n",
       "    </tr>\n",
       "  </tbody>\n",
       "</table>\n",
       "</div>"
      ],
      "text/plain": [
       "          date group  visitors\n",
       "55  2019-08-01     A       719\n",
       "66  2019-08-01     B       713\n",
       "175 2019-08-02     A      1338\n",
       "173 2019-08-02     B      1294\n",
       "291 2019-08-03     A      1845"
      ]
     },
     "execution_count": 41,
     "metadata": {},
     "output_type": "execute_result"
    }
   ],
   "source": [
    "# Выведем первые 5 строк\n",
    "visitorsAggregated.head()"
   ]
  },
  {
   "cell_type": "markdown",
   "id": "2f46aed4",
   "metadata": {},
   "source": [
    "      Определим переменную cumulativeData, объединив ordersAggregated и visitorsAggregated по колонкам 'date', 'group' методом merge(). "
   ]
  },
  {
   "cell_type": "code",
   "execution_count": 42,
   "id": "278016ef",
   "metadata": {},
   "outputs": [],
   "source": [
    "# объединяем кумулятивные данные в одной таблице и присваиваем ее столбцам понятные названия\n",
    "cumulativeData = ordersAggregated.merge(visitorsAggregated, left_on=['date', 'group'], right_on=['date', 'group']) \n",
    "cumulativeData.columns=['date', 'group', 'orders', 'buyers', 'revenue', 'visitors']"
   ]
  },
  {
   "cell_type": "code",
   "execution_count": 43,
   "id": "bb7a2ad0",
   "metadata": {},
   "outputs": [
    {
     "data": {
      "text/html": [
       "<div>\n",
       "<style scoped>\n",
       "    .dataframe tbody tr th:only-of-type {\n",
       "        vertical-align: middle;\n",
       "    }\n",
       "\n",
       "    .dataframe tbody tr th {\n",
       "        vertical-align: top;\n",
       "    }\n",
       "\n",
       "    .dataframe thead th {\n",
       "        text-align: right;\n",
       "    }\n",
       "</style>\n",
       "<table border=\"1\" class=\"dataframe\">\n",
       "  <thead>\n",
       "    <tr style=\"text-align: right;\">\n",
       "      <th></th>\n",
       "      <th>date</th>\n",
       "      <th>group</th>\n",
       "      <th>orders</th>\n",
       "      <th>buyers</th>\n",
       "      <th>revenue</th>\n",
       "      <th>visitors</th>\n",
       "    </tr>\n",
       "  </thead>\n",
       "  <tbody>\n",
       "    <tr>\n",
       "      <th>0</th>\n",
       "      <td>2019-08-01</td>\n",
       "      <td>A</td>\n",
       "      <td>24</td>\n",
       "      <td>20</td>\n",
       "      <td>148579</td>\n",
       "      <td>719</td>\n",
       "    </tr>\n",
       "    <tr>\n",
       "      <th>1</th>\n",
       "      <td>2019-08-01</td>\n",
       "      <td>B</td>\n",
       "      <td>21</td>\n",
       "      <td>20</td>\n",
       "      <td>101217</td>\n",
       "      <td>713</td>\n",
       "    </tr>\n",
       "    <tr>\n",
       "      <th>2</th>\n",
       "      <td>2019-08-02</td>\n",
       "      <td>A</td>\n",
       "      <td>44</td>\n",
       "      <td>38</td>\n",
       "      <td>242401</td>\n",
       "      <td>1338</td>\n",
       "    </tr>\n",
       "    <tr>\n",
       "      <th>3</th>\n",
       "      <td>2019-08-02</td>\n",
       "      <td>B</td>\n",
       "      <td>45</td>\n",
       "      <td>43</td>\n",
       "      <td>266748</td>\n",
       "      <td>1294</td>\n",
       "    </tr>\n",
       "    <tr>\n",
       "      <th>4</th>\n",
       "      <td>2019-08-03</td>\n",
       "      <td>A</td>\n",
       "      <td>68</td>\n",
       "      <td>62</td>\n",
       "      <td>354874</td>\n",
       "      <td>1845</td>\n",
       "    </tr>\n",
       "  </tbody>\n",
       "</table>\n",
       "</div>"
      ],
      "text/plain": [
       "        date group  orders  buyers  revenue  visitors\n",
       "0 2019-08-01     A      24      20   148579       719\n",
       "1 2019-08-01     B      21      20   101217       713\n",
       "2 2019-08-02     A      44      38   242401      1338\n",
       "3 2019-08-02     B      45      43   266748      1294\n",
       "4 2019-08-03     A      68      62   354874      1845"
      ]
     },
     "execution_count": 43,
     "metadata": {},
     "output_type": "execute_result"
    }
   ],
   "source": [
    "# Выведем первые пять строк датафрейма\n",
    "cumulativeData.head()"
   ]
  },
  {
   "cell_type": "code",
   "execution_count": 44,
   "id": "2733fe34",
   "metadata": {},
   "outputs": [
    {
     "name": "stdout",
     "output_type": "stream",
     "text": [
      "Минимальная дата: 2019-08-01 00:00:00\n",
      "Максимальная дата: 2019-08-31 00:00:00\n"
     ]
    }
   ],
   "source": [
    "# Найдем максимальную и максимальную дату \n",
    "print('Минимальная дата:', cumulativeData['date'].min())\n",
    "print('Максимальная дата:', cumulativeData['date'].max())"
   ]
  },
  {
   "cell_type": "markdown",
   "id": "f69573ce",
   "metadata": {},
   "source": [
    "      Минимальная и максимальная даты в датафрейме cumulativeData полностью совпадают  с минимальной и максимальной датой в исходных данных."
   ]
  },
  {
   "cell_type": "code",
   "execution_count": 45,
   "id": "13dbd8f3",
   "metadata": {},
   "outputs": [
    {
     "data": {
      "text/html": [
       "<div>\n",
       "<style scoped>\n",
       "    .dataframe tbody tr th:only-of-type {\n",
       "        vertical-align: middle;\n",
       "    }\n",
       "\n",
       "    .dataframe tbody tr th {\n",
       "        vertical-align: top;\n",
       "    }\n",
       "\n",
       "    .dataframe thead th {\n",
       "        text-align: right;\n",
       "    }\n",
       "</style>\n",
       "<table border=\"1\" class=\"dataframe\">\n",
       "  <thead>\n",
       "    <tr style=\"text-align: right;\">\n",
       "      <th></th>\n",
       "      <th>date</th>\n",
       "      <th>revenue</th>\n",
       "      <th>orders</th>\n",
       "    </tr>\n",
       "  </thead>\n",
       "  <tbody>\n",
       "    <tr>\n",
       "      <th>0</th>\n",
       "      <td>2019-08-01</td>\n",
       "      <td>148579</td>\n",
       "      <td>24</td>\n",
       "    </tr>\n",
       "    <tr>\n",
       "      <th>2</th>\n",
       "      <td>2019-08-02</td>\n",
       "      <td>242401</td>\n",
       "      <td>44</td>\n",
       "    </tr>\n",
       "    <tr>\n",
       "      <th>4</th>\n",
       "      <td>2019-08-03</td>\n",
       "      <td>354874</td>\n",
       "      <td>68</td>\n",
       "    </tr>\n",
       "    <tr>\n",
       "      <th>6</th>\n",
       "      <td>2019-08-04</td>\n",
       "      <td>425699</td>\n",
       "      <td>84</td>\n",
       "    </tr>\n",
       "    <tr>\n",
       "      <th>8</th>\n",
       "      <td>2019-08-05</td>\n",
       "      <td>549917</td>\n",
       "      <td>109</td>\n",
       "    </tr>\n",
       "  </tbody>\n",
       "</table>\n",
       "</div>"
      ],
      "text/plain": [
       "        date  revenue  orders\n",
       "0 2019-08-01   148579      24\n",
       "2 2019-08-02   242401      44\n",
       "4 2019-08-03   354874      68\n",
       "6 2019-08-04   425699      84\n",
       "8 2019-08-05   549917     109"
      ]
     },
     "execution_count": 45,
     "metadata": {},
     "output_type": "execute_result"
    }
   ],
   "source": [
    "# датафрейм с кумулятивным количеством заказов и кумулятивной выручкой по дням в группе А \n",
    "\n",
    "cumulativeRevenueA = cumulativeData[cumulativeData['group']=='A'][['date','revenue', 'orders']]\n",
    "cumulativeRevenueA.head()"
   ]
  },
  {
   "cell_type": "code",
   "execution_count": 46,
   "id": "b8c1f673",
   "metadata": {},
   "outputs": [
    {
     "data": {
      "text/html": [
       "<div>\n",
       "<style scoped>\n",
       "    .dataframe tbody tr th:only-of-type {\n",
       "        vertical-align: middle;\n",
       "    }\n",
       "\n",
       "    .dataframe tbody tr th {\n",
       "        vertical-align: top;\n",
       "    }\n",
       "\n",
       "    .dataframe thead th {\n",
       "        text-align: right;\n",
       "    }\n",
       "</style>\n",
       "<table border=\"1\" class=\"dataframe\">\n",
       "  <thead>\n",
       "    <tr style=\"text-align: right;\">\n",
       "      <th></th>\n",
       "      <th>date</th>\n",
       "      <th>revenue</th>\n",
       "      <th>orders</th>\n",
       "    </tr>\n",
       "  </thead>\n",
       "  <tbody>\n",
       "    <tr>\n",
       "      <th>1</th>\n",
       "      <td>2019-08-01</td>\n",
       "      <td>101217</td>\n",
       "      <td>21</td>\n",
       "    </tr>\n",
       "    <tr>\n",
       "      <th>3</th>\n",
       "      <td>2019-08-02</td>\n",
       "      <td>266748</td>\n",
       "      <td>45</td>\n",
       "    </tr>\n",
       "    <tr>\n",
       "      <th>5</th>\n",
       "      <td>2019-08-03</td>\n",
       "      <td>380996</td>\n",
       "      <td>61</td>\n",
       "    </tr>\n",
       "    <tr>\n",
       "      <th>7</th>\n",
       "      <td>2019-08-04</td>\n",
       "      <td>489567</td>\n",
       "      <td>78</td>\n",
       "    </tr>\n",
       "    <tr>\n",
       "      <th>9</th>\n",
       "      <td>2019-08-05</td>\n",
       "      <td>581995</td>\n",
       "      <td>101</td>\n",
       "    </tr>\n",
       "  </tbody>\n",
       "</table>\n",
       "</div>"
      ],
      "text/plain": [
       "        date  revenue  orders\n",
       "1 2019-08-01   101217      21\n",
       "3 2019-08-02   266748      45\n",
       "5 2019-08-03   380996      61\n",
       "7 2019-08-04   489567      78\n",
       "9 2019-08-05   581995     101"
      ]
     },
     "execution_count": 46,
     "metadata": {},
     "output_type": "execute_result"
    }
   ],
   "source": [
    "# датафрейм с кумулятивным количеством заказов и кумулятивной выручкой по дням в группе B\n",
    "cumulativeRevenueB = cumulativeData[cumulativeData['group']=='B'][['date','revenue', 'orders']]  \n",
    "cumulativeRevenueB.head()"
   ]
  },
  {
   "cell_type": "code",
   "execution_count": 47,
   "id": "45cd468e",
   "metadata": {},
   "outputs": [
    {
     "data": {
      "image/png": "[encoded data removed]",
      "text/plain": [
       "<Figure size 1400x600 with 1 Axes>"
      ]
     },
     "metadata": {},
     "output_type": "display_data"
    }
   ],
   "source": [
    "plt.figure(figsize=(14,6))\n",
    "plt.ticklabel_format(style='plain') \n",
    "\n",
    "# Строим график выручки группы А \n",
    "plt.plot(cumulativeRevenueA['date'], cumulativeRevenueA['revenue'], label = 'A')\n",
    "\n",
    "# Строим график выручки группы B \n",
    "plt.plot(cumulativeRevenueB['date'], cumulativeRevenueB['revenue'], label = 'B')\n",
    "plt.title('График кумулятивной выручки по группам')\n",
    "plt.xlabel('Дата')\n",
    "plt.ylabel('Выручка')\n",
    "plt.legend()  \n",
    "plt.grid()\n",
    "plt.show()\n",
    "\n",
    "\n"
   ]
  },
  {
   "cell_type": "markdown",
   "id": "3bd93051",
   "metadata": {},
   "source": [
    " По данным графика, видим, что сегмент B в середине теста вырвался в лидеры и продолжал лидировать до конца теста. Можно предположить, что аномально большие заказы влияют на результаты теста. Выручка почти равномерно увеличивается в течение всего теста. "
   ]
  },
  {
   "cell_type": "markdown",
   "id": "df31f698",
   "metadata": {},
   "source": [
    "## 10 3.2  Построим график кумулятивного среднего чека по группам. Сделаем выводы и предположения."
   ]
  },
  {
   "cell_type": "markdown",
   "id": "b427900a",
   "metadata": {},
   "source": [
    "Построим графики среднего чека по группам - разделим кумулятивную выручку на кумулятивное число заказов. "
   ]
  },
  {
   "cell_type": "code",
   "execution_count": 48,
   "id": "33b5049d",
   "metadata": {},
   "outputs": [
    {
     "data": {
      "image/png": "[encoded data removed]",
      "text/plain": [
       "<Figure size 1400x600 with 1 Axes>"
      ]
     },
     "metadata": {},
     "output_type": "display_data"
    }
   ],
   "source": [
    "plt.figure(figsize=(14,6)) \n",
    "plt.plot(cumulativeRevenueA['date'], cumulativeRevenueA['revenue'] / cumulativeRevenueA['orders'], label='A')  \n",
    "plt.plot(cumulativeRevenueB['date'], cumulativeRevenueB['revenue'] / cumulativeRevenueB['orders'], label='B')   \n",
    "\n",
    "\n",
    "plt.title('График кумулятивного среднего чека по группам') \n",
    "plt.xlabel('Дата')\n",
    "plt.ylabel('Сумма среднего чека')\n",
    "plt.legend() \n",
    "plt.grid()\n",
    "plt.show()"
   ]
  },
  {
   "cell_type": "markdown",
   "id": "9428f95b",
   "metadata": {},
   "source": [
    "      Средний чек становится равномерным ближе к концу теста: установился для группы А. Для группы B средний чек начал резко увеличиваться в середине теста и затем начал равномерно падать. Предположу, что в группе B скрываются аномальные по стоимости средние чеки."
   ]
  },
  {
   "cell_type": "markdown",
   "id": "46a381f3",
   "metadata": {},
   "source": [
    " ## 11 3.3 Построим график относительного изменения кумулятивного среднего чека группы B к группе A. Сделаем выводы и предположения. "
   ]
  },
  {
   "cell_type": "markdown",
   "id": "3d398fda",
   "metadata": {},
   "source": [
    "    Построим график относительного изменения кумулятивного среднего чека группы B к группе A.  Добавим горизонтальную ось методом axhline()"
   ]
  },
  {
   "cell_type": "code",
   "execution_count": 49,
   "id": "9aabc9db",
   "metadata": {},
   "outputs": [
    {
     "data": {
      "text/html": [
       "<div>\n",
       "<style scoped>\n",
       "    .dataframe tbody tr th:only-of-type {\n",
       "        vertical-align: middle;\n",
       "    }\n",
       "\n",
       "    .dataframe tbody tr th {\n",
       "        vertical-align: top;\n",
       "    }\n",
       "\n",
       "    .dataframe thead th {\n",
       "        text-align: right;\n",
       "    }\n",
       "</style>\n",
       "<table border=\"1\" class=\"dataframe\">\n",
       "  <thead>\n",
       "    <tr style=\"text-align: right;\">\n",
       "      <th></th>\n",
       "      <th>date</th>\n",
       "      <th>revenueA</th>\n",
       "      <th>ordersA</th>\n",
       "      <th>revenueB</th>\n",
       "      <th>ordersB</th>\n",
       "    </tr>\n",
       "  </thead>\n",
       "  <tbody>\n",
       "    <tr>\n",
       "      <th>0</th>\n",
       "      <td>2019-08-01</td>\n",
       "      <td>148579</td>\n",
       "      <td>24</td>\n",
       "      <td>101217</td>\n",
       "      <td>21</td>\n",
       "    </tr>\n",
       "    <tr>\n",
       "      <th>1</th>\n",
       "      <td>2019-08-02</td>\n",
       "      <td>242401</td>\n",
       "      <td>44</td>\n",
       "      <td>266748</td>\n",
       "      <td>45</td>\n",
       "    </tr>\n",
       "    <tr>\n",
       "      <th>2</th>\n",
       "      <td>2019-08-03</td>\n",
       "      <td>354874</td>\n",
       "      <td>68</td>\n",
       "      <td>380996</td>\n",
       "      <td>61</td>\n",
       "    </tr>\n",
       "    <tr>\n",
       "      <th>3</th>\n",
       "      <td>2019-08-04</td>\n",
       "      <td>425699</td>\n",
       "      <td>84</td>\n",
       "      <td>489567</td>\n",
       "      <td>78</td>\n",
       "    </tr>\n",
       "    <tr>\n",
       "      <th>4</th>\n",
       "      <td>2019-08-05</td>\n",
       "      <td>549917</td>\n",
       "      <td>109</td>\n",
       "      <td>581995</td>\n",
       "      <td>101</td>\n",
       "    </tr>\n",
       "    <tr>\n",
       "      <th>5</th>\n",
       "      <td>2019-08-06</td>\n",
       "      <td>598401</td>\n",
       "      <td>127</td>\n",
       "      <td>824337</td>\n",
       "      <td>129</td>\n",
       "    </tr>\n",
       "    <tr>\n",
       "      <th>6</th>\n",
       "      <td>2019-08-07</td>\n",
       "      <td>740818</td>\n",
       "      <td>145</td>\n",
       "      <td>1049671</td>\n",
       "      <td>153</td>\n",
       "    </tr>\n",
       "    <tr>\n",
       "      <th>7</th>\n",
       "      <td>2019-08-08</td>\n",
       "      <td>837097</td>\n",
       "      <td>161</td>\n",
       "      <td>1270589</td>\n",
       "      <td>180</td>\n",
       "    </tr>\n",
       "    <tr>\n",
       "      <th>8</th>\n",
       "      <td>2019-08-09</td>\n",
       "      <td>1025603</td>\n",
       "      <td>177</td>\n",
       "      <td>1431401</td>\n",
       "      <td>205</td>\n",
       "    </tr>\n",
       "    <tr>\n",
       "      <th>9</th>\n",
       "      <td>2019-08-10</td>\n",
       "      <td>1236098</td>\n",
       "      <td>193</td>\n",
       "      <td>1539203</td>\n",
       "      <td>228</td>\n",
       "    </tr>\n",
       "  </tbody>\n",
       "</table>\n",
       "</div>"
      ],
      "text/plain": [
       "        date  revenueA  ordersA  revenueB  ordersB\n",
       "0 2019-08-01    148579       24    101217       21\n",
       "1 2019-08-02    242401       44    266748       45\n",
       "2 2019-08-03    354874       68    380996       61\n",
       "3 2019-08-04    425699       84    489567       78\n",
       "4 2019-08-05    549917      109    581995      101\n",
       "5 2019-08-06    598401      127    824337      129\n",
       "6 2019-08-07    740818      145   1049671      153\n",
       "7 2019-08-08    837097      161   1270589      180\n",
       "8 2019-08-09   1025603      177   1431401      205\n",
       "9 2019-08-10   1236098      193   1539203      228"
      ]
     },
     "execution_count": 49,
     "metadata": {},
     "output_type": "execute_result"
    }
   ],
   "source": [
    "# собираем данные в одном датафрейме\n",
    "mergedCumulativeRevenue = cumulativeRevenueA.merge(cumulativeRevenueB, left_on = 'date', right_on = 'date', how = 'left',suffixes =['A','B'])\n",
    "mergedCumulativeRevenue.head(10)"
   ]
  },
  {
   "cell_type": "code",
   "execution_count": 50,
   "id": "f26c9c06",
   "metadata": {},
   "outputs": [
    {
     "data": {
      "image/png": "[encoded data removed]",
      "text/plain": [
       "<Figure size 1300x600 with 1 Axes>"
      ]
     },
     "metadata": {},
     "output_type": "display_data"
    }
   ],
   "source": [
    "plt.figure(figsize=(13,6))\n",
    "\n",
    "# строим отношение средних чеков  \n",
    "plt.plot(mergedCumulativeRevenue['date'], (mergedCumulativeRevenue['revenueB']/mergedCumulativeRevenue['ordersB']) / \n",
    "(mergedCumulativeRevenue['revenueA'] / mergedCumulativeRevenue['ordersA'])-1) \n",
    "\n",
    "# добавляем ось х \n",
    "plt.axhline(y=0, color='brown', linestyle = '--') \n",
    "plt.title('График относительного изменения кумулятивного среднего чека группы B к группе A') \n",
    "plt.xlabel('Дата')\n",
    "plt.ylabel('Изменение среднего чека')\n",
    "plt.grid()\n",
    "plt.show()\n",
    "\n"
   ]
  },
  {
   "cell_type": "markdown",
   "id": "68a9fd35",
   "metadata": {},
   "source": [
    "    В нескольких точках график относительного изменения кумулятивного среднего чека между сегментами A и B резко «скачет». Скорее всего есть крупные заказы и выбросы."
   ]
  },
  {
   "cell_type": "markdown",
   "id": "8558be0b",
   "metadata": {},
   "source": [
    "## 12 3.4 Построим  график кумулятивного среднего количества заказов на посетителя по группам. Сделаем выводы и предположения."
   ]
  },
  {
   "cell_type": "markdown",
   "id": "79a52f64",
   "metadata": {},
   "source": [
    "          Аналогично проанализируем график кумулятивного среднего количества заказов на посетителя. Зададим масштаб осей методом plt.axis(). Передадим ему минимальное и максимальное значения оси x; минимальное и максимальное значения оси y — [\"2019-08-01\", '2019-08-31', 0, 0.6]:"
   ]
  },
  {
   "cell_type": "code",
   "execution_count": 51,
   "id": "d7849e6a",
   "metadata": {},
   "outputs": [
    {
     "data": {
      "image/png": "[encoded data removed]",
      "text/plain": [
       "<Figure size 1300x800 with 1 Axes>"
      ]
     },
     "metadata": {},
     "output_type": "display_data"
    }
   ],
   "source": [
    "# считаем кумулятивное среднее количество заказов на посетителя\n",
    "cumulativeData['conversion'] = cumulativeData['orders']/ cumulativeData['visitors'] \n",
    "\n",
    "# отделяем данные по группе А \n",
    "cumulativeDataA = cumulativeData[cumulativeData['group'] == 'A'] \n",
    "\n",
    "# отделяем данные по группе B \n",
    "\n",
    "cumulativeDataB = cumulativeData[cumulativeData['group'] == 'B'] \n",
    "\n",
    "# строим графики: \n",
    "plt.figure(figsize=(13,8))\n",
    "plt.plot(cumulativeDataA['date'], cumulativeDataA['conversion'], label = 'A') \n",
    "plt.plot(cumulativeDataB['date'], cumulativeDataB['conversion'], label = 'B') \n",
    "\n",
    "plt.title('График кумулятивного среднего количества заказов на посетителя по группам') \n",
    "plt.xlabel('Дата')\n",
    "plt.ylabel('Среднее количество заказов')\n",
    "plt.axis([dt.datetime(2019,8,1), dt.datetime(2019,8,31), 0, 0.06])\n",
    "plt.legend()\n",
    "plt.grid()\n",
    "plt.show()"
   ]
  },
  {
   "cell_type": "markdown",
   "id": "3ea34f5b",
   "metadata": {},
   "source": [
    "    Видно, что получился практически симметричный график. В определенный момент среднее количество закакзов у группы B вырвалось вперед и продолжило лидировать до конца теста."
   ]
  },
  {
   "cell_type": "markdown",
   "id": "57ea1ea0",
   "metadata": {},
   "source": [
    "## 13 3.5 Построим график относительного изменения кумулятивного среднего количества заказов на посетителя группы B к группе A. Сделаем выводы и предположения."
   ]
  },
  {
   "cell_type": "markdown",
   "id": "ab554411",
   "metadata": {},
   "source": [
    " Построим график относительного изменения кумулятивного среднего количества заказов на посетителя группы B к группе A"
   ]
  },
  {
   "cell_type": "code",
   "execution_count": 52,
   "id": "522bd3d6",
   "metadata": {},
   "outputs": [
    {
     "data": {
      "image/png": "[encoded data removed]",
      "text/plain": [
       "<Figure size 1600x800 with 1 Axes>"
      ]
     },
     "metadata": {},
     "output_type": "display_data"
    }
   ],
   "source": [
    "plt.figure(figsize=(16,8)) \n",
    "mergedCumulativeCinversions = cumulativeDataA[['date','conversion']].merge(cumulativeDataB[['date','conversion']],left_on = 'date',\n",
    "                               right_on = 'date', how = 'left', suffixes = ['A','B']) \n",
    "\n",
    "plt.plot(mergedCumulativeCinversions['date'], mergedCumulativeCinversions['conversionB'] / mergedCumulativeCinversions['conversionA'] -1, label = \n",
    "'Относительный прирост среднего количества заказов группы B по отношению к группе A')\n",
    "\n",
    "plt.axhline(y=0, color = 'purple', linestyle = '--') \n",
    "plt.axhline(y=0.15, color = 'chocolate', linestyle = '--')\n",
    "plt.axis([dt.datetime(2019,8,1), dt.datetime(2019,8,31), -0.5, 0.5])\n",
    "plt.title('График относительного изменения кумулятивного среднего количества заказов на посетителя группы B к группе A') \n",
    "plt.xlabel('Дата')\n",
    "plt.ylabel('Среднее количество заказов') \n",
    "\n",
    "plt.legend()\n",
    "plt.grid() \n",
    "plt.show()\n",
    "\n"
   ]
  },
  {
   "cell_type": "markdown",
   "id": "e31510da",
   "metadata": {},
   "source": [
    "По данным графика видим, что в начале теста группа B проигрывала группе A, но затем вырвалась вперед. Далее конверсия незначительно падала, но к концу теста снова увеличивалась."
   ]
  },
  {
   "cell_type": "markdown",
   "id": "97353b94",
   "metadata": {},
   "source": [
    "## 14 3.6 Построим точечный график количества заказов по пользователям. Сделаем выводы и предположения."
   ]
  },
  {
   "cell_type": "markdown",
   "id": "b6c07662",
   "metadata": {},
   "source": [
    "Построим точечный график количества заказов по пользователям. "
   ]
  },
  {
   "cell_type": "code",
   "execution_count": 53,
   "id": "30ec6fe1",
   "metadata": {},
   "outputs": [
    {
     "data": {
      "text/html": [
       "<div>\n",
       "<style scoped>\n",
       "    .dataframe tbody tr th:only-of-type {\n",
       "        vertical-align: middle;\n",
       "    }\n",
       "\n",
       "    .dataframe tbody tr th {\n",
       "        vertical-align: top;\n",
       "    }\n",
       "\n",
       "    .dataframe thead th {\n",
       "        text-align: right;\n",
       "    }\n",
       "</style>\n",
       "<table border=\"1\" class=\"dataframe\">\n",
       "  <thead>\n",
       "    <tr style=\"text-align: right;\">\n",
       "      <th></th>\n",
       "      <th>user_Id</th>\n",
       "      <th>orders</th>\n",
       "    </tr>\n",
       "  </thead>\n",
       "  <tbody>\n",
       "    <tr>\n",
       "      <th>1023</th>\n",
       "      <td>4256040402</td>\n",
       "      <td>11</td>\n",
       "    </tr>\n",
       "    <tr>\n",
       "      <th>591</th>\n",
       "      <td>2458001652</td>\n",
       "      <td>11</td>\n",
       "    </tr>\n",
       "    <tr>\n",
       "      <th>569</th>\n",
       "      <td>2378935119</td>\n",
       "      <td>9</td>\n",
       "    </tr>\n",
       "    <tr>\n",
       "      <th>487</th>\n",
       "      <td>2038680547</td>\n",
       "      <td>8</td>\n",
       "    </tr>\n",
       "    <tr>\n",
       "      <th>44</th>\n",
       "      <td>199603092</td>\n",
       "      <td>5</td>\n",
       "    </tr>\n",
       "    <tr>\n",
       "      <th>744</th>\n",
       "      <td>3062433592</td>\n",
       "      <td>5</td>\n",
       "    </tr>\n",
       "    <tr>\n",
       "      <th>55</th>\n",
       "      <td>237748145</td>\n",
       "      <td>5</td>\n",
       "    </tr>\n",
       "    <tr>\n",
       "      <th>917</th>\n",
       "      <td>3803269165</td>\n",
       "      <td>5</td>\n",
       "    </tr>\n",
       "    <tr>\n",
       "      <th>299</th>\n",
       "      <td>1230306981</td>\n",
       "      <td>5</td>\n",
       "    </tr>\n",
       "    <tr>\n",
       "      <th>897</th>\n",
       "      <td>3717692402</td>\n",
       "      <td>5</td>\n",
       "    </tr>\n",
       "  </tbody>\n",
       "</table>\n",
       "</div>"
      ],
      "text/plain": [
       "         user_Id  orders\n",
       "1023  4256040402      11\n",
       "591   2458001652      11\n",
       "569   2378935119       9\n",
       "487   2038680547       8\n",
       "44     199603092       5\n",
       "744   3062433592       5\n",
       "55     237748145       5\n",
       "917   3803269165       5\n",
       "299   1230306981       5\n",
       "897   3717692402       5"
      ]
     },
     "execution_count": 53,
     "metadata": {},
     "output_type": "execute_result"
    }
   ],
   "source": [
    "ordersByUsers = (df_orders.groupby('visitor_Id', as_index=False).agg({'transaction_Id': 'nunique'})) \n",
    "\n",
    "ordersByUsers.columns = ['user_Id', 'orders']  \n",
    "\n",
    "ordersByUsers.sort_values(by='orders', ascending = False).head(10)\n",
    "\n"
   ]
  },
  {
   "cell_type": "code",
   "execution_count": 54,
   "id": "7098d96f",
   "metadata": {},
   "outputs": [
    {
     "data": {
      "image/png": "[encoded data removed]",
      "text/plain": [
       "<Figure size 1500x600 with 1 Axes>"
      ]
     },
     "metadata": {},
     "output_type": "display_data"
    }
   ],
   "source": [
    "plt.figure(figsize = (15,6))\n",
    "plt.title('Точечный график количества заказов по пользователям') \n",
    "plt.xlabel('Количество пользователей') \n",
    "plt.ylabel('Количество заказов')\n",
    "plt.grid()\n",
    "\n",
    "# серия из чисел от 0 до количества наблюдений в ordersByUsers \n",
    "\n",
    "x_values = pd.Series(range(0, len(ordersByUsers))) \n",
    "\n",
    "plt.scatter(x_values, ordersByUsers['orders']) \n",
    "plt.show() "
   ]
  },
  {
   "cell_type": "markdown",
   "id": "a2a6d09d",
   "metadata": {},
   "source": [
    "Большинство пользователей совершают по 1-2 заказа. Пользователей, которые совершают 2 и более заказа, довольно мало. "
   ]
  },
  {
   "cell_type": "markdown",
   "id": "96160faa",
   "metadata": {},
   "source": [
    "## 15 3.7 Посчитаем 95-й и 99-й перцентили количества заказов на пользователя. Выберем границу для определения аномальных пользователей."
   ]
  },
  {
   "cell_type": "code",
   "execution_count": 55,
   "id": "ca77b3b9",
   "metadata": {},
   "outputs": [
    {
     "name": "stdout",
     "output_type": "stream",
     "text": [
      "[2. 4.]\n"
     ]
    }
   ],
   "source": [
    "# метод np.percentile ('column', [percentile1, percentile2]) находит перцентили. \n",
    "\n",
    "print(np.percentile(ordersByUsers['orders'], [95,99]))"
   ]
  },
  {
   "cell_type": "markdown",
   "id": "7ec4556c",
   "metadata": {},
   "source": [
    "Не более 5 % совершали больше двух заказов и не более 1 % пользователей больше 4 заказов. Определим аномальных пользователей, которые совершают 4 заказов и более."
   ]
  },
  {
   "cell_type": "markdown",
   "id": "90230d4b",
   "metadata": {},
   "source": [
    "##   16 3.8  Построим точечный график стоимостей заказов. Сделаем выводы и предположения."
   ]
  },
  {
   "cell_type": "markdown",
   "id": "094b2958",
   "metadata": {},
   "source": [
    "Построим точечный график стоимостей заказов. "
   ]
  },
  {
   "cell_type": "code",
   "execution_count": 56,
   "id": "27c83aaa",
   "metadata": {},
   "outputs": [
    {
     "data": {
      "image/png": "[encoded data removed]",
      "text/plain": [
       "<Figure size 1500x500 with 1 Axes>"
      ]
     },
     "metadata": {},
     "output_type": "display_data"
    }
   ],
   "source": [
    "plt.figure(figsize=(15,5)) \n",
    "plt.grid()\n",
    "plt.title('Точечный график стоимостей заказов') \n",
    "plt.xlabel('Количество пользователей')\n",
    "plt.ylabel('Стоимость заказов')\n",
    "plt.ticklabel_format(style='plain')  \n",
    "\n",
    "# серия из чисел от 0 до количества наблюдений в df_orders\n",
    "\n",
    "x_values = pd.Series(range(0,len(df_orders['revenue'])))\n",
    "\n",
    "plt.scatter(x_values, df_orders['revenue'], alpha = 0.4) \n",
    "plt.show()\n",
    "\n"
   ]
  },
  {
   "cell_type": "markdown",
   "id": "79ad23f9",
   "metadata": {},
   "source": [
    "     Видим, что большинство заказов сосредоточились до 200000 рублей, однако на графике есть два аномальных выброса. Один в районе 200000 рублей, второй - свыше 1200000 рублей. Таким образом, будем считать выбросами заказы стоимостью свыше 200000 рублей."
   ]
  },
  {
   "cell_type": "code",
   "execution_count": 57,
   "id": "83ec8c4d",
   "metadata": {},
   "outputs": [
    {
     "data": {
      "text/plain": [
       "744       86620\n",
       "1136      92550\n",
       "858       93940\n",
       "1196     202740\n",
       "425     1294500\n",
       "Name: revenue, dtype: int64"
      ]
     },
     "execution_count": 57,
     "metadata": {},
     "output_type": "execute_result"
    }
   ],
   "source": [
    " # посмотрим на топ-5 самых дорогих заказов \n",
    "df_orders['revenue'].sort_values().tail()"
   ]
  },
  {
   "cell_type": "markdown",
   "id": "8c44395d",
   "metadata": {},
   "source": [
    "Первое аномальное значение - это заказ стоимостью 1294500 рублей, второй выброс это заказ стоимостью 202740 рублей."
   ]
  },
  {
   "cell_type": "markdown",
   "id": "0a51968d",
   "metadata": {},
   "source": [
    "Построим точечный график стоимостей заказов, отфильтровав аномальные значения "
   ]
  },
  {
   "cell_type": "code",
   "execution_count": 58,
   "id": "abb020a9",
   "metadata": {},
   "outputs": [
    {
     "data": {
      "image/png": "[encoded data removed]",
      "text/plain": [
       "<Figure size 1600x500 with 1 Axes>"
      ]
     },
     "metadata": {},
     "output_type": "display_data"
    }
   ],
   "source": [
    "plt.figure(figsize=(16,5)) \n",
    "plt.grid()\n",
    "plt.title('Точечный график стоимостей заказов')\n",
    "plt.xlabel('Количество пользователей')\n",
    "plt.ylabel('Количество заказов')\n",
    "plt.ticklabel_format(style='plain') \n",
    "\n",
    "filtered_orders = df_orders.query('revenue <= 200000') \n",
    "x_values = pd.Series(range(0,len(filtered_orders))) \n",
    "plt.scatter(x_values, filtered_orders['revenue'], alpha = 0.5) \n",
    "plt.show()\n",
    "\n",
    "\n"
   ]
  },
  {
   "cell_type": "markdown",
   "id": "51f4aac6",
   "metadata": {},
   "source": [
    " Большинство заказов не дороже 20000 рублей. Можно заметить, что количество пользователей, совершающих заказ становится меньше с увеличением стоимости заказов."
   ]
  },
  {
   "cell_type": "markdown",
   "id": "0169b4bc",
   "metadata": {},
   "source": [
    "## 17 3.9  Посчитаем 95-й и 99-й перцентили стоимости заказов. Выберем границу для определения аномальных заказов. "
   ]
  },
  {
   "cell_type": "code",
   "execution_count": 59,
   "id": "a454d8dd",
   "metadata": {},
   "outputs": [
    {
     "name": "stdout",
     "output_type": "stream",
     "text": [
      "[28000.  58233.2]\n"
     ]
    }
   ],
   "source": [
    "print(np.percentile(df_orders['revenue'], [95,99])) "
   ]
  },
  {
   "cell_type": "markdown",
   "id": "282d3593",
   "metadata": {},
   "source": [
    "Видим, что у не более чем 5 % заказов чек превышает 28000 рублей и у не более чем 1 % заказов чек превышает 58233.2 рублей  "
   ]
  },
  {
   "cell_type": "markdown",
   "id": "17978323",
   "metadata": {},
   "source": [
    "За границу определения аномальных заказов выберем заказы, чек которых превышает 58233 рублей. "
   ]
  },
  {
   "cell_type": "markdown",
   "id": "7788d4a6",
   "metadata": {},
   "source": [
    "## 18 3.10 Посчитаем статистическую значимость различий в среднем количестве заказов на посетителя между группами по «сырым» данным. Сделаем выводы и предположения."
   ]
  },
  {
   "cell_type": "markdown",
   "id": "e7c0b459",
   "metadata": {},
   "source": [
    "Посчитаем статистическую значимость различий в среднем количестве заказов на посетителя между группами по 'сырым' данным. Подготовим данные."
   ]
  },
  {
   "cell_type": "code",
   "execution_count": 60,
   "id": "4e125ea7",
   "metadata": {},
   "outputs": [
    {
     "data": {
      "text/html": [
       "<div>\n",
       "<style scoped>\n",
       "    .dataframe tbody tr th:only-of-type {\n",
       "        vertical-align: middle;\n",
       "    }\n",
       "\n",
       "    .dataframe tbody tr th {\n",
       "        vertical-align: top;\n",
       "    }\n",
       "\n",
       "    .dataframe thead th {\n",
       "        text-align: right;\n",
       "    }\n",
       "</style>\n",
       "<table border=\"1\" class=\"dataframe\">\n",
       "  <thead>\n",
       "    <tr style=\"text-align: right;\">\n",
       "      <th></th>\n",
       "      <th>date</th>\n",
       "      <th>group</th>\n",
       "      <th>visitors</th>\n",
       "    </tr>\n",
       "  </thead>\n",
       "  <tbody>\n",
       "    <tr>\n",
       "      <th>21</th>\n",
       "      <td>2019-08-22</td>\n",
       "      <td>A</td>\n",
       "      <td>609</td>\n",
       "    </tr>\n",
       "    <tr>\n",
       "      <th>52</th>\n",
       "      <td>2019-08-22</td>\n",
       "      <td>B</td>\n",
       "      <td>650</td>\n",
       "    </tr>\n",
       "    <tr>\n",
       "      <th>38</th>\n",
       "      <td>2019-08-08</td>\n",
       "      <td>B</td>\n",
       "      <td>654</td>\n",
       "    </tr>\n",
       "    <tr>\n",
       "      <th>24</th>\n",
       "      <td>2019-08-25</td>\n",
       "      <td>A</td>\n",
       "      <td>621</td>\n",
       "    </tr>\n",
       "    <tr>\n",
       "      <th>2</th>\n",
       "      <td>2019-08-03</td>\n",
       "      <td>A</td>\n",
       "      <td>507</td>\n",
       "    </tr>\n",
       "    <tr>\n",
       "      <th>41</th>\n",
       "      <td>2019-08-11</td>\n",
       "      <td>B</td>\n",
       "      <td>721</td>\n",
       "    </tr>\n",
       "    <tr>\n",
       "      <th>60</th>\n",
       "      <td>2019-08-30</td>\n",
       "      <td>B</td>\n",
       "      <td>490</td>\n",
       "    </tr>\n",
       "    <tr>\n",
       "      <th>50</th>\n",
       "      <td>2019-08-20</td>\n",
       "      <td>B</td>\n",
       "      <td>560</td>\n",
       "    </tr>\n",
       "    <tr>\n",
       "      <th>35</th>\n",
       "      <td>2019-08-05</td>\n",
       "      <td>B</td>\n",
       "      <td>707</td>\n",
       "    </tr>\n",
       "    <tr>\n",
       "      <th>44</th>\n",
       "      <td>2019-08-14</td>\n",
       "      <td>B</td>\n",
       "      <td>746</td>\n",
       "    </tr>\n",
       "  </tbody>\n",
       "</table>\n",
       "</div>"
      ],
      "text/plain": [
       "         date group  visitors\n",
       "21 2019-08-22     A       609\n",
       "52 2019-08-22     B       650\n",
       "38 2019-08-08     B       654\n",
       "24 2019-08-25     A       621\n",
       "2  2019-08-03     A       507\n",
       "41 2019-08-11     B       721\n",
       "60 2019-08-30     B       490\n",
       "50 2019-08-20     B       560\n",
       "35 2019-08-05     B       707\n",
       "44 2019-08-14     B       746"
      ]
     },
     "execution_count": 60,
     "metadata": {},
     "output_type": "execute_result"
    }
   ],
   "source": [
    "# отберем случайным образом 10 строк\n",
    "df_visitors.sample(n=10, random_state =1)  "
   ]
  },
  {
   "cell_type": "code",
   "execution_count": 61,
   "id": "3232d984",
   "metadata": {},
   "outputs": [
    {
     "data": {
      "text/html": [
       "<div>\n",
       "<style scoped>\n",
       "    .dataframe tbody tr th:only-of-type {\n",
       "        vertical-align: middle;\n",
       "    }\n",
       "\n",
       "    .dataframe tbody tr th {\n",
       "        vertical-align: top;\n",
       "    }\n",
       "\n",
       "    .dataframe thead th {\n",
       "        text-align: right;\n",
       "    }\n",
       "</style>\n",
       "<table border=\"1\" class=\"dataframe\">\n",
       "  <thead>\n",
       "    <tr style=\"text-align: right;\">\n",
       "      <th></th>\n",
       "      <th>transaction_Id</th>\n",
       "      <th>visitor_Id</th>\n",
       "      <th>date</th>\n",
       "      <th>revenue</th>\n",
       "      <th>group</th>\n",
       "    </tr>\n",
       "  </thead>\n",
       "  <tbody>\n",
       "    <tr>\n",
       "      <th>886</th>\n",
       "      <td>51443164</td>\n",
       "      <td>4278982564</td>\n",
       "      <td>2019-08-05</td>\n",
       "      <td>24744</td>\n",
       "      <td>A</td>\n",
       "    </tr>\n",
       "    <tr>\n",
       "      <th>1093</th>\n",
       "      <td>3894437543</td>\n",
       "      <td>276558944</td>\n",
       "      <td>2019-08-12</td>\n",
       "      <td>5050</td>\n",
       "      <td>A</td>\n",
       "    </tr>\n",
       "    <tr>\n",
       "      <th>801</th>\n",
       "      <td>504373597</td>\n",
       "      <td>2604012846</td>\n",
       "      <td>2019-08-05</td>\n",
       "      <td>890</td>\n",
       "      <td>B</td>\n",
       "    </tr>\n",
       "    <tr>\n",
       "      <th>189</th>\n",
       "      <td>4189935502</td>\n",
       "      <td>1648269707</td>\n",
       "      <td>2019-08-17</td>\n",
       "      <td>290</td>\n",
       "      <td>B</td>\n",
       "    </tr>\n",
       "    <tr>\n",
       "      <th>808</th>\n",
       "      <td>2344401705</td>\n",
       "      <td>366673373</td>\n",
       "      <td>2019-08-05</td>\n",
       "      <td>1460</td>\n",
       "      <td>A</td>\n",
       "    </tr>\n",
       "    <tr>\n",
       "      <th>480</th>\n",
       "      <td>1954636284</td>\n",
       "      <td>2600415354</td>\n",
       "      <td>2019-08-06</td>\n",
       "      <td>1530</td>\n",
       "      <td>B</td>\n",
       "    </tr>\n",
       "    <tr>\n",
       "      <th>202</th>\n",
       "      <td>532398042</td>\n",
       "      <td>1306302251</td>\n",
       "      <td>2019-08-23</td>\n",
       "      <td>1498</td>\n",
       "      <td>A</td>\n",
       "    </tr>\n",
       "    <tr>\n",
       "      <th>311</th>\n",
       "      <td>3567356314</td>\n",
       "      <td>3077396270</td>\n",
       "      <td>2019-08-24</td>\n",
       "      <td>4195</td>\n",
       "      <td>B</td>\n",
       "    </tr>\n",
       "    <tr>\n",
       "      <th>866</th>\n",
       "      <td>707525727</td>\n",
       "      <td>1270030113</td>\n",
       "      <td>2019-08-30</td>\n",
       "      <td>3290</td>\n",
       "      <td>B</td>\n",
       "    </tr>\n",
       "    <tr>\n",
       "      <th>752</th>\n",
       "      <td>237002862</td>\n",
       "      <td>1398592185</td>\n",
       "      <td>2019-08-20</td>\n",
       "      <td>390</td>\n",
       "      <td>A</td>\n",
       "    </tr>\n",
       "  </tbody>\n",
       "</table>\n",
       "</div>"
      ],
      "text/plain": [
       "      transaction_Id  visitor_Id       date  revenue group\n",
       "886         51443164  4278982564 2019-08-05    24744     A\n",
       "1093      3894437543   276558944 2019-08-12     5050     A\n",
       "801        504373597  2604012846 2019-08-05      890     B\n",
       "189       4189935502  1648269707 2019-08-17      290     B\n",
       "808       2344401705   366673373 2019-08-05     1460     A\n",
       "480       1954636284  2600415354 2019-08-06     1530     B\n",
       "202        532398042  1306302251 2019-08-23     1498     A\n",
       "311       3567356314  3077396270 2019-08-24     4195     B\n",
       "866        707525727  1270030113 2019-08-30     3290     B\n",
       "752        237002862  1398592185 2019-08-20      390     A"
      ]
     },
     "execution_count": 61,
     "metadata": {},
     "output_type": "execute_result"
    }
   ],
   "source": [
    "# отберем случайным образом 10 строк\n",
    "df_orders.sample(n=10, random_state = 1)  "
   ]
  },
  {
   "cell_type": "code",
   "execution_count": 62,
   "id": "ddd7e32f",
   "metadata": {},
   "outputs": [],
   "source": [
    "visitorsADaily = df_visitors[df_visitors['group'] == 'A'][['date', 'visitors']]\n",
    "visitorsADaily.columns = ['date', 'visitorsPerDateA']\n",
    "\n",
    "visitorsACummulative = visitorsADaily.apply(\n",
    "    lambda x: visitorsADaily[visitorsADaily['date'] <= x['date']].agg(\n",
    "        {'date': 'max', 'visitorsPerDateA': 'sum'}), axis=1)\n",
    "\n",
    "visitorsACummulative.columns = ['date', 'visitorsCummulativeA'] \n",
    "\n",
    "visitorsBDaily = df_visitors[df_visitors['group'] == 'B'][['date', 'visitors']]\n",
    "visitorsBDaily.columns = ['date', 'visitorsPerDateB'] \n",
    "\n",
    "visitorsBCummulative = visitorsBDaily.apply(\n",
    "    lambda x: visitorsBDaily[visitorsBDaily['date'] <= x['date']].agg(\n",
    "        {'date': 'max', 'visitorsPerDateB': 'sum'}), axis = 1)\n",
    "\n",
    "visitorsBCummulative.columns = ['date', 'visitorsCummulativeB']\n",
    "\n",
    "\n"
   ]
  },
  {
   "cell_type": "code",
   "execution_count": 63,
   "id": "8a0b24ae",
   "metadata": {},
   "outputs": [],
   "source": [
    "ordersADaily = (\n",
    "    df_orders[df_orders['group'] == 'A'][['date', 'transaction_Id', 'visitor_Id','revenue']]\n",
    "    .groupby('date', as_index=False)\n",
    "    .agg({'transaction_Id': pd.Series.nunique, 'revenue': 'sum'})) \n",
    "\n",
    "ordersADaily.columns = ['date', 'ordersPerDateA', 'revenuePerDateA']\n",
    "\n",
    "\n",
    "ordersACummulative = ordersADaily.apply(\n",
    "    lambda x: ordersADaily[ordersADaily['date'] <= x['date']].agg(\n",
    "        {'date': 'max', 'ordersPerDateA': 'sum', 'revenuePerDateA': 'sum'}), axis = 1) .sort_values(by=['date'])\n",
    "\n",
    "ordersACummulative.columns = ['date','ordersCummulativeA','revenueCummulativeA']\n",
    "\n",
    "ordersBDaily = (\n",
    "    df_orders[df_orders['group'] == 'B'][['date', 'transaction_Id', 'visitor_Id', 'revenue']]\n",
    "    .groupby('date', as_index=False)\n",
    "    .agg({'transaction_Id': pd.Series.nunique, 'revenue': 'sum'}))\n",
    "\n",
    "ordersBDaily.columns = ['date', 'ordersPerDateB', 'revenuePerDateB']\n",
    "\n",
    "ordersBCummulative = ordersBDaily.apply( \n",
    "      lambda x: ordersBDaily[ordersBDaily['date'] <= x['date']].agg(\n",
    "         {'date': 'max', 'ordersPerDateB' : 'sum', 'revenuePerDateB': 'sum'}), axis = 1).sort_values(by=['date'])\n",
    "\n",
    "\n",
    "ordersBCummulative.columns = ['date','ordersCummulativeB','revenueCummulativeB']\n",
    "\n"
   ]
  },
  {
   "cell_type": "code",
   "execution_count": 64,
   "id": "8460f077",
   "metadata": {},
   "outputs": [],
   "source": [
    "data = (\n",
    "    ordersADaily.merge(\n",
    "        ordersBDaily, left_on='date', right_on='date', how='left'\n",
    "    )\n",
    "    .merge(ordersACummulative, left_on='date', right_on='date', how='left')\n",
    "    .merge(ordersBCummulative, left_on='date', right_on='date', how='left')\n",
    "    .merge(visitorsADaily, left_on='date', right_on='date', how='left')\n",
    "    .merge(visitorsBDaily, left_on='date', right_on='date', how='left')\n",
    "    .merge(visitorsACummulative, left_on='date', right_on='date', how='left')\n",
    "    .merge(visitorsBCummulative, left_on='date', right_on='date', how='left')\n",
    ")\n"
   ]
  },
  {
   "cell_type": "code",
   "execution_count": 65,
   "id": "ddb5b30c",
   "metadata": {},
   "outputs": [
    {
     "data": {
      "text/html": [
       "<div>\n",
       "<style scoped>\n",
       "    .dataframe tbody tr th:only-of-type {\n",
       "        vertical-align: middle;\n",
       "    }\n",
       "\n",
       "    .dataframe tbody tr th {\n",
       "        vertical-align: top;\n",
       "    }\n",
       "\n",
       "    .dataframe thead th {\n",
       "        text-align: right;\n",
       "    }\n",
       "</style>\n",
       "<table border=\"1\" class=\"dataframe\">\n",
       "  <thead>\n",
       "    <tr style=\"text-align: right;\">\n",
       "      <th></th>\n",
       "      <th>date</th>\n",
       "      <th>ordersPerDateA</th>\n",
       "      <th>revenuePerDateA</th>\n",
       "      <th>ordersPerDateB</th>\n",
       "      <th>revenuePerDateB</th>\n",
       "      <th>ordersCummulativeA</th>\n",
       "      <th>revenueCummulativeA</th>\n",
       "      <th>ordersCummulativeB</th>\n",
       "      <th>revenueCummulativeB</th>\n",
       "      <th>visitorsPerDateA</th>\n",
       "      <th>visitorsPerDateB</th>\n",
       "      <th>visitorsCummulativeA</th>\n",
       "      <th>visitorsCummulativeB</th>\n",
       "    </tr>\n",
       "  </thead>\n",
       "  <tbody>\n",
       "    <tr>\n",
       "      <th>0</th>\n",
       "      <td>2019-08-01</td>\n",
       "      <td>24</td>\n",
       "      <td>148579</td>\n",
       "      <td>21</td>\n",
       "      <td>101217</td>\n",
       "      <td>24</td>\n",
       "      <td>148579</td>\n",
       "      <td>21</td>\n",
       "      <td>101217</td>\n",
       "      <td>719</td>\n",
       "      <td>713</td>\n",
       "      <td>719</td>\n",
       "      <td>713</td>\n",
       "    </tr>\n",
       "    <tr>\n",
       "      <th>1</th>\n",
       "      <td>2019-08-02</td>\n",
       "      <td>20</td>\n",
       "      <td>93822</td>\n",
       "      <td>24</td>\n",
       "      <td>165531</td>\n",
       "      <td>44</td>\n",
       "      <td>242401</td>\n",
       "      <td>45</td>\n",
       "      <td>266748</td>\n",
       "      <td>619</td>\n",
       "      <td>581</td>\n",
       "      <td>1338</td>\n",
       "      <td>1294</td>\n",
       "    </tr>\n",
       "    <tr>\n",
       "      <th>2</th>\n",
       "      <td>2019-08-03</td>\n",
       "      <td>24</td>\n",
       "      <td>112473</td>\n",
       "      <td>16</td>\n",
       "      <td>114248</td>\n",
       "      <td>68</td>\n",
       "      <td>354874</td>\n",
       "      <td>61</td>\n",
       "      <td>380996</td>\n",
       "      <td>507</td>\n",
       "      <td>509</td>\n",
       "      <td>1845</td>\n",
       "      <td>1803</td>\n",
       "    </tr>\n",
       "    <tr>\n",
       "      <th>3</th>\n",
       "      <td>2019-08-04</td>\n",
       "      <td>16</td>\n",
       "      <td>70825</td>\n",
       "      <td>17</td>\n",
       "      <td>108571</td>\n",
       "      <td>84</td>\n",
       "      <td>425699</td>\n",
       "      <td>78</td>\n",
       "      <td>489567</td>\n",
       "      <td>717</td>\n",
       "      <td>770</td>\n",
       "      <td>2562</td>\n",
       "      <td>2573</td>\n",
       "    </tr>\n",
       "    <tr>\n",
       "      <th>4</th>\n",
       "      <td>2019-08-05</td>\n",
       "      <td>25</td>\n",
       "      <td>124218</td>\n",
       "      <td>23</td>\n",
       "      <td>92428</td>\n",
       "      <td>109</td>\n",
       "      <td>549917</td>\n",
       "      <td>101</td>\n",
       "      <td>581995</td>\n",
       "      <td>756</td>\n",
       "      <td>707</td>\n",
       "      <td>3318</td>\n",
       "      <td>3280</td>\n",
       "    </tr>\n",
       "    <tr>\n",
       "      <th>5</th>\n",
       "      <td>2019-08-06</td>\n",
       "      <td>18</td>\n",
       "      <td>48484</td>\n",
       "      <td>28</td>\n",
       "      <td>242342</td>\n",
       "      <td>127</td>\n",
       "      <td>598401</td>\n",
       "      <td>129</td>\n",
       "      <td>824337</td>\n",
       "      <td>667</td>\n",
       "      <td>655</td>\n",
       "      <td>3985</td>\n",
       "      <td>3935</td>\n",
       "    </tr>\n",
       "    <tr>\n",
       "      <th>6</th>\n",
       "      <td>2019-08-07</td>\n",
       "      <td>18</td>\n",
       "      <td>142417</td>\n",
       "      <td>24</td>\n",
       "      <td>225334</td>\n",
       "      <td>145</td>\n",
       "      <td>740818</td>\n",
       "      <td>153</td>\n",
       "      <td>1049671</td>\n",
       "      <td>644</td>\n",
       "      <td>709</td>\n",
       "      <td>4629</td>\n",
       "      <td>4644</td>\n",
       "    </tr>\n",
       "    <tr>\n",
       "      <th>7</th>\n",
       "      <td>2019-08-08</td>\n",
       "      <td>16</td>\n",
       "      <td>96279</td>\n",
       "      <td>27</td>\n",
       "      <td>220918</td>\n",
       "      <td>161</td>\n",
       "      <td>837097</td>\n",
       "      <td>180</td>\n",
       "      <td>1270589</td>\n",
       "      <td>610</td>\n",
       "      <td>654</td>\n",
       "      <td>5239</td>\n",
       "      <td>5298</td>\n",
       "    </tr>\n",
       "    <tr>\n",
       "      <th>8</th>\n",
       "      <td>2019-08-09</td>\n",
       "      <td>16</td>\n",
       "      <td>188506</td>\n",
       "      <td>25</td>\n",
       "      <td>160812</td>\n",
       "      <td>177</td>\n",
       "      <td>1025603</td>\n",
       "      <td>205</td>\n",
       "      <td>1431401</td>\n",
       "      <td>617</td>\n",
       "      <td>610</td>\n",
       "      <td>5856</td>\n",
       "      <td>5908</td>\n",
       "    </tr>\n",
       "    <tr>\n",
       "      <th>9</th>\n",
       "      <td>2019-08-10</td>\n",
       "      <td>16</td>\n",
       "      <td>210495</td>\n",
       "      <td>23</td>\n",
       "      <td>107802</td>\n",
       "      <td>193</td>\n",
       "      <td>1236098</td>\n",
       "      <td>228</td>\n",
       "      <td>1539203</td>\n",
       "      <td>406</td>\n",
       "      <td>369</td>\n",
       "      <td>6262</td>\n",
       "      <td>6277</td>\n",
       "    </tr>\n",
       "  </tbody>\n",
       "</table>\n",
       "</div>"
      ],
      "text/plain": [
       "        date  ordersPerDateA  revenuePerDateA  ordersPerDateB  \\\n",
       "0 2019-08-01              24           148579              21   \n",
       "1 2019-08-02              20            93822              24   \n",
       "2 2019-08-03              24           112473              16   \n",
       "3 2019-08-04              16            70825              17   \n",
       "4 2019-08-05              25           124218              23   \n",
       "5 2019-08-06              18            48484              28   \n",
       "6 2019-08-07              18           142417              24   \n",
       "7 2019-08-08              16            96279              27   \n",
       "8 2019-08-09              16           188506              25   \n",
       "9 2019-08-10              16           210495              23   \n",
       "\n",
       "   revenuePerDateB  ordersCummulativeA  revenueCummulativeA  \\\n",
       "0           101217                  24               148579   \n",
       "1           165531                  44               242401   \n",
       "2           114248                  68               354874   \n",
       "3           108571                  84               425699   \n",
       "4            92428                 109               549917   \n",
       "5           242342                 127               598401   \n",
       "6           225334                 145               740818   \n",
       "7           220918                 161               837097   \n",
       "8           160812                 177              1025603   \n",
       "9           107802                 193              1236098   \n",
       "\n",
       "   ordersCummulativeB  revenueCummulativeB  visitorsPerDateA  \\\n",
       "0                  21               101217               719   \n",
       "1                  45               266748               619   \n",
       "2                  61               380996               507   \n",
       "3                  78               489567               717   \n",
       "4                 101               581995               756   \n",
       "5                 129               824337               667   \n",
       "6                 153              1049671               644   \n",
       "7                 180              1270589               610   \n",
       "8                 205              1431401               617   \n",
       "9                 228              1539203               406   \n",
       "\n",
       "   visitorsPerDateB  visitorsCummulativeA  visitorsCummulativeB  \n",
       "0               713                   719                   713  \n",
       "1               581                  1338                  1294  \n",
       "2               509                  1845                  1803  \n",
       "3               770                  2562                  2573  \n",
       "4               707                  3318                  3280  \n",
       "5               655                  3985                  3935  \n",
       "6               709                  4629                  4644  \n",
       "7               654                  5239                  5298  \n",
       "8               610                  5856                  5908  \n",
       "9               369                  6262                  6277  "
      ]
     },
     "execution_count": 65,
     "metadata": {},
     "output_type": "execute_result"
    }
   ],
   "source": [
    "# выведем первые 10 строк нового датафрейма data\n",
    "data.head(10)"
   ]
  },
  {
   "cell_type": "markdown",
   "id": "71950b0c",
   "metadata": {},
   "source": [
    "    Напомним названия столбцов данных: \n",
    "        \n",
    "    * date — дата;\n",
    "    * ordersPerDateA — количество заказов в выбранную дату в группе A;\n",
    "    * revenuePerDateA — суммарная выручка в выбранную дату в группе A;\n",
    "    * ordersPerDateB — количество заказов в выбранную дату в группе B;\n",
    "    * revenuePerDateB — суммарная выручка в выбранную дату в группе B;\n",
    "    * ordersCummulativeA — суммарное число заказов до выбранной даты включительно в группе A;\n",
    "    * revenueCummulativeA — суммарная выручка до выбранной даты включительно в группе A;\n",
    "    * ordersCummulativeB — суммарное количество заказов до выбранной даты включительно в группе B;\n",
    "    * revenueCummulativeB — суммарная выручка до выбранной даты включительно в группе B;\n",
    "    * visitorsPerDateA — количество пользователей в выбранную дату в группе A;\n",
    "    * visitorsPerDateB — количество пользователей в выбранную дату в группе B;\n",
    "    * visitorsCummulativeA  — количество пользователей до выбранной даты включительно в группе A;\n",
    "    * visitorsCummulativeB — количество пользователей до выбранной даты включительно в группе B."
   ]
  },
  {
   "cell_type": "markdown",
   "id": "d4bd2ffd",
   "metadata": {},
   "source": [
    "Теперь посчитаем статистическую значимость различия в среднем количестве заказов между группами.  "
   ]
  },
  {
   "cell_type": "markdown",
   "id": "5939fbcf",
   "metadata": {},
   "source": [
    "Создадим переменные ordersByUsersA и ordersByUsersB со столбцами ['user_Id', 'orders']. В них для пользователей, которые заказывали хотя бы 1 раз, укажем число совершенных заказов. "
   ]
  },
  {
   "cell_type": "code",
   "execution_count": 66,
   "id": "da5004eb",
   "metadata": {},
   "outputs": [
    {
     "data": {
      "text/html": [
       "<div>\n",
       "<style scoped>\n",
       "    .dataframe tbody tr th:only-of-type {\n",
       "        vertical-align: middle;\n",
       "    }\n",
       "\n",
       "    .dataframe tbody tr th {\n",
       "        vertical-align: top;\n",
       "    }\n",
       "\n",
       "    .dataframe thead th {\n",
       "        text-align: right;\n",
       "    }\n",
       "</style>\n",
       "<table border=\"1\" class=\"dataframe\">\n",
       "  <thead>\n",
       "    <tr style=\"text-align: right;\">\n",
       "      <th></th>\n",
       "      <th>user_Id</th>\n",
       "      <th>orders</th>\n",
       "    </tr>\n",
       "  </thead>\n",
       "  <tbody>\n",
       "    <tr>\n",
       "      <th>0</th>\n",
       "      <td>8300375</td>\n",
       "      <td>1</td>\n",
       "    </tr>\n",
       "    <tr>\n",
       "      <th>1</th>\n",
       "      <td>11685486</td>\n",
       "      <td>1</td>\n",
       "    </tr>\n",
       "    <tr>\n",
       "      <th>2</th>\n",
       "      <td>54447517</td>\n",
       "      <td>1</td>\n",
       "    </tr>\n",
       "    <tr>\n",
       "      <th>3</th>\n",
       "      <td>66685450</td>\n",
       "      <td>1</td>\n",
       "    </tr>\n",
       "    <tr>\n",
       "      <th>4</th>\n",
       "      <td>78758296</td>\n",
       "      <td>1</td>\n",
       "    </tr>\n",
       "  </tbody>\n",
       "</table>\n",
       "</div>"
      ],
      "text/plain": [
       "    user_Id  orders\n",
       "0   8300375       1\n",
       "1  11685486       1\n",
       "2  54447517       1\n",
       "3  66685450       1\n",
       "4  78758296       1"
      ]
     },
     "execution_count": 66,
     "metadata": {},
     "output_type": "execute_result"
    }
   ],
   "source": [
    "ordersByUsersA = (df_orders[df_orders['group'] == 'A'].groupby('visitor_Id', as_index=False)\n",
    "                  .agg({'transaction_Id': pd.Series.nunique}))\n",
    "ordersByUsersA.columns = ['user_Id', 'orders'] \n",
    "ordersByUsersA.head() "
   ]
  },
  {
   "cell_type": "code",
   "execution_count": 67,
   "id": "6a060122",
   "metadata": {},
   "outputs": [
    {
     "data": {
      "text/html": [
       "<div>\n",
       "<style scoped>\n",
       "    .dataframe tbody tr th:only-of-type {\n",
       "        vertical-align: middle;\n",
       "    }\n",
       "\n",
       "    .dataframe tbody tr th {\n",
       "        vertical-align: top;\n",
       "    }\n",
       "\n",
       "    .dataframe thead th {\n",
       "        text-align: right;\n",
       "    }\n",
       "</style>\n",
       "<table border=\"1\" class=\"dataframe\">\n",
       "  <thead>\n",
       "    <tr style=\"text-align: right;\">\n",
       "      <th></th>\n",
       "      <th>user_Id</th>\n",
       "      <th>orders</th>\n",
       "    </tr>\n",
       "  </thead>\n",
       "  <tbody>\n",
       "    <tr>\n",
       "      <th>0</th>\n",
       "      <td>5114589</td>\n",
       "      <td>1</td>\n",
       "    </tr>\n",
       "    <tr>\n",
       "      <th>1</th>\n",
       "      <td>6958315</td>\n",
       "      <td>1</td>\n",
       "    </tr>\n",
       "    <tr>\n",
       "      <th>2</th>\n",
       "      <td>8300375</td>\n",
       "      <td>1</td>\n",
       "    </tr>\n",
       "    <tr>\n",
       "      <th>3</th>\n",
       "      <td>39475350</td>\n",
       "      <td>1</td>\n",
       "    </tr>\n",
       "    <tr>\n",
       "      <th>4</th>\n",
       "      <td>47206413</td>\n",
       "      <td>1</td>\n",
       "    </tr>\n",
       "  </tbody>\n",
       "</table>\n",
       "</div>"
      ],
      "text/plain": [
       "    user_Id  orders\n",
       "0   5114589       1\n",
       "1   6958315       1\n",
       "2   8300375       1\n",
       "3  39475350       1\n",
       "4  47206413       1"
      ]
     },
     "execution_count": 67,
     "metadata": {},
     "output_type": "execute_result"
    }
   ],
   "source": [
    "\n",
    "ordersByUsersB = (df_orders[df_orders['group'] == 'B'].groupby('visitor_Id', as_index=False)\n",
    "                  .agg({'transaction_Id': pd.Series.nunique})) \n",
    "\n",
    "ordersByUsersB.columns = ['user_Id', 'orders'] \n",
    "ordersByUsersB.head()"
   ]
  },
  {
   "cell_type": "markdown",
   "id": "6a8e5c8e",
   "metadata": {},
   "source": [
    "     Объявим переменные sampleA и sampleB, в которых пользователям из разных групп будет соответствовать количество заказов. Тем, кто ничего не заказал, будут соответствовать нули. Это необходимо,  чтобы подготовить выборки к проверке критерием Манна-Уитни."
   ]
  },
  {
   "cell_type": "code",
   "execution_count": 68,
   "id": "c51e5c29",
   "metadata": {},
   "outputs": [],
   "source": [
    "sampleA = pd.concat([ordersByUsersA['orders'], pd.Series(0, index = np.arange(data['visitorsPerDateA'].sum() \n",
    "                    - len(ordersByUsersA['orders'])), name ='orders')], axis = 0)\n",
    "\n",
    "sampleB = pd.concat([ordersByUsersB['orders'], pd.Series(0, index = np.arange(data['visitorsPerDateB'].sum() \n",
    "                    - len(ordersByUsersB['orders'])), name ='orders')], axis = 0)\n",
    "\n",
    " "
   ]
  },
  {
   "cell_type": "markdown",
   "id": "267ee80b",
   "metadata": {},
   "source": [
    "Сформулируем гипотезы.\n",
    "\n",
    "Нулевая H0 - статистически значимых  различий  в среднем количестве заказов между группами нет\n",
    "\n",
    "Альтернативная H1 - статистически значимые  различия в среднем количестве заказов  между группами есть \n",
    "\n",
    "В качестве уровня статистической значимости alpha примем значение 0.05"
   ]
  },
  {
   "cell_type": "code",
   "execution_count": 69,
   "id": "d881b583",
   "metadata": {},
   "outputs": [
    {
     "name": "stdout",
     "output_type": "stream",
     "text": [
      "p_value: = 0.017\n",
      "Относительный прирост группы B по отношению к группе A: = 0.138\n"
     ]
    }
   ],
   "source": [
    "# Применим критерий и отформатируем p-value, округлив его до трёх знаков после запятой \n",
    "\n",
    "# уровень статистической значимости \n",
    "\n",
    "alpha = 0.05 \n",
    "\n",
    "print('p_value: = {0:.3f}'.format(stats.mannwhitneyu(sampleA, sampleB, alternative = 'two-sided')[1])) \n",
    "print('Относительный прирост группы B по отношению к группе A: = {0:.3f}'.format(sampleB.mean() / sampleA.mean() - 1))"
   ]
  },
  {
   "cell_type": "markdown",
   "id": "15d731b5",
   "metadata": {},
   "source": [
    "      Первое число - p_value = 0.017 меньше 0.05.  Значит, на уровне статистической значимости 5 % есть основания отвергнуть нулевую гипотезу о том, что статистически значимых различий в среднем количестве заказов между группами нет в пользу альтернативы. Таким образом принимаем альтернативную гипотезу: между группами A и B есть статистически значимые различия в среднем количестве заказов.\n",
    "      Относительный выигрыш группы B равен 13.8 % - второе число в выводе. "
   ]
  },
  {
   "cell_type": "markdown",
   "id": "4dc23607",
   "metadata": {},
   "source": [
    "## 19 3.11 Посчитаем статистическую значимость различий в среднем чеке заказа между группами по «сырым» данным. Сделаем выводы и предположения."
   ]
  },
  {
   "cell_type": "markdown",
   "id": "6369825d",
   "metadata": {},
   "source": [
    "Теперь проверим статистическую значимость различий в среднем чеке между группами A и B.\n",
    "\n",
    "Cформулируем гипотезы.\n",
    "\n",
    "Нулевая гипотеза (H0): 'статиcтически значимых различий в среднем чеке между группами нет'\n",
    "\n",
    "Альтернативная гипотеза (H1) : ' есть статистически значимые различия в среднем чеке между группами'\n",
    "\n",
    "В качестве уровня статистической значимости alpha примем значение 0.05"
   ]
  },
  {
   "cell_type": "markdown",
   "id": "5809f6c2",
   "metadata": {},
   "source": [
    "Чтобы рассчитать статистическую значимость различий в среднем чеке, передадим критерию mannwhitneyu() данные о выручке с заказов. \n",
    "А ещё найдём относительные различия в среднем чеке между группами:"
   ]
  },
  {
   "cell_type": "code",
   "execution_count": 70,
   "id": "4200aec3",
   "metadata": {},
   "outputs": [
    {
     "name": "stdout",
     "output_type": "stream",
     "text": [
      "p_value: = 0.729\n",
      "Относительное различие в среднем чеке между группами: = 0.259\n"
     ]
    }
   ],
   "source": [
    "# Применим критерий и отформатируем p-value, округлив его до трёх знаков после запятой  \n",
    "\n",
    "# уровень статистической значимости \n",
    "\n",
    "alpha = 0.05 \n",
    "\n",
    "print('p_value: = {0:.3f}'.format(stats.mannwhitneyu(df_orders[df_orders['group']=='A']['revenue'], df_orders[df_orders['group']=='B']['revenue'])[1]))\n",
    "print('Относительное различие в среднем чеке между группами: = {0:.3f}'.format(df_orders[df_orders['group'] == 'B']['revenue'].mean()/ df_orders[df_orders['group'] =='A']['revenue'].mean()-1))"
   ]
  },
  {
   "cell_type": "markdown",
   "id": "b50c8de6",
   "metadata": {},
   "source": [
    "Первое число в выводе - 0.729 . P_value значительно превышает 0.05.  \n",
    "Следовательно, на уровне статистической значимости 5 % причин отвергать нулевую гипотезу в пользу альтернативы нет. Таким образом, статитистически значимых различий в среднем чеке между группами нет. Второе число в выводе - 0.259. Средний чек группы B превышает средний чек группы A на 26 %. "
   ]
  },
  {
   "cell_type": "markdown",
   "id": "83974cba",
   "metadata": {},
   "source": [
    "##  20 3.12   Посчитаем статистическую значимость различий в среднем количестве заказов на посетителя между группами по «очищенным» данным. Сделаем выводы и предположения.  "
   ]
  },
  {
   "cell_type": "markdown",
   "id": "44f72055",
   "metadata": {},
   "source": [
    " Приступим к подготовке очищенных от аномалий данных. В прошлых  шагах исследования мы определили, что 95-й и 99-й перцентили средних чеков равны 28000 и 58233 рублям. Аналогично 95-й и 99-й перцентили количества заказов на одного пользователя равны 2 и 4 заказа на пользователя. \n",
    " \n",
    " Примем за аномальных пользователей тех, кто совершил от 4 заказов или совершил заказ дороже 58233 рублей. \n",
    " \n",
    "   Сделаем срезы пользователей с числом заказов больше 4 — usersWithManyOrders и пользователей, совершивших заказы дороже 58 233 — usersWithExpensiveOrders. Объединим их в таблице abnormalUsers. "
   ]
  },
  {
   "cell_type": "code",
   "execution_count": 71,
   "id": "a4582b91",
   "metadata": {},
   "outputs": [
    {
     "name": "stdout",
     "output_type": "stream",
     "text": [
      "1099     148427295\n",
      "949      887908475\n",
      "744      888512513\n",
      "1103    1164614297\n",
      "1136    1307669133\n",
      "dtype: int64\n",
      "15\n"
     ]
    }
   ],
   "source": [
    " # Узнаем сколько всего аномальных пользователей атрибутом shape: \n",
    "    \n",
    "usersWithManyOrders = pd.concat(\n",
    "           [ordersByUsersA[ordersByUsersA['orders'] > (np.percentile(ordersByUsers['orders'], 99))]['user_Id'], \n",
    "            ordersByUsersB[ordersByUsersB['orders'] > (np.percentile(ordersByUsers['orders'], 99))]['user_Id'],\n",
    "                               \n",
    "           ],axis=0,\n",
    "        ) \n",
    "    \n",
    "usersWithExpensiveOrders = df_orders[df_orders['revenue'] > (np.percentile(df_orders['revenue'], 99))]['visitor_Id'] \n",
    "abnormalUsers = (pd.concat([usersWithManyOrders, usersWithExpensiveOrders], axis = 0)\n",
    "                    .drop_duplicates().sort_values()) \n",
    "\n",
    "\n",
    "print(abnormalUsers.head(5))\n",
    "print(abnormalUsers.shape[0]) \n",
    "            \n"
   ]
  },
  {
   "cell_type": "markdown",
   "id": "3411847b",
   "metadata": {},
   "source": [
    "Всего 15 аномальных пользователей. Узнаем, как их действия повлияли на результаты теста. \n",
    "\n",
    "Посчитаем статистическую значимость различий в среднем количестве заказов между группами теста по очищенным данным. Сначала подготовим выборки количества заказов по пользователям по группам теста: "
   ]
  },
  {
   "cell_type": "code",
   "execution_count": 72,
   "id": "a06d0cc3",
   "metadata": {},
   "outputs": [],
   "source": [
    "sampleAFiltered = pd.concat( \n",
    "    [ ordersByUsersA[np.logical_not(ordersByUsersA['user_Id'].isin(abnormalUsers))]['orders'], \n",
    "    pd.Series(0, index = np.arange(data['visitorsPerDateA'].sum() - len(ordersByUsersA['orders'])), name = 'orders',),\n",
    "    ], axis=0,) \n",
    "\n",
    "\n",
    "sampleBFiltered = pd.concat( \n",
    "    [ ordersByUsersB[np.logical_not(ordersByUsersB['user_Id'].isin(abnormalUsers))]['orders'], \n",
    "    pd.Series(0, index = np.arange(data['visitorsPerDateB'].sum() - len(ordersByUsersB['orders'])), name = 'orders',),\n",
    "    ], axis=0,) \n",
    "\n"
   ]
  },
  {
   "cell_type": "markdown",
   "id": "92983a10",
   "metadata": {},
   "source": [
    "Сформулируем гипотезы.\n",
    "\n",
    "Нулевая H0 - статистически значимых различий в среднем количестве заказов между группами нет\n",
    "\n",
    "Альтернативная H1 - статистически значимые различия в среднем количестве заказов между группами есть"
   ]
  },
  {
   "cell_type": "markdown",
   "id": "d91aa34c",
   "metadata": {},
   "source": [
    "Применим статистический критерий Манна-Уитни к полученным выборкам: "
   ]
  },
  {
   "cell_type": "code",
   "execution_count": 73,
   "id": "93e8c0fb",
   "metadata": {},
   "outputs": [
    {
     "name": "stdout",
     "output_type": "stream",
     "text": [
      "alpha =  0.05\n",
      "p_value: = 0.014\n",
      "Относительный прирост группы B по отношению к группе A: = 0.153\n"
     ]
    }
   ],
   "source": [
    "print('alpha = ', 0.05)\n",
    "print('p_value: = {0:.3f}'.format(stats.mannwhitneyu(sampleAFiltered, sampleBFiltered, alternative = 'two-sided')[1])) \n",
    "print('Относительный прирост группы B по отношению к группе A: = {0:.3f}'.format(sampleBFiltered.mean()/sampleAFiltered.mean()-1))"
   ]
  },
  {
   "cell_type": "markdown",
   "id": "c93a1664",
   "metadata": {},
   "source": [
    "Первое число в выводе - 0.05. Это уровень статистической значимости alpha. \n",
    "\n",
    "Второе число в выводе p_value = 0.014 меньше 0.05. Следовательно, на уровне статистической значимости 5 %  есть основания отвергнуть нулевую гипотезу в пользу альтернативы. Таким образом, есть статистически значимые различия в среднем количестве заказов между группами. \n",
    "\n",
    "Третье число в выводе - 0.153. Это значит, что относительный прирост группы B по отношению к группе A составил 15.3 %. Это выше данного показателя с 'сырыми' данными(13.8 %)."
   ]
  },
  {
   "cell_type": "markdown",
   "id": "ae793fff",
   "metadata": {},
   "source": [
    "## 21 3.13  Посчитаем статистическую значимость различий в среднем чеке заказа между группами по «очищенным» данным. Сделаем выводы и предположения."
   ]
  },
  {
   "cell_type": "markdown",
   "id": "dfa4ad90",
   "metadata": {},
   "source": [
    "Приступим к подготовке очищенных от аномалий данных. Сформулируем гипотезы: \n",
    "    \n",
    "Нулевая гипотеза (Н0): \"статистически значимых различий в среднем чеке заказа между группами нет\"\n",
    "\n",
    "Альтернативная гипотеза: (H1): \"статистически значимые различия в среднем чеке заказа между группами есть\" \n",
    "        "
   ]
  },
  {
   "cell_type": "code",
   "execution_count": 74,
   "id": "435a07d7",
   "metadata": {},
   "outputs": [
    {
     "name": "stdout",
     "output_type": "stream",
     "text": [
      "alpha = 0.05\n",
      "p_value = 0.851\n",
      "Относительный прирост группы B по отношению к группе A: = -0.006\n"
     ]
    }
   ],
   "source": [
    "# Применим статистический критерий Манна-Уитни к полученным выборкам \n",
    "\n",
    "print('alpha =', 0.05) \n",
    "print('p_value = {0:.3f}'.format(stats.mannwhitneyu(df_orders[np.logical_and(df_orders['group'] == 'A',\n",
    "                                 np.logical_not(df_orders['visitor_Id'].isin(abnormalUsers)),\n",
    "                         )]['revenue'], df_orders[np.logical_and(df_orders['group'] == 'B', \n",
    "                         np.logical_not(df_orders['visitor_Id'].isin(abnormalUsers)), \n",
    "                         )]['revenue'], )[1]))\n",
    "print('Относительный прирост группы B по отношению к группе A: = {0:.3f}'.format(df_orders[np.logical_and(df_orders['group'] =='B' \n",
    "     ,np.logical_not(df_orders['visitor_Id'].isin(abnormalUsers)), \n",
    "     )]['revenue'].mean()/df_orders[np.logical_and(df_orders['group'] == 'A', np.logical_not(df_orders['visitor_Id']\n",
    "     .isin(abnormalUsers)),)]['revenue'].mean() -1))"
   ]
  },
  {
   "cell_type": "markdown",
   "id": "8115f6a3",
   "metadata": {},
   "source": [
    "Получившееся значение p_value > alpha (0.851 > 0.05). Следовательно, на уровне статистической значимости 5 % нет оснований отвергать нулевую гипотезу в пользу альтернативы. \n",
    "\n",
    "Таким образом, статистически значимых различий в среднем чеке между группами нет. \n",
    "После 'очищенных данных' cредний чек группы B оказался ниже среднего чека группы A на 0.6 %.  По 'сырым' же данным средний чек группы B превышал средний чек группы A на 26 %. Видим, что на результаты теста огромное влияние оказывают аномальные заказы с большими суммами."
   ]
  },
  {
   "cell_type": "markdown",
   "id": "c7ac2c54",
   "metadata": {},
   "source": [
    "## 22 3.14 Примем решение по результатам теста и объясним его. Варианты решений:\n",
    "1. Остановить тест, зафиксировать победу одной из групп.\n",
    "2. Остановить тест, зафиксировать отсутствие различий между группами.\n",
    "3. Продолжить тест."
   ]
  },
  {
   "cell_type": "markdown",
   "id": "d6c09f83",
   "metadata": {},
   "source": [
    "Имеющиеся факты: \n",
    "\n",
    "  1)  есть статистически значимые различия по среднему количеству заказов между группами как по «сырым», так и  по данным после фильтрации аномалий; \n",
    "  \n",
    "  2)  нет статистически значимого различия по среднему чеку между группами ни по «сырым», ни по данным после фильтрации аномалий; "
   ]
  },
  {
   "cell_type": "markdown",
   "id": "9879af4c",
   "metadata": {},
   "source": [
    " Среднее количество заказов группы B по отношению к группе A на 13.8 % выше по \"сырым\" данным и на 15.3 % выше по \"очищенным\" данным. \n",
    "\n",
    " Средние чеки групп A И B по 'очищенным' данным равны. \n",
    " \n",
    " Принимая во внимание результаты проведенного A/B теста, рекомендую остановить тест и зафиксировать победу группы B. \n",
    " Отделу маркетинга  следует поработать над возможным увеличением среднего чека. "
   ]
  }
 ],
 "metadata": {
  "kernelspec": {
   "display_name": "Python 3 (ipykernel)",
   "language": "python",
   "name": "python3"
  },
  "language_info": {
   "codemirror_mode": {
    "name": "ipython",
    "version": 3
   },
   "file_extension": ".py",
   "mimetype": "text/x-python",
   "name": "python",
   "nbconvert_exporter": "python",
   "pygments_lexer": "ipython3",
   "version": "3.10.9"
  }
 },
 "nbformat": 4,
 "nbformat_minor": 5
}
