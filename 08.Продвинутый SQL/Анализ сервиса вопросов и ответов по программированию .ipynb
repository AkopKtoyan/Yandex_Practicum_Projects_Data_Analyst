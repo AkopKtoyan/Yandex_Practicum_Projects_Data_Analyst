{
 "cells": [
  {
   "cell_type": "markdown",
   "id": "4991c2b3",
   "metadata": {},
   "source": [
    "\n",
    "# Исследование базы данных StackOverflow "
   ]
  },
  {
   "cell_type": "markdown",
   "id": "4cd6dabe",
   "metadata": {},
   "source": [
    "##  Исходные данные "
   ]
  },
  {
   "cell_type": "markdown",
   "id": "0bd04cf2",
   "metadata": {},
   "source": [
    " Самостоятельная работа основана на базе данных  StackOverflow — сервиса вопросов и ответов о программировании. \n",
    " Мы будем работать с версией базы, где хранятся данные о постах за 2008 год, но в таблицах есть информация о более поздних оценках, которые эти посты получили. "
   ]
  },
  {
   "cell_type": "markdown",
   "id": "07dfcc41",
   "metadata": {},
   "source": [
    "## Цель исследования "
   ]
  },
  {
   "cell_type": "markdown",
   "id": "b85b61cc",
   "metadata": {},
   "source": [
    "Проект состоит из двух частей:\n",
    "\n",
    "В первой части несколько задач в SQL-тренажёре, чтобы закрепить пройденный материал.\n",
    "\n",
    "Вторая часть проекта — аналитическая."
   ]
  },
  {
   "cell_type": "markdown",
   "id": "a75e04fb",
   "metadata": {},
   "source": [
    "## Задания Часть 1 "
   ]
  },
  {
   "cell_type": "markdown",
   "id": "31e7b256",
   "metadata": {},
   "source": [
    "### Задание 1 "
   ]
  },
  {
   "cell_type": "markdown",
   "id": "3badbc39",
   "metadata": {},
   "source": [
    "Найдите количество вопросов, которые набрали больше 300 очков или как минимум 100 раз были добавлены в «Закладки»."
   ]
  },
  {
   "cell_type": "code",
   "execution_count": null,
   "id": "3e27b115",
   "metadata": {},
   "outputs": [],
   "source": [
    "'''\n",
    "SELECT COUNT(id)\n",
    "FROM stackoverflow.posts  \n",
    "WHERE post_type_id = 1  AND (score > 300 OR  favorites_count >= 100 )\n",
    "GROUP BY post_type_id; \n",
    "'''"
   ]
  },
  {
   "cell_type": "markdown",
   "id": "50f49648",
   "metadata": {},
   "source": [
    "### Задание 2 "
   ]
  },
  {
   "cell_type": "markdown",
   "id": "979d8296",
   "metadata": {},
   "source": [
    "Сколько в среднем в день задавали вопросов с 1 по 18 ноября 2008 включительно? Результат округлите до целого числа."
   ]
  },
  {
   "cell_type": "code",
   "execution_count": null,
   "id": "f3ad3a6a",
   "metadata": {},
   "outputs": [],
   "source": [
    "'''\n",
    "SELECT ROUND(AVG (p.count) , 0)\n",
    "FROM  (SELECT COUNT(id), \n",
    "       creation_date:: date\n",
    "FROM stackoverflow.posts\n",
    "WHERE post_type_id = 1 \n",
    "GROUP BY  creation_date :: date  \n",
    "HAVING creation_date :: date BETWEEN '2008-11-01' AND '2008-11-18') AS p;\n",
    "'''"
   ]
  },
  {
   "cell_type": "markdown",
   "id": "49a23ba1",
   "metadata": {},
   "source": [
    "### Задание 3"
   ]
  },
  {
   "cell_type": "markdown",
   "id": "5e49ce46",
   "metadata": {},
   "source": [
    "Сколько пользователей получили значки сразу в день регистрации? Выведите количество уникальных пользователей."
   ]
  },
  {
   "cell_type": "code",
   "execution_count": null,
   "id": "ea06100e",
   "metadata": {},
   "outputs": [],
   "source": [
    "'''\n",
    "SELECT COUNT(DISTINCT b.user_id)\n",
    "FROM stackoverflow.badges AS b\n",
    "JOIN stackoverflow.users AS us ON us.id = b.user_id \n",
    "WHERE us.creation_date :: date = b.creation_date :: date;\n",
    "'''"
   ]
  },
  {
   "cell_type": "markdown",
   "id": "535e3c5a",
   "metadata": {},
   "source": [
    "### Задание 4"
   ]
  },
  {
   "cell_type": "markdown",
   "id": "09a97152",
   "metadata": {},
   "source": [
    "Сколько уникальных постов пользователя с именем Joel Coehoorn получили хотя бы один голос?"
   ]
  },
  {
   "cell_type": "code",
   "execution_count": null,
   "id": "1a06f984",
   "metadata": {},
   "outputs": [],
   "source": [
    "'''\n",
    "SELECT COUNT (DISTINCT n.id)\n",
    "FROM (SELECT p.id\n",
    "FROM stackoverflow.posts AS p \n",
    "JOIN stackoverflow.votes AS v  ON  p.id = v.post_id \n",
    "JOIN stackoverflow.users AS u ON p.user_id = u.id \n",
    "WHERE u.display_name = 'Joel Coehoorn' AND v.id > 0  ) AS n;\n",
    "'''"
   ]
  },
  {
   "cell_type": "markdown",
   "id": "ecfe40fd",
   "metadata": {},
   "source": [
    "### Задание 5"
   ]
  },
  {
   "cell_type": "markdown",
   "id": "56584474",
   "metadata": {},
   "source": [
    "Выгрузите все поля таблицы vote_types. Добавьте к таблице поле rank, в которое войдут номера записей в обратном порядке. Таблица должна быть отсортирована по полю id."
   ]
  },
  {
   "cell_type": "code",
   "execution_count": null,
   "id": "4dd10ec2",
   "metadata": {},
   "outputs": [],
   "source": [
    "'''\n",
    "SELECT *,\n",
    "ROW_NUMBER () OVER (ORDER BY id DESC) as rnk\n",
    "FROM stackoverflow.vote_types\n",
    "ORDER BY id; \n",
    "'''"
   ]
  },
  {
   "cell_type": "markdown",
   "id": "3fa31c6e",
   "metadata": {},
   "source": [
    "### Задание 6 "
   ]
  },
  {
   "cell_type": "markdown",
   "id": "f6ed4fbc",
   "metadata": {},
   "source": [
    "Отберите 10 пользователей, которые поставили больше всего голосов типа Close. Отобразите таблицу из двух полей: идентификатором пользователя и количеством голосов. Отсортируйте данные сначала по убыванию количества голосов, потом по убыванию значения идентификатора пользователя."
   ]
  },
  {
   "cell_type": "code",
   "execution_count": null,
   "id": "e1fff536",
   "metadata": {},
   "outputs": [],
   "source": [
    "'''\n",
    "SELECT *\n",
    "FROM ( SELECT v.user_id, \n",
    "          COUNT (vt.id) AS vt_count\n",
    "    FROM stackoverflow.votes AS v \n",
    "    JOIN stackoverflow.vote_types AS vt ON vt.id = v.vote_type_id\n",
    "    WHERE vt.name LIKE 'Close'\n",
    "    GROUP BY v.user_id \n",
    "    ORDER BY vt.count DESC\n",
    "    LIMIT 10 ) AS p\n",
    "ORDER BY p.vt_count DESC, p.user_id DESC; \n",
    "'''"
   ]
  },
  {
   "cell_type": "markdown",
   "id": "570a79a0",
   "metadata": {},
   "source": [
    "### Задание 7"
   ]
  },
  {
   "cell_type": "markdown",
   "id": "ab38f127",
   "metadata": {},
   "source": [
    "Отберите 10 пользователей по количеству значков, полученных в период с 15 ноября по 15 декабря 2008 года включительно.\n",
    "Отобразите несколько полей:\n",
    "\n",
    "  *  идентификатор пользователя;\n",
    "  *  число значков;\n",
    "  *  место в рейтинге — чем больше значков, тем выше рейтинг.\n",
    "\n",
    "Пользователям, которые набрали одинаковое количество значков, присвойте одно и то же место в рейтинге.\n",
    "Отсортируйте записи по количеству значков по убыванию, а затем по возрастанию значения идентификатора пользователя."
   ]
  },
  {
   "cell_type": "code",
   "execution_count": null,
   "id": "7a36d4c5",
   "metadata": {},
   "outputs": [],
   "source": [
    "'''\n",
    "SELECT *, \n",
    "     DENSE_RANK () OVER (ORDER BY l.b_count DESC) AS rating\n",
    "FROM (SELECT user_id, \n",
    "       COUNT(id) AS b_count\n",
    "FROM stackoverflow.badges AS b \n",
    "WHERE creation_date :: date BETWEEN '2008-11-15' AND '2008-12-15' \n",
    "GROUP BY user_id \n",
    "ORDER BY b_count DESC, user_id ASC \n",
    "LIMIT 10 ) AS l; \n",
    "'''"
   ]
  },
  {
   "cell_type": "markdown",
   "id": "c50de158",
   "metadata": {},
   "source": [
    "### Задание 8 "
   ]
  },
  {
   "cell_type": "markdown",
   "id": "ab4e1e4c",
   "metadata": {},
   "source": [
    "Сколько в среднем очков получает пост каждого пользователя?\n",
    "Сформируйте таблицу из следующих полей:\n",
    "\n",
    "   * заголовок поста;\n",
    "   * идентификатор пользователя;\n",
    "   * число очков поста;\n",
    "   * среднее число очков пользователя за пост, округлённое до целого числа.\n",
    "\n",
    "Не учитывайте посты без заголовка, а также те, что набрали ноль очков. "
   ]
  },
  {
   "cell_type": "code",
   "execution_count": null,
   "id": "4b87b926",
   "metadata": {},
   "outputs": [],
   "source": [
    "'''\n",
    "WITH temp_table AS  ( SELECT  ROUND(AVG(score)) AS avg_score, \n",
    "                 user_id\n",
    "                 FROM stackoverflow.posts \n",
    "                WHERE title IS NOT NULL AND score != 0\n",
    "                 GROUP BY user_id) \n",
    "SELECT p.title, \n",
    "       temp_table.user_id, \n",
    "       p.score, \n",
    "       temp_table.avg_score\n",
    "FROM temp_table \n",
    "JOIN stackoverflow.posts AS p ON temp_table.user_id = p.user_id \n",
    "WHERE p.title IS NOT NULL AND p.score != 0 ;\n",
    "'''  "
   ]
  },
  {
   "cell_type": "markdown",
   "id": "604ba537",
   "metadata": {},
   "source": [
    "### Задание 9 \n"
   ]
  },
  {
   "cell_type": "markdown",
   "id": "7d66f473",
   "metadata": {},
   "source": [
    "Отобразите заголовки постов, которые были написаны пользователями, получившими более 1000 значков. Посты без заголовков не должны попасть в список."
   ]
  },
  {
   "cell_type": "code",
   "execution_count": null,
   "id": "5c5f797f",
   "metadata": {},
   "outputs": [],
   "source": [
    "'''\n",
    "SELECT title\n",
    "FROM stackoverflow.posts\n",
    "WHERE user_id IN (SELECT user_id \n",
    "FROM stackoverflow.badges \n",
    "GROUP BY user_id \n",
    "HAVING COUNT(id) > 1000) AND title IS NOT NULL ;\n",
    "''' "
   ]
  },
  {
   "cell_type": "markdown",
   "id": "5e77eb21",
   "metadata": {},
   "source": [
    "### Задание 10"
   ]
  },
  {
   "cell_type": "markdown",
   "id": "0930f98c",
   "metadata": {},
   "source": [
    "Напишите запрос, который выгрузит данные о пользователях из Канады (англ. Canada). Разделите пользователей на три группы в зависимости от количества просмотров их профилей:\n",
    "\n",
    "  *  пользователям с числом просмотров больше либо равным 350 присвойте группу 1;\n",
    "  *  пользователям с числом просмотров меньше 350, но больше либо равно 100 — группу 2;\n",
    "  *  пользователям с числом просмотров меньше 100 — группу 3.\n",
    "\n",
    "Отобразите в итоговой таблице идентификатор пользователя, количество просмотров профиля и группу. Пользователи с нулевым количеством просмотров не должны войти в итоговую таблицу."
   ]
  },
  {
   "cell_type": "code",
   "execution_count": null,
   "id": "0f278056",
   "metadata": {},
   "outputs": [],
   "source": [
    "'''\n",
    "SELECT id, \n",
    "       views, \n",
    "       CASE \n",
    "           WHEN views >= 350 THEN 1 \n",
    "           WHEN views < 100 THEN 3 \n",
    "           ELSE 2 \n",
    "       END AS group \n",
    "FROM stackoverflow.users \n",
    "WHERE location LIKE '%Canada%' AND views > 0 ;\n",
    "'''"
   ]
  },
  {
   "cell_type": "markdown",
   "id": "42afa114",
   "metadata": {},
   "source": [
    "### Задание 11 "
   ]
  },
  {
   "cell_type": "markdown",
   "id": "806f145c",
   "metadata": {},
   "source": [
    "Дополните предыдущий запрос. Отобразите лидеров каждой группы — пользователей, которые набрали максимальное число просмотров в своей группе. Выведите поля с идентификатором пользователя, группой и количеством просмотров. Отсортируйте таблицу по убыванию просмотров, а затем по возрастанию значения идентификатора."
   ]
  },
  {
   "cell_type": "code",
   "execution_count": null,
   "id": "ce0d1409",
   "metadata": {},
   "outputs": [],
   "source": [
    "'''\n",
    "WITH temp_table AS (SELECT h.id, \n",
    "                           h.views, \n",
    "                           h.row,\n",
    "                     MAX(h.views) OVER (PARTITION BY h.row) AS max\n",
    "            FROM ( SELECT id, \n",
    "                          views, \n",
    "                          CASE\n",
    "                              WHEN views >= 350 THEN 1 \n",
    "                              WHEN views < 100 THEN 3 \n",
    "                              ELSE 2 \n",
    "                          END AS row\n",
    "                   FROM stackoverflow.users \n",
    "                   WHERE location LIKE '%Canada%' AND views > 0 ) AS h )\n",
    "SELECT temp_table.id ,\n",
    "       temp_table.views, \n",
    "       temp_table.row\n",
    "FROM temp_table \n",
    "WHERE temp_table.views = temp_table.max \n",
    "ORDER BY temp_table.views DESC, temp_table.id ASC; \n",
    "'''"
   ]
  },
  {
   "cell_type": "markdown",
   "id": "ea15df26",
   "metadata": {},
   "source": [
    "### Задание 12 "
   ]
  },
  {
   "cell_type": "markdown",
   "id": "8f03fc6d",
   "metadata": {},
   "source": [
    "Посчитайте ежедневный прирост новых пользователей в ноябре 2008 года. Сформируйте таблицу с полями:\n",
    "\n",
    "   * номер дня;\n",
    "   * число пользователей, зарегистрированных в этот день;\n",
    "   * сумму пользователей с накоплением."
   ]
  },
  {
   "cell_type": "code",
   "execution_count": null,
   "id": "9b1ace6a",
   "metadata": {},
   "outputs": [],
   "source": [
    "'''\n",
    "SELECT *, \n",
    "       SUM(tr.count_of_reg) OVER (ORDER BY tr.number_of_day) AS count_users \n",
    "FROM (SELECT EXTRACT(DAY FROM CAST(creation_date AS date)) as number_of_day,\n",
    "       COUNT (id) AS count_of_reg\n",
    "FROM stackoverflow.users \n",
    "WHERE creation_date :: date BETWEEN '2008-11-01' AND '2008-11-30'\n",
    "GROUP BY EXTRACT (DAY FROM CAST(creation_date AS date))) AS tr; \n",
    "'''"
   ]
  },
  {
   "cell_type": "markdown",
   "id": "fcf1fe3e",
   "metadata": {},
   "source": [
    "### Задание 13 "
   ]
  },
  {
   "cell_type": "markdown",
   "id": "a6a39f75",
   "metadata": {},
   "source": [
    "Для каждого пользователя, который написал хотя бы один пост, найдите интервал между регистрацией и временем создания первого поста. Отобразите:\n",
    "\n",
    "  *  идентификатор пользователя;\n",
    "  *  разницу во времени между регистрацией и первым постом."
   ]
  },
  {
   "cell_type": "code",
   "execution_count": null,
   "id": "5a16d56f",
   "metadata": {},
   "outputs": [],
   "source": [
    "'''\n",
    "WITH temp_table AS (SELECT  DISTINCT user_id,\n",
    "                   MIN(creation_date)  OVER (PARTITION BY user_id) AS min_time \n",
    "                    FROM stackoverflow.posts)\n",
    "SELECT temp_table.user_id, \n",
    "       (temp_table.min_time - u.creation_date) AS diff\n",
    "FROM stackoverflow.users AS u \n",
    "JOIN temp_table ON u.id = temp_table.user_id;\n",
    "'''"
   ]
  },
  {
   "cell_type": "markdown",
   "id": "0a1ecbea",
   "metadata": {},
   "source": [
    "### Задания Часть 2 "
   ]
  },
  {
   "cell_type": "markdown",
   "id": "65d75b6f",
   "metadata": {},
   "source": [
    "### Задание 1 "
   ]
  },
  {
   "cell_type": "markdown",
   "id": "d7ca361e",
   "metadata": {},
   "source": [
    "Выведите общую сумму просмотров у постов, опубликованных в каждый месяц 2008 года. Если данных за какой-либо месяц в базе нет, такой месяц можно пропустить. Результат отсортируйте по убыванию общего количества просмотров."
   ]
  },
  {
   "cell_type": "code",
   "execution_count": null,
   "id": "88f3717e",
   "metadata": {},
   "outputs": [],
   "source": [
    "'''\n",
    "SELECT SUM(views_count), \n",
    "        CAST(DATE_TRUNC('month', creation_date) AS date)  as month\n",
    "FROM stackoverflow.posts \n",
    "GROUP BY CAST(DATE_TRUNC('month', creation_date) AS date) \n",
    "ORDER BY SUM(views_count) DESC;\n",
    "'''"
   ]
  },
  {
   "cell_type": "markdown",
   "id": "54e8069b",
   "metadata": {},
   "source": [
    "### Задание 2"
   ]
  },
  {
   "cell_type": "markdown",
   "id": "c9cd7944",
   "metadata": {},
   "source": [
    "Выведите имена самых активных пользователей, которые в первый месяц после регистрации (включая день регистрации) дали больше 100 ответов. Вопросы, которые задавали пользователи, не учитывайте. Для каждого имени пользователя выведите количество уникальных значений user_id. Отсортируйте результат по полю с именами в лексикографическом порядке."
   ]
  },
  {
   "cell_type": "code",
   "execution_count": null,
   "id": "909c006f",
   "metadata": {},
   "outputs": [],
   "source": [
    "'''\n",
    "SELECT u.display_name,\n",
    "       COUNT(DISTINCT p.user_id)\n",
    "FROM stackoverflow.posts AS p\n",
    "JOIN stackoverflow.users AS u ON p.user_id = u.id \n",
    "JOIN stackoverflow.post_types AS pt ON pt.id = p.post_type_id\n",
    "WHERE p.creation_date :: date BETWEEN u.creation_date  :: date AND (u.creation_date:: date + INTERVAL '1 month')\n",
    "           AND pt.type LIKE '%Answer%'\n",
    "GROUP BY u.display_name \n",
    "HAVING COUNT(p.id) > 100 \n",
    "ORDER BY u.display_name ASC;\n",
    "'''"
   ]
  },
  {
   "cell_type": "markdown",
   "id": "4872b204",
   "metadata": {},
   "source": [
    "### Задание 3 "
   ]
  },
  {
   "cell_type": "markdown",
   "id": "64199643",
   "metadata": {},
   "source": [
    "Выведите количество постов за 2008 год по месяцам. Отберите посты от пользователей, которые зарегистрировались в сентябре 2008 года и сделали хотя бы один пост в декабре того же года. Отсортируйте таблицу по значению месяца по убыванию."
   ]
  },
  {
   "cell_type": "code",
   "execution_count": null,
   "id": "c174b607",
   "metadata": {},
   "outputs": [],
   "source": [
    "'''\n",
    "WITH temp_table AS (SELECT u.id\n",
    "                  FROM stackoverflow.posts AS p \n",
    "                  JOIN stackoverflow.users AS u ON u.id = p.user_id \n",
    "                   WHERE CAST (DATE_TRUNC('month', u.creation_date) AS date) = '2008-09-01'\n",
    "                    AND CAST(DATE_TRUNC('month', p.creation_date) AS date) = '2008-12-01' \n",
    "                   GROUP BY u.id \n",
    "                   HAVING COUNT (p.id) > 0) \n",
    " SELECT COUNT(p.id), \n",
    "        CAST(DATE_TRUNC('month', p.creation_date) AS date) \n",
    "        FROM stackoverflow.posts AS p \n",
    "        WHERE p.user_id IN (SELECT * \n",
    "                            FROM temp_table ) \n",
    "        AND CAST(DATE_TRUNC('year', p.creation_date) AS date) = '2008-01-01' \n",
    "  GROUP BY CAST(DATE_TRUNC('month', p.creation_date) AS date)\n",
    "  ORDER BY CAST(DATE_TRUNC('month', p.creation_date) AS date) DESC; \n",
    "'''    \n",
    "                            "
   ]
  },
  {
   "cell_type": "markdown",
   "id": "eb46d2ee",
   "metadata": {},
   "source": [
    "### Задание 4 "
   ]
  },
  {
   "cell_type": "markdown",
   "id": "1616f25e",
   "metadata": {},
   "source": [
    "Используя данные о постах, выведите несколько полей:\n",
    "\n",
    "  *  идентификатор пользователя, который написал пост;\n",
    "  *  дата создания поста;\n",
    "  *  количество просмотров у текущего поста;\n",
    "  *  сумма просмотров постов автора с накоплением.\n",
    "\n",
    "Данные в таблице должны быть отсортированы по возрастанию идентификаторов пользователей, а данные об одном и том же пользователе — по возрастанию даты создания поста."
   ]
  },
  {
   "cell_type": "code",
   "execution_count": null,
   "id": "e9353310",
   "metadata": {},
   "outputs": [],
   "source": [
    "'''\n",
    "SELECT user_id,\n",
    "       creation_date, \n",
    "       views_count,\n",
    "       SUM(views_count) OVER( PARTITION BY user_id ORDER BY creation_date) AS sum_count\n",
    "FROM stackoverflow.posts ; \n",
    "'''"
   ]
  },
  {
   "cell_type": "markdown",
   "id": "e0ff4395",
   "metadata": {},
   "source": [
    "### Задание 5 "
   ]
  },
  {
   "cell_type": "code",
   "execution_count": null,
   "id": "f28a0848",
   "metadata": {},
   "outputs": [],
   "source": [
    "'''\n",
    "WITH temp_table AS ( SELECT user_id, \n",
    "                     COUNT(DISTINCT creation_date :: date) AS count\n",
    "                   FROM stackoverflow.posts \n",
    "                    WHERE creation_date :: date  between '2008-12-01' AND '2008-12-07' \n",
    "                    GROUP BY user_id) \n",
    "                    \n",
    "SELECT ROUND(AVG(temp_table.count))\n",
    "FROM temp_table; \n",
    "'''"
   ]
  },
  {
   "cell_type": "markdown",
   "id": "ddea5908",
   "metadata": {},
   "source": [
    "### Задание 6 "
   ]
  },
  {
   "cell_type": "markdown",
   "id": "c2ed42ad",
   "metadata": {},
   "source": [
    "На сколько процентов менялось количество постов ежемесячно с 1 сентября по 31 декабря 2008 года? Отобразите таблицу со следующими полями:\n",
    "\n",
    "   * Номер месяца.\n",
    "   * Количество постов за месяц.\n",
    "   * Процент, который показывает, насколько изменилось количество постов в текущем месяце по сравнению с предыдущим.\n",
    "\n",
    "Если постов стало меньше, значение процента должно быть отрицательным, если больше — положительным. Округлите значение процента до двух знаков после запятой.\n",
    "Напомним, что при делении одного целого числа на другое в PostgreSQL в результате получится целое число, округлённое до ближайшего целого вниз. Чтобы этого избежать, переведите делимое в тип numeric."
   ]
  },
  {
   "cell_type": "code",
   "execution_count": null,
   "id": "f1039fc2",
   "metadata": {},
   "outputs": [],
   "source": [
    "'''\n",
    "WITH temp_table AS (SELECT EXTRACT(MONTH FROM creation_date :: date) AS month, \n",
    "               COUNT(distinct id)\n",
    "               FROM stackoverflow.posts \n",
    "               WHERE creation_date :: date BETWEEN '2008-09-01' AND '2008-12-31' \n",
    "               GROUP BY month) \n",
    "SELECT *,\n",
    "       ROUND(((count :: numeric / LAG(count) OVER (ORDER BY month)) - 1 ) * 100,2) AS percentage_change\n",
    "      FROM temp_table;\n",
    "'''"
   ]
  },
  {
   "cell_type": "markdown",
   "id": "2495f616",
   "metadata": {},
   "source": [
    "### Задание 7 "
   ]
  },
  {
   "cell_type": "markdown",
   "id": "c0c18d68",
   "metadata": {},
   "source": [
    "\n",
    "Найдите пользователя, который опубликовал больше всего постов за всё время с момента регистрации. Выведите данные его активности за октябрь 2008 года в таком виде:\n",
    "\n",
    "  * номер недели;\n",
    "  * дата и время последнего поста, опубликованного на этой неделе."
   ]
  },
  {
   "cell_type": "code",
   "execution_count": null,
   "id": "b3bdaedd",
   "metadata": {},
   "outputs": [],
   "source": [
    "'''\n",
    "WITH table1 AS ( SELECT user_id ,\n",
    "                 COUNT(DISTINCT id) AS count\n",
    "                FROM stackoverflow.posts\n",
    "                 GROUP BY user_id \n",
    "                ORDER BY count DESC \n",
    "                LIMIT 1) , \n",
    "      table2 AS ( SELECT p.user_id, \n",
    "                        p.creation_date, \n",
    "                  EXTRACT('week' FROM p.creation_date ) AS week_number \n",
    "                 FROM stackoverflow.posts AS p\n",
    "                 JOIN table1 ON table1.user_id = p.user_id\n",
    "                 WHERE DATE_TRUNC('month', p.creation_date) :: date ='2008-10-01')\n",
    " SELECT DISTINCT week_number:: numeric, \n",
    "       MAX(creation_date) OVER (PARTITION BY week_number) AS data_post\n",
    "         FROM table2\n",
    "         ORDER BY week_number;\n",
    "'''                \n",
    "\n",
    "                 "
   ]
  }
 ],
 "metadata": {
  "kernelspec": {
   "display_name": "Python 3 (ipykernel)",
   "language": "python",
   "name": "python3"
  },
  "language_info": {
   "codemirror_mode": {
    "name": "ipython",
    "version": 3
   },
   "file_extension": ".py",
   "mimetype": "text/x-python",
   "name": "python",
   "nbconvert_exporter": "python",
   "pygments_lexer": "ipython3",
   "version": "3.10.9"
  }
 },
 "nbformat": 4,
 "nbformat_minor": 5
}
