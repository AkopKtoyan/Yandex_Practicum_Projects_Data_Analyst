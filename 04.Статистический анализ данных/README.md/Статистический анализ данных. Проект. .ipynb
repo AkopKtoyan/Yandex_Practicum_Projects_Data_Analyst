{
 "cells": [
  {
   "cell_type": "markdown",
   "id": "90033803",
   "metadata": {},
   "source": [
    " # Описание проекта "
   ]
  },
  {
   "cell_type": "markdown",
   "id": "d2be0adf",
   "metadata": {},
   "source": [
    "     В моём распоряжении данные о некоторых пользователях сервиса аренды самокатов GoFast из нескольких городов, а также об их поездках."
   ]
  },
  {
   "cell_type": "markdown",
   "id": "83d17434",
   "metadata": {},
   "source": [
    "    Чтобы совершать поездки по городу, пользователи сервиса GoFast пользуются мобильным приложением. Сервисом можно пользоваться:\n",
    "    * без подписки\n",
    "    * абонентская плата отсутствует;\n",
    "    * стоимость одной минуты поездки — 88 рублей;\n",
    "    * стоимость старта (начала поездки) — 50 рублей;\n",
    " \n",
    "    *с подпиской Ultra\n",
    "    *абонентская плата — 199 рублей в месяц;\n",
    "    *стоимость одной минуты поездки — 66 рублей;\n",
    "    *стоимость старта — бесплатно.\n",
         Описание данных: 

   В основных данных есть информация о пользователях, их поездках и подписках.

* user_id - уникальный идентификатор пользователя
* name - имя пользователя
* age - возраст 
* city - город 
* subscription_type - тип подписки (free,ultra) 
* distance - расстояние, которое пользователь проехал в текущей сессии (в метрах) 
* duration - продолжительность сессии (в минутах) — время с того момента, как пользователь нажал кнопку «Начать поездку» до момента, как он нажал кнопку «Завершить поездку» 
* date - дата совершения поездки 
* minute_price - стоимость одной минуты поездки по данной подписке 
* start_ride_price - стоимость начала поездки
* subscription_fee - стоимость ежемесячного платежа 

    "    \n",
    "    Цель исследования - проанализировать данные и проверить некоторые гипотезы, которые могут помочь бизнесу вырасти.\n",
    "    \n",
    "    Ход исследования содержит следующие этапы:\n",
    "    1) Загрузка данных; \n",
    "    2) Предобработка данных;\n",
    "    3) Исследовательский анализ данных\n",
    "    4) Объединение данных \n",
    "    5) Подсчет выручки\n",
    "    6) Проверка гипотез \n",
    "    7) Общий вывод"
   ]
  },
  {
   "cell_type": "markdown",
   "id": "bf492e65",
   "metadata": {},
   "source": [
    "## Шаг 1. Загрузка данных "
   ]
  },
  {
   "cell_type": "markdown",
   "id": "7825ecd3",
   "metadata": {},
   "source": [
    "    Загрузим библиотеки, которые будут необходимы для работы "
   ]
  },
  {
   "cell_type": "code",
   "execution_count": 1,
   "id": "e569f22c",
   "metadata": {},
   "outputs": [],
   "source": [
    "import pandas as pd\n",
    "import seaborn as sns\n",
    "import matplotlib.pyplot as plt\n",
    "import numpy as np \n",
    "from scipy import stats as st\n",
    "from math import factorial "
   ]
  },
  {
   "cell_type": "markdown",
   "id": "e32774a0",
   "metadata": {},
   "source": [
    "   ## 1.1 Посчитаем CSV-файлы с данными с помощью библиотеки Pandas и сохраним их в датафреймы"
   ]
  },
  {
   "cell_type": "code",
   "execution_count": 2,
   "id": "d3823151",
   "metadata": {},
   "outputs": [],
   "source": [
    "# Используем конструкцию try-except \n",
    "server_path = '/datasets/users_go.csv'                                #сохраняем путь к файлу на сервере Практикума  \n",
    "local_path= 'C:\\\\Users\\\\user\\\\Downloads\\\\users_go.csv'                #сохраняем путь к файлу на компьютере   \n",
    "\n",
    "try:\n",
    "    df = pd.read_csv(server_path, sep=',')                            #пробуем найти данные по сетевому адресу\n",
    "except: \n",
    "    df = pd.read_csv(local_path, sep=',')                             #если не находим по сетевому, ищем по локальному "
   ]
  },
  {
   "cell_type": "code",
   "execution_count": 3,
   "id": "3adac10e",
   "metadata": {},
   "outputs": [],
   "source": [
    "df_users = pd.read_csv('C:\\\\Users\\\\user\\\\Downloads\\\\users_go.csv', sep = ',')"
   ]
  },
  {
   "cell_type": "code",
   "execution_count": 4,
   "id": "9f43e397",
   "metadata": {},
   "outputs": [
    {
     "data": {
      "text/html": [
       "<div>\n",
       "<style scoped>\n",
       "    .dataframe tbody tr th:only-of-type {\n",
       "        vertical-align: middle;\n",
       "    }\n",
       "\n",
       "    .dataframe tbody tr th {\n",
       "        vertical-align: top;\n",
       "    }\n",
       "\n",
       "    .dataframe thead th {\n",
       "        text-align: right;\n",
       "    }\n",
       "</style>\n",
       "<table border=\"1\" class=\"dataframe\">\n",
       "  <thead>\n",
       "    <tr style=\"text-align: right;\">\n",
       "      <th></th>\n",
       "      <th>user_id</th>\n",
       "      <th>name</th>\n",
       "      <th>age</th>\n",
       "      <th>city</th>\n",
       "      <th>subscription_type</th>\n",
       "    </tr>\n",
       "  </thead>\n",
       "  <tbody>\n",
       "    <tr>\n",
       "      <th>0</th>\n",
       "      <td>1</td>\n",
       "      <td>Кира</td>\n",
       "      <td>22</td>\n",
       "      <td>Тюмень</td>\n",
       "      <td>ultra</td>\n",
       "    </tr>\n",
       "    <tr>\n",
       "      <th>1</th>\n",
       "      <td>2</td>\n",
       "      <td>Станислав</td>\n",
       "      <td>31</td>\n",
       "      <td>Омск</td>\n",
       "      <td>ultra</td>\n",
       "    </tr>\n",
       "    <tr>\n",
       "      <th>2</th>\n",
       "      <td>3</td>\n",
       "      <td>Алексей</td>\n",
       "      <td>20</td>\n",
       "      <td>Москва</td>\n",
       "      <td>ultra</td>\n",
       "    </tr>\n",
       "    <tr>\n",
       "      <th>3</th>\n",
       "      <td>4</td>\n",
       "      <td>Константин</td>\n",
       "      <td>26</td>\n",
       "      <td>Ростов-на-Дону</td>\n",
       "      <td>ultra</td>\n",
       "    </tr>\n",
       "    <tr>\n",
       "      <th>4</th>\n",
       "      <td>5</td>\n",
       "      <td>Адель</td>\n",
       "      <td>28</td>\n",
       "      <td>Омск</td>\n",
       "      <td>ultra</td>\n",
       "    </tr>\n",
       "    <tr>\n",
       "      <th>...</th>\n",
       "      <td>...</td>\n",
       "      <td>...</td>\n",
       "      <td>...</td>\n",
       "      <td>...</td>\n",
       "      <td>...</td>\n",
       "    </tr>\n",
       "    <tr>\n",
       "      <th>1560</th>\n",
       "      <td>829</td>\n",
       "      <td>Федор</td>\n",
       "      <td>29</td>\n",
       "      <td>Пятигорск</td>\n",
       "      <td>free</td>\n",
       "    </tr>\n",
       "    <tr>\n",
       "      <th>1561</th>\n",
       "      <td>809</td>\n",
       "      <td>Юрий</td>\n",
       "      <td>26</td>\n",
       "      <td>Сочи</td>\n",
       "      <td>free</td>\n",
       "    </tr>\n",
       "    <tr>\n",
       "      <th>1562</th>\n",
       "      <td>307</td>\n",
       "      <td>Ясмина</td>\n",
       "      <td>19</td>\n",
       "      <td>Краснодар</td>\n",
       "      <td>ultra</td>\n",
       "    </tr>\n",
       "    <tr>\n",
       "      <th>1563</th>\n",
       "      <td>47</td>\n",
       "      <td>Юрий</td>\n",
       "      <td>28</td>\n",
       "      <td>Тюмень</td>\n",
       "      <td>ultra</td>\n",
       "    </tr>\n",
       "    <tr>\n",
       "      <th>1564</th>\n",
       "      <td>1045</td>\n",
       "      <td>Артемий</td>\n",
       "      <td>28</td>\n",
       "      <td>Ростов-на-Дону</td>\n",
       "      <td>free</td>\n",
       "    </tr>\n",
       "  </tbody>\n",
       "</table>\n",
       "<p>1565 rows × 5 columns</p>\n",
       "</div>"
      ],
      "text/plain": [
       "      user_id        name  age            city subscription_type\n",
       "0           1        Кира   22          Тюмень             ultra\n",
       "1           2   Станислав   31            Омск             ultra\n",
       "2           3     Алексей   20          Москва             ultra\n",
       "3           4  Константин   26  Ростов-на-Дону             ultra\n",
       "4           5       Адель   28            Омск             ultra\n",
       "...       ...         ...  ...             ...               ...\n",
       "1560      829       Федор   29       Пятигорск              free\n",
       "1561      809        Юрий   26            Сочи              free\n",
       "1562      307      Ясмина   19       Краснодар             ultra\n",
       "1563       47        Юрий   28          Тюмень             ultra\n",
       "1564     1045     Артемий   28  Ростов-на-Дону              free\n",
       "\n",
       "[1565 rows x 5 columns]"
      ]
     },
     "execution_count": 4,
     "metadata": {},
     "output_type": "execute_result"
    }
   ],
   "source": [
    "df_users "
   ]
  },
  {
   "cell_type": "code",
   "execution_count": 5,
   "id": "1e0826db",
   "metadata": {},
   "outputs": [],
   "source": [
    "# Используем конструкцию try-except \n",
    "server_path = '/datasets/rides_go.csv'                                                            \n",
    "local_path= 'C:\\\\Users\\\\user\\\\Downloads\\\\rides_go.csv'                \n",
    "\n",
    "try:\n",
    "    df = pd.read_csv(server_path, sep=',')                          \n",
    "except: \n",
    "    df = pd.read_csv(local_path, sep=',')                            "
   ]
  },
  {
   "cell_type": "code",
   "execution_count": 6,
   "id": "5cf16c05",
   "metadata": {},
   "outputs": [],
   "source": [
    "df_rides = pd.read_csv('C:\\\\Users\\\\user\\\\Downloads\\\\rides_go.csv', sep=',')\n",
    "            "
   ]
  },
  {
   "cell_type": "code",
   "execution_count": 7,
   "id": "d1dc9c37",
   "metadata": {},
   "outputs": [
    {
     "data": {
      "text/html": [
       "<div>\n",
       "<style scoped>\n",
       "    .dataframe tbody tr th:only-of-type {\n",
       "        vertical-align: middle;\n",
       "    }\n",
       "\n",
       "    .dataframe tbody tr th {\n",
       "        vertical-align: top;\n",
       "    }\n",
       "\n",
       "    .dataframe thead th {\n",
       "        text-align: right;\n",
       "    }\n",
       "</style>\n",
       "<table border=\"1\" class=\"dataframe\">\n",
       "  <thead>\n",
       "    <tr style=\"text-align: right;\">\n",
       "      <th></th>\n",
       "      <th>user_id</th>\n",
       "      <th>distance</th>\n",
       "      <th>duration</th>\n",
       "      <th>date</th>\n",
       "    </tr>\n",
       "  </thead>\n",
       "  <tbody>\n",
       "    <tr>\n",
       "      <th>0</th>\n",
       "      <td>1</td>\n",
       "      <td>4409.919140</td>\n",
       "      <td>25.599769</td>\n",
       "      <td>2021-01-01</td>\n",
       "    </tr>\n",
       "    <tr>\n",
       "      <th>1</th>\n",
       "      <td>1</td>\n",
       "      <td>2617.592153</td>\n",
       "      <td>15.816871</td>\n",
       "      <td>2021-01-18</td>\n",
       "    </tr>\n",
       "    <tr>\n",
       "      <th>2</th>\n",
       "      <td>1</td>\n",
       "      <td>754.159807</td>\n",
       "      <td>6.232113</td>\n",
       "      <td>2021-04-20</td>\n",
       "    </tr>\n",
       "    <tr>\n",
       "      <th>3</th>\n",
       "      <td>1</td>\n",
       "      <td>2694.783254</td>\n",
       "      <td>18.511000</td>\n",
       "      <td>2021-08-11</td>\n",
       "    </tr>\n",
       "    <tr>\n",
       "      <th>4</th>\n",
       "      <td>1</td>\n",
       "      <td>4028.687306</td>\n",
       "      <td>26.265803</td>\n",
       "      <td>2021-08-28</td>\n",
       "    </tr>\n",
       "    <tr>\n",
       "      <th>...</th>\n",
       "      <td>...</td>\n",
       "      <td>...</td>\n",
       "      <td>...</td>\n",
       "      <td>...</td>\n",
       "    </tr>\n",
       "    <tr>\n",
       "      <th>18063</th>\n",
       "      <td>1534</td>\n",
       "      <td>3781.098080</td>\n",
       "      <td>19.822962</td>\n",
       "      <td>2021-11-04</td>\n",
       "    </tr>\n",
       "    <tr>\n",
       "      <th>18064</th>\n",
       "      <td>1534</td>\n",
       "      <td>2840.423057</td>\n",
       "      <td>21.409799</td>\n",
       "      <td>2021-11-16</td>\n",
       "    </tr>\n",
       "    <tr>\n",
       "      <th>18065</th>\n",
       "      <td>1534</td>\n",
       "      <td>3826.185507</td>\n",
       "      <td>18.435051</td>\n",
       "      <td>2021-11-18</td>\n",
       "    </tr>\n",
       "    <tr>\n",
       "      <th>18066</th>\n",
       "      <td>1534</td>\n",
       "      <td>2902.308661</td>\n",
       "      <td>16.674362</td>\n",
       "      <td>2021-11-27</td>\n",
       "    </tr>\n",
       "    <tr>\n",
       "      <th>18067</th>\n",
       "      <td>1534</td>\n",
       "      <td>2371.711192</td>\n",
       "      <td>15.893917</td>\n",
       "      <td>2021-12-29</td>\n",
       "    </tr>\n",
       "  </tbody>\n",
       "</table>\n",
       "<p>18068 rows × 4 columns</p>\n",
       "</div>"
      ],
      "text/plain": [
       "       user_id     distance   duration        date\n",
       "0            1  4409.919140  25.599769  2021-01-01\n",
       "1            1  2617.592153  15.816871  2021-01-18\n",
       "2            1   754.159807   6.232113  2021-04-20\n",
       "3            1  2694.783254  18.511000  2021-08-11\n",
       "4            1  4028.687306  26.265803  2021-08-28\n",
       "...        ...          ...        ...         ...\n",
       "18063     1534  3781.098080  19.822962  2021-11-04\n",
       "18064     1534  2840.423057  21.409799  2021-11-16\n",
       "18065     1534  3826.185507  18.435051  2021-11-18\n",
       "18066     1534  2902.308661  16.674362  2021-11-27\n",
       "18067     1534  2371.711192  15.893917  2021-12-29\n",
       "\n",
       "[18068 rows x 4 columns]"
      ]
     },
     "execution_count": 7,
     "metadata": {},
     "output_type": "execute_result"
    }
   ],
   "source": [
    "df_rides"
   ]
  },
  {
   "cell_type": "code",
   "execution_count": 8,
   "id": "c110386a",
   "metadata": {},
   "outputs": [],
   "source": [
    "# Используем конструкцию try-except \n",
    "server_path = '/datasets/subscriptions_go.csv'                   \n",
    "local_path= 'C:\\\\Users\\\\user\\\\Downloads\\\\subscriptions_go.csv'  \n",
    "\n",
    "try:\n",
    "    df = pd.read_csv(server_path, sep=',')                        \n",
    "except: \n",
    "    df = pd.read_csv(local_path, sep=',')                   \n",
    "    \n",
    "    "
   ]
  },
  {
   "cell_type": "code",
   "execution_count": 9,
   "id": "c3504ec5",
   "metadata": {},
   "outputs": [],
   "source": [
    "df_subscriptions = pd.read_csv('C:\\\\Users\\\\user\\\\Downloads\\\\subscriptions_go.csv', sep=',')"
   ]
  },
  {
   "cell_type": "code",
   "execution_count": 10,
   "id": "891e7963",
   "metadata": {},
   "outputs": [
    {
     "data": {
      "text/html": [
       "<div>\n",
       "<style scoped>\n",
       "    .dataframe tbody tr th:only-of-type {\n",
       "        vertical-align: middle;\n",
       "    }\n",
       "\n",
       "    .dataframe tbody tr th {\n",
       "        vertical-align: top;\n",
       "    }\n",
       "\n",
       "    .dataframe thead th {\n",
       "        text-align: right;\n",
       "    }\n",
       "</style>\n",
       "<table border=\"1\" class=\"dataframe\">\n",
       "  <thead>\n",
       "    <tr style=\"text-align: right;\">\n",
       "      <th></th>\n",
       "      <th>subscription_type</th>\n",
       "      <th>minute_price</th>\n",
       "      <th>start_ride_price</th>\n",
       "      <th>subscription_fee</th>\n",
       "    </tr>\n",
       "  </thead>\n",
       "  <tbody>\n",
       "    <tr>\n",
       "      <th>0</th>\n",
       "      <td>free</td>\n",
       "      <td>8</td>\n",
       "      <td>50</td>\n",
       "      <td>0</td>\n",
       "    </tr>\n",
       "    <tr>\n",
       "      <th>1</th>\n",
       "      <td>ultra</td>\n",
       "      <td>6</td>\n",
       "      <td>0</td>\n",
       "      <td>199</td>\n",
       "    </tr>\n",
       "  </tbody>\n",
       "</table>\n",
       "</div>"
      ],
      "text/plain": [
       "  subscription_type  minute_price  start_ride_price  subscription_fee\n",
       "0              free             8                50                 0\n",
       "1             ultra             6                 0               199"
      ]
     },
     "execution_count": 10,
     "metadata": {},
     "output_type": "execute_result"
    }
   ],
   "source": [
    "df_subscriptions"
   ]
  },
  {
   "cell_type": "markdown",
   "id": "e6c0d516",
   "metadata": {},
   "source": [
    "  ##  1.2 Выведем первые строки каждого набора данных. Изучим общую информацию о каждом датафрейме."
   ]
  },
  {
   "cell_type": "code",
   "execution_count": 11,
   "id": "bd7b4bca",
   "metadata": {},
   "outputs": [
    {
     "data": {
      "text/html": [
       "<div>\n",
       "<style scoped>\n",
       "    .dataframe tbody tr th:only-of-type {\n",
       "        vertical-align: middle;\n",
       "    }\n",
       "\n",
       "    .dataframe tbody tr th {\n",
       "        vertical-align: top;\n",
       "    }\n",
       "\n",
       "    .dataframe thead th {\n",
       "        text-align: right;\n",
       "    }\n",
       "</style>\n",
       "<table border=\"1\" class=\"dataframe\">\n",
       "  <thead>\n",
       "    <tr style=\"text-align: right;\">\n",
       "      <th></th>\n",
       "      <th>user_id</th>\n",
       "      <th>name</th>\n",
       "      <th>age</th>\n",
       "      <th>city</th>\n",
       "      <th>subscription_type</th>\n",
       "    </tr>\n",
       "  </thead>\n",
       "  <tbody>\n",
       "    <tr>\n",
       "      <th>0</th>\n",
       "      <td>1</td>\n",
       "      <td>Кира</td>\n",
       "      <td>22</td>\n",
       "      <td>Тюмень</td>\n",
       "      <td>ultra</td>\n",
       "    </tr>\n",
       "    <tr>\n",
       "      <th>1</th>\n",
       "      <td>2</td>\n",
       "      <td>Станислав</td>\n",
       "      <td>31</td>\n",
       "      <td>Омск</td>\n",
       "      <td>ultra</td>\n",
       "    </tr>\n",
       "    <tr>\n",
       "      <th>2</th>\n",
       "      <td>3</td>\n",
       "      <td>Алексей</td>\n",
       "      <td>20</td>\n",
       "      <td>Москва</td>\n",
       "      <td>ultra</td>\n",
       "    </tr>\n",
       "    <tr>\n",
       "      <th>3</th>\n",
       "      <td>4</td>\n",
       "      <td>Константин</td>\n",
       "      <td>26</td>\n",
       "      <td>Ростов-на-Дону</td>\n",
       "      <td>ultra</td>\n",
       "    </tr>\n",
       "    <tr>\n",
       "      <th>4</th>\n",
       "      <td>5</td>\n",
       "      <td>Адель</td>\n",
       "      <td>28</td>\n",
       "      <td>Омск</td>\n",
       "      <td>ultra</td>\n",
       "    </tr>\n",
       "    <tr>\n",
       "      <th>...</th>\n",
       "      <td>...</td>\n",
       "      <td>...</td>\n",
       "      <td>...</td>\n",
       "      <td>...</td>\n",
       "      <td>...</td>\n",
       "    </tr>\n",
       "    <tr>\n",
       "      <th>1560</th>\n",
       "      <td>829</td>\n",
       "      <td>Федор</td>\n",
       "      <td>29</td>\n",
       "      <td>Пятигорск</td>\n",
       "      <td>free</td>\n",
       "    </tr>\n",
       "    <tr>\n",
       "      <th>1561</th>\n",
       "      <td>809</td>\n",
       "      <td>Юрий</td>\n",
       "      <td>26</td>\n",
       "      <td>Сочи</td>\n",
       "      <td>free</td>\n",
       "    </tr>\n",
       "    <tr>\n",
       "      <th>1562</th>\n",
       "      <td>307</td>\n",
       "      <td>Ясмина</td>\n",
       "      <td>19</td>\n",
       "      <td>Краснодар</td>\n",
       "      <td>ultra</td>\n",
       "    </tr>\n",
       "    <tr>\n",
       "      <th>1563</th>\n",
       "      <td>47</td>\n",
       "      <td>Юрий</td>\n",
       "      <td>28</td>\n",
       "      <td>Тюмень</td>\n",
       "      <td>ultra</td>\n",
       "    </tr>\n",
       "    <tr>\n",
       "      <th>1564</th>\n",
       "      <td>1045</td>\n",
       "      <td>Артемий</td>\n",
       "      <td>28</td>\n",
       "      <td>Ростов-на-Дону</td>\n",
       "      <td>free</td>\n",
       "    </tr>\n",
       "  </tbody>\n",
       "</table>\n",
       "<p>1565 rows × 5 columns</p>\n",
       "</div>"
      ],
      "text/plain": [
       "      user_id        name  age            city subscription_type\n",
       "0           1        Кира   22          Тюмень             ultra\n",
       "1           2   Станислав   31            Омск             ultra\n",
       "2           3     Алексей   20          Москва             ultra\n",
       "3           4  Константин   26  Ростов-на-Дону             ultra\n",
       "4           5       Адель   28            Омск             ultra\n",
       "...       ...         ...  ...             ...               ...\n",
       "1560      829       Федор   29       Пятигорск              free\n",
       "1561      809        Юрий   26            Сочи              free\n",
       "1562      307      Ясмина   19       Краснодар             ultra\n",
       "1563       47        Юрий   28          Тюмень             ultra\n",
       "1564     1045     Артемий   28  Ростов-на-Дону              free\n",
       "\n",
       "[1565 rows x 5 columns]"
      ]
     },
     "execution_count": 11,
     "metadata": {},
     "output_type": "execute_result"
    }
   ],
   "source": [
    "# Изучим датафрейм df_users, где содержится информация о пользователях сервиса аренды самокатов GoFast\n",
    "df_users"
   ]
  },
  {
   "cell_type": "markdown",
   "id": "4380e23d",
   "metadata": {},
   "source": [
    "    В нашем датафрейме есть 5 столбцов и 1565 строк. Столбец user_id означает уникальный идентификатор пользователя. В столбце name содержится имя пользователя. В столбце age - возраст, в city - информация о городе пользователя, в столбце subsription_type информация о типе подписки(free, ultra). "
   ]
  },
  {
   "cell_type": "markdown",
   "id": "26a9d208",
   "metadata": {},
   "source": [
    "    Воспользуемся методом sample() для вывода рандомной строки датафрейма"
   ]
  },
  {
   "cell_type": "code",
   "execution_count": 12,
   "id": "4a79da10",
   "metadata": {},
   "outputs": [
    {
     "data": {
      "text/html": [
       "<div>\n",
       "<style scoped>\n",
       "    .dataframe tbody tr th:only-of-type {\n",
       "        vertical-align: middle;\n",
       "    }\n",
       "\n",
       "    .dataframe tbody tr th {\n",
       "        vertical-align: top;\n",
       "    }\n",
       "\n",
       "    .dataframe thead th {\n",
       "        text-align: right;\n",
       "    }\n",
       "</style>\n",
       "<table border=\"1\" class=\"dataframe\">\n",
       "  <thead>\n",
       "    <tr style=\"text-align: right;\">\n",
       "      <th></th>\n",
       "      <th>user_id</th>\n",
       "      <th>name</th>\n",
       "      <th>age</th>\n",
       "      <th>city</th>\n",
       "      <th>subscription_type</th>\n",
       "    </tr>\n",
       "  </thead>\n",
       "  <tbody>\n",
       "    <tr>\n",
       "      <th>418</th>\n",
       "      <td>419</td>\n",
       "      <td>Айдар</td>\n",
       "      <td>24</td>\n",
       "      <td>Омск</td>\n",
       "      <td>ultra</td>\n",
       "    </tr>\n",
       "  </tbody>\n",
       "</table>\n",
       "</div>"
      ],
      "text/plain": [
       "     user_id   name  age  city subscription_type\n",
       "418      419  Айдар   24  Омск             ultra"
      ]
     },
     "execution_count": 12,
     "metadata": {},
     "output_type": "execute_result"
    }
   ],
   "source": [
    "df_users.sample()"
   ]
  },
  {
   "cell_type": "markdown",
   "id": "63330e9d",
   "metadata": {},
   "source": [
    "    Выведем на экран первые пять и последние пять строк датафрейма с помощью методов head() и tail()"
   ]
  },
  {
   "cell_type": "code",
   "execution_count": 13,
   "id": "0e93d49a",
   "metadata": {},
   "outputs": [
    {
     "data": {
      "text/html": [
       "<div>\n",
       "<style scoped>\n",
       "    .dataframe tbody tr th:only-of-type {\n",
       "        vertical-align: middle;\n",
       "    }\n",
       "\n",
       "    .dataframe tbody tr th {\n",
       "        vertical-align: top;\n",
       "    }\n",
       "\n",
       "    .dataframe thead th {\n",
       "        text-align: right;\n",
       "    }\n",
       "</style>\n",
       "<table border=\"1\" class=\"dataframe\">\n",
       "  <thead>\n",
       "    <tr style=\"text-align: right;\">\n",
       "      <th></th>\n",
       "      <th>user_id</th>\n",
       "      <th>name</th>\n",
       "      <th>age</th>\n",
       "      <th>city</th>\n",
       "      <th>subscription_type</th>\n",
       "    </tr>\n",
       "  </thead>\n",
       "  <tbody>\n",
       "    <tr>\n",
       "      <th>0</th>\n",
       "      <td>1</td>\n",
       "      <td>Кира</td>\n",
       "      <td>22</td>\n",
       "      <td>Тюмень</td>\n",
       "      <td>ultra</td>\n",
       "    </tr>\n",
       "    <tr>\n",
       "      <th>1</th>\n",
       "      <td>2</td>\n",
       "      <td>Станислав</td>\n",
       "      <td>31</td>\n",
       "      <td>Омск</td>\n",
       "      <td>ultra</td>\n",
       "    </tr>\n",
       "    <tr>\n",
       "      <th>2</th>\n",
       "      <td>3</td>\n",
       "      <td>Алексей</td>\n",
       "      <td>20</td>\n",
       "      <td>Москва</td>\n",
       "      <td>ultra</td>\n",
       "    </tr>\n",
       "    <tr>\n",
       "      <th>3</th>\n",
       "      <td>4</td>\n",
       "      <td>Константин</td>\n",
       "      <td>26</td>\n",
       "      <td>Ростов-на-Дону</td>\n",
       "      <td>ultra</td>\n",
       "    </tr>\n",
       "    <tr>\n",
       "      <th>4</th>\n",
       "      <td>5</td>\n",
       "      <td>Адель</td>\n",
       "      <td>28</td>\n",
       "      <td>Омск</td>\n",
       "      <td>ultra</td>\n",
       "    </tr>\n",
       "  </tbody>\n",
       "</table>\n",
       "</div>"
      ],
      "text/plain": [
       "   user_id        name  age            city subscription_type\n",
       "0        1        Кира   22          Тюмень             ultra\n",
       "1        2   Станислав   31            Омск             ultra\n",
       "2        3     Алексей   20          Москва             ultra\n",
       "3        4  Константин   26  Ростов-на-Дону             ultra\n",
       "4        5       Адель   28            Омск             ultra"
      ]
     },
     "execution_count": 13,
     "metadata": {},
     "output_type": "execute_result"
    }
   ],
   "source": [
    "df_users.head()"
   ]
  },
  {
   "cell_type": "code",
   "execution_count": 14,
   "id": "d2fd7887",
   "metadata": {},
   "outputs": [
    {
     "data": {
      "text/html": [
       "<div>\n",
       "<style scoped>\n",
       "    .dataframe tbody tr th:only-of-type {\n",
       "        vertical-align: middle;\n",
       "    }\n",
       "\n",
       "    .dataframe tbody tr th {\n",
       "        vertical-align: top;\n",
       "    }\n",
       "\n",
       "    .dataframe thead th {\n",
       "        text-align: right;\n",
       "    }\n",
       "</style>\n",
       "<table border=\"1\" class=\"dataframe\">\n",
       "  <thead>\n",
       "    <tr style=\"text-align: right;\">\n",
       "      <th></th>\n",
       "      <th>user_id</th>\n",
       "      <th>name</th>\n",
       "      <th>age</th>\n",
       "      <th>city</th>\n",
       "      <th>subscription_type</th>\n",
       "    </tr>\n",
       "  </thead>\n",
       "  <tbody>\n",
       "    <tr>\n",
       "      <th>1560</th>\n",
       "      <td>829</td>\n",
       "      <td>Федор</td>\n",
       "      <td>29</td>\n",
       "      <td>Пятигорск</td>\n",
       "      <td>free</td>\n",
       "    </tr>\n",
       "    <tr>\n",
       "      <th>1561</th>\n",
       "      <td>809</td>\n",
       "      <td>Юрий</td>\n",
       "      <td>26</td>\n",
       "      <td>Сочи</td>\n",
       "      <td>free</td>\n",
       "    </tr>\n",
       "    <tr>\n",
       "      <th>1562</th>\n",
       "      <td>307</td>\n",
       "      <td>Ясмина</td>\n",
       "      <td>19</td>\n",
       "      <td>Краснодар</td>\n",
       "      <td>ultra</td>\n",
       "    </tr>\n",
       "    <tr>\n",
       "      <th>1563</th>\n",
       "      <td>47</td>\n",
       "      <td>Юрий</td>\n",
       "      <td>28</td>\n",
       "      <td>Тюмень</td>\n",
       "      <td>ultra</td>\n",
       "    </tr>\n",
       "    <tr>\n",
       "      <th>1564</th>\n",
       "      <td>1045</td>\n",
       "      <td>Артемий</td>\n",
       "      <td>28</td>\n",
       "      <td>Ростов-на-Дону</td>\n",
       "      <td>free</td>\n",
       "    </tr>\n",
       "  </tbody>\n",
       "</table>\n",
       "</div>"
      ],
      "text/plain": [
       "      user_id     name  age            city subscription_type\n",
       "1560      829    Федор   29       Пятигорск              free\n",
       "1561      809     Юрий   26            Сочи              free\n",
       "1562      307   Ясмина   19       Краснодар             ultra\n",
       "1563       47     Юрий   28          Тюмень             ultra\n",
       "1564     1045  Артемий   28  Ростов-на-Дону              free"
      ]
     },
     "execution_count": 14,
     "metadata": {},
     "output_type": "execute_result"
    }
   ],
   "source": [
    "df_users.tail()"
   ]
  },
  {
   "cell_type": "markdown",
   "id": "d6f2be37",
   "metadata": {},
   "source": [
    " Изучим общую информацию о датасете с помощью метода info() и ознакомимся с типом данных.\n",
    "    "
   ]
  },
  {
   "cell_type": "code",
   "execution_count": 15,
   "id": "ac7c6605",
   "metadata": {},
   "outputs": [
    {
     "name": "stdout",
     "output_type": "stream",
     "text": [
      "<class 'pandas.core.frame.DataFrame'>\n",
      "RangeIndex: 1565 entries, 0 to 1564\n",
      "Data columns (total 5 columns):\n",
      " #   Column             Non-Null Count  Dtype \n",
      "---  ------             --------------  ----- \n",
      " 0   user_id            1565 non-null   int64 \n",
      " 1   name               1565 non-null   object\n",
      " 2   age                1565 non-null   int64 \n",
      " 3   city               1565 non-null   object\n",
      " 4   subscription_type  1565 non-null   object\n",
      "dtypes: int64(2), object(3)\n",
      "memory usage: 61.3+ KB\n"
     ]
    }
   ],
   "source": [
    "df_users.info()"
   ]
  },
  {
   "cell_type": "markdown",
   "id": "b34be2cf",
   "metadata": {},
   "source": [
    "     Видим, что общий объем хранимых в датасете данных составил 61.3 килобайта. Всего три столбца с типом данных object(name, city, subsription_type) и 2 столбца с целочисленным типом данных int(user_id, age)"
   ]
  },
  {
   "cell_type": "code",
   "execution_count": 16,
   "id": "d7f0dd7b",
   "metadata": {},
   "outputs": [
    {
     "data": {
      "text/html": [
       "<div>\n",
       "<style scoped>\n",
       "    .dataframe tbody tr th:only-of-type {\n",
       "        vertical-align: middle;\n",
       "    }\n",
       "\n",
       "    .dataframe tbody tr th {\n",
       "        vertical-align: top;\n",
       "    }\n",
       "\n",
       "    .dataframe thead th {\n",
       "        text-align: right;\n",
       "    }\n",
       "</style>\n",
       "<table border=\"1\" class=\"dataframe\">\n",
       "  <thead>\n",
       "    <tr style=\"text-align: right;\">\n",
       "      <th></th>\n",
       "      <th>user_id</th>\n",
       "      <th>distance</th>\n",
       "      <th>duration</th>\n",
       "      <th>date</th>\n",
       "    </tr>\n",
       "  </thead>\n",
       "  <tbody>\n",
       "    <tr>\n",
       "      <th>0</th>\n",
       "      <td>1</td>\n",
       "      <td>4409.919140</td>\n",
       "      <td>25.599769</td>\n",
       "      <td>2021-01-01</td>\n",
       "    </tr>\n",
       "    <tr>\n",
       "      <th>1</th>\n",
       "      <td>1</td>\n",
       "      <td>2617.592153</td>\n",
       "      <td>15.816871</td>\n",
       "      <td>2021-01-18</td>\n",
       "    </tr>\n",
       "    <tr>\n",
       "      <th>2</th>\n",
       "      <td>1</td>\n",
       "      <td>754.159807</td>\n",
       "      <td>6.232113</td>\n",
       "      <td>2021-04-20</td>\n",
       "    </tr>\n",
       "    <tr>\n",
       "      <th>3</th>\n",
       "      <td>1</td>\n",
       "      <td>2694.783254</td>\n",
       "      <td>18.511000</td>\n",
       "      <td>2021-08-11</td>\n",
       "    </tr>\n",
       "    <tr>\n",
       "      <th>4</th>\n",
       "      <td>1</td>\n",
       "      <td>4028.687306</td>\n",
       "      <td>26.265803</td>\n",
       "      <td>2021-08-28</td>\n",
       "    </tr>\n",
       "    <tr>\n",
       "      <th>...</th>\n",
       "      <td>...</td>\n",
       "      <td>...</td>\n",
       "      <td>...</td>\n",
       "      <td>...</td>\n",
       "    </tr>\n",
       "    <tr>\n",
       "      <th>18063</th>\n",
       "      <td>1534</td>\n",
       "      <td>3781.098080</td>\n",
       "      <td>19.822962</td>\n",
       "      <td>2021-11-04</td>\n",
       "    </tr>\n",
       "    <tr>\n",
       "      <th>18064</th>\n",
       "      <td>1534</td>\n",
       "      <td>2840.423057</td>\n",
       "      <td>21.409799</td>\n",
       "      <td>2021-11-16</td>\n",
       "    </tr>\n",
       "    <tr>\n",
       "      <th>18065</th>\n",
       "      <td>1534</td>\n",
       "      <td>3826.185507</td>\n",
       "      <td>18.435051</td>\n",
       "      <td>2021-11-18</td>\n",
       "    </tr>\n",
       "    <tr>\n",
       "      <th>18066</th>\n",
       "      <td>1534</td>\n",
       "      <td>2902.308661</td>\n",
       "      <td>16.674362</td>\n",
       "      <td>2021-11-27</td>\n",
       "    </tr>\n",
       "    <tr>\n",
       "      <th>18067</th>\n",
       "      <td>1534</td>\n",
       "      <td>2371.711192</td>\n",
       "      <td>15.893917</td>\n",
       "      <td>2021-12-29</td>\n",
       "    </tr>\n",
       "  </tbody>\n",
       "</table>\n",
       "<p>18068 rows × 4 columns</p>\n",
       "</div>"
      ],
      "text/plain": [
       "       user_id     distance   duration        date\n",
       "0            1  4409.919140  25.599769  2021-01-01\n",
       "1            1  2617.592153  15.816871  2021-01-18\n",
       "2            1   754.159807   6.232113  2021-04-20\n",
       "3            1  2694.783254  18.511000  2021-08-11\n",
       "4            1  4028.687306  26.265803  2021-08-28\n",
       "...        ...          ...        ...         ...\n",
       "18063     1534  3781.098080  19.822962  2021-11-04\n",
       "18064     1534  2840.423057  21.409799  2021-11-16\n",
       "18065     1534  3826.185507  18.435051  2021-11-18\n",
       "18066     1534  2902.308661  16.674362  2021-11-27\n",
       "18067     1534  2371.711192  15.893917  2021-12-29\n",
       "\n",
       "[18068 rows x 4 columns]"
      ]
     },
     "execution_count": 16,
     "metadata": {},
     "output_type": "execute_result"
    }
   ],
   "source": [
    "# Изучим датафрейм df_rides, где содержится информация о поездках пользователей.\n",
    "df_rides"
   ]
  },
  {
   "cell_type": "markdown",
   "id": "3b53c518",
   "metadata": {},
   "source": [
    "    В датасете всего 4 столбца и 18068 строк. Столбец user_id мы описали ранее и знаем, что это идентификационный номер пользователя. Столбец distance отображает расстояние, которое пользователь проехал в текущей сессии (в метрах). В столбце duration содержится информация о продолжительности сессии (в минутах). В столбце date хранится информация о дате совершения поездки."
   ]
  },
  {
   "cell_type": "code",
   "execution_count": 17,
   "id": "5bf69d06",
   "metadata": {},
   "outputs": [
    {
     "data": {
      "text/html": [
       "<div>\n",
       "<style scoped>\n",
       "    .dataframe tbody tr th:only-of-type {\n",
       "        vertical-align: middle;\n",
       "    }\n",
       "\n",
       "    .dataframe tbody tr th {\n",
       "        vertical-align: top;\n",
       "    }\n",
       "\n",
       "    .dataframe thead th {\n",
       "        text-align: right;\n",
       "    }\n",
       "</style>\n",
       "<table border=\"1\" class=\"dataframe\">\n",
       "  <thead>\n",
       "    <tr style=\"text-align: right;\">\n",
       "      <th></th>\n",
       "      <th>user_id</th>\n",
       "      <th>distance</th>\n",
       "      <th>duration</th>\n",
       "      <th>date</th>\n",
       "    </tr>\n",
       "  </thead>\n",
       "  <tbody>\n",
       "    <tr>\n",
       "      <th>11010</th>\n",
       "      <td>1029</td>\n",
       "      <td>3360.5791</td>\n",
       "      <td>13.601655</td>\n",
       "      <td>2021-06-01</td>\n",
       "    </tr>\n",
       "  </tbody>\n",
       "</table>\n",
       "</div>"
      ],
      "text/plain": [
       "       user_id   distance   duration        date\n",
       "11010     1029  3360.5791  13.601655  2021-06-01"
      ]
     },
     "execution_count": 17,
     "metadata": {},
     "output_type": "execute_result"
    }
   ],
   "source": [
    "# Выведем рандомную строку датафрейма с помощью метода sample()\n",
    "df_rides.sample()\n"
   ]
  },
  {
   "cell_type": "markdown",
   "id": "6372a2b4",
   "metadata": {},
   "source": [
    "     Выведем на экран первые пять и последние пять строк датафрейма с помощью методов head() и tail(). \n",
    "\n",
    "\n",
    "\n"
   ]
  },
  {
   "cell_type": "code",
   "execution_count": 18,
   "id": "d257a42e",
   "metadata": {},
   "outputs": [
    {
     "data": {
      "text/html": [
       "<div>\n",
       "<style scoped>\n",
       "    .dataframe tbody tr th:only-of-type {\n",
       "        vertical-align: middle;\n",
       "    }\n",
       "\n",
       "    .dataframe tbody tr th {\n",
       "        vertical-align: top;\n",
       "    }\n",
       "\n",
       "    .dataframe thead th {\n",
       "        text-align: right;\n",
       "    }\n",
       "</style>\n",
       "<table border=\"1\" class=\"dataframe\">\n",
       "  <thead>\n",
       "    <tr style=\"text-align: right;\">\n",
       "      <th></th>\n",
       "      <th>user_id</th>\n",
       "      <th>distance</th>\n",
       "      <th>duration</th>\n",
       "      <th>date</th>\n",
       "    </tr>\n",
       "  </thead>\n",
       "  <tbody>\n",
       "    <tr>\n",
       "      <th>0</th>\n",
       "      <td>1</td>\n",
       "      <td>4409.919140</td>\n",
       "      <td>25.599769</td>\n",
       "      <td>2021-01-01</td>\n",
       "    </tr>\n",
       "    <tr>\n",
       "      <th>1</th>\n",
       "      <td>1</td>\n",
       "      <td>2617.592153</td>\n",
       "      <td>15.816871</td>\n",
       "      <td>2021-01-18</td>\n",
       "    </tr>\n",
       "    <tr>\n",
       "      <th>2</th>\n",
       "      <td>1</td>\n",
       "      <td>754.159807</td>\n",
       "      <td>6.232113</td>\n",
       "      <td>2021-04-20</td>\n",
       "    </tr>\n",
       "    <tr>\n",
       "      <th>3</th>\n",
       "      <td>1</td>\n",
       "      <td>2694.783254</td>\n",
       "      <td>18.511000</td>\n",
       "      <td>2021-08-11</td>\n",
       "    </tr>\n",
       "    <tr>\n",
       "      <th>4</th>\n",
       "      <td>1</td>\n",
       "      <td>4028.687306</td>\n",
       "      <td>26.265803</td>\n",
       "      <td>2021-08-28</td>\n",
       "    </tr>\n",
       "  </tbody>\n",
       "</table>\n",
       "</div>"
      ],
      "text/plain": [
       "   user_id     distance   duration        date\n",
       "0        1  4409.919140  25.599769  2021-01-01\n",
       "1        1  2617.592153  15.816871  2021-01-18\n",
       "2        1   754.159807   6.232113  2021-04-20\n",
       "3        1  2694.783254  18.511000  2021-08-11\n",
       "4        1  4028.687306  26.265803  2021-08-28"
      ]
     },
     "execution_count": 18,
     "metadata": {},
     "output_type": "execute_result"
    }
   ],
   "source": [
    "df_rides.head()"
   ]
  },
  {
   "cell_type": "code",
   "execution_count": 19,
   "id": "c5c93fff",
   "metadata": {},
   "outputs": [
    {
     "data": {
      "text/html": [
       "<div>\n",
       "<style scoped>\n",
       "    .dataframe tbody tr th:only-of-type {\n",
       "        vertical-align: middle;\n",
       "    }\n",
       "\n",
       "    .dataframe tbody tr th {\n",
       "        vertical-align: top;\n",
       "    }\n",
       "\n",
       "    .dataframe thead th {\n",
       "        text-align: right;\n",
       "    }\n",
       "</style>\n",
       "<table border=\"1\" class=\"dataframe\">\n",
       "  <thead>\n",
       "    <tr style=\"text-align: right;\">\n",
       "      <th></th>\n",
       "      <th>user_id</th>\n",
       "      <th>distance</th>\n",
       "      <th>duration</th>\n",
       "      <th>date</th>\n",
       "    </tr>\n",
       "  </thead>\n",
       "  <tbody>\n",
       "    <tr>\n",
       "      <th>18063</th>\n",
       "      <td>1534</td>\n",
       "      <td>3781.098080</td>\n",
       "      <td>19.822962</td>\n",
       "      <td>2021-11-04</td>\n",
       "    </tr>\n",
       "    <tr>\n",
       "      <th>18064</th>\n",
       "      <td>1534</td>\n",
       "      <td>2840.423057</td>\n",
       "      <td>21.409799</td>\n",
       "      <td>2021-11-16</td>\n",
       "    </tr>\n",
       "    <tr>\n",
       "      <th>18065</th>\n",
       "      <td>1534</td>\n",
       "      <td>3826.185507</td>\n",
       "      <td>18.435051</td>\n",
       "      <td>2021-11-18</td>\n",
       "    </tr>\n",
       "    <tr>\n",
       "      <th>18066</th>\n",
       "      <td>1534</td>\n",
       "      <td>2902.308661</td>\n",
       "      <td>16.674362</td>\n",
       "      <td>2021-11-27</td>\n",
       "    </tr>\n",
       "    <tr>\n",
       "      <th>18067</th>\n",
       "      <td>1534</td>\n",
       "      <td>2371.711192</td>\n",
       "      <td>15.893917</td>\n",
       "      <td>2021-12-29</td>\n",
       "    </tr>\n",
       "  </tbody>\n",
       "</table>\n",
       "</div>"
      ],
      "text/plain": [
       "       user_id     distance   duration        date\n",
       "18063     1534  3781.098080  19.822962  2021-11-04\n",
       "18064     1534  2840.423057  21.409799  2021-11-16\n",
       "18065     1534  3826.185507  18.435051  2021-11-18\n",
       "18066     1534  2902.308661  16.674362  2021-11-27\n",
       "18067     1534  2371.711192  15.893917  2021-12-29"
      ]
     },
     "execution_count": 19,
     "metadata": {},
     "output_type": "execute_result"
    }
   ],
   "source": [
    "df_rides.tail()"
   ]
  },
  {
   "cell_type": "code",
   "execution_count": 20,
   "id": "e6f89ac7",
   "metadata": {},
   "outputs": [
    {
     "name": "stdout",
     "output_type": "stream",
     "text": [
      "<class 'pandas.core.frame.DataFrame'>\n",
      "RangeIndex: 18068 entries, 0 to 18067\n",
      "Data columns (total 4 columns):\n",
      " #   Column    Non-Null Count  Dtype  \n",
      "---  ------    --------------  -----  \n",
      " 0   user_id   18068 non-null  int64  \n",
      " 1   distance  18068 non-null  float64\n",
      " 2   duration  18068 non-null  float64\n",
      " 3   date      18068 non-null  object \n",
      "dtypes: float64(2), int64(1), object(1)\n",
      "memory usage: 564.8+ KB\n"
     ]
    }
   ],
   "source": [
    "# Ознакомимся с типом данных и изучим общую информацию о датафрейме \n",
    "df_rides.info()"
   ]
  },
  {
   "cell_type": "markdown",
   "id": "9b7d6a01",
   "metadata": {},
   "source": [
    "     Видим, что объём хранимых в датасете данных составил 564.8 килобайт. 1 столбец относится к целочисленному типу данных int(user_id), 1 столбец принадлежит к типу данных object, 2 столбца с вещественным типом данных float(distance, duration)"
   ]
  },
  {
   "cell_type": "code",
   "execution_count": 21,
   "id": "423eaa52",
   "metadata": {},
   "outputs": [
    {
     "data": {
      "text/html": [
       "<div>\n",
       "<style scoped>\n",
       "    .dataframe tbody tr th:only-of-type {\n",
       "        vertical-align: middle;\n",
       "    }\n",
       "\n",
       "    .dataframe tbody tr th {\n",
       "        vertical-align: top;\n",
       "    }\n",
       "\n",
       "    .dataframe thead th {\n",
       "        text-align: right;\n",
       "    }\n",
       "</style>\n",
       "<table border=\"1\" class=\"dataframe\">\n",
       "  <thead>\n",
       "    <tr style=\"text-align: right;\">\n",
       "      <th></th>\n",
       "      <th>subscription_type</th>\n",
       "      <th>minute_price</th>\n",
       "      <th>start_ride_price</th>\n",
       "      <th>subscription_fee</th>\n",
       "    </tr>\n",
       "  </thead>\n",
       "  <tbody>\n",
       "    <tr>\n",
       "      <th>0</th>\n",
       "      <td>free</td>\n",
       "      <td>8</td>\n",
       "      <td>50</td>\n",
       "      <td>0</td>\n",
       "    </tr>\n",
       "    <tr>\n",
       "      <th>1</th>\n",
       "      <td>ultra</td>\n",
       "      <td>6</td>\n",
       "      <td>0</td>\n",
       "      <td>199</td>\n",
       "    </tr>\n",
       "  </tbody>\n",
       "</table>\n",
       "</div>"
      ],
      "text/plain": [
       "  subscription_type  minute_price  start_ride_price  subscription_fee\n",
       "0              free             8                50                 0\n",
       "1             ultra             6                 0               199"
      ]
     },
     "execution_count": 21,
     "metadata": {},
     "output_type": "execute_result"
    }
   ],
   "source": [
    "# Изучим датафрейм df_subscriptions, в котором содержится информация о подписках пользователей\n",
    "df_subscriptions "
   ]
  },
  {
   "cell_type": "markdown",
   "id": "8493cac2",
   "metadata": {},
   "source": [
    "    В датафрейме всего две строки и 4 столбца. В столбце subscription_type содержится информация о типе подписки, в столбце minute_price стоимость одной минуты поездки по данной подписке. В столбце start_ride_price отображает стоимость начала поездки. В столбце subscription_fee содержится информация о стоимости ежемесячного платежа. \n"
   ]
  },
  {
   "cell_type": "code",
   "execution_count": 22,
   "id": "24c17283",
   "metadata": {},
   "outputs": [
    {
     "name": "stdout",
     "output_type": "stream",
     "text": [
      "<class 'pandas.core.frame.DataFrame'>\n",
      "RangeIndex: 2 entries, 0 to 1\n",
      "Data columns (total 4 columns):\n",
      " #   Column             Non-Null Count  Dtype \n",
      "---  ------             --------------  ----- \n",
      " 0   subscription_type  2 non-null      object\n",
      " 1   minute_price       2 non-null      int64 \n",
      " 2   start_ride_price   2 non-null      int64 \n",
      " 3   subscription_fee   2 non-null      int64 \n",
      "dtypes: int64(3), object(1)\n",
      "memory usage: 192.0+ bytes\n"
     ]
    }
   ],
   "source": [
    "df_subscriptions.info()"
   ]
  },
  {
   "cell_type": "markdown",
   "id": "cccc6533",
   "metadata": {},
   "source": [
    "    Объём хранимых в датасете данных составил  192 байта. Столбец subscription_type относится к типу данных object. Есть три столбца с целочисленным типом данных int(minute_price, start_ride_price, subscription_fee)"
   ]
  },
  {
   "cell_type": "markdown",
   "id": "b0dc0975",
   "metadata": {},
   "source": [
    "      Вывод: по итогам первичного знакомства данных я загрузил и  проанализировал 3 датафрейма df_users, df_rides, df_subscriptions, в которых содержится информация о пользователях, их поездках и подписках. Перейдем к следующему шагу исследования."
   ]
  },
  {
   "cell_type": "markdown",
   "id": "f01e2368",
   "metadata": {},
   "source": [
    "##    Шаг 2. Предобработка данных  "
   ]
  },
  {
   "cell_type": "markdown",
   "id": "013ed498",
   "metadata": {},
   "source": [
    "  ##  2.1 Приведём столбец date к типу даты Pandas."
   ]
  },
  {
   "cell_type": "code",
   "execution_count": 23,
   "id": "145acb91",
   "metadata": {},
   "outputs": [
    {
     "data": {
      "text/html": [
       "<div>\n",
       "<style scoped>\n",
       "    .dataframe tbody tr th:only-of-type {\n",
       "        vertical-align: middle;\n",
       "    }\n",
       "\n",
       "    .dataframe tbody tr th {\n",
       "        vertical-align: top;\n",
       "    }\n",
       "\n",
       "    .dataframe thead th {\n",
       "        text-align: right;\n",
       "    }\n",
       "</style>\n",
       "<table border=\"1\" class=\"dataframe\">\n",
       "  <thead>\n",
       "    <tr style=\"text-align: right;\">\n",
       "      <th></th>\n",
       "      <th>user_id</th>\n",
       "      <th>distance</th>\n",
       "      <th>duration</th>\n",
       "      <th>date</th>\n",
       "    </tr>\n",
       "  </thead>\n",
       "  <tbody>\n",
       "    <tr>\n",
       "      <th>0</th>\n",
       "      <td>1</td>\n",
       "      <td>4409.919140</td>\n",
       "      <td>25.599769</td>\n",
       "      <td>2021-01-01</td>\n",
       "    </tr>\n",
       "    <tr>\n",
       "      <th>1</th>\n",
       "      <td>1</td>\n",
       "      <td>2617.592153</td>\n",
       "      <td>15.816871</td>\n",
       "      <td>2021-01-18</td>\n",
       "    </tr>\n",
       "    <tr>\n",
       "      <th>2</th>\n",
       "      <td>1</td>\n",
       "      <td>754.159807</td>\n",
       "      <td>6.232113</td>\n",
       "      <td>2021-04-20</td>\n",
       "    </tr>\n",
       "    <tr>\n",
       "      <th>3</th>\n",
       "      <td>1</td>\n",
       "      <td>2694.783254</td>\n",
       "      <td>18.511000</td>\n",
       "      <td>2021-08-11</td>\n",
       "    </tr>\n",
       "    <tr>\n",
       "      <th>4</th>\n",
       "      <td>1</td>\n",
       "      <td>4028.687306</td>\n",
       "      <td>26.265803</td>\n",
       "      <td>2021-08-28</td>\n",
       "    </tr>\n",
       "    <tr>\n",
       "      <th>...</th>\n",
       "      <td>...</td>\n",
       "      <td>...</td>\n",
       "      <td>...</td>\n",
       "      <td>...</td>\n",
       "    </tr>\n",
       "    <tr>\n",
       "      <th>18063</th>\n",
       "      <td>1534</td>\n",
       "      <td>3781.098080</td>\n",
       "      <td>19.822962</td>\n",
       "      <td>2021-11-04</td>\n",
       "    </tr>\n",
       "    <tr>\n",
       "      <th>18064</th>\n",
       "      <td>1534</td>\n",
       "      <td>2840.423057</td>\n",
       "      <td>21.409799</td>\n",
       "      <td>2021-11-16</td>\n",
       "    </tr>\n",
       "    <tr>\n",
       "      <th>18065</th>\n",
       "      <td>1534</td>\n",
       "      <td>3826.185507</td>\n",
       "      <td>18.435051</td>\n",
       "      <td>2021-11-18</td>\n",
       "    </tr>\n",
       "    <tr>\n",
       "      <th>18066</th>\n",
       "      <td>1534</td>\n",
       "      <td>2902.308661</td>\n",
       "      <td>16.674362</td>\n",
       "      <td>2021-11-27</td>\n",
       "    </tr>\n",
       "    <tr>\n",
       "      <th>18067</th>\n",
       "      <td>1534</td>\n",
       "      <td>2371.711192</td>\n",
       "      <td>15.893917</td>\n",
       "      <td>2021-12-29</td>\n",
       "    </tr>\n",
       "  </tbody>\n",
       "</table>\n",
       "<p>18068 rows × 4 columns</p>\n",
       "</div>"
      ],
      "text/plain": [
       "       user_id     distance   duration        date\n",
       "0            1  4409.919140  25.599769  2021-01-01\n",
       "1            1  2617.592153  15.816871  2021-01-18\n",
       "2            1   754.159807   6.232113  2021-04-20\n",
       "3            1  2694.783254  18.511000  2021-08-11\n",
       "4            1  4028.687306  26.265803  2021-08-28\n",
       "...        ...          ...        ...         ...\n",
       "18063     1534  3781.098080  19.822962  2021-11-04\n",
       "18064     1534  2840.423057  21.409799  2021-11-16\n",
       "18065     1534  3826.185507  18.435051  2021-11-18\n",
       "18066     1534  2902.308661  16.674362  2021-11-27\n",
       "18067     1534  2371.711192  15.893917  2021-12-29\n",
       "\n",
       "[18068 rows x 4 columns]"
      ]
     },
     "execution_count": 23,
     "metadata": {},
     "output_type": "execute_result"
    }
   ],
   "source": [
    "df_rides"
   ]
  },
  {
   "cell_type": "code",
   "execution_count": 24,
   "id": "c8f27a00",
   "metadata": {},
   "outputs": [],
   "source": [
    "df_rides['date'] = pd.to_datetime(df_rides['date'])"
   ]
  },
  {
   "cell_type": "code",
   "execution_count": 25,
   "id": "34259061",
   "metadata": {},
   "outputs": [
    {
     "name": "stdout",
     "output_type": "stream",
     "text": [
      "<class 'pandas.core.frame.DataFrame'>\n",
      "RangeIndex: 18068 entries, 0 to 18067\n",
      "Data columns (total 4 columns):\n",
      " #   Column    Non-Null Count  Dtype         \n",
      "---  ------    --------------  -----         \n",
      " 0   user_id   18068 non-null  int64         \n",
      " 1   distance  18068 non-null  float64       \n",
      " 2   duration  18068 non-null  float64       \n",
      " 3   date      18068 non-null  datetime64[ns]\n",
      "dtypes: datetime64[ns](1), float64(2), int64(1)\n",
      "memory usage: 564.8 KB\n"
     ]
    }
   ],
   "source": [
    "df_rides.info()"
   ]
  },
  {
   "cell_type": "markdown",
   "id": "504bd34b",
   "metadata": {},
   "source": [
    "  ##  2.2 Создадим новый столбец с номером месяца на основе столбца date."
   ]
  },
  {
   "cell_type": "code",
   "execution_count": 26,
   "id": "ac3d8966",
   "metadata": {},
   "outputs": [
    {
     "data": {
      "text/html": [
       "<div>\n",
       "<style scoped>\n",
       "    .dataframe tbody tr th:only-of-type {\n",
       "        vertical-align: middle;\n",
       "    }\n",
       "\n",
       "    .dataframe tbody tr th {\n",
       "        vertical-align: top;\n",
       "    }\n",
       "\n",
       "    .dataframe thead th {\n",
       "        text-align: right;\n",
       "    }\n",
       "</style>\n",
       "<table border=\"1\" class=\"dataframe\">\n",
       "  <thead>\n",
       "    <tr style=\"text-align: right;\">\n",
       "      <th></th>\n",
       "      <th>user_id</th>\n",
       "      <th>distance</th>\n",
       "      <th>duration</th>\n",
       "      <th>date</th>\n",
       "      <th>date_month</th>\n",
       "    </tr>\n",
       "  </thead>\n",
       "  <tbody>\n",
       "    <tr>\n",
       "      <th>0</th>\n",
       "      <td>1</td>\n",
       "      <td>4409.919140</td>\n",
       "      <td>25.599769</td>\n",
       "      <td>2021-01-01</td>\n",
       "      <td>1</td>\n",
       "    </tr>\n",
       "    <tr>\n",
       "      <th>1</th>\n",
       "      <td>1</td>\n",
       "      <td>2617.592153</td>\n",
       "      <td>15.816871</td>\n",
       "      <td>2021-01-18</td>\n",
       "      <td>1</td>\n",
       "    </tr>\n",
       "    <tr>\n",
       "      <th>2</th>\n",
       "      <td>1</td>\n",
       "      <td>754.159807</td>\n",
       "      <td>6.232113</td>\n",
       "      <td>2021-04-20</td>\n",
       "      <td>4</td>\n",
       "    </tr>\n",
       "    <tr>\n",
       "      <th>3</th>\n",
       "      <td>1</td>\n",
       "      <td>2694.783254</td>\n",
       "      <td>18.511000</td>\n",
       "      <td>2021-08-11</td>\n",
       "      <td>8</td>\n",
       "    </tr>\n",
       "    <tr>\n",
       "      <th>4</th>\n",
       "      <td>1</td>\n",
       "      <td>4028.687306</td>\n",
       "      <td>26.265803</td>\n",
       "      <td>2021-08-28</td>\n",
       "      <td>8</td>\n",
       "    </tr>\n",
       "    <tr>\n",
       "      <th>...</th>\n",
       "      <td>...</td>\n",
       "      <td>...</td>\n",
       "      <td>...</td>\n",
       "      <td>...</td>\n",
       "      <td>...</td>\n",
       "    </tr>\n",
       "    <tr>\n",
       "      <th>18063</th>\n",
       "      <td>1534</td>\n",
       "      <td>3781.098080</td>\n",
       "      <td>19.822962</td>\n",
       "      <td>2021-11-04</td>\n",
       "      <td>11</td>\n",
       "    </tr>\n",
       "    <tr>\n",
       "      <th>18064</th>\n",
       "      <td>1534</td>\n",
       "      <td>2840.423057</td>\n",
       "      <td>21.409799</td>\n",
       "      <td>2021-11-16</td>\n",
       "      <td>11</td>\n",
       "    </tr>\n",
       "    <tr>\n",
       "      <th>18065</th>\n",
       "      <td>1534</td>\n",
       "      <td>3826.185507</td>\n",
       "      <td>18.435051</td>\n",
       "      <td>2021-11-18</td>\n",
       "      <td>11</td>\n",
       "    </tr>\n",
       "    <tr>\n",
       "      <th>18066</th>\n",
       "      <td>1534</td>\n",
       "      <td>2902.308661</td>\n",
       "      <td>16.674362</td>\n",
       "      <td>2021-11-27</td>\n",
       "      <td>11</td>\n",
       "    </tr>\n",
       "    <tr>\n",
       "      <th>18067</th>\n",
       "      <td>1534</td>\n",
       "      <td>2371.711192</td>\n",
       "      <td>15.893917</td>\n",
       "      <td>2021-12-29</td>\n",
       "      <td>12</td>\n",
       "    </tr>\n",
       "  </tbody>\n",
       "</table>\n",
       "<p>18068 rows × 5 columns</p>\n",
       "</div>"
      ],
      "text/plain": [
       "       user_id     distance   duration       date  date_month\n",
       "0            1  4409.919140  25.599769 2021-01-01           1\n",
       "1            1  2617.592153  15.816871 2021-01-18           1\n",
       "2            1   754.159807   6.232113 2021-04-20           4\n",
       "3            1  2694.783254  18.511000 2021-08-11           8\n",
       "4            1  4028.687306  26.265803 2021-08-28           8\n",
       "...        ...          ...        ...        ...         ...\n",
       "18063     1534  3781.098080  19.822962 2021-11-04          11\n",
       "18064     1534  2840.423057  21.409799 2021-11-16          11\n",
       "18065     1534  3826.185507  18.435051 2021-11-18          11\n",
       "18066     1534  2902.308661  16.674362 2021-11-27          11\n",
       "18067     1534  2371.711192  15.893917 2021-12-29          12\n",
       "\n",
       "[18068 rows x 5 columns]"
      ]
     },
     "execution_count": 26,
     "metadata": {},
     "output_type": "execute_result"
    }
   ],
   "source": [
    "df_rides['date_month'] = df_rides['date'].dt.month\n",
    "df_rides"
   ]
  },
  {
   "cell_type": "markdown",
   "id": "694cc5b9",
   "metadata": {},
   "source": [
    "  ##   2.3 Проверим наличие пропущенных значений и дубликатов в датафреймах. Обработаем их, если такие значения присутствуют.\n"
   ]
  },
  {
   "cell_type": "markdown",
   "id": "2b7ab637",
   "metadata": {},
   "source": [
    "    Изучим пропущенные значения в столбцах. Перед тем, как начать предобработку данных проверим наш датафрейм на наличие явных дубликатов"
   ]
  },
  {
   "cell_type": "code",
   "execution_count": 27,
   "id": "d3c69392",
   "metadata": {},
   "outputs": [
    {
     "data": {
      "text/plain": [
       "31"
      ]
     },
     "execution_count": 27,
     "metadata": {},
     "output_type": "execute_result"
    }
   ],
   "source": [
    "df_users.duplicated().sum()"
   ]
  },
  {
   "cell_type": "markdown",
   "id": "0af42026",
   "metadata": {},
   "source": [
    "    Всего в датафрейме df_users 31 явный дубликат. Воспользуемся методом drop_duplicates() для удаления дубликатов. "
   ]
  },
  {
   "cell_type": "code",
   "execution_count": 28,
   "id": "428efd2a",
   "metadata": {},
   "outputs": [],
   "source": [
    "df_users = df_users.drop_duplicates()"
   ]
  },
  {
   "cell_type": "code",
   "execution_count": 29,
   "id": "a1d46403",
   "metadata": {},
   "outputs": [
    {
     "data": {
      "text/html": [
       "<div>\n",
       "<style scoped>\n",
       "    .dataframe tbody tr th:only-of-type {\n",
       "        vertical-align: middle;\n",
       "    }\n",
       "\n",
       "    .dataframe tbody tr th {\n",
       "        vertical-align: top;\n",
       "    }\n",
       "\n",
       "    .dataframe thead th {\n",
       "        text-align: right;\n",
       "    }\n",
       "</style>\n",
       "<table border=\"1\" class=\"dataframe\">\n",
       "  <thead>\n",
       "    <tr style=\"text-align: right;\">\n",
       "      <th></th>\n",
       "      <th>user_id</th>\n",
       "      <th>name</th>\n",
       "      <th>age</th>\n",
       "      <th>city</th>\n",
       "      <th>subscription_type</th>\n",
       "    </tr>\n",
       "  </thead>\n",
       "  <tbody>\n",
       "    <tr>\n",
       "      <th>0</th>\n",
       "      <td>1</td>\n",
       "      <td>Кира</td>\n",
       "      <td>22</td>\n",
       "      <td>Тюмень</td>\n",
       "      <td>ultra</td>\n",
       "    </tr>\n",
       "    <tr>\n",
       "      <th>1</th>\n",
       "      <td>2</td>\n",
       "      <td>Станислав</td>\n",
       "      <td>31</td>\n",
       "      <td>Омск</td>\n",
       "      <td>ultra</td>\n",
       "    </tr>\n",
       "    <tr>\n",
       "      <th>2</th>\n",
       "      <td>3</td>\n",
       "      <td>Алексей</td>\n",
       "      <td>20</td>\n",
       "      <td>Москва</td>\n",
       "      <td>ultra</td>\n",
       "    </tr>\n",
       "    <tr>\n",
       "      <th>3</th>\n",
       "      <td>4</td>\n",
       "      <td>Константин</td>\n",
       "      <td>26</td>\n",
       "      <td>Ростов-на-Дону</td>\n",
       "      <td>ultra</td>\n",
       "    </tr>\n",
       "    <tr>\n",
       "      <th>4</th>\n",
       "      <td>5</td>\n",
       "      <td>Адель</td>\n",
       "      <td>28</td>\n",
       "      <td>Омск</td>\n",
       "      <td>ultra</td>\n",
       "    </tr>\n",
       "    <tr>\n",
       "      <th>...</th>\n",
       "      <td>...</td>\n",
       "      <td>...</td>\n",
       "      <td>...</td>\n",
       "      <td>...</td>\n",
       "      <td>...</td>\n",
       "    </tr>\n",
       "    <tr>\n",
       "      <th>1529</th>\n",
       "      <td>1530</td>\n",
       "      <td>Ростислав</td>\n",
       "      <td>29</td>\n",
       "      <td>Сочи</td>\n",
       "      <td>free</td>\n",
       "    </tr>\n",
       "    <tr>\n",
       "      <th>1530</th>\n",
       "      <td>1531</td>\n",
       "      <td>Никита</td>\n",
       "      <td>25</td>\n",
       "      <td>Пятигорск</td>\n",
       "      <td>free</td>\n",
       "    </tr>\n",
       "    <tr>\n",
       "      <th>1531</th>\n",
       "      <td>1532</td>\n",
       "      <td>Алексей</td>\n",
       "      <td>26</td>\n",
       "      <td>Тюмень</td>\n",
       "      <td>free</td>\n",
       "    </tr>\n",
       "    <tr>\n",
       "      <th>1532</th>\n",
       "      <td>1533</td>\n",
       "      <td>Степан</td>\n",
       "      <td>22</td>\n",
       "      <td>Краснодар</td>\n",
       "      <td>free</td>\n",
       "    </tr>\n",
       "    <tr>\n",
       "      <th>1533</th>\n",
       "      <td>1534</td>\n",
       "      <td>Альберт</td>\n",
       "      <td>25</td>\n",
       "      <td>Краснодар</td>\n",
       "      <td>free</td>\n",
       "    </tr>\n",
       "  </tbody>\n",
       "</table>\n",
       "<p>1534 rows × 5 columns</p>\n",
       "</div>"
      ],
      "text/plain": [
       "      user_id        name  age            city subscription_type\n",
       "0           1        Кира   22          Тюмень             ultra\n",
       "1           2   Станислав   31            Омск             ultra\n",
       "2           3     Алексей   20          Москва             ultra\n",
       "3           4  Константин   26  Ростов-на-Дону             ultra\n",
       "4           5       Адель   28            Омск             ultra\n",
       "...       ...         ...  ...             ...               ...\n",
       "1529     1530   Ростислав   29            Сочи              free\n",
       "1530     1531      Никита   25       Пятигорск              free\n",
       "1531     1532     Алексей   26          Тюмень              free\n",
       "1532     1533      Степан   22       Краснодар              free\n",
       "1533     1534     Альберт   25       Краснодар              free\n",
       "\n",
       "[1534 rows x 5 columns]"
      ]
     },
     "execution_count": 29,
     "metadata": {},
     "output_type": "execute_result"
    }
   ],
   "source": [
    "# Проверим, удалились ли дубликаты. Для этого выведем на экран изначальный датафрейм df_users\n",
    "df_users"
   ]
  },
  {
   "cell_type": "markdown",
   "id": "6993fd8c",
   "metadata": {},
   "source": [
    "    Видим, что изначально строк было 1565, после удаления дубликатов строк стало ровно на 31 меньше и составило 1534. Значит, удаление дубликатов прошло успешно"
   ]
  },
  {
   "cell_type": "code",
   "execution_count": 30,
   "id": "34d9f197",
   "metadata": {},
   "outputs": [
    {
     "data": {
      "text/plain": [
       "user_id              0\n",
       "name                 0\n",
       "age                  0\n",
       "city                 0\n",
       "subscription_type    0\n",
       "dtype: int64"
      ]
     },
     "execution_count": 30,
     "metadata": {},
     "output_type": "execute_result"
    }
   ],
   "source": [
    "# Посчитаем количество пропущенных значений \n",
    "df_users.isna().sum()"
   ]
  },
  {
   "cell_type": "markdown",
   "id": "d510c4d2",
   "metadata": {},
   "source": [
    " В df_users нет пропущенных значений. Можно двигаться дальше. "
   ]
  },
  {
   "cell_type": "code",
   "execution_count": 31,
   "id": "ea2a734f",
   "metadata": {},
   "outputs": [
    {
     "data": {
      "text/plain": [
       "0"
      ]
     },
     "execution_count": 31,
     "metadata": {},
     "output_type": "execute_result"
    }
   ],
   "source": [
    "# Перейдём к набору данных df_rides. Проверим датафрейм на наличие явных дубликатов \n",
    "\n",
    "df_rides.duplicated().sum()"
   ]
  },
  {
   "cell_type": "markdown",
   "id": "f51cb937",
   "metadata": {},
   "source": [
    "    Явные дубликаты здесь отсутствуют. Посчитаем количество пропущенных значений."
   ]
  },
  {
   "cell_type": "code",
   "execution_count": 32,
   "id": "579dff67",
   "metadata": {},
   "outputs": [
    {
     "data": {
      "text/plain": [
       "user_id       0\n",
       "distance      0\n",
       "duration      0\n",
       "date          0\n",
       "date_month    0\n",
       "dtype: int64"
      ]
     },
     "execution_count": 32,
     "metadata": {},
     "output_type": "execute_result"
    }
   ],
   "source": [
    "df_rides.isna().sum()"
   ]
  },
  {
   "cell_type": "code",
   "execution_count": 33,
   "id": "3d311b98",
   "metadata": {},
   "outputs": [
    {
     "name": "stdout",
     "output_type": "stream",
     "text": [
      "<class 'pandas.core.frame.DataFrame'>\n",
      "RangeIndex: 18068 entries, 0 to 18067\n",
      "Data columns (total 5 columns):\n",
      " #   Column      Non-Null Count  Dtype         \n",
      "---  ------      --------------  -----         \n",
      " 0   user_id     18068 non-null  int64         \n",
      " 1   distance    18068 non-null  float64       \n",
      " 2   duration    18068 non-null  float64       \n",
      " 3   date        18068 non-null  datetime64[ns]\n",
      " 4   date_month  18068 non-null  int64         \n",
      "dtypes: datetime64[ns](1), float64(2), int64(2)\n",
      "memory usage: 705.9 KB\n"
     ]
    }
   ],
   "source": [
    "# Пропущенных значений нет.Изучим общую информацию о датафрейме\n",
    "df_rides.info()"
   ]
  },
  {
   "cell_type": "markdown",
   "id": "03211219",
   "metadata": {},
   "source": [
    "    Переведём столбцы distance и duration к целочисленному типу данных Int. \n",
    "    "
   ]
  },
  {
   "cell_type": "code",
   "execution_count": 34,
   "id": "30f369fa",
   "metadata": {},
   "outputs": [
    {
     "name": "stdout",
     "output_type": "stream",
     "text": [
      "<class 'pandas.core.frame.DataFrame'>\n",
      "RangeIndex: 18068 entries, 0 to 18067\n",
      "Data columns (total 5 columns):\n",
      " #   Column      Non-Null Count  Dtype         \n",
      "---  ------      --------------  -----         \n",
      " 0   user_id     18068 non-null  int64         \n",
      " 1   distance    18068 non-null  int32         \n",
      " 2   duration    18068 non-null  float64       \n",
      " 3   date        18068 non-null  datetime64[ns]\n",
      " 4   date_month  18068 non-null  int64         \n",
      "dtypes: datetime64[ns](1), float64(1), int32(1), int64(2)\n",
      "memory usage: 635.3 KB\n"
     ]
    },
    {
     "data": {
      "text/html": [
       "<div>\n",
       "<style scoped>\n",
       "    .dataframe tbody tr th:only-of-type {\n",
       "        vertical-align: middle;\n",
       "    }\n",
       "\n",
       "    .dataframe tbody tr th {\n",
       "        vertical-align: top;\n",
       "    }\n",
       "\n",
       "    .dataframe thead th {\n",
       "        text-align: right;\n",
       "    }\n",
       "</style>\n",
       "<table border=\"1\" class=\"dataframe\">\n",
       "  <thead>\n",
       "    <tr style=\"text-align: right;\">\n",
       "      <th></th>\n",
       "      <th>user_id</th>\n",
       "      <th>distance</th>\n",
       "      <th>duration</th>\n",
       "      <th>date</th>\n",
       "      <th>date_month</th>\n",
       "    </tr>\n",
       "  </thead>\n",
       "  <tbody>\n",
       "    <tr>\n",
       "      <th>0</th>\n",
       "      <td>1</td>\n",
       "      <td>4410</td>\n",
       "      <td>25.599769</td>\n",
       "      <td>2021-01-01</td>\n",
       "      <td>1</td>\n",
       "    </tr>\n",
       "    <tr>\n",
       "      <th>1</th>\n",
       "      <td>1</td>\n",
       "      <td>2618</td>\n",
       "      <td>15.816871</td>\n",
       "      <td>2021-01-18</td>\n",
       "      <td>1</td>\n",
       "    </tr>\n",
       "    <tr>\n",
       "      <th>2</th>\n",
       "      <td>1</td>\n",
       "      <td>754</td>\n",
       "      <td>6.232113</td>\n",
       "      <td>2021-04-20</td>\n",
       "      <td>4</td>\n",
       "    </tr>\n",
       "    <tr>\n",
       "      <th>3</th>\n",
       "      <td>1</td>\n",
       "      <td>2695</td>\n",
       "      <td>18.511000</td>\n",
       "      <td>2021-08-11</td>\n",
       "      <td>8</td>\n",
       "    </tr>\n",
       "    <tr>\n",
       "      <th>4</th>\n",
       "      <td>1</td>\n",
       "      <td>4029</td>\n",
       "      <td>26.265803</td>\n",
       "      <td>2021-08-28</td>\n",
       "      <td>8</td>\n",
       "    </tr>\n",
       "  </tbody>\n",
       "</table>\n",
       "</div>"
      ],
      "text/plain": [
       "   user_id  distance   duration       date  date_month\n",
       "0        1      4410  25.599769 2021-01-01           1\n",
       "1        1      2618  15.816871 2021-01-18           1\n",
       "2        1       754   6.232113 2021-04-20           4\n",
       "3        1      2695  18.511000 2021-08-11           8\n",
       "4        1      4029  26.265803 2021-08-28           8"
      ]
     },
     "execution_count": 34,
     "metadata": {},
     "output_type": "execute_result"
    }
   ],
   "source": [
    "# Приведем столбец distance к целочисленному типу данных и округлим получившиеся значения.\n",
    "df_rides['distance'] = df_rides['distance'].round().astype('int')\n",
    "df_rides.info()\n",
    "df_rides.head()"
   ]
  },
  {
   "cell_type": "code",
   "execution_count": 35,
   "id": "5a153c63",
   "metadata": {},
   "outputs": [
    {
     "name": "stdout",
     "output_type": "stream",
     "text": [
      "<class 'pandas.core.frame.DataFrame'>\n",
      "RangeIndex: 18068 entries, 0 to 18067\n",
      "Data columns (total 5 columns):\n",
      " #   Column      Non-Null Count  Dtype         \n",
      "---  ------      --------------  -----         \n",
      " 0   user_id     18068 non-null  int64         \n",
      " 1   distance    18068 non-null  int32         \n",
      " 2   duration    18068 non-null  int32         \n",
      " 3   date        18068 non-null  datetime64[ns]\n",
      " 4   date_month  18068 non-null  int64         \n",
      "dtypes: datetime64[ns](1), int32(2), int64(2)\n",
      "memory usage: 564.8 KB\n"
     ]
    },
    {
     "data": {
      "text/html": [
       "<div>\n",
       "<style scoped>\n",
       "    .dataframe tbody tr th:only-of-type {\n",
       "        vertical-align: middle;\n",
       "    }\n",
       "\n",
       "    .dataframe tbody tr th {\n",
       "        vertical-align: top;\n",
       "    }\n",
       "\n",
       "    .dataframe thead th {\n",
       "        text-align: right;\n",
       "    }\n",
       "</style>\n",
       "<table border=\"1\" class=\"dataframe\">\n",
       "  <thead>\n",
       "    <tr style=\"text-align: right;\">\n",
       "      <th></th>\n",
       "      <th>user_id</th>\n",
       "      <th>distance</th>\n",
       "      <th>duration</th>\n",
       "      <th>date</th>\n",
       "      <th>date_month</th>\n",
       "    </tr>\n",
       "  </thead>\n",
       "  <tbody>\n",
       "    <tr>\n",
       "      <th>0</th>\n",
       "      <td>1</td>\n",
       "      <td>4410</td>\n",
       "      <td>26</td>\n",
       "      <td>2021-01-01</td>\n",
       "      <td>1</td>\n",
       "    </tr>\n",
       "    <tr>\n",
       "      <th>1</th>\n",
       "      <td>1</td>\n",
       "      <td>2618</td>\n",
       "      <td>16</td>\n",
       "      <td>2021-01-18</td>\n",
       "      <td>1</td>\n",
       "    </tr>\n",
       "    <tr>\n",
       "      <th>2</th>\n",
       "      <td>1</td>\n",
       "      <td>754</td>\n",
       "      <td>6</td>\n",
       "      <td>2021-04-20</td>\n",
       "      <td>4</td>\n",
       "    </tr>\n",
       "    <tr>\n",
       "      <th>3</th>\n",
       "      <td>1</td>\n",
       "      <td>2695</td>\n",
       "      <td>19</td>\n",
       "      <td>2021-08-11</td>\n",
       "      <td>8</td>\n",
       "    </tr>\n",
       "    <tr>\n",
       "      <th>4</th>\n",
       "      <td>1</td>\n",
       "      <td>4029</td>\n",
       "      <td>26</td>\n",
       "      <td>2021-08-28</td>\n",
       "      <td>8</td>\n",
       "    </tr>\n",
       "  </tbody>\n",
       "</table>\n",
       "</div>"
      ],
      "text/plain": [
       "   user_id  distance  duration       date  date_month\n",
       "0        1      4410        26 2021-01-01           1\n",
       "1        1      2618        16 2021-01-18           1\n",
       "2        1       754         6 2021-04-20           4\n",
       "3        1      2695        19 2021-08-11           8\n",
       "4        1      4029        26 2021-08-28           8"
      ]
     },
     "execution_count": 35,
     "metadata": {},
     "output_type": "execute_result"
    }
   ],
   "source": [
    "# Приведем столбец duration  к целочисленному типу данных и округлим получившиеся значения.\n",
    "df_rides['duration'] = df_rides['duration'].round().astype('int') \n",
    "df_rides.info()\n",
    "df_rides.head()"
   ]
  },
  {
   "cell_type": "code",
   "execution_count": 36,
   "id": "dbf4d320",
   "metadata": {},
   "outputs": [
    {
     "data": {
      "text/plain": [
       "0"
      ]
     },
     "execution_count": 36,
     "metadata": {},
     "output_type": "execute_result"
    }
   ],
   "source": [
    "# Изучим датафрейм df_subsсriptions на наличие явных дубликатов\n",
    "df_subscriptions.duplicated().sum()"
   ]
  },
  {
   "cell_type": "markdown",
   "id": "85365cb9",
   "metadata": {},
   "source": [
    "    Явных дубликатов нет . Посчитаем количество пропущенных значений."
   ]
  },
  {
   "cell_type": "code",
   "execution_count": 37,
   "id": "4f42c4f1",
   "metadata": {},
   "outputs": [
    {
     "data": {
      "text/plain": [
       "subscription_type    0\n",
       "minute_price         0\n",
       "start_ride_price     0\n",
       "subscription_fee     0\n",
       "dtype: int64"
      ]
     },
     "execution_count": 37,
     "metadata": {},
     "output_type": "execute_result"
    }
   ],
   "source": [
    "df_subscriptions.isna().sum()"
   ]
  },
  {
   "cell_type": "markdown",
   "id": "beb572e0",
   "metadata": {},
   "source": [
    "    Пропущенных значений не наблюдается. Изучим еще раз общую информацию о датафрейме. "
   ]
  },
  {
   "cell_type": "code",
   "execution_count": 38,
   "id": "5b403a3e",
   "metadata": {},
   "outputs": [
    {
     "name": "stdout",
     "output_type": "stream",
     "text": [
      "<class 'pandas.core.frame.DataFrame'>\n",
      "RangeIndex: 2 entries, 0 to 1\n",
      "Data columns (total 4 columns):\n",
      " #   Column             Non-Null Count  Dtype \n",
      "---  ------             --------------  ----- \n",
      " 0   subscription_type  2 non-null      object\n",
      " 1   minute_price       2 non-null      int64 \n",
      " 2   start_ride_price   2 non-null      int64 \n",
      " 3   subscription_fee   2 non-null      int64 \n",
      "dtypes: int64(3), object(1)\n",
      "memory usage: 192.0+ bytes\n"
     ]
    }
   ],
   "source": [
    "df_subscriptions.info()"
   ]
  },
  {
   "cell_type": "markdown",
   "id": "0e08db57",
   "metadata": {},
   "source": [
    "     Все столбцы соответствуют типам данных, в которых изначально были записаны."
   ]
  },
  {
   "cell_type": "markdown",
   "id": "3b4c4da0",
   "metadata": {},
   "source": [
    "Вывод по предобработке данных: \n",
    "\n",
    "Все выбранные столбцы были приведены к тому типу данных, который изначально планировался в данных столбцах. Перейдем к следующему шагу нашего исследования."
   ]
  },
  {
   "cell_type": "markdown",
   "id": "e2419a49",
   "metadata": {},
   "source": [
    "##    Шаг 3. Исследовательский анализ данных.\n",
    "### Опишем и визуализируем общую информацию о пользователях и поездках:"
   ]
  },
  {
   "cell_type": "markdown",
   "id": "6dd8fafc",
   "metadata": {},
   "source": [
    "    3.1. Частота встречаемости городов."
   ]
  },
  {
   "cell_type": "code",
   "execution_count": 39,
   "id": "819e6c8e",
   "metadata": {},
   "outputs": [
    {
     "data": {
      "image/png": "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\n",
      "text/plain": [
       "<Figure size 900x900 with 1 Axes>"
      ]
     },
     "metadata": {},
     "output_type": "display_data"
    }
   ],
   "source": [
    "# Построим столбчатую диаграмму, показывающую долю пользователей сервиса GoFast по городам \n",
    "df_users.groupby('city')['user_id'].agg('count').sort_values(ascending=False).plot(kind='pie',labels=None, label= ' ', autopct ='%1.0f%%',legend=True,figsize=(9, 9), title ='Доля пользователей сервиса аренды самокатов GoFast по городам', cmap = 'rainbow')\n",
    "plt.show()\n"
   ]
  },
  {
   "cell_type": "markdown",
   "id": "3cdb705c",
   "metadata": {},
   "source": [
    "    По данным столбчатой диаграммы можно увидеть, что наибольшая доля пользователей находится в Пятигорске, меньше всего пользователей в Москве. Можно заметить примерно равное распределение пользователей по городам, большого разброса значений не наблюдается."
   ]
  },
  {
   "cell_type": "code",
   "execution_count": 40,
   "id": "47eb64e2",
   "metadata": {
    "scrolled": true
   },
   "outputs": [
    {
     "data": {
      "text/plain": [
       "Пятигорск         219\n",
       "Екатеринбург      204\n",
       "Ростов-на-Дону    198\n",
       "Краснодар         193\n",
       "Сочи              189\n",
       "Омск              183\n",
       "Тюмень            180\n",
       "Москва            168\n",
       "Name: city, dtype: int64"
      ]
     },
     "execution_count": 40,
     "metadata": {},
     "output_type": "execute_result"
    },
    {
     "data": {
      "image/png": "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\n",
      "text/plain": [
       "<Figure size 700x700 with 1 Axes>"
      ]
     },
     "metadata": {},
     "output_type": "display_data"
    }
   ],
   "source": [
    "plt.figure(figsize= (7,7))\n",
    "df_users.city.hist(grid=True,bins=20)\n",
    "plt.title('Распределение пользователей сервиса аренды самокатов GoFast среди городов')\n",
    "plt.ylabel('Количество значений')\n",
    "plt.xlabel('Город')\n",
    "plt.xticks(rotation = 'vertical')\n",
    "plt.show\n",
    "# C помощью функции value_counts() посчитаем количество уникальных значений в столбце city.\n",
    "df_users['city'].value_counts()\n"
   ]
  },
  {
   "cell_type": "markdown",
   "id": "57b7eeba",
   "metadata": {},
   "source": [
    "Как видно из графика, больше всего пользователей сервиса аренды самокатов GoFast в Пятигорске, меньше всего в Москве."
   ]
  },
  {
   "cell_type": "markdown",
   "id": "dfca4506",
   "metadata": {},
   "source": [
    "    3.2 Соотношение пользователей с подпиской и без подписки "
   ]
  },
  {
   "cell_type": "code",
   "execution_count": 41,
   "id": "f4803303",
   "metadata": {},
   "outputs": [
    {
     "data": {
      "text/plain": [
       "835"
      ]
     },
     "execution_count": 41,
     "metadata": {},
     "output_type": "execute_result"
    }
   ],
   "source": [
    "# Посчитаем количество пользователей сервиса, которые не имеют подписки\n",
    "df_users.query('subscription_type == \"free\"')['subscription_type'].count()\n",
    "\n",
    "\n"
   ]
  },
  {
   "cell_type": "code",
   "execution_count": 42,
   "id": "3b9dd5e2",
   "metadata": {},
   "outputs": [
    {
     "data": {
      "text/plain": [
       "699"
      ]
     },
     "execution_count": 42,
     "metadata": {},
     "output_type": "execute_result"
    }
   ],
   "source": [
    "# Посчитаем количество пользователей сервиса, которые имеют подписку\n",
    "df_users.query('subscription_type ==\"ultra\"')['subscription_type'].count()"
   ]
  },
  {
   "cell_type": "code",
   "execution_count": 43,
   "id": "9ce7ecd4",
   "metadata": {},
   "outputs": [
    {
     "data": {
      "image/png": "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\n",
      "text/plain": [
       "<Figure size 900x900 with 1 Axes>"
      ]
     },
     "metadata": {},
     "output_type": "display_data"
    }
   ],
   "source": [
    "# Построим столбчатую диаграмму, показывающую соотношение пользователей с подпиской и без подписки\n",
    "df_users.groupby('subscription_type')['user_id'].agg('count').sort_values(ascending=False).plot(kind='pie',labels=None, label= ' ', autopct ='%1.0f%%',legend=True,figsize=(9, 9), title ='Соотношение пользователей сервиса аренды самокатов GoFast c подпиской(free) и без подписки(ultra) ', cmap = 'bwr')\n",
    "plt.show()"
   ]
  },
  {
   "cell_type": "code",
   "execution_count": 44,
   "id": "fcad8afb",
   "metadata": {},
   "outputs": [
    {
     "data": {
      "text/plain": [
       "count     1534\n",
       "unique       2\n",
       "top       free\n",
       "freq       835\n",
       "Name: subscription_type, dtype: object"
      ]
     },
     "execution_count": 44,
     "metadata": {},
     "output_type": "execute_result"
    },
    {
     "data": {
      "image/png": "iVBORw0KGgoAAAANSUhEUgAAAuYAAAK7CAYAAAC+iUp6AAAAOXRFWHRTb2Z0d2FyZQBNYXRwbG90bGliIHZlcnNpb24zLjcuMCwgaHR0cHM6Ly9tYXRwbG90bGliLm9yZy88F64QAAAACXBIWXMAAA9hAAAPYQGoP6dpAABs7klEQVR4nO3deVyU5f7/8ffIMiwCCiqIknulormvFW5g7mVlR1u0PCc9ph5cjmlmohaYlVpanupr4pJLi5qVFZhlGZpLarlkueRyEq1EESVAuH9/+Js5DosyCMwdvJ6PBw+da665r899M3PPm3uu+x6LYRiGAAAAALhUBVcXAAAAAIBgDgAAAJgCwRwAAAAwAYI5AAAAYAIEcwAAAMAECOYAAACACRDMAQAAABMgmAMAAAAmQDAHAAAATKDYg3l8fLwsFov9x93dXTVr1tSjjz6q//73v8U9HIC/kAkTJmjo0KE6f/68Tp48qebNm+uTTz5xdVkAXOTo0aMaPXq0GjZsKF9fX3l5eal27dp66KGH9MUXX6goX07+5ZdfOuSQq3/uu+++Yq1///79iomJ0S+//FKsy0X55V5SC160aJFuvfVWpaen66uvvlJcXJw2bdqkH374Qb6+viU1LAATGz58uLp06aJKlSpJkrp27aquXbu6tigALrFu3ToNGjRIVapU0fDhw9WiRQtZrVYdOnRI7733nrp06aINGzYUeR8RGxurzp07O7QFBQUVR+l2+/fv17Rp09SpUyfVrl27WJeN8qnEgnl4eLhatWolSercubOys7M1Y8YMrV27Vg8++GBJDQvAxOrWratDhw7p8OHD8vLyUq1atVxdEgAXOHz4sAYOHKjGjRtrw4YN8vf3t98XERGhoUOH6ssvv1TlypWLPEaDBg3Url274igXKDWlNsfc9uI4duyYJOm3337TiBEj1KhRI1WsWFHVqlVTly5d9PXXX+d5bEZGhqZPn66GDRvKy8tLQUFB6ty5s5KSkux9CvrYymKxOPwV+8svv8hisWjWrFl67rnndNNNN8nLy0utWrXS559/nmfsn3/+WYMGDVK1atVktVrVsGFDvfrqq/muY0xMTL7jd+rUKU9f21EAf39/+fj4qGPHjvmOL0m1a9fOd7lffvmlQ79Vq1apffv28vX1VcWKFdW9e3ft2rXLoc+QIUNUsWLFPGO89957eZbZqVOnPLV//fXX9vGvZhiGXnvtNTVr1kze3t6qXLmy7rvvPh05ciTfdbpaQdvN9hMfH+/Qf926dWrfvr18fHzk5+enyMhIbdmyJd9lF2bb1a5dW717975mjb/++qsiIiIUHBwsT09PhYSE6N5779XBgwcd+p09e1YjRoxQjRo15Onpqbp162ry5MnKyMhw6Hd1LW5ubgoNDdXgwYN1+vRph37Tpk1T27ZtFRgYKH9/f7Vo0UILFy50+Hi3oHXM7/mfmZmpZ599VrfeequsVquqVq2qRx99VL/99luedS7o4+DcR4VSU1M1fvx41alTR56enqpRo4aio6N18eLFPOscExMjd3d33XLLLapVq5ZmzJhR4Gskt5ycHM2bN8/+HKtUqZLatWundevWOfRz5nWwb98+de3aVb6+vqpatapGjhypS5cu5an7er8r234l93N16NChslgsGjJkiEP7f//7Xz3++OMKCwuTp6enQkNDdd9999mX+eeff2rcuHFq1qyZAgICFBgYqPbt2+uDDz647naSpMTERPXr1081a9aUl5eX6tevr2HDhun333936Gd77e3atUv9+/eXv7+/AgIC9NBDD+X7nCjufYxNQc/dq/vano/vvfdeges9ZMiQQh+1XL58udq3b6+KFSuqYsWKatasmRYuXGi/39ltWKVKFf35558O9y1evNi+Llc/LicnR7NmzbK/DqtVq6ZHHnlEJ0+edHh8fvvgSZMmycPDw2E77NixQ3/7299Uu3ZteXt7q3bt2ho4cKD9/VbKO830evvawuxnc++7K1asqBYtWmj58uXX3f6zZ8/WpUuX9NprrzmE8tzrf9tttzm0bd68WV27dpWfn598fHzUoUMHffzxx9cd72rO5I8FCxbotttuU8WKFeXn56dbb71VTz31lKQr2/T++++XdOUAZEHvWbn9+OOPGjhwoIKDg2W1WnXTTTfpkUcesb9P2H5XiYmJevTRRxUYGChfX1/16dMn3/dUZ/JEp06d8v3dx8TEOPTLr82Z/XVBz7Grl+nM++XIkSP1+uuv6+abb5bValWjRo20cuXKPOPu3btX/fr1U+XKleXl5aVmzZpp8eLF+dboTGZ76623dNttt8nLy0uBgYG65557dODAAYc+Q4YMcVhOQECAOnbsqISEhOtur6uVWjA/dOiQJKlq1aqSrvxCJGnq1Kn6+OOPtWjRItWtW1edOnVy2BlfvnxZPXr00IwZM9S7d2+tWbNG8fHx6tChg44fP+4wxn333actW7Y4/HTs2DHfeubPn69PP/1Uc+fO1bJly1ShQgX16NHDYcezf/9+tW7dWnv37tVLL72kjz76SL169dLo0aM1bdq0Atf1008/tY9ft27dPPcvW7ZMUVFR8vf31+LFi/XOO+8oMDBQ3bt3L/DF1LNnT/sy8/vDIDY2VgMHDlSjRo30zjvvaOnSpbpw4YLuuOMO7d+/v8BanZGdna0nnnhCbm5uee4bNmyYoqOj1a1bN61du1avvfaa9u3bpw4dOuQJmwW5ertt2bJFixYtytNn+fLl6tevn/z9/bVixQotXLhQKSkp6tSpkzZv3pzvcq+37QrD09NT9913n+Lj47Vx40bNmzdPx48fV7du3ewh+c8//1Tnzp21ZMkSjR07Vh9//LEeeughzZo1S/3798+zzKFDh2rLli3atGmT/v3vf2vVqlV69NFHHfr88ssvGjZsmN555x2tXr1a/fv316hRozRjxgx7nzVr1uRZv1dffdXetmbNGklXwkC/fv00c+ZMDRo0SB9//LFmzpypxMREderUSenp6fmu+9XL6tmzp8N9ly5dUkREhBYvXqzRo0frk08+0ZNPPqn4+Hj17dv3mvNDjx07pri4uHyfT/kZMmSI/vWvf6l169ZatWqVVq5cqb59+zrM7XTmdZCVlaWePXuqa9euWrt2rX3H/8ADD+QZuzC/q9y+/fZbLVq0KM/6/fe//1Xr1q21Zs0ajR07Vp988onmzp2rgIAApaSkSLpyMOLs2bMaP3681q5dqxUrVuj2229X//79tWTJkutuq8OHD6t9+/ZasGCBEhIS9Mwzz+jbb7/V7bffrqysrDz977nnHtWvX1/vvfeeYmJitHbtWnXv3t2hb0nvY67ef8fGxt7w8q7lmWee0YMPPqjQ0FDFx8drzZo1Gjx4sEOQdXYbGoaRJ5C++uqr+U6d+Oc//6knn3xSkZGRWrdunWbMmKFPP/1UHTp0yBP8r/bUU0/pxRdf1IoVKxzmSv/yyy+65ZZbNHfuXH322Wd6/vnnderUKbVu3dq+vF69ejnsX5s3b67mzZs7tPXq1UuS8/tZ2+NXrVqlSpUq6aGHHtK33357zd9BYmKiqlevbv9kvTA2bdqkLl266Pz581q4cKFWrFghPz8/9enTR6tWrcrTPycnR5cvX3b4kQqfP1auXKkRI0YoIiJCa9as0dq1azVmzBj7QYdevXrZn6tX7ydt2zE/e/bsUevWrbV161ZNnz5dn3zyieLi4pSRkaHMzEyHvkOHDlWFChW0fPlyzZ07V9u2bVOnTp107tw5e5+i5Im6devaa/3000+vv+Hl/P5ayj+T/f3vf5fk/PvlunXr9Morr2j69Ol67733VKtWLQ0cONDhD9SDBw+qQ4cO2rdvn1555RWtXr1ajRo10pAhQzRr1qwC67xeZouLi9PQoUPVuHFjrV69Wi+//LK+//57tW/fXj///LND35CQEIcMc/HiRfXt21cnTpwo9HaTUcwWLVpkSDK2bt1qZGVlGRcuXDA++ugjo2rVqoafn5+RnJyc7+MuX75sZGVlGV27djXuuecee/uSJUsMScabb755zXElGU888USe9l69ehm1atWy3z569KghyQgNDTXS09Pt7ampqUZgYKDRrVs3e1v37t2NmjVrGufPn3dY5siRIw0vLy/j7NmzDu0TJ040JDm0N27c2IiIiLDfvnjxohEYGGj06dPH4bHZ2dnGbbfdZrRp0ybPOlSvXt0YOnSo/fYXX3xhSDK++OILwzAM4/jx44a7u7sxatQoh8dduHDBCAkJMQYMGGBvGzx4sOHr65tnjHfffddhmYZhGBEREQ61z5071/D19TUee+wx4+qnzpYtWwxJxksvveSwzBMnThje3t7GhAkT8ox3talTpxqSjN9++82hffv27YYkY9GiRYZhXNlGoaGhRpMmTYzs7GyH9axWrZrRoUOHPMu+3rYzDMOoVauW0atXr2vWaJOdnW1kZmYaJ06cMB544AGH3/d//vMfQ5LxzjvvODzm+eefNyQZCQkJ9jZJxtSpUx363X333Ua1atWuOXZWVpYxffp0IygoyMjJycnTJ7/1s1mxYoUhyXj//fcd2m3b+bXXXnNo/+yzzwxJxtdff21vGzx4sMPrKS4uzqhQoYKxfft2h8e+9957hiRj/fr1Ba7z3XffbTRv3ty44447HJ5n+fnqq68MScbkyZML7OPs60CS8fLLLzv0fe655wxJxubNmwus21b71b8r237l6udqy5Ytjb59+xq1atUyBg8ebO/72GOPGR4eHsb+/fuvuc5Xs+0fhw4dajRv3rzQjzMMw8jJyTGysrKMY8eOGZKMDz74wH6f7bU3ZswYh8e8/fbbhiRj2bJlhmGU3D7GMAzjzz//NCQZo0ePvmZf23P73XffLXBdcz8/83PkyBHDzc3NePDBB6/Z72qF2Yb//ve/HX43W7duNby8vIxRo0Y57N8OHDhgSDJGjBjhMMa3335rSDKeeuope9vV++CnnnrKcHd3v+b621y+fNlIS0szfH198zzH81v21ZzZz9rW/Wq7d+/Od3+Sm5eXl9GuXbt8x8/KyrL/XF1Du3btjGrVqhkXLlxwWNfw8HCjZs2a9n2i7bmS38/PP/+cZ8yC8sfIkSONSpUqXXM9CnpeF6RLly5GpUqVjDNnzhTYx5ajrq7FMAzjm2++MSQZzz77rGEYRcsT7dq1M5o2bWq//dtvv+W7j7uR/bXt8fllMhtn3y+9vb0d8uPly5eNW2+91ahfv7697W9/+5thtVqN48ePOyyzR48eho+Pj3Hu3DmH9sJktpSUFMPb29vo2bOnw2OPHz9uWK1WY9CgQfa2/PY/a9euzfNeeD0ldsS8Xbt28vDwkJ+fn3r37q2QkBB98sknCg4Otvf5z3/+oxYtWsjLy0vu7u7y8PDQ559/7vDxwCeffCIvLy899thjxVpf//795eXlZb9t+6v7q6++UnZ2tv788099/vnnuueee+Tj4+PwF3fPnj31559/auvWrQ7LTEtLkyT5+PgUOG5SUpLOnj2rwYMHOywzJydHd911l7Zv355nCkB6erpDrbl99tlnunz5sh555BGHZXp5eSkiIiLfj45zH0XIycm55vY6ffq0pk6dqilTpigsLMzhvo8++kgWi0UPPfSQwzJDQkJ022235Tt+URw8eFC//vqrHn74YVWo8L+nbsWKFXXvvfdq69ateaYhXG/b2RiGocuXLys7O/ua/fr37y9PT0+FhYXpvffe08SJE+1zIDdu3ChfX988Z/3bpjHkPnphO5qTkZGhr7/+2v4R7dU2btyobt26KSAgQG5ubvLw8NAzzzyjP/74Q2fOnLnuel3to48+UqVKldSnTx+H31OzZs0UEhKS5/dkO4J+re330UcfKTw8XM2aNXNYZvfu3QuctiBdOULxwQcf6NVXX3X4XRbEduWWJ554osA+RXkd5D7fZdCgQZKkL774wqG9ML+rq73++uvav3+/5s6dm++6dO7cWQ0bNizw8ZL07rvvqmPHjqpYsaJ9/7hw4cI8H5/m58yZMxo+fLjCwsLsj7XN58/v8bm3w4ABA+Tu7m7fDiW5jynMfvNqtt/F9fZZBUlMTLR/+nctzm7Dv//97/rxxx/1zTffSJLmzZungQMHKjAw0KGfbZvmnt7Upk0bNWzYMN+jnE8//bRiY2M1ZsyYfK8qkpaWpieffFL169eXu7u73N3dVbFiRV28eLFQz5erFWU/a/sdnzlzRgsWLJCHh4fuuOMOp8a16d+/vzw8POw/o0ePliRdvHhR3377re677z6HqVJubm56+OGHdfLkyTxTC59//nlt377d4cf2/lWY/NGmTRudO3dOAwcO1AcffHDNTzMK49KlS9q0aZMGDBhgnz1wLblflx06dFCtWrXsz6Gi5Im0tLRCv9ZsnN1fF4az75ddu3Z1yI9ubm564IEHdOjQIfsUsI0bN6pr1655MsqQIUN06dKlPFOxCrPv2bJli9LT0/O8XsPCwtSlS5d8X6+238OJEye0aNEiBQQEqGXLlgWOkVuJnfy5ZMkSNWzYUO7u7goODlb16tUd7p89e7bGjRun4cOHa8aMGapSpYrc3Nw0ZcoUhxfGb7/9ptDQ0GJ7MtiEhITk25aZmam0tDSlpaXp8uXLmjdvnubNm5fvMnK/SP/73/8qMDBQVqu1wHFt0zqudcmms2fP2q9ck5WVpfPnz6tKlSrXXWbr1q3zvT/3trt48aI8PDwKXF5+/v3vfyskJERjxozJ8zHz6dOnZRiGw4vmavl9NFQUf/zxhyTleS5JUmhoqHJycpSSkmJ/kRVm29msX7/evk0qVqyohg0b6sknn9S9997r0O+ll17SpEmT9NNPP+n9999Xhw4dHOoLCQnJM/++WrVqcnd3t9dvM2PGDIcpKe3atXMIctu2bVNUVJQ6deqkN998UzVr1pSnp6fWrl2r5557rsCpJwU5ffq0zp07J09Pz3zvz/18tt2+3nPv0KFDBT6f8nsjy8jI0OjRozVkyBC1b9++ULX/9ttvcnNzy/d1e3UtUuFfB+7u7nmmGdiW7+zv6mq///67nn76aU2cOFF16tTJd11q1qxZ4HpI0urVqzVgwADdf//99teeu7u7FixYoLfeeuuaj83JyVFUVJR+/fVXTZkyRU2aNJGvr69ycnLUrl27fJ83uberbdvYtkNJ7mNsl9ENDQ0tVH/bVCOLxaKqVauqc+fOmjlzZqHnltvmzl/rd1CUbRgYGKhBgwZp/vz5atCggd59911t2bIlzzkQ19uPXT2dRroSDL755hvdfvvtevPNNzVq1Kg8wWPQoEH6/PPPNWXKFLVu3Vr+/v6yWCzq2bOn0/sJZ/ezkhx+197e3po3b57Cw8OvOc5NN92UZ12lK/vYp59+WpLj8y0lJUWGYRRY19W129StWzffqTKFzR8PP/ywLl++rDfffFP33nuvcnJy1Lp1az377LOKjIy85vrlJyUlRdnZ2dd9/dsUlFNyvy4LmyekK+dLFWaOuE1R9teF4ez7ZUHbwrasmjVr6o8//nDq+VGYzHa910NiYqJD27FjxxxeD5UrV1Z8fLyqVatW4Bi5lVgwb9iw4TXnji1btkydOnXSggULHNovXLjgcLtq1aravHmzcnJyijWcJycn59vm6empihUrysPDw/6XeEFHVnK/6e7Zs0dNmjS55ri2kDNv3rwCzxa/OuAePnxYhmGofv36112mbd7V9Xh7e+urr75yaNu4caOefPLJfPtv3rxZy5Yt02effZZvqKtSpYosFou+/vrrfJ/g13rSO8MWok6dOpXnvl9//VUVKlRwOIO/MNvO5vbbb9ecOXMkXQlWc+fO1YABA7Rt2zaHv3Tr1aunevXqqW3btqpVq5Y6d+6sPXv2KDw8XEFBQfr2229lGIbDzubMmTO6fPlynoD7j3/8Q48//rgMw9Cvv/6q2NhYtW/fXrt375afn59WrlwpDw8PffTRRw5HrdeuXVu4DZZLlSpVFBQUVOCcQj8/P4fbP//8s7y8vK75JlKlShV5e3sXGBbzC/UvvviifvvtNz3//POFrr1q1arKzs5WcnJyvjvIq8cq7Ovg8uXL+uOPPxzCuW2/kDuwX+93dbVJkyapUqVKmjBhQoHrkvskv9yWLVumOnXqaNWqVQ7PpdwnReVn79692rNnj+Lj4zV48GB7u+08n/wkJyerRo0a9tu5t01J7mP27NkjSdfdd9o8//zz6tKli7Kzs3XgwAFNmDBBd999t3bv3l2ox9uOVJ48eTJPwLUpyjaUpJEjR6pNmzYKDAxUy5Yt1aJFizzB/Or9WO7X1q+//prnNZOTk6MVK1aoR48eat68uf363rb3w/Pnz+ujjz7S1KlTNXHiRPvjbOcpOMvZ/awkbd++XdKVecObNm3SyJEjdfny5Wt+KhEZGalXX31VO3bscMgK9erVy7d/5cqVVaFChQLrkq59EOFqhc0fkvToo4/q0Ucf1cWLF/XVV19p6tSp6t27t3766SenryoVGBgoNze3677+bQrKKbb3NGfzxIkTJ3T27NlCv9akou2vC8PZ98uCtoVtWbZ/nXl+FCazXe/1kHuZ1atXt7/mL168qA8++ED33XefVq9erb59+15zLJsSC+bXY7FY8gS277//Xlu2bHHYWfbo0UMrVqxQfHx8sU5nWb16tV544QV74Llw4YI+/PBD3XHHHXJzc5OPj486d+6sXbt2qWnTpgUeZbTZt2+fjhw5ohEjRlyzX8eOHVWpUiXt379fI0eOvG6dthB2rY8Fu3fvLnd3dx0+fDjPEd78VKhQIc8fTQV9OUJ2drZGjhype++9t8AjBL1799bMmTP13//+VwMGDLju+EV1yy23qEaNGlq+fLnGjx9vfzFfvHhR77//vv0KAjaF2XY2AQEBDtukevXq+uyzz7Rz584CP4K6dOmScnJytH//foWHh6tr16565513tHbtWt1zzz32fraT9XJPfQgNDXUY0zAM3XPPPdqyZYuioqLsX9B19ck26enpWrp06XXXJz+9e/fWypUrlZ2drbZt216zb1ZWltavX6/27dvL3b3g3UTv3r0VGxuroKCgfI8O53b8+HGtWrVKs2bNKtRHuTY9evRQXFycFixYoOnTp+fbx9nXgSS9/fbb9o/KJdlP3st9ROl6vyubbdu2aeHChfrwww8LnALUo0cPLV26VAcPHtQtt9ySbx+LxSJPT0+HN6zk5ORCXZXF9pjc+9fXX3+9wMe8/fbbDs/zd955R5cvX7Zvh5Lcx6xbt05BQUEOnz5dy9VHQdu2bas9e/Zo7ty5hfqjRZKioqLk5uamBQsWFHgEsCjbUJKaNWumtm3b6rXXXtPbb7+db58uXbpIuhIOrz4ivH37dh04cECTJ0926N+xY0f7EdFly5apY8eOmjlzpv3KIBaLRYZh5Kn1//7v/647NS8/zu5nJTn8rm+//Xa9++67evvtt68ZzMeMGaNFixbpiSee0IYNG/L8gZubr6+v2rZtq9WrV+vFF1+Ut7e3pCt/uCxbtkw1a9bUzTffXKh1LGz+yD1+jx49lJmZqbvvvlv79u1TrVq17MspzCcT3t7eioiI0Lvvvqvnnnvuun9IvP322w6vt6SkJB07dsx+AqWzecIWGPv06XPdvlLR99eF4ez75eeff67Tp0/b/9DIzs7WqlWrVK9ePfsfuF27dtWaNWv066+/OnwCt2TJEvn4+Dj88VLYzNa+fXt5e3tr2bJl9ivwSFf+sN+4cWOeTys8PT0dXg8RERFatGiR/WIFheGyYN67d2/NmDFDU6dOVUREhA4ePKjp06erTp069jOnJWngwIFatGiRhg8froMHD6pz587KycnRt99+q4YNG+pvf/tbkcZ3c3NTZGSkxo4dq5ycHD3//PNKTU11uNrKyy+/rNtvv1133HGH/vnPf6p27dq6cOGCDh06pA8//FAbN26UdOXqC6NGjZKnp6fCw8Md5p6np6crNTVVu3btUvPmzVWxYkXNmzdPgwcP1tmzZ3XfffepWrVq+u2337Rnzx799ttvWrBggU6dOqX58+dr1qxZGjRo0DX/Mq9du7amT5+uyZMn68iRI7rrrrtUuXJlnT59Wtu2bZOvr+81ryJzLVu2bJGXl5c+/PDDAvt07NhRjz/+uB599FHt2LFDd955p3x9fXXq1Clt3rxZTZo00T//+c8ijX+1ChUqaNasWXrwwQfVu3dvDRs2TBkZGXrhhRd07tw5zZw5U5Kc2nY2Fy9e1I8//ijpykdXs2fPdggXixcv1qFDh+wfE//www+KjY1VQECAIiIiJEmPPPKIXn31VQ0ePFi//PKLmjRpos2bNys2NlY9e/ZUt27dHMY8efKktm7daj8KGxcXZ78kp3TljP/Zs2dr0KBBevzxx/XHH3/oxRdfLPInEH/729/09ttvq2fPnvrXv/6lNm3ayMPDQydPntQXX3yhfv366Z577tGXX36puLg47d2797rfyhkdHa33339fd955p8aMGaOmTZsqJydHx48fV0JCgsaNG+fwR8CSJUvUtGlTDR8+3Kna77jjDj388MN69tlndfr0afXu3VtWq1W7du2Sj4+PRo0a5fTrwNPTUy+99JLS0tLUunVrJSUl6dlnn1WPHj10++23O4x/vd+VzRtvvKE+ffpc86oMtisx3HnnnXrqqafUpEkTnTt3Tp9++qnGjh2rW2+9Vb1799bq1as1YsQI3XfffTpx4oRmzJih6tWr57kKQG633nqr6tWrp4kTJ8owDAUGBurDDz/M85Hr1VavXi13d3dFRkZq3759mjJlim677Tb7H9olsY/57bfftGLFCr3//vsaOHCgvvvuO/t9tnXcv3+/Gjdu7BAKfv31V/3444/Kzs7WTz/9pHfffVfNmjUr9Ouidu3aeuqppzRjxgylp6dr4MCBCggI0P79+/X7779r2rRpRdqGNkuWLNHhw4ft+4XcbrnlFj3++OOaN2+e/Wpgv/zyi/38nTFjxhS47DZt2mjq1KmaOnWqunXrpjZt2sjf31933nmnXnjhBVWpUkW1a9fWpk2btHDhQvsXeTmjsPvZq9ne82xHzPfu3athw4Zdc5x69eppxYoVGjhwoP09wvYFQ2fOnLFfYu7qSynGxcUpMjJSnTt31vjx4+Xp6anXXntNe/fu1YoVK/JMiyhIYfPHP/7xD3l7e6tjx46qXr26kpOTFRcXp4CAAPsfVbYpO2+88Yb8/Pzk5eWlOnXqFPhFRrNnz9btt9+utm3bauLEiapfv75Onz6tdevW6fXXX3f4A2XHjh36+9//rvvvv18nTpzQ5MmTVaNGDXuYLGyeyMjI0KeffqqYmBjdeuutysrKsv/Ozp8/L+nKPu7w4cMOn1gUdX9dGM6+X1apUkVdunTRlClT5Ovrq9dee00//vijwyUTp06dqo8++kidO3fWM888o8DAQL399tv6+OOPNWvWLAUEBEhyLrNVqlRJU6ZM0VNPPaVHHnlEAwcO1B9//KFp06bJy8tLU6dOdagzIyPDvjzbEfNz586pefPmhd84hT5NtJBsZxPnvkpDbhkZGcb48eONGjVqGF5eXkaLFi2MtWvX5ntWa3p6uvHMM88YDRo0MDw9PY2goCCjS5cuRlJSkr2PnLwqy/PPP29MmzbNqFmzpuHp6Wk0b97c+Oyzz/I8/ujRo8Zjjz1m1KhRw/Dw8DCqVq1qdOjQwX5WtGFcuaqHCjgD3PaTe502bdpk9OrVywgMDDQ8PDyMGjVqGL169bKfcb98+XLj1ltvNWbMmGFkZmY6PLagK2+sXbvW6Ny5s+Hv729YrVajVq1axn333Wds2LDB3sfZq7JIMuLi4hz65ncmvmEYxltvvWW0bdvW8PX1Nby9vY169eoZjzzyiLFjx448ffNb3vWuynL1erZt29bw8vIyfH19ja5duxrffPON/X5nt13u31+lSpWM9u3bO1y95JNPPjHatm1rVKpUyfD09DTCwsKMhx9+2Ni3b5/D8v/44w9j+PDhRvXq1Q13d3ejVq1axqRJk4w///zTod/V41ksFvtzeuPGjXm26S233GJYrVajbt26RlxcnLFw4UJDknH06NE82/JaV2UxDMPIysoyXnzxReO2224zvLy8jIoVKxq33nqrMWzYMPvVCu6++26jS5cuDmfF2+T3+kxLSzOefvpp45ZbbjE8PT2NgIAAo0mTJsaYMWMczqK3revVr1vDKPjqELllZ2cbc+bMMcLDw+3jtG/f3vjwww8d+jnzOvj++++NTp06Gd7e3kZgYKDxz3/+00hLS3NYXmF+V7b9ipeXl3HkyBGHx+e+KothXLli0WOPPWaEhIQYHh4eRmhoqDFgwADj9OnT9j4zZ840ateubVitVqNhw4bGm2++WeBrL7f9+/cbkZGRhp+fn1G5cmXj/vvvN44fP57nSgu25e3cudPo06ePUbFiRcPPz88YOHCgQy1F2ba55d7H2N4rrvdje/3nvtKGm5ubUb16dWPgwIH210Jhrspis2TJEqN169b210Hz5s0d9jXObsPc+69r3Z+dnW08//zzxs0332x4eHgYVapUMR566CHjxIkTDo/N77Vx+fJl4/bbbzfq169vvzrJyZMnjXvvvdeoXLmy4efnZ9x1113G3r17833uXWvZV7vefvbqdbP92PZT48ePNy5dulTgsq92+PBhY9SoUcYtt9xieHt7259X999/v7FmzZo8V5/6+uuvjS5dutjfZ9q1a5dnH3C9K/gUNn8sXrzY6Ny5sxEcHGx4enraX6fff/+9w/Lmzp1r1KlTx3Bzc8v3PSu3/fv3G/fff78RFBRkeHp6GjfddJMxZMgQ+/uE7bWRkJBgPPzww0alSpXsVwbJ76oy18sTtv3T9X6ufq7c6P66oEx2NWfeL5944gnjtddeM+rVq2d4eHgYt956q/H222/nWeYPP/xg9OnTxwgICDA8PT2N2267Lc/voyiZ7f/+7/+Mpk2b2t97+vXrl+f933a1L9uPj4+P0bBhQ+O5555zuLrQdbddoXuWEbYn6AsvvFBsy6xVq9Y1X4hffPFFod8sAJS8gsJjeXO9UFmSFi1adN39YkRExHVDDlDWFPYAZ2HZck9+B3Nspk6dWuAfca5WmJDvDLNnNpdNZSlLmjdvfs35V/7+/s59jAEAZVzVqlWvu19s1KhRsc9tBcobq9Wqtm3bXnO6V82aNZ368qC/MrNnNoJ5MbB9s2JBWrRocd0+AFCe9OrV65pz8SXptddeK6VqgLKrevXqeb53JTfbCaXlgdkzm8UwrvGd2QAAAABKRYl98ycAAACAwiOYAwAAACZAMAcAAABMgJM/deWbw3799Vf5+fkV+gsKAAAAUHoMw9CFCxcUGhqqChXK5rFlgrmufJNcQV/DCwAAAPM4ceKEatas6eoySgTBXLJ/Be6JEyccvv63pGRlZSkhIUFRUVHy8PAo8fEAAACKW2nnmdTUVIWFhdlzW1lEMJfs01f8/f1LLZj7+PjI39+fYA4AAP6SXJVnyvK047I5QQcAAAD4iyGYAwAAACZAMAcAAABMgGAOAAAAmADBHAAAADABgjkAAABgAgRzAAAAwAQI5gAAAIAJEMwBAAAAEyCYAwAAACZAMAcAAABMgGAOAAAAmADBHAAAADABgjkAAABgAgRzAAAAwAQI5gAAAIAJEMwBAAAAEyCYAwAAACZAMAcAAABMgGAOAAAAmADBHAAAADABgjkAAABgAgRzAAAAwAQI5gAAAIAJEMwBAAAAEyCYAwAAACbg7uoCAAAAyqLaEz92dQklyupmaFYbV1dRtnDEHAAAADABgjkAAABgAgRzAAAAwAQI5gAAAIAJEMwBAAAAEyCYAwAAACZAMAcAAABMgGAOAAAAmADBHAAAADABgjkAAABgAgRzAAAAwAQI5gAAAIAJEMwBAAAAEyCYAwAAACZAMAcAAABMgGAOAAAAmADBHAAAADABgjkAAABgAgRzAAAAwAQI5gAAAIAJuDSYX758WU8//bTq1Kkjb29v1a1bV9OnT1dOTo69j2EYiomJUWhoqLy9vdWpUyft27fPYTkZGRkaNWqUqlSpIl9fX/Xt21cnT54s7dUBAAAAisylwfz555/Xf/7zH82fP18HDhzQrFmz9MILL2jevHn2PrNmzdLs2bM1f/58bd++XSEhIYqMjNSFCxfsfaKjo7VmzRqtXLlSmzdvVlpamnr37q3s7GxXrBYAAADgNHdXDr5lyxb169dPvXr1kiTVrl1bK1as0I4dOyRdOVo+d+5cTZ48Wf3795ckLV68WMHBwVq+fLmGDRum8+fPa+HChVq6dKm6desmSVq2bJnCwsK0YcMGde/e3TUrBwAAADjBpcH89ttv13/+8x/99NNPuvnmm7Vnzx5t3rxZc+fOlSQdPXpUycnJioqKsj/GarUqIiJCSUlJGjZsmHbu3KmsrCyHPqGhoQoPD1dSUlK+wTwjI0MZGRn226mpqZKkrKwsZWVlldDa/o9tjNIYCwAAuIbVzXB1CSXKWuHK+pVWnikPucmlwfzJJ5/U+fPndeutt8rNzU3Z2dl67rnnNHDgQElScnKyJCk4ONjhccHBwTp27Ji9j6enpypXrpynj+3xucXFxWnatGl52hMSEuTj43PD61VYiYmJpTYWAAAoXbPauLqC0lFaeebSpUulMo4ruTSYr1q1SsuWLdPy5cvVuHFj7d69W9HR0QoNDdXgwYPt/SwWi8PjDMPI05bbtfpMmjRJY8eOtd9OTU1VWFiYoqKi5O/vfwNrVDhZWVlKTExUZGSkPDw8Snw8AABQ+sJjPnN1CSXKWsHQjFY5pZZnbDMcyjKXBvN///vfmjhxov72t79Jkpo0aaJjx44pLi5OgwcPVkhIiKQrR8WrV69uf9yZM2fsR9FDQkKUmZmplJQUh6PmZ86cUYcOHfId12q1ymq15mn38PAo1aBc2uMBAIDSk5F97YOIZUVp5ZnykJlcelWWS5cuqUIFxxLc3Nzsl0usU6eOQkJCHD4iyczM1KZNm+yhu2XLlvLw8HDoc+rUKe3du7fAYA4AAACYjUuPmPfp00fPPfecbrrpJjVu3Fi7du3S7Nmz9dhjj0m6MoUlOjpasbGxatCggRo0aKDY2Fj5+Pho0KBBkqSAgAANHTpU48aNU1BQkAIDAzV+/Hg1adLEfpUWAAAAwOxcGsznzZunKVOmaMSIETpz5oxCQ0M1bNgwPfPMM/Y+EyZMUHp6ukaMGKGUlBS1bdtWCQkJ8vPzs/eZM2eO3N3dNWDAAKWnp6tr166Kj4+Xm5ubK1YLAAAAcJrFMIyyfS2fQkhNTVVAQIDOnz9faid/rl+/Xj179iwX86UAACiPak/82NUllCirm6FZbbJLLc+Udl5zBZfOMQcAAABwBcEcAAAAMAGCOQAAAGACBHMAAADABAjmAAAAgAkQzAEAAAATIJgDAAAAJkAwBwAAAEyAYA4AAACYAMEcAAAAMAGCOQAAAGACBHMAAADABAjmAAAAgAkQzAEAAAATIJgDAAAAJkAwBwAAAEyAYA4AAACYAMEcAAAAMAGCOQAAAGACBHMAAADABAjmAAAAgAkQzAEAAAATIJgDAAAAJkAwBwAAAEyAYA4AAACYAMEcAAAAMAGCOQAAAGACBHMAAADABAjmAAAAgAkQzAEAAAATIJgDAAAAJkAwBwAAAEyAYA4AAACYAMEcAAAAMAGCOQAAAGACBHMAAADABAjmAAAAgAkQzAEAAAATIJgDAAAAJkAwBwAAAEyAYA4AAACYAMEcAAAAMAGCOQAAAGACBHMAAADABAjmAAAAgAkQzAEAAAATIJgDAAAAJkAwBwAAAEyAYA4AAACYAMEcAAAAMAGCOQAAAGACBHMAAADABAjmAAAAgAkQzAEAAAATIJgDAAAAJkAwBwAAAEyAYA4AAACYAMEcAAAAMAGCOQAAAGACLg3mtWvXlsViyfPzxBNPSJIMw1BMTIxCQ0Pl7e2tTp06ad++fQ7LyMjI0KhRo1SlShX5+vqqb9++OnnypCtWBwAAACgylwbz7du369SpU/afxMRESdL9998vSZo1a5Zmz56t+fPna/v27QoJCVFkZKQuXLhgX0Z0dLTWrFmjlStXavPmzUpLS1Pv3r2VnZ3tknUCAAAAisKlwbxq1aoKCQmx/3z00UeqV6+eIiIiZBiG5s6dq8mTJ6t///4KDw/X4sWLdenSJS1fvlySdP78eS1cuFAvvfSSunXrpubNm2vZsmX64YcftGHDBleuGgAAAOAUd1cXYJOZmally5Zp7NixslgsOnLkiJKTkxUVFWXvY7VaFRERoaSkJA0bNkw7d+5UVlaWQ5/Q0FCFh4crKSlJ3bt3z3esjIwMZWRk2G+npqZKkrKyspSVlVVCa/g/tjFKYywAAOAaVjfD1SWUKGuFK+tXWnmmPOQm0wTztWvX6ty5cxoyZIgkKTk5WZIUHBzs0C84OFjHjh2z9/H09FTlypXz9LE9Pj9xcXGaNm1anvaEhAT5+PjcyGo4xTZ1BwAAlD2z2ri6gtJRWnnm0qVLpTKOK5kmmC9cuFA9evRQaGioQ7vFYnG4bRhGnrbcrtdn0qRJGjt2rP12amqqwsLCFBUVJX9//yJU75ysrCwlJiZqyo4Kysi59rr8Ve2Nyf/TCgAAyovwmM9cXUKJslYwNKNVjiIjI+Xh4VHi49lmOJRlpgjmx44d04YNG7R69Wp7W0hIiKQrR8WrV69ubz9z5oz9KHpISIgyMzOVkpLicNT8zJkz6tChQ4HjWa1WWa3WPO0eHh6l8sSyycixKCO7bAbz0tyOAACYUVl9j8+ttPJTecgWpriO+aJFi1StWjX16tXL3lanTh2FhIQ4fDySmZmpTZs22UN3y5Yt5eHh4dDn1KlT2rt37zWDOQAAAGA2Lj9inpOTo0WLFmnw4MFyd/9fORaLRdHR0YqNjVWDBg3UoEEDxcbGysfHR4MGDZIkBQQEaOjQoRo3bpyCgoIUGBio8ePHq0mTJurWrZurVgkAAABwmsuD+YYNG3T8+HE99thjee6bMGGC0tPTNWLECKWkpKht27ZKSEiQn5+fvc+cOXPk7u6uAQMGKD09XV27dlV8fLzc3NxKczUAAACAG2IxDKNsX8unEFJTUxUQEKDz58+X2smf69ev14RtbmV2/tkvM3tdvxMAAGVY7Ykfu7qEEmV1MzSrTbZ69uxZaid/lmZecwVTzDEHAAAAyjuCOQAAAGACBHMAAADABAjmAAAAgAkQzAEAAAATIJgDAAAAJkAwBwAAAEyAYA4AAACYAMEcAAAAMAGCOQAAAGACBHMAAADABAjmAAAAgAkQzAEAAAATIJgDAAAAJkAwBwAAAEyAYA4AAACYAMEcAAAAMAGCOQAAAGACBHMAAADABAjmAAAAgAkQzAEAAAATIJgDAAAAJkAwBwAAAEyAYA4AAACYAMEcAAAAMAGCOQAAAGACBHMAAADABAjmAAAAgAkQzAEAAAATIJgDAAAAJkAwBwAAAEyAYA4AAACYAMEcAAAAMAGCOQAAAGACBHMAAADABAjmAAAAgAkQzAEAAAATIJgDAAAAJkAwBwAAAEyAYA4AAACYAMEcAAAAMAGCOQAAAGACBHMAAADABAjmAAAAgAkQzAEAAAATIJgDAAAAJkAwBwAAAEyAYA4AAACYAMEcAAAAMAGCOQAAAGACBHMAAADABAjmAAAAgAkQzAEAAAATIJgDAAAAJkAwBwAAAEyAYA4AAACYAMEcAAAAMAGCOQAAAGACBHMAAADABFwezP/73//qoYceUlBQkHx8fNSsWTPt3LnTfr9hGIqJiVFoaKi8vb3VqVMn7du3z2EZGRkZGjVqlKpUqSJfX1/17dtXJ0+eLO1VAQAAAIrMpcE8JSVFHTt2lIeHhz755BPt379fL730kipVqmTvM2vWLM2ePVvz58/X9u3bFRISosjISF24cMHeJzo6WmvWrNHKlSu1efNmpaWlqXfv3srOznbBWgEAAADOc3fl4M8//7zCwsK0aNEie1vt2rXt/zcMQ3PnztXkyZPVv39/SdLixYsVHBys5cuXa9iwYTp//rwWLlyopUuXqlu3bpKkZcuWKSwsTBs2bFD37t1LdZ0AAACAonBpMF+3bp26d++u+++/X5s2bVKNGjU0YsQI/eMf/5AkHT16VMnJyYqKirI/xmq1KiIiQklJSRo2bJh27typrKwshz6hoaEKDw9XUlJSvsE8IyNDGRkZ9tupqamSpKysLGVlZZXU6trZxrBWMEp8LFcpje0IAICZWd3K7vu89L8cU1rv+eUhW7g0mB85ckQLFizQ2LFj9dRTT2nbtm0aPXq0rFarHnnkESUnJ0uSgoODHR4XHBysY8eOSZKSk5Pl6empypUr5+lje3xucXFxmjZtWp72hIQE+fj4FMeqFcqMVjmlNlZpW79+vatLAADApWa1cXUFpSMxMbFUxrl06VKpjONKLg3mOTk5atWqlWJjYyVJzZs31759+7RgwQI98sgj9n4Wi8XhcYZh5GnL7Vp9Jk2apLFjx9pvp6amKiwsTFFRUfL39y/q6hRaVlaWEhMTNWVHBWXkXHs9/qr2xjCFCABQvoXHfObqEkqUtYKhGa1yFBkZKQ8PjxIfzzbDoSxzaTCvXr26GjVq5NDWsGFDvf/++5KkkJAQSVeOilevXt3e58yZM/aj6CEhIcrMzFRKSorDUfMzZ86oQ4cO+Y5rtVpltVrztHt4eJTKE8smI8eijOyyGcxLczsCAGBGZfU9PrfSyk/lIVu49KosHTt21MGDBx3afvrpJ9WqVUuSVKdOHYWEhDh8RJKZmalNmzbZQ3fLli3l4eHh0OfUqVPau3dvgcEcAAAAMBuXHjEfM2aMOnTooNjYWA0YMEDbtm3TG2+8oTfeeEPSlSks0dHRio2NVYMGDdSgQQPFxsbKx8dHgwYNkiQFBARo6NChGjdunIKCghQYGKjx48erSZMm9qu0AAAAAGbn0mDeunVrrVmzRpMmTdL06dNVp04dzZ07Vw8++KC9z4QJE5Senq4RI0YoJSVFbdu2VUJCgvz8/Ox95syZI3d3dw0YMEDp6enq2rWr4uPj5ebm5orVAgAAAJxmMQyjbF/LpxBSU1MVEBCg8+fPl9rJn+vXr9eEbW5ldv7ZLzN7uboEAABcqvbEj11dQomyuhma1SZbPXv2LLWTP0szr7mCS+eYAwAAALiCYA4AAACYAMEcAAAAMAGCOQAAAGACBHMAAADABAjmAAAAgAkQzAEAAAATIJgDAAAAJkAwBwAAAEyAYA4AAACYAMEcAAAAMAGCOQAAAGACBHMAAADABAjmAAAAgAkQzAEAAAATIJgDAAAAJkAwBwAAAEyAYA4AAACYAMEcAAAAMAGCOQAAAGACBHMAAADABAjmAAAAgAkQzAEAAAATIJgDAAAAJkAwBwAAAEyAYA4AAACYAMEcAAAAMAGCOQAAAGACBHMAAADABAjmAAAAgAm4O/uAwMDAa95/9uzZIhcDAAAAlFeFCuYDBgxQdHS0OnTooJycHBmGoTFjxqhOnTolXR8AAABQLhQqmN97773q3bu3zpw5oyNHjigmJkYvvfSShg8frqeffloBAQElXScAAABQphVqjvmAAQOUlpams2fPKjAwUK+88op27typQ4cOqX79+po3b54uX75c0rUCAAAAZVahgvngwYPVsmVLVatWzd528803a82aNXr//fe1ZMkSNW7cWGvXri2pOgEAAIAyrdBzzCMjIyVJ/fv3z3N/jRo19OOPP+ree+9VdnZ28VYIAAAAlAOFCua9e/e2/7+g+eT33Xdf8VQEAAAAlENOXy5x0aJFJVEHAAAAUK7xBUMAAACACTh9xLxFixbXvP+7774rcjEAAABAeeV0MP/hhx/k4+Ojv//97/L39y+JmgAAAIByx+lgvnfvXv373//W0qVLNXXqVA0fPlxubm4lURsAAABQbjg9x/yWW27RunXrtGrVKr311lsKDw/Xhx9+WBK1AQAAAOVGkU/+7Ny5s3bu3KlJkyZpxIgR6tKli3bt2lWctQEAAADlhtNTWcaOHZunrWfPnlq+fLnatGmjrKysYikMAAAAKE+cDuYFHRVv1arVDRcDAAAAlFdOB/MvvviiJOoAAAAAyjW+YAgAAAAwAaePmPfv3/+a969evbrIxQAAAADlldNHzAMCAuw/H3/8sSpUqODQBgAAAMB5Th8xX7Rokf3/7733nmbNmqW6desWa1EAAABAecMccwAAAMAECOYAAACACTg9leWVV16x///y5cuKj49XlSpV7G2jR48unsoAAACAcsTpYD5nzhz7/0NCQrR06VL7bYvFQjAHAAAAisDpYH706NGSqAMAAAAo14o8xzwzM1MHDx7U5cuXi7MeAAAAoFxyOphfunRJQ4cOlY+Pjxo3bqzjx49LujK3fObMmcVeIAAAAFAeOB3MJ02apD179ujLL7+Ul5eXvb1bt25atWpVsRYHAAAAlBdOzzFfu3atVq1apXbt2slisdjbGzVqpMOHDxdrcQAAAEB54fQR899++03VqlXL037x4kWHoF4YMTExslgsDj8hISH2+w3DUExMjEJDQ+Xt7a1OnTpp3759DsvIyMjQqFGjVKVKFfn6+qpv3746efKks6sFAAAAuJTTwbx169b6+OOP7bdtYfzNN99U+/btnS6gcePGOnXqlP3nhx9+sN83a9YszZ49W/Pnz9f27dsVEhKiyMhIXbhwwd4nOjpaa9as0cqVK7V582alpaWpd+/eys7OdroWAAAAwFWcnsoSFxenu+66S/v379fly5f18ssva9++fdqyZYs2bdrkfAHu7g5HyW0Mw9DcuXM1efJk9e/fX5K0ePFiBQcHa/ny5Ro2bJjOnz+vhQsXaunSperWrZskadmyZQoLC9OGDRvUvXv3fMfMyMhQRkaG/XZqaqokKSsrS1lZWU6vg7NsY1grGCU+lquUxnYEAMDMrG5l931e+l+OKa33/PKQLZwO5h06dNA333yjF198UfXq1VNCQoJatGihLVu2qEmTJk4X8PPPPys0NFRWq1Vt27ZVbGys6tatq6NHjyo5OVlRUVH2vlarVREREUpKStKwYcO0c+dOZWVlOfQJDQ1VeHi4kpKSCgzmcXFxmjZtWp72hIQE+fj4OL0ORTWjVU6pjVXa1q9f7+oSAABwqVltXF1B6UhMTCyVcS5dulQq47iS08Fckpo0aaLFixff8OBt27bVkiVLdPPNN+v06dN69tln1aFDB+3bt0/JycmSpODgYIfHBAcH69ixY5Kk5ORkeXp6qnLlynn62B6fn0mTJmns2LH226mpqQoLC1NUVJT8/f1veL2uJysrS4mJiZqyo4Iycpybl/9XsTcm/z+KAAAoL8JjPnN1CSXKWsHQjFY5ioyMlIeHR4mPZ5vhUJY5Hcyvt1GcCbY9evSw/79JkyZq37696tWrp8WLF6tdu3aSlOeEUsMwrnuS6fX6WK1WWa3WPO0eHh6l8sSyycixKCO7bAbz0tyOAACYUVl9j8+ttPJTecgWTp/8WalSJVWuXDnPj639Rvj6+qpJkyb6+eef7fPOcx/5PnPmjP0oekhIiDIzM5WSklJgHwAAAOCvwOlg/sUXX2jjxo3auHGjPv/8c1mtVi1dutTefiMyMjJ04MABVa9eXXXq1FFISIjDvKXMzExt2rRJHTp0kCS1bNlSHh4eDn1OnTqlvXv32vsAAAAAfwVOT2WJiIhwuO3m5qZ27dqpbt26Tg8+fvx49enTRzfddJPOnDmjZ599VqmpqRo8eLAsFouio6MVGxurBg0aqEGDBoqNjZWPj48GDRokSQoICNDQoUM1btw4BQUFKTAwUOPHj1eTJk3sV2kBAAAA/gqKdPKnzaVLl5SRkSFPT88iPf7kyZMaOHCgfv/9d1WtWlXt2rXT1q1bVatWLUnShAkTlJ6erhEjRiglJUVt27ZVQkKC/Pz87MuYM2eO3N3dNWDAAKWnp6tr166Kj4+Xm5vbjawaAAAAUKoshmE4dZHNV155RZKUnp6udevWKTk5WYcPHy6R4kpLamqqAgICdP78+VK7Ksv69es1YZtbmT0x5JeZvVxdAgAALlV74sfX7/QXZnUzNKtNtnr27FlqV2UpzbzmCk4fMZ8zZ44kydvbW40bN9bChQuLvSgAAACgvHE6mB89erQk6gAAAADKNaevygIAAACg+BXp5M/33ntP77zzjo4fP67MzEyH+7777rtiKQwAAAAoT5w+Yv7KK6/o0UcfVbVq1bRr1y61adNGQUFBOnLkiMM3eQIAAAAoPKeD+WuvvaY33nhD8+fPl6enpyZMmKDExESNHj1a58+fL4kaAQAAgDLP6WB+/Phx+7dqent768KFC5Kkhx9+WCtWrCje6gAAAIBywulgHhISoj/++EOSVKtWLW3dulXSlau1OHlJdAAAAAD/n9PBvEuXLvrwww8lSUOHDtWYMWMUGRmpBx54QPfcc0+xFwgAAACUB05fleWNN95QTk6OJGn48OEKDAzU5s2b1adPHw0fPrzYCwQAAADKA6eDeYUKFVShwv8OtA8YMEADBgwo1qIAAACA8sbpYP79999f8/6mTZsWuRgAAACgvHI6mDdr1kwWi0WGYchisUiS/aRPi8Wi7Ozs4q0QAAAAKAecDuZHjx6VdCWMh4eHa/369apVq1axFwYAAACUJ04H86tDuMViUc2aNQnmAAAAwA1y+nKJAAAAAIrfDQVzi8Vin2cOAAAAoOicnspSuXJlexhPS0tT8+bNHS6fePbs2eKrDgAAACgnnA7mc+fOLYEyAAAAgPLN6WA+ePDgkqgDAAAAKNeKNMd88+bN2rRpkyTp4MGDmj17tr788svirAsAAAAoV5wO5i+99JK6dOminj17aubMmbr99tu1bNkyRUVF6a233iqJGgEAAIAyz+lgvmDBAi1dulTffPONnnnmGU2bNk3fffedXnzxReafAwAAAEXkdDA/efKkOnbsqGbNmsnd3V1dunSRJPXp00dHjhwp9gIBAACA8sDpYB4QEKBz585JunIiaJUqVSRJmZmZslqtxVocAAAAUF44Hcy7d++uEydOSLoyrcUWzLdu3aqmTZsWb3UAAABAOeH05RKXLFmSb/vdd9+tfv363XBBAAAAQHnkdDAvSEBAQHEtCgAAACh3inQdcwAAAADFi2AOAAAAmADBHAAAADABgjkAAABgAkU6+fPw4cOaO3euDhw4IIvFooYNG+pf//qX6tWrV9z1AQAAAOWC00fMP/vsMzVq1Ejbtm1T06ZNFR4erm+//VaNGzdWYmJiSdQIAAAAlHlOHzGfOHGixowZo5kzZ+Zpf/LJJxUZGVlsxQEAAADlhdNHzA8cOKChQ4fmaX/ssce0f//+YikKAAAAKG+cDuZVq1bV7t2787Tv3r1b1apVK46aAAAAgHLH6aks//jHP/T444/ryJEj6tChgywWizZv3qznn39e48aNK4kaAQAAgDLP6WA+ZcoU+fn56aWXXtKkSZMkSaGhoYqJidHo0aOLvUAAAACgPHA6mFssFo0ZM0ZjxozRhQsXJEl+fn7FXhgAAABQntzQFwz5+fnJy8tLu3btUkpKSnHVBAAAAJQ7TgfznTt3qn379urVq5cOHTqkpk2bqmXLlqpZs6YSEhJKokYAAACgzHM6mI8ePVp+fn6qWLGioqKiFBERoRMnTmj48OGaPHlySdQIAAAAlHlOzzHfs2ePdu7cqVq1aqlixYoaOXKkatSooZEjR+o///lPSdQIAAAAlHlOHzG/dOmSAgMD5eXlJW9vb/n4+EiSfHx89OeffxZ7gQAAAEB54PQRc0l68803VbFiRV2+fFnx8fGqUqWK/QotAAAAAJzndDC/6aab9Oabb0qSQkJCtHTpUof7AAAAADjP6WD+yy+/lEAZAAAAQPnm9Bzz6dOn69KlSyVRCwAAAFBuOR3Mp02bprS0tJKoBQAAACi3nA7mhmGURB0AAABAuVakq7K8+OKLqlixYr73PfPMMzdUEAAAAFAeFSmYf/PNN/L09MzTbrFYCOYAAABAERQpmK9Zs0bVqlUr7loAAACAcsvpOeYAAAAAip/TwTwiIiLfaSwAAAAAis7pqSxffPFFSdQBAAAAlGtOHzG/7777NHPmzDztL7zwgu6///5iKQoAAAAob5wO5ps2bVKvXr3ytN9111366quviqUoAAAAoLxxOpinpaXlO8fcw8NDqampRS4kLi5OFotF0dHR9jbDMBQTE6PQ0FB5e3urU6dO2rdvn8PjMjIyNGrUKFWpUkW+vr7q27evTp48WeQ6AAAAAFdwOpiHh4dr1apVedpXrlypRo0aFamI7du364033lDTpk0d2mfNmqXZs2dr/vz52r59u0JCQhQZGakLFy7Y+0RHR2vNmjVauXKlNm/erLS0NPXu3VvZ2dlFqgUAAABwBadP/pwyZYruvfdeHT58WF26dJEkff7551qxYoXeffddpwtIS0vTgw8+qDfffFPPPvusvd0wDM2dO1eTJ09W//79JUmLFy9WcHCwli9frmHDhun8+fNauHChli5dqm7dukmSli1bprCwMG3YsEHdu3d3uh4AAADAFZwO5n379tXatWsVGxur9957T97e3mratKk2bNigiIgIpwt44okn1KtXL3Xr1s0hmB89elTJycmKioqyt1mtVkVERCgpKUnDhg3Tzp07lZWV5dAnNDRU4eHhSkpKKjCYZ2RkKCMjw37bNgUnKytLWVlZTq+Ds2xjWCsYJT6Wq5TGdgQAwMysbmX3fV76X44prff88pAtivTNn7169cr3BFBnrVy5Ut999522b9+e577k5GRJUnBwsEN7cHCwjh07Zu/j6empypUr5+lje3x+4uLiNG3atDztCQkJ8vHxcXo9impGq5xSG6u0rV+/3tUlAADgUrPauLqC0pGYmFgq41y6dKlUxnGlIgXzc+fO6b333tORI0c0fvx4BQYG6rvvvlNwcLBq1KhRqGWcOHFC//rXv5SQkCAvL68C+1ksFofbhmHkacvten0mTZqksWPH2m+npqYqLCxMUVFR8vf3L1T9NyIrK0uJiYmasqOCMnKuvS5/VXtjmEYEACjfwmM+c3UJJcpawdCMVjmKjIyUh4dHiY93IxcZ+atwOph///336tatmwICAvTLL7/o73//uwIDA7VmzRodO3ZMS5YsKdRydu7cqTNnzqhly5b2tuzsbH311VeaP3++Dh48KOnKUfHq1avb+5w5c8Z+FD0kJESZmZlKSUlxOGp+5swZdejQocCxrVarrFZrnnYPD49SeWLZZORYlJFdNoN5aW5HAADMqKy+x+dWWvmpPGQLp6/KMnbsWA0ZMkQ///yzw5HuHj16OHUd865du+qHH37Q7t277T+tWrXSgw8+qN27d6tu3boKCQlx+HgkMzNTmzZtsofuli1bysPDw6HPqVOntHfv3msGcwAAAMBsnD5ivn37dr3++ut52mvUqHHNed25+fn5KTw83KHN19dXQUFB9vbo6GjFxsaqQYMGatCggWJjY+Xj46NBgwZJkgICAjR06FCNGzdOQUFBCgwM1Pjx49WkSRP7VVoAAACAvwKng7mXl1e+c3wOHjyoqlWrFktRNhMmTFB6erpGjBihlJQUtW3bVgkJCfLz87P3mTNnjtzd3TVgwAClp6era9euio+Pl5ubW7HWAgAAAJQkp4N5v379NH36dL3zzjuSrpycefz4cU2cOFH33nvvDRXz5ZdfOty2WCyKiYlRTExMgY/x8vLSvHnzNG/evBsaGwAAAHAlp+eYv/jii/rtt99UrVo1paenKyIiQvXr15efn5+ee+65kqgRAAAAKPOcPmLu7++vzZs3a+PGjfruu++Uk5OjFi1aMKcbAAAAuAFFuo65JHXp0kVdunQpzloAAACAcsvpYP7KK69c8/7Ro0cXuRgAAACgvHI6mM+ZM8fh9okTJ1S9enW5u7vLYrEQzAEAAIAicDqYHz161OG2n5+fNm3apLp16xZbUQAAAEB54/RVWXKzWMrH180CAAAAJemGgvn27dt18eJFBQYGFlc9AAAAQLnk9FSW5s2by2KxKD09XYcOHdLf/vY3VapUqQRKAwAAAMoPp4P53XffLUny9vZW48aN1atXr+KuCQAAACh3nA7mU6dOLYk6AAAAgHLN6WD+/fffX/P+pk2bFrkYAAAAoLxyOpg3a9bMfiUWwzAkXbkyi2EYslgsys7OLt4KAQAAgHLA6WDesWNH7dmzRxMnTtSgQYO4XCIAAABQDJy+XOLXX3+t+Ph4xcfHa8CAATpx4oRq1apl/wEAAADgvCJdx7x///7av3+/Bg0apLvvvlv9+/fXoUOHirs2AAAAoNwo8hcMubu7Kzo6WocOHVKdOnXUokULRUdHF2NpAAAAQPnh9BzzypUr5zuvPCMjQ/PmzdPcuXOLoy4AAACgXHE6mM+ZM4cTPgEAAIBi5nQwHzJkSAmUAQAAAJRvfMEQAAAAYAJF/oIh25cLXY0vGAIAAACKxulgLknffvutqlatWty1AAAAAOVWkYL5TTfdpGrVqhV3LQAAAEC5VaRg/tlnn6lKlSry9fVVaGio6tWrx5VaAAAAgBtQpGA+ePBg+/8tFov8/f01ePBgvfDCC/Lw8Ci24gAAAIDywulgnpOTI0nKyspSamqqfv31V23btk2TJ0+Wt7e34uLiir1IAAAAoKwr0hFzSfLw8FBQUJCCgoLUpEkTVa1aVU888QTBHAAAACiCCsW1oD59+mjPnj3FtTgAAACgXCnSEfPs7GytXbtWBw4ckMViUcOGDdWvXz8FBgYWd30AAABAueB0MD906JB69eqlkydP6pZbbpFhGPrpp58UFhamjz/+WPXq1SuJOgEAAIAyzempLKNHj1bdunV14sQJfffdd9q1a5eOHz+uOnXqaPTo0SVRIwAAAFDmOX3EfNOmTdq6davDtJWgoCDNnDlTHTt2LNbiAAAAgPLC6SPmVqtVFy5cyNOelpYmT0/PYikKAAAAKG+cDua9e/fW448/rm+//VaGYcgwDG3dulXDhw9X3759S6JGAAAAoMxzOpi/8sorqlevntq3by8vLy95eXmpY8eOql+/vl5++eWSqBEAAAAo85yeY16pUiV98MEHOnTokA4cOCDDMNSoUSPVr1+/JOoDAAAAyoVCB/MLFy7Iz8/Pfrt+/fp5wvi2bdvUpk2b4qsOAAAAKCcKPZUlMjIy35M+Jeny5ct66qmndMcddxRbYQAAAEB5UuhgfunSJXXr1k3nz593aP/+++/VsmVLLV26VOvWrSv2AgEAAIDyoNDBfOPGjfrzzz/t4TwnJ0fPPfecWrdurSZNmuiHH35Q9+7dS7JWAAAAoMwq9BzzKlWqaOPGjeratas6d+4sT09PHTlyRCtWrFD//v1LskYAAACgzHPqcolBQUH6/PPPZRiGdu/era+++opQDgAAABQDp69jHhQUpI0bN6px48YaNGiQUlJSSqIuAAAAoFwp9FSW3EfG/fz89NVXX6lNmzZq0qSJvX316tXFVx0AAABQThQ6mAcEBOS5XadOnWIvCAAAACiPCh3MFy1aVJJ1AAAAAOWa03PMAQAAABQ/gjkAAABgAgRzAAAAwAQI5gAAAIAJEMwBAAAAEyCYAwAAACZAMAcAAABMgGAOAAAAmADBHAAAADABgjkAAABgAgRzAAAAwAQI5gAAAIAJuDSYL1iwQE2bNpW/v7/8/f3Vvn17ffLJJ/b7DcNQTEyMQkND5e3trU6dOmnfvn0Oy8jIyNCoUaNUpUoV+fr6qm/fvjp58mRprwoAAABwQ1wazGvWrKmZM2dqx44d2rFjh7p06aJ+/frZw/esWbM0e/ZszZ8/X9u3b1dISIgiIyN14cIF+zKio6O1Zs0arVy5Ups3b1ZaWpp69+6t7OxsV60WAAAA4DSXBvM+ffqoZ8+euvnmm3XzzTfrueeeU8WKFbV161YZhqG5c+dq8uTJ6t+/v8LDw7V48WJdunRJy5cvlySdP39eCxcu1EsvvaRu3bqpefPmWrZsmX744Qdt2LDBlasGAAAAOMXd1QXYZGdn691339XFixfVvn17HT16VMnJyYqKirL3sVqtioiIUFJSkoYNG6adO3cqKyvLoU9oaKjCw8OVlJSk7t275ztWRkaGMjIy7LdTU1MlSVlZWcrKyiqhNfwf2xjWCkaJj+UqpbEdAQAwM6tb2X2fl/6XY0rrPb88ZAuXB/MffvhB7du3159//qmKFStqzZo1atSokZKSkiRJwcHBDv2Dg4N17NgxSVJycrI8PT1VuXLlPH2Sk5MLHDMuLk7Tpk3L056QkCAfH58bXaVCm9Eqp9TGKm3r1693dQkAALjUrDaurqB0JCYmlso4ly5dKpVxXMnlwfyWW27R7t27de7cOb3//vsaPHiwNm3aZL/fYrE49DcMI09bbtfrM2nSJI0dO9Z+OzU1VWFhYYqKipK/v38R16TwsrKylJiYqCk7Kigj59rr8le1Nyb/TysAACgvwmM+c3UJJcpawdCMVjmKjIyUh4dHiY9nm+FQlrk8mHt6eqp+/fqSpFatWmn79u16+eWX9eSTT0q6clS8evXq9v5nzpyxH0UPCQlRZmamUlJSHI6anzlzRh06dChwTKvVKqvVmqfdw8OjVJ5YNhk5FmVkl81gXprbEQAAMyqr7/G5lVZ+Kg/ZwnTXMTcMQxkZGapTp45CQkIcPh7JzMzUpk2b7KG7ZcuW8vDwcOhz6tQp7d2795rBHAAAADAblx4xf+qpp9SjRw+FhYXpwoULWrlypb788kt9+umnslgsio6OVmxsrBo0aKAGDRooNjZWPj4+GjRokCQpICBAQ4cO1bhx4xQUFKTAwECNHz9eTZo0Ubdu3Vy5agAAAIBTXBrMT58+rYcfflinTp1SQECAmjZtqk8//VSRkZGSpAkTJig9PV0jRoxQSkqK2rZtq4SEBPn5+dmXMWfOHLm7u2vAgAFKT09X165dFR8fLzc3N1etFgAAAOA0i2EYZftaPoWQmpqqgIAAnT9/vtRO/ly/fr0mbHMrs/PPfpnZy9UlAADgUrUnfuzqEkqU1c3QrDbZ6tmzZ6md/Fmaec0VTDfHHAAAACiPCOYAAACACRDMAQAAABMgmAMAAAAmQDAHAAAATIBgDgAAAJgAwRwAAAAwAYI5AAAAYAIEcwAAAMAECOYAAACACRDMAQAAABMgmAMAAAAmQDAHAAAATIBgDgAAAJgAwRwAAAAwAYI5AAAAYAIEcwAAAMAECOYAAACACRDMAQAAABMgmAMAAAAmQDAHAAAATIBgDgAAAJgAwRwAAAAwAYI5AAAAYAIEcwAAAMAECOYAAACACRDMAQAAABMgmAMAAAAmQDAHAAAATIBgDgAAAJgAwRwAAAAwAYI5AAAAYAIEcwAAAMAECOYAAACACRDMAQAAABMgmAMAAAAmQDAHAAAATIBgDgAAAJgAwRwAAAAwAYI5AAAAYAIEcwAAAMAECOYAAACACRDMAQAAABMgmAMAAAAmQDAHAAAATIBgDgAAAJgAwRwAAAAwAYI5AAAAYAIEcwAAAMAECOYAAACACRDMAQAAABMgmAMAAAAmQDAHAAAATIBgDgAAAJgAwRwAAAAwAYI5AAAAYAIEcwAAAMAECOYAAACACRDMAQAAABNwaTCPi4tT69at5efnp2rVqunuu+/WwYMHHfoYhqGYmBiFhobK29tbnTp10r59+xz6ZGRkaNSoUapSpYp8fX3Vt29fnTx5sjRXBQAAALghLg3mmzZt0hNPPKGtW7cqMTFRly9fVlRUlC5evGjvM2vWLM2ePVvz58/X9u3bFRISosjISF24cMHeJzo6WmvWrNHKlSu1efNmpaWlqXfv3srOznbFagEAAABOc3fl4J9++qnD7UWLFqlatWrauXOn7rzzThmGoblz52ry5Mnq37+/JGnx4sUKDg7W8uXLNWzYMJ0/f14LFy7U0qVL1a1bN0nSsmXLFBYWpg0bNqh79+6lvl4AAACAs1wazHM7f/68JCkwMFCSdPToUSUnJysqKsrex2q1KiIiQklJSRo2bJh27typrKwshz6hoaEKDw9XUlJSvsE8IyNDGRkZ9tupqamSpKysLGVlZZXIul3NNoa1glHiY7lKaWxHAADMzOpWdt/npf/lmNJ6zy8P2cI0wdwwDI0dO1a33367wsPDJUnJycmSpODgYIe+wcHBOnbsmL2Pp6enKleunKeP7fG5xcXFadq0aXnaExIS5OPjc8PrUlgzWuWU2lilbf369a4uAQAAl5rVxtUVlI7ExMRSGefSpUulMo4rmSaYjxw5Ut9//702b96c5z6LxeJw2zCMPG25XavPpEmTNHbsWPvt1NRUhYWFKSoqSv7+/kWo3jlZWVlKTEzUlB0VlJFz7fX4q9obwxQiAED5Fh7zmatLKFHWCoZmtMpRZGSkPDw8Snw82wyHsswUwXzUqFFat26dvvrqK9WsWdPeHhISIunKUfHq1avb28+cOWM/ih4SEqLMzEylpKQ4HDU/c+aMOnTokO94VqtVVqs1T7uHh0epPLFsMnIsysgum8G8NLcjAABmVFbf43MrrfxUHrKFS6/KYhiGRo4cqdWrV2vjxo2qU6eOw/116tRRSEiIw0ckmZmZ2rRpkz10t2zZUh4eHg59Tp06pb179xYYzAEAAACzcekR8yeeeELLly/XBx98ID8/P/uc8ICAAHl7e8tisSg6OlqxsbFq0KCBGjRooNjYWPn4+GjQoEH2vkOHDtW4ceMUFBSkwMBAjR8/Xk2aNLFfpQUAAAAwO5cG8wULFkiSOnXq5NC+aNEiDRkyRJI0YcIEpaena8SIEUpJSVHbtm2VkJAgPz8/e/85c+bI3d1dAwYMUHp6urp27ar4+Hi5ubmV1qoAAAAAN8Slwdwwrn8ZIYvFopiYGMXExBTYx8vLS/PmzdO8efOKsToAAACg9Lh0jjkAAACAKwjmAAAAgAkQzAEAAAATIJgDAAAAJkAwBwAAAEyAYA4AAACYAMEcAAAAMAGCOQAAAGACBHMAAADABAjmAAAAgAkQzAEAAAATIJgDAAAAJkAwBwAAAEyAYA4AAACYAMEcAAAAMAGCOQAAAGACBHMAAADABAjmAAAAgAkQzAEAAAATIJgDAAAAJkAwBwAAAEyAYA4AAACYAMEcAAAAMAGCOQAAAGACBHMAAADABAjmAAAAgAkQzAEAAAATIJgDAAAAJkAwBwAAAEyAYA4AAACYAMEcAAAAMAGCOQAAAGACBHMAAADABAjmAAAAgAkQzAEAAAATIJgDAAAAJkAwBwAAAEyAYA4AAACYAMEcAAAAMAGCOQAAAGACBHMAAADABAjmAAAAgAkQzAEAAAATIJgDAAAAJkAwBwAAAEyAYA4AAACYAMEcAAAAMAGCOQAAAGACBHMAAADABAjmAAAAgAkQzAEAAAATIJgDAAAAJkAwBwAAAEyAYA4AAACYAMEcAAAAMAGCOQAAAGACBHMAAADABAjmAAAAgAkQzAEAAAATIJgDAAAAJuDSYP7VV1+pT58+Cg0NlcVi0dq1ax3uNwxDMTExCg0Nlbe3tzp16qR9+/Y59MnIyNCoUaNUpUoV+fr6qm/fvjp58mQprgUAAABw41wazC9evKjbbrtN8+fPz/f+WbNmafbs2Zo/f762b9+ukJAQRUZG6sKFC/Y+0dHRWrNmjVauXKnNmzcrLS1NvXv3VnZ2dmmtBgAAAHDD3F05eI8ePdSjR4987zMMQ3PnztXkyZPVv39/SdLixYsVHBys5cuXa9iwYTp//rwWLlyopUuXqlu3bpKkZcuWKSwsTBs2bFD37t3zXXZGRoYyMjLst1NTUyVJWVlZysrKKs5VzJdtDGsFo8THcpXS2I4AAJiZ1a3svs9L/8sxpfWeXx6yhUuD+bUcPXpUycnJioqKsrdZrVZFREQoKSlJw4YN086dO5WVleXQJzQ0VOHh4UpKSiowmMfFxWnatGl52hMSEuTj41P8K1OAGa1ySm2s0rZ+/XpXlwAAgEvNauPqCkpHYmJiqYxz6dKlUhnHlUwbzJOTkyVJwcHBDu3BwcE6duyYvY+np6cqV66cp4/t8fmZNGmSxo4da7+dmpqqsLAwRUVFyd/fv7hWoUBZWVlKTEzUlB0VlJFjKfHxXGFvTP5/FAEAUF6Ex3zm6hJKlLWCoRmtchQZGSkPD48SH882w6EsM20wt7FYHIOrYRh52nK7Xh+r1Sqr1Zqn3cPDo1SeWDYZORZlZJfNYF6a2xEAADMqq+/xuZVWfioP2cK0l0sMCQmRpDxHvs+cOWM/ih4SEqLMzEylpKQU2AcAAAD4KzBtMK9Tp45CQkIc5i1lZmZq06ZN6tChgySpZcuW8vDwcOhz6tQp7d27194HAAAA+Ctw6VSWtLQ0HTp0yH776NGj2r17twIDA3XTTTcpOjpasbGxatCggRo0aKDY2Fj5+Pho0KBBkqSAgAANHTpU48aNU1BQkAIDAzV+/Hg1adLEfpUWAAAA4K/ApcF8x44d6ty5s/227YTMwYMHKz4+XhMmTFB6erpGjBihlJQUtW3bVgkJCfLz87M/Zs6cOXJ3d9eAAQOUnp6url27Kj4+Xm5ubqW+PgAAAEBRuTSYd+rUSYZR8DU+LRaLYmJiFBMTU2AfLy8vzZs3T/PmzSuBCgEAAIDSYdo55gAAAEB5QjAHAAAATIBgDgAAAJgAwRwAAAAwAYI5AAAAYAIEcwAAAMAECOYAAACACRDMAQAAABMgmAMAAAAmQDAHAAAATIBgDgAAAJgAwRwAAAAwAYI5AAAAYAIEcwAAAMAECOYAAACACRDMAQAAABMgmAMAAAAmQDAHAAAATIBgDgAAAJgAwRwAAAAwAYI5AAAAYAIEcwAAAMAECOYAAACACRDMAQAAABMgmAMAAAAmQDAHAAAATIBgDgAAAJgAwRwAAAAwAYI5AAAAYAIEcwAAAMAECOYAAACACRDMAQAAABMgmAMAAAAmQDAHAAAATIBgDgAAAJgAwRwAAAAwAYI5AAAAYAIEcwAAAMAECOYAAACACRDMAQAAABMgmAMAAAAmQDAHAAAATIBgDgAAAJgAwRwAAAAwAYI5AAAAYAIEcwAAAMAECOYAAACACRDMAQAAABMgmAMAAAAmQDAHAAAATIBgDgAAAJgAwRwAAAAwAYI5AAAAYAIEcwAAAMAECOYAAACACRDMAQAAABMgmAMAAAAmQDAHAAAATIBgDgAAAJhAmQnmr732murUqSMvLy+1bNlSX3/9tatLAgAAAAqtTATzVatWKTo6WpMnT9auXbt0xx13qEePHjp+/LirSwMAAAAKpUwE89mzZ2vo0KH6+9//roYNG2ru3LkKCwvTggULXF0aAAAAUCjuri7gRmVmZmrnzp2aOHGiQ3tUVJSSkpLyfUxGRoYyMjLst8+fPy9JOnv2rLKyskqu2P8vKytLly5dkntWBWXnWEp8PFf4448/XF0CAAAu5X75oqtLKFHuOYYuXcrRH3/8IQ8PjxIf78KFC5IkwzBKfCxX+csH899//13Z2dkKDg52aA8ODlZycnK+j4mLi9O0adPytNepU6dEaiyPqrzk6goAAEBJG+SCMS9cuKCAgAAXjFzy/vLB3MZicTzybBhGnjabSZMmaezYsfbbOTk5Onv2rIKCggp8THFKTU1VWFiYTpw4IX9//xIfDwAAoLiVdp4xDEMXLlxQaGhoiY/lKn/5YF6lShW5ubnlOTp+5syZPEfRbaxWq6xWq0NbpUqVSqrEAvn7+xPMAQDAX1pp5pmyeqTc5i9/8qenp6datmypxMREh/bExER16NDBRVUBAAAAzvnLHzGXpLFjx+rhhx9Wq1at1L59e73xxhs6fvy4hg8f7urSAAAAgEIpE8H8gQce0B9//KHp06fr1KlTCg8P1/r161WrVi1Xl5Yvq9WqqVOn5plOAwAA8FdBnil+FqMsX3MGAAAA+Iv4y88xBwAAAMoCgjkAAABgAgRzAAAAwAQI5iXIYrFo7dq1ri4DAADgugzD0OOPP67AwEBZLBbt3r3b1SWVOwTzUvLLL7/wJAcAAKb16aefKj4+Xh999JH9KncoXWXicollSWZmpjw9PV1dBgAAKGcOHz6s6tWrF/gFjWSUkscR8xtQu3ZtzZ0716GtWbNmiomJydO3Tp06kqTmzZvLYrGoU6dOkqQhQ4bo7rvvVlxcnEJDQ3XzzTdLkpYtW6ZWrVrJz89PISEhGjRokM6cOVOSqwMAAMqpIUOGaNSoUTp+/LgsFotq166tTp06aeTIkRo7dqyqVKmiyMhISdL+/fvVs2dPVaxYUcHBwXr44Yf1+++/25dlGIZmzZqlunXrytvbW7fddpvee+89V63aXwrBvJRs27ZNkrRhwwadOnVKq1evtt/3+eef68CBA0pMTNRHH30k6cpfpTNmzNCePXu0du1aHT16VEOGDHFF6QAAoIx7+eWXNX36dNWsWVOnTp3S9u3bJUmLFy+Wu7u7vvnmG73++us6deqUIiIi1KxZM+3YsUOffvqpTp8+rQEDBtiX9fTTT2vRokVasGCB9u3bpzFjxuihhx7Spk2bXLV6fxlMZSklVatWlSQFBQUpJCTE4T5fX1/93//9n8PHQ4899pj9/3Xr1tUrr7yiNm3aKC0tTRUrViydogEAQLkQEBAgPz8/ubm5OeSU+vXra9asWfbbzzzzjFq0aKHY2Fh721tvvaWwsDD99NNPqlGjhmbPnq2NGzeqffv2kq7kmM2bN+v1119XRERE6a3UXxDB3ASaNGmSZ87Wrl27FBMTo927d+vs2bPKycmRJB0/flyNGjVyRZkAAKCcadWqlcPtnTt36osvvsj3IOHhw4d1/vx5/fnnn/ZpLzaZmZlq3rx5idZaFhDMb0CFChVkGIZDW1ZWltPL8fX1dbh98eJFRUVFKSoqSsuWLVPVqlV1/Phxde/eXZmZmTdUMwAAQGHlzig5OTnq06ePnn/++Tx9q1evrr1790qSPv74Y9WoUcPhfqvVWnKFlhEE8xtQtWpVnTp1yn47NTVVR48ezbev7Yh4dnb2dZf7448/6vfff9fMmTMVFhYmSdqxY0cxVAwAAFB0LVq00Pvvv6/atWvL3T1vjGzUqJGsVquOHz/OtJUi4OTPG9ClSxctXbpUX3/9tfbu3avBgwfLzc0t377VqlWTt7e3/SSJ8+fPF7jcm266SZ6enpo3b56OHDmidevWacaMGSW1GgAAAIXyxBNP6OzZsxo4cKC2bdumI0eOKCEhQY899piys7Pl5+en8ePHa8yYMVq8eLEOHz6sXbt26dVXX9XixYtdXb7pEcxvwKRJk3TnnXeqd+/e6tmzp+6++27Vq1cv377u7u565ZVX9Prrrys0NFT9+vUrcLlVq1ZVfHy83n33XTVq1EgzZ87Uiy++WFKrAQAAUCihoaH65ptvlJ2dre7duys8PFz/+te/FBAQoAoVrsTKGTNm6JlnnlFcXJwaNmyo7t2768MPP7RfOhoFsxi5J0kDAAAAKHUcMQcAAABMgGAOAAAAmADBHAAAADABgjkAAABgAgRzAAAAwAQI5gAAAIAJEMwBAAAAEyCYAwAAACZAMAcAAABMgGAOAAAAmADBHACuYrFYrvkzZMgQV5cIACij3F1dAACYyalTp+z/X7VqlZ555hkdPHjQ3ubt7e2KsgAA5QBHzAHgKiEhIfafgIAAWSyWPG2//PKLLBaLdu/ebX/c008/LYvForlz59rbCjrqHh0dXeD4MTExBT7u3Llz9n7vv/++GjduLKvVqtq1a+ull17Ks6z4+Pg8y2jWrJn9/i+//LLAsdauXStJhV7Xc+fO6fHHH1dwcLC8vLwUHh6ujz76yF5HpUqV7H2PHz+um266SZMmTbK31a5d22F5n3/+uSwWi+6+++4CtxUAlDUcMQeAG3Ty5Em9/PLL+R5NX7Roke666y777f79+193eY0bN9aGDRvst5OSknTvvffab+/cuVMDBgxQTEyMHnjgASUlJWnEiBEKCgrKM9XG39/ffsT/xRdfdFiuzcGDB+Xv72+/Xb16dafWNScnRz169NCFCxe0bNky1atXT/v375ebm1uex58+fVrdunVT7969FRcXl+8YOTk5GjdunCpWrFhgHQBQFhHMAeAGTZ48WQ888EC+obdSpUoKCQmx3/b09Lzu8tzd3R0eExgY6HD/7Nmz1bVrV02ZMkWSdPPNN2v//v164YUXHIJ5RkaGPD097csqKOhWq1bN4Yj2teS3rhs2bNC2bdt04MAB3XzzzZKkunXr5nlsSkqKoqKi1KZNG82fP7/AMRYvXqw///xT/fr1U1paWqHqAoCygKksAHADvvvuO61Zs0YzZswotTEPHDigjh07OrR17NhRP//8s7Kzs+1tf/zxh8OR8BtV0Lru3r1bNWvWtIfy/Fy+fFk9e/bU999/r8jISFWokP/bz6VLl/T000/rhRdekLs7x44AlC8EcwC4AePGjdP48eOvOf2juBmGIYvFkqcttyNHjqh27drFNm5B61qYE2IvXrwob29vvf766xozZozDSbZXe+GFF3TLLbeoT58+xVIzAPyVcDgCAIpo3bp1+umnn/Txxx+X6riNGjXS5s2bHdqSkpJ08803O8zr/uqrrzRo0KBiGfNa69q0aVOdPHlSP/30U4FHzX18fLRu3TpVrFhRH374oR5//HF9+OGHDn1OnTqlBQsW6MsvvyyWmgHgr4Yj5gBQRLNmzdKzzz4rHx+fUh133Lhx+vzzzzVjxgz99NNPWrx4sebPn6/x48dLktLT0zVv3jwdPnxYd911l5KTk5WcnKy0tDRdvnxZZ8+edXrMa61rRESE7rzzTt17771KTEzU0aNH9cknn+jTTz+19/Hw8LDPcX/jjTf0zTffaMmSJQ7LefXVV3XPPfeoRYsWTtcHAGUBwRwAiqh+/foaPHhwqY/bokULvfPOO1q5cqXCw8P1zDPPaPr06fYTP1etWqXRo0crJydH7du3V/Xq1VW9enW99NJL2rdvX6GuDJPb9db1/fffV+vWrTVw4EA1atRIEyZMcJjvfrXq1avr5Zdf1r/+9S/9+uuv9vacnBw999xzTtcGAGWFxchvYiIA4C8rPj5eX375peLj4/Pct3v3bkVHRzNdBABMiCPmAFDGeHt7KyAgIN/7PDw88lx+EQBgDhwxBwAAAEyAI+YAAACACRDMAQAAABMgmAMAAAAmQDAHAAAATIBgDgAAAJgAwRwAAAAwAYI5AAAAYAIEcwAAAMAE/h8ICZlPEBqY0AAAAABJRU5ErkJggg==\n",
      "text/plain": [
       "<Figure size 800x800 with 1 Axes>"
      ]
     },
     "metadata": {},
     "output_type": "display_data"
    }
   ],
   "source": [
    "plt.figure(figsize= (8,8))\n",
    "df_users.subscription_type.hist(bins=10, grid=True) \n",
    "plt.title('Распределение пользователей сервиса аренды самокатов GoFast среди городов')\n",
    "plt.ylabel('Количество значений')\n",
    "plt.xlabel('Тип подписки')\n",
    "plt.show\n",
    "# Применим метод describe() к столбцу subscription_type.\n",
    "df_users['subscription_type'].describe()"
   ]
  },
  {
   "cell_type": "markdown",
   "id": "14baed0b",
   "metadata": {},
   "source": [
    "      Как видно из гистограммы, больше всего пользователей, которые не имеют подписки(835 человек). Почти 700 пользователей имеют подписку. Могу предположить, что многие пользователи сервиса не хотят оформлять подписку и тратить лишние 200 рублей в месяц, так как пользуются самокатом нечасто и довольно редко.  "
   ]
  },
  {
   "cell_type": "markdown",
   "id": "f9e4fa93",
   "metadata": {},
   "source": [
    "     3.3 Возраст пользователей"
   ]
  },
  {
   "cell_type": "code",
   "execution_count": 45,
   "id": "6aa495a8",
   "metadata": {},
   "outputs": [
    {
     "data": {
      "text/plain": [
       "count    1534\n",
       "mean       25\n",
       "std         5\n",
       "min        12\n",
       "25%        22\n",
       "50%        25\n",
       "75%        28\n",
       "max        43\n",
       "Name: age, dtype: Int64"
      ]
     },
     "execution_count": 45,
     "metadata": {},
     "output_type": "execute_result"
    },
    {
     "data": {
      "image/png": "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\n",
      "text/plain": [
       "<Figure size 800x800 with 1 Axes>"
      ]
     },
     "metadata": {},
     "output_type": "display_data"
    }
   ],
   "source": [
    "plt.figure(figsize= (8,8))\n",
    "df_users.age.hist(bins=20, grid=True) \n",
    "plt.title('Распределение пользователей сервиса аренды самокатов GoFast по возрасту')\n",
    "plt.ylabel('Количество значений')\n",
    "plt.xlabel('Возраст')\n",
    "plt.show\n",
    "# С помощью метода describe() изучим основные статистические характеристики данных по признаку age. Округлим значения в большую сторону и приведем к целочисленному формату \n",
    "df_users['age'].describe().round().astype('Int64')"
   ]
  },
  {
   "cell_type": "markdown",
   "id": "c6e27cd2",
   "metadata": {},
   "source": [
    "     Медиана и среднее значение совпдают и равны 25. Минимальный возраст пользователя равен 12. Максимальное значение равно 43 годам. \n",
    "    На графике видим, что крайние значения признака встречаются довольно редко, а значения, близкие к средней величине, встречаются довольно часто . Описывая гистограмму можно сказать, что она имеет вид нормального распределения. "
   ]
  },
  {
   "cell_type": "markdown",
   "id": "f0a8ab6b",
   "metadata": {},
   "source": [
    "    3.4 Расстояние, которое пользователь преодолел за одну поездку\n",
    "   "
   ]
  },
  {
   "cell_type": "code",
   "execution_count": 46,
   "id": "80e12413",
   "metadata": {},
   "outputs": [
    {
     "data": {
      "text/plain": [
       "count    18068\n",
       "mean      3071\n",
       "std       1117\n",
       "min          1\n",
       "25%       2543\n",
       "50%       3134\n",
       "75%       3776\n",
       "max       7211\n",
       "Name: distance, dtype: int32"
      ]
     },
     "execution_count": 46,
     "metadata": {},
     "output_type": "execute_result"
    },
    {
     "data": {
      "image/png": "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\n",
      "text/plain": [
       "<Figure size 800x800 with 1 Axes>"
      ]
     },
     "metadata": {},
     "output_type": "display_data"
    }
   ],
   "source": [
    "plt.figure(figsize= (8,8))\n",
    "df_rides.distance.hist(bins=20, grid=True) \n",
    "plt.title('Распределение расстояния, которое пользователь проехал в текущей сессии в метрах')\n",
    "plt.ylabel('Количество значений')\n",
    "plt.xlabel('Расстояние поездки в метрах')\n",
    "plt.show\n",
    "# C помощью метода describe () изучим основные статистические показатели столбца distance \n",
    "df_rides['distance'].describe().round().astype('int')"
   ]
  },
  {
   "cell_type": "markdown",
   "id": "a63bbf47",
   "metadata": {},
   "source": [
    "      По данным гистограммы можно заметить, что среднее(3071 м) и медиана(3134 м) практически равны. Описывая гистограмму, можно сказать что она имеет вид нормального распределения, так как крайние значения встречаются достаточно редко, в то время как значения, близкие к среднему, встречаются довольно часто. Минимальное значение равно 1 м, я предполагаю, что это аномальное значение, которое "
   ]
  },
  {
   "cell_type": "code",
   "execution_count": 47,
   "id": "086ddc74",
   "metadata": {},
   "outputs": [
    {
     "data": {
      "image/png": "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\n",
      "text/plain": [
       "<Figure size 640x480 with 1 Axes>"
      ]
     },
     "metadata": {},
     "output_type": "display_data"
    }
   ],
   "source": [
    "# Построим диаграмму размаха boxplot\n",
    "df_rides.boxplot(column='distance')\n",
    "plt.show()"
   ]
  },
  {
   "cell_type": "markdown",
   "id": "7ac46761",
   "metadata": {},
   "source": [
    "    Видно, что нижний \"ус\" упирается в значение 800 метров. Верхний \"уc\" примерно равняется 5700 метров. Это граница нормального размаха. Все, что лежит выше 5700 метров, можно считать выбросами."
   ]
  },
  {
   "cell_type": "markdown",
   "id": "bd5411e9",
   "metadata": {},
   "source": [
    "    3.5 Продолжительность поездок"
   ]
  },
  {
   "cell_type": "code",
   "execution_count": 48,
   "id": "90bff666",
   "metadata": {},
   "outputs": [
    {
     "data": {
      "text/plain": [
       "count    18068\n",
       "mean        18\n",
       "std          6\n",
       "min          0\n",
       "25%         14\n",
       "50%         18\n",
       "75%         22\n",
       "max         41\n",
       "Name: duration, dtype: int32"
      ]
     },
     "execution_count": 48,
     "metadata": {},
     "output_type": "execute_result"
    },
    {
     "data": {
      "image/png": "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\n",
      "text/plain": [
       "<Figure size 800x800 with 1 Axes>"
      ]
     },
     "metadata": {},
     "output_type": "display_data"
    }
   ],
   "source": [
    "plt.figure(figsize= (8,8))\n",
    "df_rides.duration.hist(bins=20, grid=True) \n",
    "plt.title('Распределение продолжительности поездок в минутах среди пользователей сервиса')\n",
    "plt.ylabel('Количество значений')\n",
    "plt.xlabel('Продолжительность поездки в минутах')\n",
    "plt.show\n",
    "# C помощью метода describe () получим числовое описание данных для колонки duration\n",
    "df_rides['duration'].describe().round().astype('int') \n"
   ]
  },
  {
   "cell_type": "markdown",
   "id": "5c06a592",
   "metadata": {},
   "source": [
    "    По гистограмме видно, что среднее значение и медиана совпадают и равны 18 минутам. Минимальное значение равно 0. Считаю, что это аномальное значение. Также могу предположить, что  пользователь случайно нажал кнопку \"Начать поездку\" и сразу завершил сессию, из-за чего продолжительность его поездки составила 0 минут. Описывая гистограмму, можно сказать, что она имеет вид нормального распределения."
   ]
  },
  {
   "cell_type": "markdown",
   "id": "944f67d9",
   "metadata": {},
   "source": [
    "## Вывод по исследовательскому анализу данных: \n",
    "1) Согласно данным гистограммы, больше всего пользователей сервиса GoFast находится  в Пятигорске - 219 человек, меньше всего пользователей живет в Москве -168 человек\n",
    "2) По данным столбчатой диаграммы доля пользователей, не имеющих подписку, от общего количества пользователей сервиса GoFast составляет 54 %. Соответственно, доля пользователей. оформивших подписку, составляет 46 %.\n",
    "3) Средний возраст пользователей составил 25 лет. Медиана также равна 25. Самому младшему пользователю 12 лет. Самому старшему пользователю 43 года. \n",
    "4) Среднее расстояние поездки в метрах составило 3 км(3071 м). Медиана составила 3134 м. Максимальное расстояние поездки составило 7211 метров. \n",
    "5) Средняя продолжительность поездки в минутах составила 18 минут. Медиана(второй квартиль) равна также 18 минутам. Максимальная продолжительность поездки составила 41 минуту.\n"
   ]
  },
  {
   "cell_type": "markdown",
   "id": "ccdb0171",
   "metadata": {},
   "source": [
    "##     Шаг 4. Объединение данных \n"
   ]
  },
  {
   "cell_type": "markdown",
   "id": "13ef01dd",
   "metadata": {},
   "source": [
    "   ## 4.1 Объединим данные о пользователях, поездках и подписках в один датафрейм. Для этого воспользуемся методом merge()."
   ]
  },
  {
   "cell_type": "code",
   "execution_count": 49,
   "id": "ca5cba5f",
   "metadata": {},
   "outputs": [
    {
     "data": {
      "text/html": [
       "<div>\n",
       "<style scoped>\n",
       "    .dataframe tbody tr th:only-of-type {\n",
       "        vertical-align: middle;\n",
       "    }\n",
       "\n",
       "    .dataframe tbody tr th {\n",
       "        vertical-align: top;\n",
       "    }\n",
       "\n",
       "    .dataframe thead th {\n",
       "        text-align: right;\n",
       "    }\n",
       "</style>\n",
       "<table border=\"1\" class=\"dataframe\">\n",
       "  <thead>\n",
       "    <tr style=\"text-align: right;\">\n",
       "      <th></th>\n",
       "      <th>user_id</th>\n",
       "      <th>name</th>\n",
       "      <th>age</th>\n",
       "      <th>city</th>\n",
       "      <th>subscription_type</th>\n",
       "      <th>distance</th>\n",
       "      <th>duration</th>\n",
       "      <th>date</th>\n",
       "      <th>date_month</th>\n",
       "      <th>minute_price</th>\n",
       "      <th>start_ride_price</th>\n",
       "      <th>subscription_fee</th>\n",
       "    </tr>\n",
       "  </thead>\n",
       "  <tbody>\n",
       "    <tr>\n",
       "      <th>0</th>\n",
       "      <td>1</td>\n",
       "      <td>Кира</td>\n",
       "      <td>22</td>\n",
       "      <td>Тюмень</td>\n",
       "      <td>ultra</td>\n",
       "      <td>4410</td>\n",
       "      <td>26</td>\n",
       "      <td>2021-01-01</td>\n",
       "      <td>1</td>\n",
       "      <td>6</td>\n",
       "      <td>0</td>\n",
       "      <td>199</td>\n",
       "    </tr>\n",
       "    <tr>\n",
       "      <th>1</th>\n",
       "      <td>1</td>\n",
       "      <td>Кира</td>\n",
       "      <td>22</td>\n",
       "      <td>Тюмень</td>\n",
       "      <td>ultra</td>\n",
       "      <td>2618</td>\n",
       "      <td>16</td>\n",
       "      <td>2021-01-18</td>\n",
       "      <td>1</td>\n",
       "      <td>6</td>\n",
       "      <td>0</td>\n",
       "      <td>199</td>\n",
       "    </tr>\n",
       "    <tr>\n",
       "      <th>2</th>\n",
       "      <td>1</td>\n",
       "      <td>Кира</td>\n",
       "      <td>22</td>\n",
       "      <td>Тюмень</td>\n",
       "      <td>ultra</td>\n",
       "      <td>754</td>\n",
       "      <td>6</td>\n",
       "      <td>2021-04-20</td>\n",
       "      <td>4</td>\n",
       "      <td>6</td>\n",
       "      <td>0</td>\n",
       "      <td>199</td>\n",
       "    </tr>\n",
       "    <tr>\n",
       "      <th>3</th>\n",
       "      <td>1</td>\n",
       "      <td>Кира</td>\n",
       "      <td>22</td>\n",
       "      <td>Тюмень</td>\n",
       "      <td>ultra</td>\n",
       "      <td>2695</td>\n",
       "      <td>19</td>\n",
       "      <td>2021-08-11</td>\n",
       "      <td>8</td>\n",
       "      <td>6</td>\n",
       "      <td>0</td>\n",
       "      <td>199</td>\n",
       "    </tr>\n",
       "    <tr>\n",
       "      <th>4</th>\n",
       "      <td>1</td>\n",
       "      <td>Кира</td>\n",
       "      <td>22</td>\n",
       "      <td>Тюмень</td>\n",
       "      <td>ultra</td>\n",
       "      <td>4029</td>\n",
       "      <td>26</td>\n",
       "      <td>2021-08-28</td>\n",
       "      <td>8</td>\n",
       "      <td>6</td>\n",
       "      <td>0</td>\n",
       "      <td>199</td>\n",
       "    </tr>\n",
       "    <tr>\n",
       "      <th>...</th>\n",
       "      <td>...</td>\n",
       "      <td>...</td>\n",
       "      <td>...</td>\n",
       "      <td>...</td>\n",
       "      <td>...</td>\n",
       "      <td>...</td>\n",
       "      <td>...</td>\n",
       "      <td>...</td>\n",
       "      <td>...</td>\n",
       "      <td>...</td>\n",
       "      <td>...</td>\n",
       "      <td>...</td>\n",
       "    </tr>\n",
       "    <tr>\n",
       "      <th>18063</th>\n",
       "      <td>1534</td>\n",
       "      <td>Альберт</td>\n",
       "      <td>25</td>\n",
       "      <td>Краснодар</td>\n",
       "      <td>free</td>\n",
       "      <td>3781</td>\n",
       "      <td>20</td>\n",
       "      <td>2021-11-04</td>\n",
       "      <td>11</td>\n",
       "      <td>8</td>\n",
       "      <td>50</td>\n",
       "      <td>0</td>\n",
       "    </tr>\n",
       "    <tr>\n",
       "      <th>18064</th>\n",
       "      <td>1534</td>\n",
       "      <td>Альберт</td>\n",
       "      <td>25</td>\n",
       "      <td>Краснодар</td>\n",
       "      <td>free</td>\n",
       "      <td>2840</td>\n",
       "      <td>21</td>\n",
       "      <td>2021-11-16</td>\n",
       "      <td>11</td>\n",
       "      <td>8</td>\n",
       "      <td>50</td>\n",
       "      <td>0</td>\n",
       "    </tr>\n",
       "    <tr>\n",
       "      <th>18065</th>\n",
       "      <td>1534</td>\n",
       "      <td>Альберт</td>\n",
       "      <td>25</td>\n",
       "      <td>Краснодар</td>\n",
       "      <td>free</td>\n",
       "      <td>3826</td>\n",
       "      <td>18</td>\n",
       "      <td>2021-11-18</td>\n",
       "      <td>11</td>\n",
       "      <td>8</td>\n",
       "      <td>50</td>\n",
       "      <td>0</td>\n",
       "    </tr>\n",
       "    <tr>\n",
       "      <th>18066</th>\n",
       "      <td>1534</td>\n",
       "      <td>Альберт</td>\n",
       "      <td>25</td>\n",
       "      <td>Краснодар</td>\n",
       "      <td>free</td>\n",
       "      <td>2902</td>\n",
       "      <td>17</td>\n",
       "      <td>2021-11-27</td>\n",
       "      <td>11</td>\n",
       "      <td>8</td>\n",
       "      <td>50</td>\n",
       "      <td>0</td>\n",
       "    </tr>\n",
       "    <tr>\n",
       "      <th>18067</th>\n",
       "      <td>1534</td>\n",
       "      <td>Альберт</td>\n",
       "      <td>25</td>\n",
       "      <td>Краснодар</td>\n",
       "      <td>free</td>\n",
       "      <td>2372</td>\n",
       "      <td>16</td>\n",
       "      <td>2021-12-29</td>\n",
       "      <td>12</td>\n",
       "      <td>8</td>\n",
       "      <td>50</td>\n",
       "      <td>0</td>\n",
       "    </tr>\n",
       "  </tbody>\n",
       "</table>\n",
       "<p>18068 rows × 12 columns</p>\n",
       "</div>"
      ],
      "text/plain": [
       "       user_id     name  age       city subscription_type  distance  duration  \\\n",
       "0            1     Кира   22     Тюмень             ultra      4410        26   \n",
       "1            1     Кира   22     Тюмень             ultra      2618        16   \n",
       "2            1     Кира   22     Тюмень             ultra       754         6   \n",
       "3            1     Кира   22     Тюмень             ultra      2695        19   \n",
       "4            1     Кира   22     Тюмень             ultra      4029        26   \n",
       "...        ...      ...  ...        ...               ...       ...       ...   \n",
       "18063     1534  Альберт   25  Краснодар              free      3781        20   \n",
       "18064     1534  Альберт   25  Краснодар              free      2840        21   \n",
       "18065     1534  Альберт   25  Краснодар              free      3826        18   \n",
       "18066     1534  Альберт   25  Краснодар              free      2902        17   \n",
       "18067     1534  Альберт   25  Краснодар              free      2372        16   \n",
       "\n",
       "            date  date_month  minute_price  start_ride_price  subscription_fee  \n",
       "0     2021-01-01           1             6                 0               199  \n",
       "1     2021-01-18           1             6                 0               199  \n",
       "2     2021-04-20           4             6                 0               199  \n",
       "3     2021-08-11           8             6                 0               199  \n",
       "4     2021-08-28           8             6                 0               199  \n",
       "...          ...         ...           ...               ...               ...  \n",
       "18063 2021-11-04          11             8                50                 0  \n",
       "18064 2021-11-16          11             8                50                 0  \n",
       "18065 2021-11-18          11             8                50                 0  \n",
       "18066 2021-11-27          11             8                50                 0  \n",
       "18067 2021-12-29          12             8                50                 0  \n",
       "\n",
       "[18068 rows x 12 columns]"
      ]
     },
     "execution_count": 49,
     "metadata": {},
     "output_type": "execute_result"
    }
   ],
   "source": [
    "\n",
    "df_general = df_users.merge(df_rides).merge(df_subscriptions)\n",
    "df_general"
   ]
  },
  {
   "cell_type": "markdown",
   "id": "b357edd4",
   "metadata": {},
   "source": [
    "    4.2 Создадим ещё два датафрейма из датафрейма, созданного в шаге 4.1:\n",
    "\n",
    "    c данными о пользователях без подписки;\n",
    "    с данными о пользователях с подпиской.\n",
    "    \n",
    "    \n",
    "    "
   ]
  },
  {
   "cell_type": "code",
   "execution_count": 50,
   "id": "2d1ee641",
   "metadata": {},
   "outputs": [],
   "source": [
    "# Создадим датафрейм с данными о пользователях без подписки, выведем случайным образом 10 строк датафрейма с помощью метода sample\n",
    "df_users_free = df_users.query(\"subscription_type =='free'\").merge(df_rides).merge(df_subscriptions)"
   ]
  },
  {
   "cell_type": "code",
   "execution_count": 51,
   "id": "53250c74",
   "metadata": {},
   "outputs": [
    {
     "data": {
      "text/html": [
       "<div>\n",
       "<style scoped>\n",
       "    .dataframe tbody tr th:only-of-type {\n",
       "        vertical-align: middle;\n",
       "    }\n",
       "\n",
       "    .dataframe tbody tr th {\n",
       "        vertical-align: top;\n",
       "    }\n",
       "\n",
       "    .dataframe thead th {\n",
       "        text-align: right;\n",
       "    }\n",
       "</style>\n",
       "<table border=\"1\" class=\"dataframe\">\n",
       "  <thead>\n",
       "    <tr style=\"text-align: right;\">\n",
       "      <th></th>\n",
       "      <th>user_id</th>\n",
       "      <th>name</th>\n",
       "      <th>age</th>\n",
       "      <th>city</th>\n",
       "      <th>subscription_type</th>\n",
       "      <th>distance</th>\n",
       "      <th>duration</th>\n",
       "      <th>date</th>\n",
       "      <th>date_month</th>\n",
       "      <th>minute_price</th>\n",
       "      <th>start_ride_price</th>\n",
       "      <th>subscription_fee</th>\n",
       "    </tr>\n",
       "  </thead>\n",
       "  <tbody>\n",
       "    <tr>\n",
       "      <th>7841</th>\n",
       "      <td>1268</td>\n",
       "      <td>Юлия</td>\n",
       "      <td>26</td>\n",
       "      <td>Краснодар</td>\n",
       "      <td>free</td>\n",
       "      <td>3811</td>\n",
       "      <td>14</td>\n",
       "      <td>2021-05-20</td>\n",
       "      <td>5</td>\n",
       "      <td>8</td>\n",
       "      <td>50</td>\n",
       "      <td>0</td>\n",
       "    </tr>\n",
       "    <tr>\n",
       "      <th>6233</th>\n",
       "      <td>1156</td>\n",
       "      <td>Эвелина</td>\n",
       "      <td>33</td>\n",
       "      <td>Тюмень</td>\n",
       "      <td>free</td>\n",
       "      <td>3854</td>\n",
       "      <td>26</td>\n",
       "      <td>2021-05-10</td>\n",
       "      <td>5</td>\n",
       "      <td>8</td>\n",
       "      <td>50</td>\n",
       "      <td>0</td>\n",
       "    </tr>\n",
       "    <tr>\n",
       "      <th>7054</th>\n",
       "      <td>1214</td>\n",
       "      <td>Савелий</td>\n",
       "      <td>25</td>\n",
       "      <td>Ростов-на-Дону</td>\n",
       "      <td>free</td>\n",
       "      <td>1047</td>\n",
       "      <td>10</td>\n",
       "      <td>2021-04-07</td>\n",
       "      <td>4</td>\n",
       "      <td>8</td>\n",
       "      <td>50</td>\n",
       "      <td>0</td>\n",
       "    </tr>\n",
       "    <tr>\n",
       "      <th>7149</th>\n",
       "      <td>1220</td>\n",
       "      <td>Мария</td>\n",
       "      <td>17</td>\n",
       "      <td>Ростов-на-Дону</td>\n",
       "      <td>free</td>\n",
       "      <td>983</td>\n",
       "      <td>12</td>\n",
       "      <td>2021-04-21</td>\n",
       "      <td>4</td>\n",
       "      <td>8</td>\n",
       "      <td>50</td>\n",
       "      <td>0</td>\n",
       "    </tr>\n",
       "    <tr>\n",
       "      <th>9270</th>\n",
       "      <td>1374</td>\n",
       "      <td>Марк</td>\n",
       "      <td>29</td>\n",
       "      <td>Пятигорск</td>\n",
       "      <td>free</td>\n",
       "      <td>3138</td>\n",
       "      <td>26</td>\n",
       "      <td>2021-08-26</td>\n",
       "      <td>8</td>\n",
       "      <td>8</td>\n",
       "      <td>50</td>\n",
       "      <td>0</td>\n",
       "    </tr>\n",
       "    <tr>\n",
       "      <th>1466</th>\n",
       "      <td>807</td>\n",
       "      <td>Александр</td>\n",
       "      <td>28</td>\n",
       "      <td>Екатеринбург</td>\n",
       "      <td>free</td>\n",
       "      <td>4560</td>\n",
       "      <td>32</td>\n",
       "      <td>2021-06-09</td>\n",
       "      <td>6</td>\n",
       "      <td>8</td>\n",
       "      <td>50</td>\n",
       "      <td>0</td>\n",
       "    </tr>\n",
       "    <tr>\n",
       "      <th>4147</th>\n",
       "      <td>1003</td>\n",
       "      <td>Екатерина</td>\n",
       "      <td>22</td>\n",
       "      <td>Сочи</td>\n",
       "      <td>free</td>\n",
       "      <td>3391</td>\n",
       "      <td>11</td>\n",
       "      <td>2021-03-31</td>\n",
       "      <td>3</td>\n",
       "      <td>8</td>\n",
       "      <td>50</td>\n",
       "      <td>0</td>\n",
       "    </tr>\n",
       "    <tr>\n",
       "      <th>5428</th>\n",
       "      <td>1096</td>\n",
       "      <td>Майя</td>\n",
       "      <td>28</td>\n",
       "      <td>Москва</td>\n",
       "      <td>free</td>\n",
       "      <td>4157</td>\n",
       "      <td>31</td>\n",
       "      <td>2021-10-14</td>\n",
       "      <td>10</td>\n",
       "      <td>8</td>\n",
       "      <td>50</td>\n",
       "      <td>0</td>\n",
       "    </tr>\n",
       "    <tr>\n",
       "      <th>8116</th>\n",
       "      <td>1287</td>\n",
       "      <td>Дмитрий</td>\n",
       "      <td>18</td>\n",
       "      <td>Тюмень</td>\n",
       "      <td>free</td>\n",
       "      <td>3585</td>\n",
       "      <td>29</td>\n",
       "      <td>2021-12-19</td>\n",
       "      <td>12</td>\n",
       "      <td>8</td>\n",
       "      <td>50</td>\n",
       "      <td>0</td>\n",
       "    </tr>\n",
       "    <tr>\n",
       "      <th>2717</th>\n",
       "      <td>902</td>\n",
       "      <td>Вадим</td>\n",
       "      <td>15</td>\n",
       "      <td>Краснодар</td>\n",
       "      <td>free</td>\n",
       "      <td>2034</td>\n",
       "      <td>17</td>\n",
       "      <td>2021-06-19</td>\n",
       "      <td>6</td>\n",
       "      <td>8</td>\n",
       "      <td>50</td>\n",
       "      <td>0</td>\n",
       "    </tr>\n",
       "  </tbody>\n",
       "</table>\n",
       "</div>"
      ],
      "text/plain": [
       "      user_id       name  age            city subscription_type  distance  \\\n",
       "7841     1268       Юлия   26       Краснодар              free      3811   \n",
       "6233     1156    Эвелина   33          Тюмень              free      3854   \n",
       "7054     1214    Савелий   25  Ростов-на-Дону              free      1047   \n",
       "7149     1220      Мария   17  Ростов-на-Дону              free       983   \n",
       "9270     1374       Марк   29       Пятигорск              free      3138   \n",
       "1466      807  Александр   28    Екатеринбург              free      4560   \n",
       "4147     1003  Екатерина   22            Сочи              free      3391   \n",
       "5428     1096       Майя   28          Москва              free      4157   \n",
       "8116     1287    Дмитрий   18          Тюмень              free      3585   \n",
       "2717      902      Вадим   15       Краснодар              free      2034   \n",
       "\n",
       "      duration       date  date_month  minute_price  start_ride_price  \\\n",
       "7841        14 2021-05-20           5             8                50   \n",
       "6233        26 2021-05-10           5             8                50   \n",
       "7054        10 2021-04-07           4             8                50   \n",
       "7149        12 2021-04-21           4             8                50   \n",
       "9270        26 2021-08-26           8             8                50   \n",
       "1466        32 2021-06-09           6             8                50   \n",
       "4147        11 2021-03-31           3             8                50   \n",
       "5428        31 2021-10-14          10             8                50   \n",
       "8116        29 2021-12-19          12             8                50   \n",
       "2717        17 2021-06-19           6             8                50   \n",
       "\n",
       "      subscription_fee  \n",
       "7841                 0  \n",
       "6233                 0  \n",
       "7054                 0  \n",
       "7149                 0  \n",
       "9270                 0  \n",
       "1466                 0  \n",
       "4147                 0  \n",
       "5428                 0  \n",
       "8116                 0  \n",
       "2717                 0  "
      ]
     },
     "execution_count": 51,
     "metadata": {},
     "output_type": "execute_result"
    }
   ],
   "source": [
    "df_users_free.sample(10)"
   ]
  },
  {
   "cell_type": "code",
   "execution_count": 52,
   "id": "6c8a9836",
   "metadata": {},
   "outputs": [],
   "source": [
    "# Создадим датафрейм с данными о пользователях с подпиской, выведем случайным образом 10 строк датафрейма с помощью метода sample()\n",
    "df_users_ultra = df_users.query(\"subscription_type =='ultra'\").merge(df_rides).merge(df_subscriptions)"
   ]
  },
  {
   "cell_type": "code",
   "execution_count": 53,
   "id": "60bfe85e",
   "metadata": {},
   "outputs": [
    {
     "data": {
      "text/html": [
       "<div>\n",
       "<style scoped>\n",
       "    .dataframe tbody tr th:only-of-type {\n",
       "        vertical-align: middle;\n",
       "    }\n",
       "\n",
       "    .dataframe tbody tr th {\n",
       "        vertical-align: top;\n",
       "    }\n",
       "\n",
       "    .dataframe thead th {\n",
       "        text-align: right;\n",
       "    }\n",
       "</style>\n",
       "<table border=\"1\" class=\"dataframe\">\n",
       "  <thead>\n",
       "    <tr style=\"text-align: right;\">\n",
       "      <th></th>\n",
       "      <th>user_id</th>\n",
       "      <th>name</th>\n",
       "      <th>age</th>\n",
       "      <th>city</th>\n",
       "      <th>subscription_type</th>\n",
       "      <th>distance</th>\n",
       "      <th>duration</th>\n",
       "      <th>date</th>\n",
       "      <th>date_month</th>\n",
       "      <th>minute_price</th>\n",
       "      <th>start_ride_price</th>\n",
       "      <th>subscription_fee</th>\n",
       "    </tr>\n",
       "  </thead>\n",
       "  <tbody>\n",
       "    <tr>\n",
       "      <th>4799</th>\n",
       "      <td>516</td>\n",
       "      <td>Елисей</td>\n",
       "      <td>24</td>\n",
       "      <td>Тюмень</td>\n",
       "      <td>ultra</td>\n",
       "      <td>3955</td>\n",
       "      <td>24</td>\n",
       "      <td>2021-07-20</td>\n",
       "      <td>7</td>\n",
       "      <td>6</td>\n",
       "      <td>0</td>\n",
       "      <td>199</td>\n",
       "    </tr>\n",
       "    <tr>\n",
       "      <th>1987</th>\n",
       "      <td>215</td>\n",
       "      <td>Агата</td>\n",
       "      <td>20</td>\n",
       "      <td>Омск</td>\n",
       "      <td>ultra</td>\n",
       "      <td>3107</td>\n",
       "      <td>24</td>\n",
       "      <td>2021-04-27</td>\n",
       "      <td>4</td>\n",
       "      <td>6</td>\n",
       "      <td>0</td>\n",
       "      <td>199</td>\n",
       "    </tr>\n",
       "    <tr>\n",
       "      <th>4401</th>\n",
       "      <td>473</td>\n",
       "      <td>Самир</td>\n",
       "      <td>33</td>\n",
       "      <td>Екатеринбург</td>\n",
       "      <td>ultra</td>\n",
       "      <td>2707</td>\n",
       "      <td>15</td>\n",
       "      <td>2021-09-11</td>\n",
       "      <td>9</td>\n",
       "      <td>6</td>\n",
       "      <td>0</td>\n",
       "      <td>199</td>\n",
       "    </tr>\n",
       "    <tr>\n",
       "      <th>6106</th>\n",
       "      <td>655</td>\n",
       "      <td>Альберт</td>\n",
       "      <td>20</td>\n",
       "      <td>Пятигорск</td>\n",
       "      <td>ultra</td>\n",
       "      <td>3087</td>\n",
       "      <td>10</td>\n",
       "      <td>2021-03-19</td>\n",
       "      <td>3</td>\n",
       "      <td>6</td>\n",
       "      <td>0</td>\n",
       "      <td>199</td>\n",
       "    </tr>\n",
       "    <tr>\n",
       "      <th>3809</th>\n",
       "      <td>410</td>\n",
       "      <td>Виктор</td>\n",
       "      <td>19</td>\n",
       "      <td>Тюмень</td>\n",
       "      <td>ultra</td>\n",
       "      <td>2982</td>\n",
       "      <td>21</td>\n",
       "      <td>2021-03-20</td>\n",
       "      <td>3</td>\n",
       "      <td>6</td>\n",
       "      <td>0</td>\n",
       "      <td>199</td>\n",
       "    </tr>\n",
       "    <tr>\n",
       "      <th>1312</th>\n",
       "      <td>142</td>\n",
       "      <td>Марсель</td>\n",
       "      <td>26</td>\n",
       "      <td>Пятигорск</td>\n",
       "      <td>ultra</td>\n",
       "      <td>3152</td>\n",
       "      <td>22</td>\n",
       "      <td>2021-09-12</td>\n",
       "      <td>9</td>\n",
       "      <td>6</td>\n",
       "      <td>0</td>\n",
       "      <td>199</td>\n",
       "    </tr>\n",
       "    <tr>\n",
       "      <th>4157</th>\n",
       "      <td>449</td>\n",
       "      <td>Александр</td>\n",
       "      <td>14</td>\n",
       "      <td>Москва</td>\n",
       "      <td>ultra</td>\n",
       "      <td>2688</td>\n",
       "      <td>21</td>\n",
       "      <td>2021-01-05</td>\n",
       "      <td>1</td>\n",
       "      <td>6</td>\n",
       "      <td>0</td>\n",
       "      <td>199</td>\n",
       "    </tr>\n",
       "    <tr>\n",
       "      <th>2600</th>\n",
       "      <td>276</td>\n",
       "      <td>Святогор</td>\n",
       "      <td>20</td>\n",
       "      <td>Сочи</td>\n",
       "      <td>ultra</td>\n",
       "      <td>3663</td>\n",
       "      <td>23</td>\n",
       "      <td>2021-02-03</td>\n",
       "      <td>2</td>\n",
       "      <td>6</td>\n",
       "      <td>0</td>\n",
       "      <td>199</td>\n",
       "    </tr>\n",
       "    <tr>\n",
       "      <th>2319</th>\n",
       "      <td>247</td>\n",
       "      <td>Арина</td>\n",
       "      <td>22</td>\n",
       "      <td>Ростов-на-Дону</td>\n",
       "      <td>ultra</td>\n",
       "      <td>3174</td>\n",
       "      <td>20</td>\n",
       "      <td>2021-06-17</td>\n",
       "      <td>6</td>\n",
       "      <td>6</td>\n",
       "      <td>0</td>\n",
       "      <td>199</td>\n",
       "    </tr>\n",
       "    <tr>\n",
       "      <th>2631</th>\n",
       "      <td>280</td>\n",
       "      <td>Аделина</td>\n",
       "      <td>26</td>\n",
       "      <td>Екатеринбург</td>\n",
       "      <td>ultra</td>\n",
       "      <td>3188</td>\n",
       "      <td>17</td>\n",
       "      <td>2021-03-11</td>\n",
       "      <td>3</td>\n",
       "      <td>6</td>\n",
       "      <td>0</td>\n",
       "      <td>199</td>\n",
       "    </tr>\n",
       "  </tbody>\n",
       "</table>\n",
       "</div>"
      ],
      "text/plain": [
       "      user_id       name  age            city subscription_type  distance  \\\n",
       "4799      516     Елисей   24          Тюмень             ultra      3955   \n",
       "1987      215      Агата   20            Омск             ultra      3107   \n",
       "4401      473      Самир   33    Екатеринбург             ultra      2707   \n",
       "6106      655    Альберт   20       Пятигорск             ultra      3087   \n",
       "3809      410     Виктор   19          Тюмень             ultra      2982   \n",
       "1312      142    Марсель   26       Пятигорск             ultra      3152   \n",
       "4157      449  Александр   14          Москва             ultra      2688   \n",
       "2600      276   Святогор   20            Сочи             ultra      3663   \n",
       "2319      247      Арина   22  Ростов-на-Дону             ultra      3174   \n",
       "2631      280    Аделина   26    Екатеринбург             ultra      3188   \n",
       "\n",
       "      duration       date  date_month  minute_price  start_ride_price  \\\n",
       "4799        24 2021-07-20           7             6                 0   \n",
       "1987        24 2021-04-27           4             6                 0   \n",
       "4401        15 2021-09-11           9             6                 0   \n",
       "6106        10 2021-03-19           3             6                 0   \n",
       "3809        21 2021-03-20           3             6                 0   \n",
       "1312        22 2021-09-12           9             6                 0   \n",
       "4157        21 2021-01-05           1             6                 0   \n",
       "2600        23 2021-02-03           2             6                 0   \n",
       "2319        20 2021-06-17           6             6                 0   \n",
       "2631        17 2021-03-11           3             6                 0   \n",
       "\n",
       "      subscription_fee  \n",
       "4799               199  \n",
       "1987               199  \n",
       "4401               199  \n",
       "6106               199  \n",
       "3809               199  \n",
       "1312               199  \n",
       "4157               199  \n",
       "2600               199  \n",
       "2319               199  \n",
       "2631               199  "
      ]
     },
     "execution_count": 53,
     "metadata": {},
     "output_type": "execute_result"
    }
   ],
   "source": [
    "df_users_ultra.sample(10)"
   ]
  },
  {
   "cell_type": "markdown",
   "id": "6dc9ac0b",
   "metadata": {},
   "source": [
    "     4.3 Визуализируем информацию о  расстоянии и времени поездок для пользователей обеих категорий"
   ]
  },
  {
   "cell_type": "code",
   "execution_count": 54,
   "id": "2496bf7f",
   "metadata": {},
   "outputs": [
    {
     "data": {
      "text/plain": [
       "count    11568\n",
       "mean      3045\n",
       "std       1246\n",
       "min          1\n",
       "25%       2367\n",
       "50%       3115\n",
       "75%       3906\n",
       "max       7211\n",
       "Name: distance, dtype: int32"
      ]
     },
     "execution_count": 54,
     "metadata": {},
     "output_type": "execute_result"
    },
    {
     "data": {
      "image/png": "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\n",
      "text/plain": [
       "<Figure size 800x800 with 1 Axes>"
      ]
     },
     "metadata": {},
     "output_type": "display_data"
    }
   ],
   "source": [
    "plt.figure(figsize= (8,8))\n",
    "df_users_free.distance.hist(bins=20, grid=True) \n",
    "plt.title('Распределение расстояния, которое пользователь без подписки проехал в текущей сессии в метрах')\n",
    "plt.ylabel('Количество значений')\n",
    "plt.xlabel('Расстояние поездки в метрах')\n",
    "plt.show\n",
    "# C помощью метода describe () изучим основные статистические показатели столбца distance \n",
    "df_users_free['distance'].describe().round().astype('int')"
   ]
  },
  {
   "cell_type": "markdown",
   "id": "a7dd0025",
   "metadata": {},
   "source": [
    "     По данным гистограммы мы видим, что среднее значение равно 3045 метрам. Медиана равна 3115 метрам. Если отбросить значения от 0 до 1000 м, можно сказать, что гистограмма имеет вид нормального распределения. "
   ]
  },
  {
   "cell_type": "code",
   "execution_count": 55,
   "id": "88b3254e",
   "metadata": {},
   "outputs": [
    {
     "data": {
      "text/plain": [
       "count    11568\n",
       "mean        17\n",
       "std          6\n",
       "min          0\n",
       "25%         13\n",
       "50%         17\n",
       "75%         22\n",
       "max         35\n",
       "Name: duration, dtype: int32"
      ]
     },
     "execution_count": 55,
     "metadata": {},
     "output_type": "execute_result"
    },
    {
     "data": {
      "image/png": "iVBORw0KGgoAAAANSUhEUgAAAsAAAAK8CAYAAADhzwlVAAAAOXRFWHRTb2Z0d2FyZQBNYXRwbG90bGliIHZlcnNpb24zLjcuMCwgaHR0cHM6Ly9tYXRwbG90bGliLm9yZy88F64QAAAACXBIWXMAAA9hAAAPYQGoP6dpAABpeUlEQVR4nO3dd3gU9f7+/3tJTwiBBJIQwdBrAOkERHpoARQUlSMGRRFpB8ECepQoSlUBQVFRQUAEjwIHDkpR+qEpgiBy+IB0pR1KIARCyvv3h9/sj01fsikwz8d17QU7896Z17x2dnNndnZiM8YYAQAAABZRrLALAAAAAAoSARgAAACWQgAGAACApRCAAQAAYCkEYAAAAFgKARgAAACWQgAGAACApRCAAQAAYCkEYAAAUGSkpKTof//7X2GXgTscARgAABSa+Ph4jRs3Tk2aNFHp0qXl4eGhMmXKaMuWLYVdGu5gBODbzJw5c2Sz2ew3d3d3lStXTk888YT++OOPwi4PAGAx3377rRo0aKCTJ08qLi5O/fv310svvZSrx54+fVqNGjXShAkT1L17dy1ZskQ7duzQL7/8oqZNm+Zz5bAy98IuALdm9uzZqlGjhq5du6aNGzdq/Pjx2rBhg/bu3Ss/P7/CLg8AYBHt27fXu+++q/Lly0uSwsPDtW7dulw99plnntGpU6e0adMm1atXLz/LBBwQgG9TERERatSokSSpTZs2SklJ0dixY7V06VL97W9/K+TqAABW4enpqe+//17Hjh3T9evXVblyZbm75xwvfv/9dy1btkwTJ04k/KLAcQrEHaJZs2aSpGPHjkmSzp07p0GDBqlWrVoqXry4goOD1bZtW23atCnDYxMTE/XGG2+oZs2a8vb2VlBQkNq0aeNw/tXNp12kv1WoUME+7ujRo7LZbJo0aZLeeust3X333fL29lajRo30ww8/ZFj3wYMH1adPHwUHB8vLy0s1a9bU+++/n+k2xsbGZrr+1q1bZxj7/fffq127dipRooR8fX3VokWLTNcvSRUqVMh0uevXr3cYt2jRIkVGRsrPz0/FixdXx44dtWvXLocx/fr1U/HixTOs4+uvv86wzNatW2eofdOmTfb138wYow8++ED33HOPfHx8VKpUKT344IM6fPhwptt0s/R9K168uBo0aKAFCxZkWvu+ffvUrl07+fn5qUyZMhoyZIgSEhJuqZ7WrVvLZrOpa9euGep64oknZLPZFBER4TD9xo0bevPNN1WjRg15eXmpTJkyeuKJJ3Tu3DmHcRUqVFB0dHSG5Q4ZMiRD/2w2m2JjYx2mjR07Nsv9J73c7v+SdOHCBQ0aNEh33XWXPD09ValSJb3yyitKTEx0GJfbHj766KMKDw+Xt7e3SpUqpZYtW2rlypUZakx77WV2O3r0qH1c2mlUN0/bsWOHSpYsqYceekjJycmSpPXr12f6Omjfvn2m/Uwv7fFZ3fr16+cw/tdff1WPHj1UqlQpeXt765577tHnn3+e6bL79euX6TJvrimr12J6uelvamqqJk2aZN8ng4OD9fjjj+vkyZMO49L297RbUFCQoqKi9OOPPzqMW7RokaKiolS2bFn5+PioZs2aGjVqlK5evZrjNmb1vObm/SlNbpbnzGs87TUUHh6u6tWra+vWrZm+j6X3yy+/2PvbsmVLlSxZUiVKlFDHjh0z9EzK3c+L1atXq2HDhipVqpS8vLxUoUIFDRs2TFeuXMm2luxeP5m9Txw/flyPPfaYQy3vvPOOUlNTMyw7/amLWb135PSc3+rPj9TUVE2fPt3+XJYsWVLNmjXTsmXL7GMqVKjg8JpMSUnRY489Jn9/f23evPmW1lvUEYDvEIcOHZIklSlTRtJfP4QlacyYMVqxYoVmz56tSpUqqXXr1g4vouTkZHXu3Fljx45VdHS0lixZojlz5qh58+Y6fvy4wzoefPBBbd261eHWokWLTOuZMWOGVq5cqalTp2r+/PkqVqyYOnfurK1bt9rH/Pbbb2rcuLF+/fVXvfPOO/r3v/+trl27atiwYXr99dez3NaVK1fa11+pUqUM8+fPn6+oqCiVKFFCn3/+ub766isFBgaqY8eOWYbgLl262JeZWQAfN26cHn30UdWqVUtfffWV5s2bpytXrqhly5b67bffsqzVGSkpKRo8eLDc3NwyzHvmmWc0fPhwtW/fXkuXLtUHH3ygffv2qXnz5jpz5kyulp+2fYsWLVLJkiX12GOPafv27Q5jkpKS1KVLF7Vr105Lly7VkCFD9NFHH+nhhx++5XpKlSqlVatW6ffff7dPO3/+vBYuXKjAwECHsampqerRo4cmTJigPn36aMWKFZowYYLWrFmj1q1b69q1a7na1pwcO3ZM48ePz7TXWcnN/n/9+nW1adNGc+fO1YgRI7RixQo99thjmjRpknr27OkwNrc9bNmypaZNm6Y1a9boiy++ULly5dStWzft378/0zqHDh1qr2/o0KE5bteOHTsUFRWlDh066Msvv8z2yN1XX32VIRDnZNy4cRn65uPj4zDmwIEDat68ufbt26f33ntPixcvVq1atdSvXz9NmjQp0+WGhoY6LPNW5aa/zz77rF566SV16NBBy5Yt09ixY7Vy5Uo1b948w9UK6tevr61bt2rLli2aPn26Dh48qI4dO+r69ev2MQcPHlSXLl306aefauXKlRo+fLi++uordevWzT7m1VdfzbB9/fv3d5hWtmxZe4+dfX+6eVn/+Mc/Msy/1fec7N7H0kv7xXr06NEKCAjQvHnzNGvWLJ06dUotW7Z0CMG5/XkRGBioQYMG6Z///KfWrFmjl19+WQsXLtTAgQNzrEdyfP1k9XPm3Llzat68uVavXq2xY8dq2bJlat++vZ5//nkNGTIky2XPnj07x5+dPj4+GdY/bty4HOvOru/9+vXT3//+dzVu3FiLFi3SwoUL1b17d4dfeG6WmpqqmJgY/etf/9J3332ne++995bWW+QZ3FZmz55tJJlt27aZpKQkc+XKFfPvf//blClTxvj7+5vTp09n+rjk5GSTlJRk2rVrZx544AH79Llz5xpJZtasWdmuV5IZPHhwhuldu3Y14eHh9vtHjhwxkkxYWJi5du2affrly5dNYGCgad++vX1ax44dTbly5UxcXJzDMocMGWK8vb3NhQsXHKaPGjXKSHKYXrt2bdOqVSv7/atXr5rAwEDTrVs3h8empKSYevXqmSZNmmTYhrJly5r+/fvb769bt85IMuvWrTPGGHP8+HHj7u5uhg4d6vC4K1eumNDQUNO7d2/7tJiYGOPn55dhHf/85z8dlmmMMa1atXKoferUqcbPz888+eST5uaX5tatW40k88477zgs88SJE8bHx8e8+OKLGdZ3szFjxpj0L/Xdu3cbSeaDDz5wqF2SmTZtmsPYt956y0gymzdvdrqeVq1amdq1a5vOnTub5557zj59woQJpkmTJvb5ab788ksjyXzzzTcOy/7xxx8z1BseHm66du2aYXsHDx6cYXslmTFjxtjv33///aZ+/fqmZcuWDs9BVnK7/3/44YdGkvnqq68cxk2cONFIMqtXrzbGOP+cpqammqSkJHP+/HkzefJkI8ksWbLEYcx///tfI8m8++679mlpY48cOWKflvYecuTIEbNjxw4TEBBgHnzwQZOUlOSwvPSvg/j4eFOuXDkzbNiwDP3MTNrj//nPf2aY5+fnZ2JiYuz3H3nkEePl5WWOHz/uMK5z587G19fXXLp0yWH6o48+aipXruwwLX1NWb0WM5Ndf/fv328kmUGDBjk8Zvv27UaSefnll+3T0r+mjfnrdS3J/Pbbb9mue8OGDUaS+eWXXzIdl1XPnXl/MsaYxMREI8mMHTvWPu3mfcIY51/juXkfy8zXX39tJJkGDRqY1NRU+/Tz58+bgIAA06FDB/s0Z39eJCcnm+vXr5tff/3V1KpVy9SrVy/bWtJ+dk2ePDnDvPQ/Z9J+Fm3fvt1h3LPPPmtsNps5cOCAw/S094Wff/7ZPi39e4cx+fPzY+PGjUaSeeWVV7LbfBMeHm5iYmJMSkqKeeyxx0zx4sXNpk2bMozLy/Nd1HAE+DbVrFkzeXh4yN/fX9HR0QoNDdV3332nkJAQ+5gPP/xQDRo0kLe3t9zd3eXh4aEffvjB4cjGd999J29vbz355JMura9nz57y9va23/f391e3bt20ceNGpaSk6Pr16/rhhx/0wAMPyNfXV8nJyfZbly5ddP36dW3bts1hmfHx8ZIkX1/fLNe7ZcsWXbhwQTExMQ7LTE1NVadOnfTjjz86fMwoSdeuXXOoNb1Vq1YpOTlZjz/+uMMyvb291apVq0yPiN08Lm392Tlz5ozGjBmjV1991f5FkjT//ve/ZbPZ9NhjjzksMzQ0VPXq1cv1Ebm0x509e1YzZ86Uh4eHWrZsmWFc+nPI+/TpI0n2L7XcSj1Dhw7V7NmzdfXqVaWkpGjmzJkaPHhwhnH//ve/VbJkSXXr1s1h2ffcc49CQ0MzLNsYk6HXxphs+7By5Ur961//0vvvv69ixVz7Frh27Vr5+fnpwQcfdJie9tFi2icQzvZw2rRp8vDwUFBQkF544QW1b99enTp1chiTm9fHzX766SdFRUWpePHiWrBgQY7nbL7xxhtKSkrSG2+8kavlO2Pt2rVq165dhn2/X79+SkhIyHCEN6fX7M3Sepud7Pqbtt+nP2WjSZMmqlmzZoZPldL2yaSkJP3f//2fFi1apAoVKjgcRTx8+LD69Omj0NBQubm5ycPDQ61atZKkLI/sZ8XZ96e0T1Gy69+tvudk9z6WGU9PT0nSY4895vDxeWBgoLp3764NGzbc8s+LoKAgeXt7KyIiQidOnNCYMWNyrCe31q5dq1q1aqlJkyYO0/v16ydjjNauXesw3dnXprOy6/t3330nSZm+36aXmpqqfv36af78+Zo4cWK2R35zWu/tgC/B3abmzp2rmjVryt3dXSEhIfaPwtK8++67GjlypAYOHKixY8eqdOnScnNz06uvvurwBnvu3DmFhYW5PAiEhoZmOu3GjRuKj49XfHy8kpOTNX36dE2fPj3TZaT/aPGPP/5QYGCgvLy8slxv2kdz6QPIzS5cuGC/UkZSUpLi4uJUunTpHJfZuHHjTOen793Vq1fl4eGR5fIy88ILLyg0NFTPPfdcho+7zpw5I2OMwy83N8vsNJDM3FyTj4+Ppk+fnuH8W3d3dwUFBTlMS3suz58/f8v1dOrUSWXKlNH8+fMVEhKihIQEPfzww/rss88cxp05c0aXLl2y/2BML/0+8e233zrV68TERA0bNkz9+vVTZGRkrh+XW+fPn1doaGiGc+GCg4Pl7u5+yz3s06eP7r33Xp06dUoLFixQw4YNM/Qo7TKIYWFhuar1b3/7m5o1a6bNmzfrww8/zPZ0iQMHDmjKlCn65JNPFBAQkKvlO+P8+fMZ3sOk/39b0vqW5n//+1+2r9k0N78Wvby8dPfddysmJkYvv/yyw3OUXX/T1p1VfWnfu0izceNGh32yXLlyWrRokf19Kz4+Xi1btpS3t7fefPNNVatWTb6+vjpx4oR69uzp9Gk+zr4/pb2GcnrPu5X3nOzexzKTdo52Vr3Ny8+L9evXKz4+Xtu2bdO2bdtUvXr1HOvJrfPnz2c4fzet5rT5N3P2tems7Pp+7tw5ubm5ZfozOb1FixbJ09NTjRo10ttvv63HHntMJUqUuKX13g4IwLepmjVr2q8CkZn58+erdevWmjlzpsP09F8EKFOmjDZv3qzU1FSXhuDTp09nOs3T01PFixeXh4eH3Nzc1Ldv3yx/M61YsaLD/V9++UV16tTJdr1pb+rTp0+3fzEwvZvf1H///XcZY1SlSpUcl/n1118rPDw82/VLf4XLjRs3Okxbu3ZtltfF3Lx5s+bPn69Vq1ZlGvxKly4tm82mTZs2ZRr+s/uF4GZp59Ndv35dGzZs0JAhQ5ScnOzQ/+TkZJ0/f94hBKc9l2nTbqUem82mQYMGacaMGQoJCdFTTz2V6bjSpUsrKCgo0y95SX99knCze++9V1OmTHGYNnnyZH311VeZPv7tt9/WuXPnNHHixEzn51VQUJC2b98uY4xDwDp79qySk5Pt+5KzPQwODlZwcLAkqUOHDgoKCpKfn5+effZZ+5i0LxTl9BpJ0717d3355Zd67bXX9OKLL6pNmzYZfiFKM3ToUDVt2lSPP/54rpbtrKCgIJ06dSrD9D///FNSxrB28ODBTL8Amd7Nr8WEhAQtWbJE//jHP+Tn56fhw4fbx2XX37T9/tSpUypXrlyG+tLX1qBBA3300UeSpLi4OM2ZM0ft27fXpk2b1LBhQ61du1Z//vmn1q9fbz/qK0mXLl3KcXsy4+z708GDByUpx/c8Z1/jOb2PZSat3qyee09PT/n7+9/Sz4t77rlH0l/vEW+88YY6dOig48ePu+RcVWf3119++UXh4eEZ3r9cIae+lylTRikpKTp9+nSmv2jczNPTU999950qV66sOnXqaPDgwZo3b94trfd2QAC+Q9lstgxvUnv27NHWrVsdPqro3LmzvvzyS82ZM8elp0EsXrxYkydPtn/MduXKFS1fvlwtW7aUm5ubfH191aZNG+3atUt169bN8QW0b98+HT58WIMGDcp2XIsWLVSyZEn99ttv2X4ZIc3SpUslKdNTAdJ07NhR7u7u+v3339WrV68cl1msWLEMv5xk9WWDlJQUDRkyRL169VKHDh0yHRMdHa0JEybojz/+UO/evXNcf1Zurunee+/VP//5T33xxRcZfqB88cUXGjZsmP1+2tUi0r75e6v1PPHEE/rHP/6h/fv3ZzjymyY6OloLFy5USkpKri6CHxAQkKHXaV8ETe/48eNatGiRJk2alOWYvGrXrp2++uorLV26VA888IB9+ty5c+3zpbw9p4mJiUpJSdHevXsdpi9btkwRERGZHpnKzOTJk+Xu7q7XX39dq1evVp8+fbRjx44MH41//fXXWrt2rXbu3OlUnc5o166dlixZoj///NPhKNncuXPl6+vr8Mvstm3bdObMGd133305Ljf9a/G+++7TnDlztGPHjiwfk76/bdu2lfTXQYWbj7L++OOP2r9/v1555RWHx/v7+zuss2HDhpo/f76++eYbNWzY0P6LUfr357TQ7Cxn35+WLl0qPz8/NWzYMMsxzu6fuXkfy0ylSpVUtWpVLViwQMOHD7f35tKlS1q+fLlatWqlYsWKOf3zIr2EhAT9+eefOn/+vP0Xnbxo166dxo8fr59//lkNGjSwT587d65sNpvatGljn3bhwgVt3rxZAwYMyPN608tN3zt37qzx48dr5syZOZ6+1KtXL/tpD7NmzVLPnj3VuXNn+2lwzqz3dkAAvkNFR0dr7NixGjNmjFq1aqUDBw7ojTfeUMWKFR3Oh3v00Uc1e/ZsDRw4UAcOHFCbNm2Umpqq7du3q2bNmnrkkUduaf1ubm7q0KGDRowYodTUVE2cOFGXL192+LbutGnTdO+996ply5Z69tlnVaFCBV25ckWHDh3S8uXL7edRbd++XUOHDpWnp6ciIiIczvW6du2aLl++rF27dql+/foqXry4pk+frpiYGF24cEEPPviggoODde7cOf3yyy86d+6cZs6cqVOnTmnGjBmaNGmS+vTpk+2RkwoVKuiNN97QK6+8osOHD6tTp04qVaqUzpw5ox07dsjPzy/bq1ZkZ+vWrfL29tby5cuzHNOiRQsNGDBATzzxhH766Sfdd9998vPz06lTp7R582bVqVPH4UhgVtL6lnYE+Ndff9UzzzzjMMbT01PvvPOO4uPj1bhxY23ZskVvvvmmOnfubH9jvNV6AgICtHHjRt24cUN33313pjU+8sgj+uKLL9SlSxf9/e9/V5MmTeTh4aGTJ09q3bp16tGjh0OwdMbcuXNVt27dXH8b/FY8/vjjev/99xUTE6OjR4+qTp062rx5s8aNG6cuXbqoffv2knLfw19++UXvv/++2rdvr5CQEJ08eVJTpkxRYmKiunfvLkk6efKkPvjgA/30008aOXKkw+sj7Uouu3btUmBgYKYfZ3p4eOiLL75QgwYN9NJLL2natGkO8z/88EMNHjw4X6/TOmbMGP373/9WmzZt9NprrykwMFBffPGFVqxYoUmTJikgIEA3btzQRx99pPHjx6tKlSrZnuaUxhij//73v5L+CkHLli3TpUuX7L9c5aa/1atX14ABAzR9+nT71WyOHj1qP+/xueeec1jn5cuX7c9B2hFg6a+rQ0hS8+bNVapUKQ0cOFBjxoyx9z/tCL6zcvv+dPDgQU2dOlUfffSRXn755QxX4riZs6/x3LyPZWXixInq1auXunfvrgEDBujatWsaN26crl27prfeess+Lrc/L1566SWFhYWpRo0aKlasmNavX6933nlHTZs2dUn4laTnnntOc+fOVdeuXfXGG28oPDxcK1as0AcffKBnn31W1apVk/TXpf1efPFF3bhxQ5GRkQ6vzUuXLikxMVHbtm3L8tPKnOSm7y1btlTfvn315ptv6syZM4qOjpaXl5d27dolX1/fLE99euCBB9S/f389++yzat68ucMv1nl5vouUQvryHW5R2rd1f/zxx2zHJSYmmueff97cddddxtvb2zRo0MAsXbrUxMTEZPjm6bVr18xrr71mqlatajw9PU1QUJBp27at2bJli32MnLwKxMSJE83rr79uypUrZzw9PU39+vXNqlWrMjz+yJEj5sknnzR33XWX8fDwMGXKlDHNmzc3b775pn1MeHi4kZTtLf02bdiwwXTt2tUEBgYaDw8Pc9ddd5muXbvav5G+YMECU6NGDTN27Fhz48YNh8em//Z7mqVLl5o2bdqYEiVKGC8vLxMeHm4efPBB8/3339vHOPstXklm/PjxDmMzu2qDMcZ89tlnpmnTpsbPz8/4+PiYypUrm8cff9z89NNPGcZmtry0m5eXl6lUqZJ5/vnnTUJCQoba9+zZY1q3bm18fHxMYGCgefbZZ018fPwt1ZP+Kg/pZTY/KSnJvP3226ZevXrG29vbFC9e3NSoUcM888wz5uDBg/Zxzl4FwmazOezTaet35VUgjPnrG+wDBw40ZcuWNe7u7iY8PNyMHj3aXL9+PcPjc+rhkSNHTFRUlAkODjYeHh4mJCTEREVFmW+//da+jPTPb1a3tH0v/Tf+03z44YfGZrPZl532OggODs5wFQa5+CoQxhizd+9e061bNxMQEGA8PT1NvXr1zOzZs+3zT548acLCwszTTz+d6dVu0teUdlWTtJuvr6+pWbOmeeutt+xXHMhNf4356yoyEydONNWqVTMeHh6mdOnS5rHHHjMnTpxwGJf2mk67+fv7m3vuucd8+OGHDuO2bNliIiMjja+vrylTpox56qmnzM8//2wkOWxzdtuXXk7vTxMnTjT33HOPef/99x2uuGBM1vtEbl/jzryPZWbZsmWmSZMm9td7VFRUhissGJO7nxeTJ082tWrVMr6+vsbPz89Ur17dvPTSS+b8+fPZ1uDMVSCMMebYsWOmT58+JigoyHh4eJjq1aubyZMnm5SUFPuY9PtDVrc0+fXzIyUlxUyZMsVEREQYT09PExAQYCIjI83y5cvtY9KuAnGz+Ph4U6VKFdOiRQuTnJzs9HqLOpsxOXxlGnDC0aNHVbFiRU2ePFnPP/+8S5ZZoUIFxcbGZvgWdpr169erX79+WZ5mgNzp16+fvv76a/s3lnF7iI2N1fr167O9GkiFChU0Z86cXP3RDwCukfZHI7L6ozFpPy+JYYWDy6ChyKtfv36252yWKFHC/vEiYDXlypVTrVq1sh1Tv379bL/NDcD1atWqleGLkzfz8vLK1XcdkD84AgyXyo8jwCgYHAEGAFgFARgAAACWwikQAAAAsBQCMAAAACyFAAwAAABL4Q9h5FJqaqr+/PNP+fv7O/yJUwAAABQNxhhduXJFYWFhKlYs6+O8BOBc+vPPPx3+hDAAAACKphMnTmR7GToCcC75+/tL+quhBXE9zaSkJK1evVpRUVHy8PDI9/Xdaehf3tHDvKOHeUP/8o4e5g39y7uC7uHly5dVvnx5e27LCgE4l9JOeyhRokSBBWBfX1+VKFGCF90toH95Rw/zjh7mDf3LO3qYN/Qv7wqrhzmdrsqX4AAAAGApBGAAAABYCgEYAAAAlkIABgAAgKUQgAEAAGApBGAAAABYCgEYAAAAlkIABgAAgKUQgAEAAGApBGAAAABYCgEYAAAAlkIABgAAgKUQgAEAAGApBGAAAABYCgEYAAAAlkIABgAAgKUQgAEAAGApBGAAAABYCgEYAAAAlkIABgAAgKUQgAEAAGApBGAAAABYCgEYAAAAlkIABgAAgKUQgAEAAGApBGAAAABYinthFwAARVWFUSvy9HgvN6NJTaSI2FVKTLG5qCrXOjqha2GXAAAFjiPAAAAAsBQCMAAAACyFAAwAAABLIQADAADAUgjAAAAAsBQCMAAAACyFAAwAAABLIQADAADAUgjAAAAAsBQCMAAAACyFAAwAAABLIQADAADAUgjAAAAAsBQCMAAAACyFAAwAAABLIQADAADAUgjAAAAAsBQCMAAAACyFAAwAAABLIQADAADAUgjAAAAAsBQCMAAAACyFAAwAAABLIQADAADAUgjAAAAAsBQCMAAAACyFAAwAAABLIQADAADAUgjAAAAAsBQCMAAAACyFAAwAAABLIQADAADAUgjAAAAAsBQCMAAAACyFAAwAAABLIQADAADAUgjAAAAAsBQCMAAAACyFAAwAAABLKdQAPH78eDVu3Fj+/v4KDg7W/fffrwMHDjiM6devn2w2m8OtWbNmDmMSExM1dOhQlS5dWn5+furevbtOnjzpMObixYvq27evAgICFBAQoL59++rSpUv5vYkAAAAoYgo1AG/YsEGDBw/Wtm3btGbNGiUnJysqKkpXr151GNepUyedOnXKfvv2228d5g8fPlxLlizRwoULtXnzZsXHxys6OlopKSn2MX369NHu3bu1cuVKrVy5Urt371bfvn0LZDsBAABQdLgX5spXrlzpcH/27NkKDg7Wzp07dd9999mne3l5KTQ0NNNlxMXF6dNPP9W8efPUvn17SdL8+fNVvnx5ff/99+rYsaP279+vlStXatu2bWratKkkadasWYqMjNSBAwdUvXr1fNpCAAAAFDWFGoDTi4uLkyQFBgY6TF+/fr2Cg4NVsmRJtWrVSm+99ZaCg4MlSTt37lRSUpKioqLs48PCwhQREaEtW7aoY8eO2rp1qwICAuzhV5KaNWumgIAAbdmyJdMAnJiYqMTERPv9y5cvS5KSkpKUlJTkuo3OQto6CmJddyL6l3f0UPJyM3l7fDHj8G9RVJSfX/bBvKOHeUP/8q6ge5jb9RSZAGyM0YgRI3TvvfcqIiLCPr1z58566KGHFB4eriNHjujVV19V27ZttXPnTnl5een06dPy9PRUqVKlHJYXEhKi06dPS5JOnz5tD8w3Cw4Oto9Jb/z48Xr99dczTF+9erV8fX3zsqlOWbNmTYGt605E//LOyj2c1MQ1yxnbKNU1C8oH6U8pK4qsvA+6Cj3MG/qXdwXVw4SEhFyNKzIBeMiQIdqzZ482b97sMP3hhx+2/z8iIkKNGjVSeHi4VqxYoZ49e2a5PGOMbDab/f7N/89qzM1Gjx6tESNG2O9fvnxZ5cuXV1RUlEqUKJHr7bpVSUlJWrNmjTp06CAPD498X9+dhv7lHT2UImJX5enxXsWMxjZK1as/FVNiaubvNYXt19iOhV1CltgH844e5g39y7uC7mHaJ/Y5KRIBeOjQoVq2bJk2btyocuXKZTu2bNmyCg8P18GDByVJoaGhunHjhi5evOhwFPjs2bNq3ry5fcyZM2cyLOvcuXMKCQnJdD1eXl7y8vLKMN3Dw6NAXwQFvb47Df3LOyv3MDHFNaE1MdXmsmW52u3w3Fp5H3QVepg39C/vCqqHuV1HoV4FwhijIUOGaPHixVq7dq0qVqyY42POnz+vEydOqGzZspKkhg0bysPDw+HQ+qlTp/Trr7/aA3BkZKTi4uK0Y8cO+5jt27crLi7OPgYAAADWUKhHgAcPHqwFCxboX//6l/z9/e3n4wYEBMjHx0fx8fGKjY1Vr169VLZsWR09elQvv/yySpcurQceeMA+tn///ho5cqSCgoIUGBio559/XnXq1LFfFaJmzZrq1KmTnn76aX300UeSpAEDBig6OporQAAAAFhMoQbgmTNnSpJat27tMH327Nnq16+f3NzctHfvXs2dO1eXLl1S2bJl1aZNGy1atEj+/v728VOmTJG7u7t69+6ta9euqV27dpozZ47c3NzsY7744gsNGzbMfrWI7t27a8aMGfm/kQAAAChSCjUAG5P9pYF8fHy0alXOX0Lx9vbW9OnTNX369CzHBAYGav78+U7XCAAAgDtLoZ4DDAAAABQ0AjAAAAAshQAMAAAASyEAAwAAwFIIwAAAALAUAjAAAAAshQAMAAAASyEAAwAAwFIIwAAAALAUAjAAAAAshQAMAAAASyEAAwAAwFIIwAAAALAUAjAAAAAshQAMAAAASyEAAwAAwFIIwAAAALAUAjAAAAAshQAMAAAASyEAAwAAwFIIwAAAALAUAjAAAAAshQAMAAAASyEAAwAAwFIIwAAAALAUAjAAAAAshQAMAAAASyEAAwAAwFIIwAAAALAUAjAAAAAshQAMAAAASyEAAwAAwFIIwAAAALAUAjAAAAAshQAMAAAASyEAAwAAwFIIwAAAALAUAjAAAAAshQAMAAAASyEAAwAAwFIIwAAAALAUAjAAAAAshQAMAAAASyEAAwAAwFIIwAAAALAUAjAAAAAshQAMAAAASyEAAwAAwFIIwAAAALAUAjAAAAAshQAMAAAASyEAAwAAwFIIwAAAALAUAjAAAAAshQAMAAAASyEAAwAAwFIIwAAAALAUAjAAAAAshQAMAAAASyEAAwAAwFIIwAAAALAUAjAAAAAshQAMAAAASyEAAwAAwFIIwAAAALAUAjAAAAAshQAMAAAASyEAAwAAwFIIwAAAALAUAjAAAAAshQAMAAAASyEAAwAAwFIIwAAAALAUAjAAAAAshQAMAAAASyEAAwAAwFIIwAAAALAUAjAAAAAshQAMAAAASyEAAwAAwFIIwAAAALAUAjAAAAAshQAMAAAASyEAAwAAwFLcC7sAAEDhqTBqRWGXkCUvN6NJTaSI2FVKTLHd0jKOTujq4qoA3Ak4AgwAAABLIQADAADAUgjAAAAAsBQCMAAAACyFAAwAAABLIQADAADAUgjAAAAAsBQCMAAAACyFAAwAAABLIQADAADAUgjAAAAAsBT3wi4AAID8UmHUisIuId8dndC1sEsAbjscAQYAAIClFGoAHj9+vBo3bix/f38FBwfr/vvv14EDBxzGGGMUGxursLAw+fj4qHXr1tq3b5/DmMTERA0dOlSlS5eWn5+funfvrpMnTzqMuXjxovr27auAgAAFBASob9++unTpUn5vIgAAAIqYQg3AGzZs0ODBg7Vt2zatWbNGycnJioqK0tWrV+1jJk2apHfffVczZszQjz/+qNDQUHXo0EFXrlyxjxk+fLiWLFmihQsXavPmzYqPj1d0dLRSUlLsY/r06aPdu3dr5cqVWrlypXbv3q2+ffsW6PYCAACg8BXqOcArV650uD979mwFBwdr586duu+++2SM0dSpU/XKK6+oZ8+ekqTPP/9cISEhWrBggZ555hnFxcXp008/1bx589S+fXtJ0vz581W+fHl9//336tixo/bv36+VK1dq27Ztatq0qSRp1qxZioyM1IEDB1S9evUMtSUmJioxMdF+//Lly5KkpKQkJSUl5Us/bpa2joJY152I/uUdPZS83EzeHl/MOPwL59C/3MnuNcrrOG/oX94VdA9zux6bMabIvLMcOnRIVatW1d69exUREaHDhw+rcuXK+vnnn1W/fn37uB49eqhkyZL6/PPPtXbtWrVr104XLlxQqVKl7GPq1aun+++/X6+//ro+++wzjRgxIsMpDyVLltSUKVP0xBNPZKglNjZWr7/+eobpCxYskK+vr+s2GgAAAC6RkJCgPn36KC4uTiVKlMhyXJG5CoQxRiNGjNC9996riIgISdLp06clSSEhIQ5jQ0JCdOzYMfsYT09Ph/CbNibt8adPn1ZwcHCGdQYHB9vHpDd69GiNGDHCfv/y5csqX768oqKism2oqyQlJWnNmjXq0KGDPDw88n19dxr6l3f0UIqIXZWnx3sVMxrbKFWv/lRMiak2F1VlHfQvd36N7ZjlPF7HeUP/8q6ge5j2iX1OikwAHjJkiPbs2aPNmzdnmGezOb7xGWMyTEsv/ZjMxme3HC8vL3l5eWWY7uHhUaAvgoJe352G/uWdlXuYmOKa0JWYanPZsqyI/mUvN69PK7+OXYH+5V1B9TC36ygSl0EbOnSoli1bpnXr1qlcuXL26aGhoZKU4Sjt2bNn7UeFQ0NDdePGDV28eDHbMWfOnMmw3nPnzmU4ugwAAIA7W6EGYGOMhgwZosWLF2vt2rWqWLGiw/yKFSsqNDRUa9assU+7ceOGNmzYoObNm0uSGjZsKA8PD4cxp06d0q+//mofExkZqbi4OO3YscM+Zvv27YqLi7OPAQAAgDUU6ikQgwcP1oIFC/Svf/1L/v7+9iO9AQEB8vHxkc1m0/DhwzVu3DhVrVpVVatW1bhx4+Tr66s+ffrYx/bv318jR45UUFCQAgMD9fzzz6tOnTr2q0LUrFlTnTp10tNPP62PPvpIkjRgwABFR0dnegUIAAAA3LkKNQDPnDlTktS6dWuH6bNnz1a/fv0kSS+++KKuXbumQYMG6eLFi2ratKlWr14tf39/+/gpU6bI3d1dvXv31rVr19SuXTvNmTNHbm5u9jFffPGFhg0bpqioKElS9+7dNWPGjPzdQAAAABQ5hRqAc3MFNpvNptjYWMXGxmY5xtvbW9OnT9f06dOzHBMYGKj58+ffSpkAAAC4gxSJL8EBAAAABYUADAAAAEshAAMAAMBSCMAAAACwFAIwAAAALIUADAAAAEshAAMAAMBSCMAAAACwFAIwAAAALIUADAAAAEshAAMAAMBSCMAAAACwFAIwAAAALIUADAAAAEshAAMAAMBSCMAAAACwFAIwAAAALIUADAAAAEshAAMAAMBSCMAAAACwFAIwAAAALIUADAAAAEshAAMAAMBSCMAAAACwFAIwAAAALIUADAAAAEshAAMAAMBSCMAAAACwFAIwAAAALIUADAAAAEshAAMAAMBSCMAAAACwFAIwAAAALIUADAAAAEshAAMAAMBSCMAAAACwFAIwAAAALIUADAAAAEshAAMAAMBSCMAAAACwFAIwAAAALIUADAAAAEtxd/YBgYGB2c6/cOHCLRcDAAAA5LdcBeDevXtr+PDhat68uVJTU2WM0XPPPaeKFSvmd30AAACAS+UqAPfq1UvR0dE6e/asDh8+rNjYWL3zzjsaOHCg/vGPfyggICC/6wQAAABcIlfnAPfu3Vvx8fG6cOGCAgMD9d5772nnzp06dOiQqlSpounTpys5OTm/awUAAADyLFcBOCYmRg0bNlRwcLB9WrVq1bRkyRJ98803mjt3rmrXrq2lS5fmV50AAACAS+T6HOAOHTpIknr27Jlh/l133aX//ve/6tWrl1JSUlxbIQAAAOBCuQrA0dHR9v9ndb7vgw8+6JqKAAAAgHzk9GXQZs+enR91AAAAAAWCP4QBAAAAS3H6CHCDBg2ynf/zzz/fcjEAAABAfnM6AO/du1e+vr566qmnVKJEifyoCQAAAMg3TgfgX3/9VS+88ILmzZunMWPGaODAgXJzc8uP2gAAAACXc/oc4OrVq2vZsmVatGiRPvvsM0VERGj58uX5URsAAADgcrf8Jbg2bdpo586dGj16tAYNGqS2bdtq165drqwNAAAAcDmnT4EYMWJEhmldunTRggUL1KRJEyUlJbmkMAAAACA/OB2AszrK26hRozwXAwAAAOQ3pwPwunXr8qMOAAAAoEDwhzAAAABgKU4fAe7Zs2e28xcvXnzLxQAAAAD5zekjwAEBAfbbihUrVKxYMYdpAAAAQFHm9BHg2bNn2///9ddfa9KkSapUqZJLiwJwe6gwakVhlwAAgNM4BxgAAACWQgAGAACApTh9CsR7771n/39ycrLmzJmj0qVL26cNGzbMNZUBAAAA+cDpADxlyhT7/0NDQzVv3jz7fZvNRgAGAABAkeZ0AD5y5Eh+1AEAAAAUiFs+B/jGjRs6cOCAkpOTXVkPAAAAkK+cDsAJCQnq37+/fH19Vbt2bR0/flzSX+f+TpgwweUFAgAAAK7kdAAePXq0fvnlF61fv17e3t726e3bt9eiRYtcWhwAAADgak6fA7x06VItWrRIzZo1k81ms0+vVauWfv/9d5cWBwAAALia00eAz507p+Dg4AzTr1696hCIAQAAgKLI6QDcuHFjrVjx///507TQO2vWLEVGRrquMgAAACAfOH0KxPjx49WpUyf99ttvSk5O1rRp07Rv3z5t3bpVGzZsyI8aAQAAAJdx+ghw8+bN9Z///EcJCQmqXLmyVq9erZCQEG3dulUNGzbMjxoBAAAAl3H6CLAk1alTR59//rmrawEAAADyndMB+PLly9nOL1GixC0XAwAAAOQ3pwNwyZIlM73agzFGNptNKSkpLikMAAAAyA9OB+B169bZ/2+MUZcuXfTJJ5/orrvucmlhAAAAQH5wOgC3atXK4b6bm5uaNWumSpUquawoAAAAIL84fRWImyUkJCgxMVGenp6uqgcAAADIV04fAX7vvfckSdeuXdOyZctUvnx5lStXzuWFAQAAAPnB6QA8ZcoUSZKPj49q166tTz/91OVFAQAAAPnF6QB85MiR/KgDAAAAKBB5OgcYAAAAuN3c0l+C+/rrr/XVV1/p+PHjunHjhsO8n3/+2SWFAQAAAPnB6SPA7733np544gkFBwdr165datKkiYKCgnT48GF17tw5P2oEAAAAXMbpAPzBBx/o448/1owZM+Tp6akXX3xRa9as0bBhwxQXF5cfNQIAAAAu43QAPn78uJo3by7prytBXLlyRZLUt29fffnll66tDgAAAHAxpwNwaGiozp8/L0kKDw/Xtm3bJP11dQhjjGurAwAAAFzM6QDctm1bLV++XJLUv39/Pffcc+rQoYMefvhhPfDAAy4vEAAAAHAlp68C8fHHHys1NVWSNHDgQAUGBmrz5s3q1q2bBg4c6PICAQAAAFdyOgAXK1ZMxYr9/weOe/furd69e7u0KAAAACC/OB2A9+zZk+38unXr3nIxAAAAQH5zOgDfc889stlsMsbIZrNJkv3LbzabTSkpKa6tEAAAAHAhpwPwkSNHJP0VeiMiIvTtt98qPDzc5YUBAAAA+cHpq0CEh4crPDxcFSpUkM1mU7ly5ezTnA3CGzduVLdu3RQWFiabzaalS5c6zO/Xr59sNpvDrVmzZg5jEhMTNXToUJUuXVp+fn7q3r27Tp486TDm4sWL6tu3rwICAhQQEKC+ffvq0qVLzm46AAAA7gBOB2BXunr1qurVq6cZM2ZkOaZTp046deqU/fbtt986zB8+fLiWLFmihQsXavPmzYqPj1d0dLTDqRh9+vTR7t27tXLlSq1cuVK7d+9W37598227AAAAUHQ5fQrEzdKOyt6qzp07q3PnztmO8fLyUmhoaKbz4uLi9Omnn2revHlq3769JGn+/PkqX768vv/+e3Xs2FH79+/XypUrtW3bNjVt2lSSNGvWLEVGRurAgQOqXr36LdcPAACA24/TAbhUqVL20BsfH6/69es7XBbtwoULrqtO0vr16xUcHKySJUuqVatWeuuttxQcHCxJ2rlzp5KSkhQVFWUfHxYWpoiICG3ZskUdO3bU1q1bFRAQYA+/ktSsWTMFBARoy5YtWQbgxMREJSYm2u9fvnxZkpSUlKSkpCSXbmNm0tZREOu6E9G/vMtND73c+OuP2fEqZhz+hXPoX+5k9xrlvTBv6F/eFXQPc7sepwPw1KlTnX3ILevcubMeeughhYeH68iRI3r11VfVtm1b7dy5U15eXjp9+rQ8PT1VqlQph8eFhITo9OnTkqTTp0/bA/PNgoOD7WMyM378eL3++usZpq9evVq+vr553LLcW7NmTYGt605E//Iuux5OalKAhdzGxjZKLewSbmv0L3vpTw3MDO+FeUP/8q6gepiQkJCrcU4H4JiYGKeLuVUPP/yw/f8RERFq1KiRwsPDtWLFCvXs2TPLx918iTZJmZ6mkX5MeqNHj9aIESPs9y9fvqzy5csrKipKJUqUcHZTnJaUlKQ1a9aoQ4cO8vDwyPf13WnoX97lpocRsasKuKrbi1cxo7GNUvXqT8WUmHrrp4tZFf3LnV9jO2Y5j/fCvKF/eVfQPUz7xD4nt3QO8ObNm5WSkqJWrVrpwIEDWrFihRo0aKDWrVvfyuJyrWzZsgoPD9fBgwclSaGhobpx44YuXrzocBT47Nmzat68uX3MmTNnMizr3LlzCgkJyXJdXl5e8vLyyjDdw8OjQF8EBb2+Ow39y7vsepiYQijJjcRUG73KA/qXvdy8x/FemDf0L+8Kqoe5XYfTV4F455131LZtW3Xp0kUTJkzQvffeq/nz5ysqKkqfffaZ04U64/z58zpx4oTKli0rSWrYsKE8PDwcDqufOnVKv/76qz0AR0ZGKi4uTjt27LCP2b59u+Li4uxjAAAAYB1OHwGeOXOm5s2bp+rVq6tJkyaaOnWqBg0apPfee09Tp07Vk08+metlxcfH69ChQ/b7R44c0e7duxUYGKjAwEDFxsaqV69eKlu2rI4ePaqXX35ZpUuX1gMPPCBJCggIUP/+/TVy5EgFBQUpMDBQzz//vOrUqWO/KkTNmjXVqVMnPf300/roo48kSQMGDFB0dDRXgAAAALAgp48Anzx5Ui1atNA999wjd3d3tW3bVpLUrVs3HT582Kll/fTTT6pfv77q168vSRoxYoTq16+v1157TW5ubtq7d6969OihatWqKSYmRtWqVdPWrVvl7+9vX8aUKVN0//33q3fv3mrRooV8fX21fPlyubm52cd88cUXqlOnjqKiohQVFaW6detq3rx5zm46AAAA7gBOHwEOCAjQpUuXVK5cOcXExKh06dKSpBs3bmR6zmx2WrduLWOyvrzNqlU5f8HG29tb06dP1/Tp07McExgYqPnz5ztVGwAAAO5MTh8B7tixo06cOCHpr9Mh0gLwtm3bVLduXddWBwAAALiY00eA586dm+n0+++/Xz169MhzQQAAAEB+ytOfQr5ZQECAqxYFAAAA5BunT4EAAAAAbmcEYAAAAFgKARgAAACWQgAGAACApdzSl+B+//13TZ06Vfv375fNZlPNmjX197//XZUrV3Z1fQAAAIBLOX0EeNWqVapVq5Z27NihunXrKiIiQtu3b1ft2rW1Zs2a/KgRAAAAcBmnjwCPGjVKzz33nCZMmJBh+ksvvaQOHTq4rDgAAADA1Zw+Arx//371798/w/Qnn3xSv/32m0uKAgAAAPKL0wG4TJky2r17d4bpu3fvVnBwsCtqAgAAAPKN06dAPP300xowYIAOHz6s5s2by2azafPmzZo4caJGjhyZHzUCAAAALuN0AH711Vfl7++vd955R6NHj5YkhYWFKTY2VsOGDXN5gQAAAIArOR2AbTabnnvuOT333HO6cuWKJMnf39/lhQEAAAD5IU9/CMPf31/e3t7atWuXLl686KqaAAAAgHzjdADeuXOnIiMj1bVrVx06dEh169ZVw4YNVa5cOa1evTo/agQAAABcxukAPGzYMPn7+6t48eKKiopSq1atdOLECQ0cOFCvvPJKftQIAAAAuIzT5wD/8ssv2rlzp8LDw1W8eHENGTJEd911l4YMGaIPP/wwP2oEAAAAXMbpI8AJCQkKDAyUt7e3fHx85OvrK0ny9fXV9evXXV4gAAAA4EpOHwGWpFmzZql48eJKTk7WnDlzVLp0afsVIQAAAICizOkAfPfdd2vWrFmSpNDQUM2bN89hHgAAAFCUOR2Ajx49mg9lAAAAAAXD6XOA33jjDSUkJORHLQAAAEC+czoAv/7664qPj8+PWgAAAIB853QANsbkRx0AAABAgbilq0C8/fbbKl68eKbzXnvttTwVBAAAAOSnWwrA//nPf+Tp6Zlhus1mIwADAACgSLulALxkyRIFBwe7uhYAAAAg3zl9DjAAAABwO3M6ALdq1SrT0x8AAACA24HTp0CsW7cuP+oAAAAACoTTR4AffPBBTZgwIcP0yZMn66GHHnJJUQAAAEB+cToAb9iwQV27ds0wvVOnTtq4caNLigIAAADyi9MBOD4+PtNzgD08PHT58mWXFAUAAADkF6cDcEREhBYtWpRh+sKFC1WrVi2XFAUAAADkF6e/BPfqq6+qV69e+v3339W2bVtJ0g8//KAvv/xS//znP11eIAAAAOBKTgfg7t27a+nSpRo3bpy+/vpr+fj4qG7duvr+++/VqlWr/KgRAAAAcJlb+ktwXbt2zfSLcAAAAEBRd0t/Ce7SpUv65JNP9PLLL+vChQuSpJ9//ll//PGHS4sDAAAAXM3pI8B79uxR+/btFRAQoKNHj+qpp55SYGCglixZomPHjmnu3Ln5UScAAADgEk4fAR4xYoT69eungwcPytvb2z69c+fOXAcYAAAARZ7TAfjHH3/UM888k2H6XXfdpdOnT7ukKAAAACC/OB2Avb29M/2DFwcOHFCZMmVcUhQAAACQX5wOwD169NAbb7yhpKQkSZLNZtPx48c1atQo9erVy+UFAgAAAK7kdAB+++23de7cOQUHB+vatWtq1aqVqlSpIn9/f7311lv5USMAAADgMk5fBaJEiRLavHmz1q5dq59//lmpqalq0KCB2rdvnx/1AQAAAC51S38IQ5Latm1r/1PIAAAAwO3C6QD83nvvZTt/2LBht1wMAAAAkN+cDsBTpkxxuH/ixAmVLVtW7u7ustlsBGAAAAAUaU4H4CNHjjjc9/f314YNG1SpUiWXFQUAAADkF6evApGezWZzRR0AAABAgchTAP7xxx919epVBQYGuqoeAAAAIF85fQpE/fr1ZbPZdO3aNR06dEiPPPKISpYsmQ+lAQAAAK7ndAC+//77JUk+Pj6qXbu2unbt6uqaAAAAgHzjdAAeM2ZMftQBAAAAFAinA/CePXuynV+3bt1bLgYAAADIb04H4Hvuucd+5QdjjKS/rgRhjJHNZlNKSoprKwQAAABcyOkA3KJFC/3yyy8aNWqU+vTpw2XQAAAAcFtx+jJomzZt0pw5czRnzhz17t1bJ06cUHh4uP0GAAAAFGW3dB3gnj176rffflOfPn10//33q2fPnjp06JCrawMAAABc7pb/EIa7u7uGDx+uQ4cOqWLFimrQoIGGDx/uwtIAAAAA13P6HOBSpUplet5vYmKipk+frqlTp7qiLgAAACBfOB2Ap0yZwhffAAAAcNtyOgD369cvH8oAAAAACgZ/CAMAAACWcst/CCPtj2DcjD+EAQAAgKLO6QAsSdu3b1eZMmVcXQsAAACQ724pAN99990KDg52dS0AAABAvrulALxq1SqVLl1afn5+CgsLU+XKlbkyBAAAAG4LtxSAY2Ji7P+32WwqUaKEYmJiNHnyZHl4eLisOAAAAMDVnA7AqampkqSkpCRdvnxZf/75p3bs2KFXXnlFPj4+Gj9+vMuLBAAAAFzllo4AS5KHh4eCgoIUFBSkOnXqqEyZMho8eDABGAAAAEVaMVctqFu3bvrll19ctTgAAAAgX9zSEeCUlBQtXbpU+/fvl81mU82aNdWjRw8FBga6uj4AAADApZwOwIcOHVLXrl118uRJVa9eXcYY/d///Z/Kly+vFStWqHLlyvlRJwAAAOASTp8CMWzYMFWqVEknTpzQzz//rF27dun48eOqWLGihg0blh81AgAAAC7j9BHgDRs2aNu2bQ6nOwQFBWnChAlq0aKFS4sDAAAAXM3pI8BeXl66cuVKhunx8fHy9PR0SVEAAABAfnE6AEdHR2vAgAHavn27jDEyxmjbtm0aOHCgunfvnh81AgAAAC7jdAB+7733VLlyZUVGRsrb21ve3t5q0aKFqlSpomnTpuVHjQAAAIDLOH0OcMmSJfWvf/1Lhw4d0v79+2WMUa1atVSlSpX8qA+4rVUYtaKwS7hlXm5Gk5pIEbGrlJhiK+xyAABwmVwH4CtXrsjf399+v0qVKhlC744dO9SkSRPXVQcAAAC4WK5PgejQoUOmX36TpOTkZL388stq2bKlywoDAAAA8kOuA3BCQoLat2+vuLg4h+l79uxRw4YNNW/ePC1btszlBQIAAACulOsAvHbtWl2/ft0eglNTU/XWW2+pcePGqlOnjvbu3auOHTvmZ60AAABAnuX6HODSpUtr7dq1ateundq0aSNPT08dPnxYX375pXr27JmfNQIAAAAu49Rl0IKCgvTDDz/IGKPdu3dr48aNhF8AAADcVpy+DnBQUJDWrl2r2rVrq0+fPrp48WJ+1AUAAADki1yfApH+SK+/v782btyoJk2aqE6dOvbpixcvdl11AAAAgIvlOgAHBARkuF+xYkWXFwQAAADkp1wH4NmzZ+dnHQAAAECBcPocYAAAAOB2RgAGAACApRCAAQAAYCkEYAAAAFgKARgAAACWQgAGAACApRRqAN64caO6deumsLAw2Ww2LV261GG+MUaxsbEKCwuTj4+PWrdurX379jmMSUxM1NChQ1W6dGn5+fmpe/fuOnnypMOYixcvqm/fvgoICFBAQID69u2rS5cu5fPWAQAAoCgq1AB89epV1atXTzNmzMh0/qRJk/Tuu+9qxowZ+vHHHxUaGqoOHTroypUr9jHDhw/XkiVLtHDhQm3evFnx8fGKjo5WSkqKfUyfPn20e/durVy5UitXrtTu3bvVt2/ffN8+AAAAFD25/kMY+aFz587q3LlzpvOMMZo6dapeeeUV+59h/vzzzxUSEqIFCxbomWeeUVxcnD799FPNmzdP7du3lyTNnz9f5cuX1/fff6+OHTtq//79WrlypbZt26amTZtKkmbNmqXIyEgdOHBA1atXL5iNBQAAQJFQqAE4O0eOHNHp06cVFRVln+bl5aVWrVppy5YteuaZZ7Rz504lJSU5jAkLC1NERIS2bNmijh07auvWrQoICLCHX0lq1qyZAgICtGXLliwDcGJiohITE+33L1++LElKSkpSUlKSqzc3g7R1FMS67kRFpX9ebqZQ158XXsWMw79wHj3MG/qXO9m9zxWV98LbFf3Lu4LuYW7XU2QD8OnTpyVJISEhDtNDQkJ07Ngx+xhPT0+VKlUqw5i0x58+fVrBwcEZlh8cHGwfk5nx48fr9ddfzzB99erV8vX1dW5j8mDNmjUFtq47UWH3b1KTQl29S4xtlFrYJdz26GHe0L/sffvttzmOKez3wtsd/cu7guphQkJCrsYV2QCcxmazOdw3xmSYll76MZmNz2k5o0eP1ogRI+z3L1++rPLlyysqKkolSpTIbfm3LCkpSWvWrFGHDh3k4eGR7+u70xSV/kXEriq0deeVVzGjsY1S9epPxZSYmv1rDpmjh3lD/3Ln19iOWc4rKu+Ftyv6l3cF3cO0T+xzUmQDcGhoqKS/juCWLVvWPv3s2bP2o8KhoaG6ceOGLl686HAU+OzZs2revLl9zJkzZzIs/9y5cxmOLt/My8tLXl5eGaZ7eHgU6IugoNd3pyns/iWm3P4/tBNTbXfEdhQmepg39C97uXmPK+z3wtsd/cu7guphbtdRZK8DXLFiRYWGhjocMr9x44Y2bNhgD7cNGzaUh4eHw5hTp07p119/tY+JjIxUXFycduzYYR+zfft2xcXF2ccAAADAOgr1CHB8fLwOHTpkv3/kyBHt3r1bgYGBuvvuuzV8+HCNGzdOVatWVdWqVTVu3Dj5+vqqT58+kqSAgAD1799fI0eOVFBQkAIDA/X888+rTp069qtC1KxZU506ddLTTz+tjz76SJI0YMAARUdHcwUIAAAACyrUAPzTTz+pTZs29vtp59zGxMRozpw5evHFF3Xt2jUNGjRIFy9eVNOmTbV69Wr5+/vbHzNlyhS5u7urd+/eunbtmtq1a6c5c+bIzc3NPuaLL77QsGHD7FeL6N69e5bXHgYAAMCdrVADcOvWrWVM1pe3sdlsio2NVWxsbJZjvL29NX36dE2fPj3LMYGBgZo/f35eSgUAAMAdosieAwwAAADkBwIwAAAALIUADAAAAEshAAMAAMBSCMAAAACwFAIwAAAALIUADAAAAEshAAMAAMBSCMAAAACwFAIwAAAALIUADAAAAEshAAMAAMBSCMAAAACwFAIwAAAALIUADAAAAEshAAMAAMBSCMAAAACwFAIwAAAALIUADAAAAEshAAMAAMBSCMAAAACwFAIwAAAALIUADAAAAEshAAMAAMBSCMAAAACwFAIwAAAALIUADAAAAEtxL+wCAADAraswakWW87zcjCY1kSJiVykxxVaAVbnO0QldC7sE3IE4AgwAAABLIQADAADAUgjAAAAAsBQCMAAAACyFAAwAAABLIQADAADAUgjAAAAAsBQCMAAAACyFAAwAAABLIQADAADAUgjAAAAAsBQCMAAAACyFAAwAAABLIQADAADAUgjAAAAAsBQCMAAAACyFAAwAAABLIQADAADAUgjAAAAAsBQCMAAAACyFAAwAAABLIQADAADAUgjAAAAAsBQCMAAAACyFAAwAAABLIQADAADAUgjAAAAAsBQCMAAAACyFAAwAAABLIQADAADAUgjAAAAAsBQCMAAAACyFAAwAAABLIQADAADAUgjAAAAAsBQCMAAAACyFAAwAAABLIQADAADAUgjAAAAAsBQCMAAAACyFAAwAAABLIQADAADAUgjAAAAAsBQCMAAAACyFAAwAAABLIQADAADAUgjAAAAAsBQCMAAAACyFAAwAAABLIQADAADAUgjAAAAAsBQCMAAAACyFAAwAAABLIQADAADAUgjAAAAAsBQCMAAAACyFAAwAAABLIQADAADAUgjAAAAAsBQCMAAAACyFAAwAAABLIQADAADAUgjAAAAAsBQCMAAAACyFAAwAAABLIQADAADAUgjAAAAAsBQCMAAAACyFAAwAAABLKdIBODY2VjabzeEWGhpqn2+MUWxsrMLCwuTj46PWrVtr3759DstITEzU0KFDVbp0afn5+al79+46efJkQW8KAAAAigj3wi4gJ7Vr19b3339vv+/m5mb//6RJk/Tuu+9qzpw5qlatmt5880116NBBBw4ckL+/vyRp+PDhWr58uRYuXKigoCCNHDlS0dHR2rlzp8OyAABA0VNh1IpCW7eXm9GkJlJE7ColptjyZR1HJ3TNl+Uie0U+ALu7uzsc9U1jjNHUqVP1yiuvqGfPnpKkzz//XCEhIVqwYIGeeeYZxcXF6dNPP9W8efPUvn17SdL8+fNVvnx5ff/99+rYsWOBbgsAAAAKX5EPwAcPHlRYWJi8vLzUtGlTjRs3TpUqVdKRI0d0+vRpRUVF2cd6eXmpVatW2rJli5555hnt3LlTSUlJDmPCwsIUERGhLVu2ZBuAExMTlZiYaL9/+fJlSVJSUpKSkpLyYUsdpa2jINZ1Jyoq/fNyM4W6/rzwKmYc/oXz6GHe0L+8o4d5UxD9K+yfU/mtoH8e53Y9NmNMkX1VfPfdd0pISFC1atV05swZvfnmm/rvf/+rffv26cCBA2rRooX++OMPhYWF2R8zYMAAHTt2TKtWrdKCBQv0xBNPOARZSYqKilLFihX10UcfZbnu2NhYvf766xmmL1iwQL6+vq7bSAAAALhEQkKC+vTpo7i4OJUoUSLLcUX6CHDnzp3t/69Tp44iIyNVuXJlff7552rWrJkkyWZzPCfHGJNhWnq5GTN69GiNGDHCfv/y5csqX768oqKism2oqyQlJWnNmjXq0KGDPDw88n19d5qi0r+I2FWFtu688ipmNLZRql79qZgSU/Pn3Lc7HT3MG/qXd/Qwbwqif7/G3tmnYxb0z+O0T+xzUqQDcHp+fn6qU6eODh48qPvvv1+SdPr0aZUtW9Y+5uzZswoJCZEkhYaG6saNG7p48aJKlSrlMKZ58+bZrsvLy0teXl4Zpnt4eBRooCro9d1pCrt/+fWliYKUmGq7I7ajMNHDvKF/eUcP8yY/+2eVn/EF9fM4t+so0pdBSy8xMVH79+9X2bJlVbFiRYWGhmrNmjX2+Tdu3NCGDRvs4bZhw4by8PBwGHPq1Cn9+uuvOQZgAAAA3JmK9BHg559/Xt26ddPdd9+ts2fP6s0339Tly5cVExMjm82m4cOHa9y4capataqqVq2qcePGydfXV3369JEkBQQEqH///ho5cqSCgoIUGBio559/XnXq1LFfFQIAAADWUqQD8MmTJ/Xoo4/qf//7n8qUKaNmzZpp27ZtCg8PlyS9+OKLunbtmgYNGqSLFy+qadOmWr16tf0awJI0ZcoUubu7q3fv3rp27ZratWunOXPmcA1gAAAAiyrSAXjhwoXZzrfZbIqNjVVsbGyWY7y9vTV9+nRNnz7dxdUBAADgdnRbnQMMAAAA5BUBGAAAAJZCAAYAAIClEIABAABgKQRgAAAAWAoBGAAAAJZCAAYAAIClEIABAABgKQRgAAAAWAoBGAAAAJZCAAYAAIClEIABAABgKQRgAAAAWAoBGAAAAJZCAAYAAIClEIABAABgKQRgAAAAWAoBGAAAAJZCAAYAAIClEIABAABgKQRgAAAAWAoBGAAAAJZCAAYAAIClEIABAABgKQRgAAAAWAoBGAAAAJZCAAYAAIClEIABAABgKQRgAAAAWAoBGAAAAJZCAAYAAIClEIABAABgKQRgAAAAWAoBGAAAAJZCAAYAAIClEIABAABgKQRgAAAAWIp7YRcA66owakW+LdvLzWhSEykidpUSU2z5th4AAHD74QgwAAAALIUADAAAAEshAAMAAMBSCMAAAACwFAIwAAAALIUADAAAAEshAAMAAMBSCMAAAACwFAIwAAAALIUADAAAAEshAAMAAMBSCMAAAACwFAIwAAAALIUADAAAAEshAAMAAMBSCMAAAACwFAIwAAAALIUADAAAAEshAAMAAMBSCMAAAACwFAIwAAAALIUADAAAAEshAAMAAMBS3Au7AAAAAKuqMGpFYZeQr7zcjCY1KewqMuIIMAAAACyFAAwAAABLIQADAADAUgjAAAAAsBQCMAAAACyFAAwAAABL4TJoRVxE7ColptgKuwwAAIA7BkeAAQAAYCkEYAAAAFgKARgAAACWQgAGAACApRCAAQAAYCkEYAAAAFgKARgAAACWQgAGAACApRCAAQAAYCkEYAAAAFgKARgAAACWQgAGAACApRCAAQAAYCkEYAAAAFgKARgAAACWQgAGAACApRCAAQAAYCkEYAAAAFgKARgAAACWQgAGAACApRCAAQAAYCkEYAAAAFgKARgAAACWQgAGAACApRCAAQAAYCkEYAAAAFgKARgAAACWQgAGAACApRCAAQAAYCmWCsAffPCBKlasKG9vbzVs2FCbNm0q7JIAAABQwCwTgBctWqThw4frlVde0a5du9SyZUt17txZx48fL+zSAAAAUIAsE4Dfffdd9e/fX0899ZRq1qypqVOnqnz58po5c2ZhlwYAAIAC5F7YBRSEGzduaOfOnRo1apTD9KioKG3ZsiXTxyQmJioxMdF+Py4uTpJ04cIFJSUl5V+x/09SUpISEhLknlRMKam2fF/fncY91SghIZX+5QE9zDt6mDf0L+/oYd7Qv7xL6+H58+fl4eGR7+u7cuWKJMkYk31d+V5JEfC///1PKSkpCgkJcZgeEhKi06dPZ/qY8ePH6/XXX88wvWLFivlSI1yvT2EXcAegh3lHD/OG/uUdPcwb+pd3hdHDK1euKCAgIMv5lgjAaWw2x9/ejDEZpqUZPXq0RowYYb+fmpqqCxcuKCgoKMvHuNLly5dVvnx5nThxQiVKlMj39d1p6F/e0cO8o4d5Q//yjh7mDf3Lu4LuoTFGV65cUVhYWLbjLBGAS5cuLTc3twxHe8+ePZvhqHAaLy8veXl5OUwrWbJkfpWYpRIlSvCiywP6l3f0MO/oYd7Qv7yjh3lD//KuIHuY3ZHfNJb4Epynp6caNmyoNWvWOExfs2aNmjdvXkhVAQAAoDBY4giwJI0YMUJ9+/ZVo0aNFBkZqY8//ljHjx/XwIEDC7s0AAAAFCDLBOCHH35Y58+f1xtvvKFTp04pIiJC3377rcLDwwu7tEx5eXlpzJgxGU7DQO7Qv7yjh3lHD/OG/uUdPcwb+pd3RbWHNpPTdSIAAACAO4glzgEGAAAA0hCAAQAAYCkEYAAAAFgKARgAAACWQgAugj744ANVrFhR3t7eatiwoTZt2lTYJd02YmNjZbPZHG6hoaGFXVaRtnHjRnXr1k1hYWGy2WxaunSpw3xjjGJjYxUWFiYfHx+1bt1a+/btK5xii6Cc+tevX78M+2SzZs0Kp9giaPz48WrcuLH8/f0VHBys+++/XwcOHHAYwz6Yvdz0kP0wazNnzlTdunXtf6ghMjJS3333nX0++1/OcuphUdz/CMBFzKJFizR8+HC98sor2rVrl1q2bKnOnTvr+PHjhV3abaN27do6deqU/bZ3797CLqlIu3r1qurVq6cZM2ZkOn/SpEl69913NWPGDP34448KDQ1Vhw4ddOXKlQKutGjKqX+S1KlTJ4d98ttvvy3ACou2DRs2aPDgwdq2bZvWrFmj5ORkRUVF6erVq/Yx7IPZy00PJfbDrJQrV04TJkzQTz/9pJ9++klt27ZVjx497CGX/S9nOfVQKoL7n0GR0qRJEzNw4ECHaTVq1DCjRo0qpIpuL2PGjDH16tUr7DJuW5LMkiVL7PdTU1NNaGiomTBhgn3a9evXTUBAgPnwww8LocKiLX3/jDEmJibG9OjRo1DquR2dPXvWSDIbNmwwxrAP3or0PTSG/dBZpUqVMp988gn7Xx6k9dCYorn/cQS4CLlx44Z27typqKgoh+lRUVHasmVLIVV1+zl48KDCwsJUsWJFPfLIIzp8+HBhl3TbOnLkiE6fPu2wT3p5ealVq1bsk05Yv369goODVa1aNT399NM6e/ZsYZdUZMXFxUmSAgMDJbEP3or0PUzDfpizlJQULVy4UFevXlVkZCT73y1I38M0RW3/s8xfgrsd/O9//1NKSopCQkIcpoeEhOj06dOFVNXtpWnTppo7d66qVaumM2fO6M0331Tz5s21b98+BQUFFXZ5t520/S6zffLYsWOFUdJtp3PnznrooYcUHh6uI0eO6NVXX1Xbtm21c+fOIveXkQqbMUYjRozQvffeq4iICEnsg87KrIcS+2FO9u7dq8jISF2/fl3FixfXkiVLVKtWLXvIZf/LWVY9lIrm/kcALoJsNpvDfWNMhmnIXOfOne3/r1OnjiIjI1W5cmV9/vnnGjFiRCFWdntjn7x1Dz/8sP3/ERERatSokcLDw7VixQr17NmzECsreoYMGaI9e/Zo8+bNGeaxD+ZOVj1kP8xe9erVtXv3bl26dEnffPONYmJitGHDBvt89r+cZdXDWrVqFcn9j1MgipDSpUvLzc0tw9Hes2fPZvjtE7nj5+enOnXq6ODBg4Vdym0p7Qoa7JOuU7ZsWYWHh7NPpjN06FAtW7ZM69atU7ly5ezT2QdzL6seZob90JGnp6eqVKmiRo0aafz48apXr56mTZvG/ueErHqYmaKw/xGAixBPT081bNhQa9ascZi+Zs0aNW/evJCqur0lJiZq//79Klu2bGGXcluqWLGiQkNDHfbJGzduaMOGDeyTt+j8+fM6ceIE++T/Y4zRkCFDtHjxYq1du1YVK1Z0mM8+mLOcepgZ9sPsGWOUmJjI/pcHaT3MTJHY/wrr23fI3MKFC42Hh4f59NNPzW+//WaGDx9u/Pz8zNGjRwu7tNvCyJEjzfr1683hw4fNtm3bTHR0tPH396d/2bhy5YrZtWuX2bVrl5Fk3n33XbNr1y5z7NgxY4wxEyZMMAEBAWbx4sVm79695tFHHzVly5Y1ly9fLuTKi4bs+nflyhUzcuRIs2XLFnPkyBGzbt06ExkZae666y769/88++yzJiAgwKxfv96cOnXKfktISLCPYR/MXk49ZD/M3ujRo83GjRvNkSNHzJ49e8zLL79sihUrZlavXm2MYf/Ljex6WFT3PwJwEfT++++b8PBw4+npaRo0aOBwKRtk7+GHHzZly5Y1Hh4eJiwszPTs2dPs27evsMsq0tatW2ckZbjFxMQYY/66DNWYMWNMaGio8fLyMvfdd5/Zu3dv4RZdhGTXv4SEBBMVFWXKlCljPDw8zN13321iYmLM8ePHC7vsIiOz3kkys2fPto9hH8xeTj1kP8zek08+af+ZW6ZMGdOuXTt7+DWG/S83suthUd3/bMYYU3DHmwEAAIDCxTnAAAAAsBQCMAAAACyFAAwAAABLIQADAADAUgjAAAAAsBQCMAAAACyFAAwAAABLIQADAADAUgjAAAAAsBQCMHAb6tevn2w2W5a3S5cuFXaJAAAUWQRg4DbVqVMnnTp1yuH2zTffFHZZAAAUeQRg4Dbl5eWl0NBQh1tgYKDDmDlz5qhkyZJaunSpqlWrJm9vb3Xo0EEnTpxwGDdz5kxVrlxZnp6eql69uubNm5dhfbGxsRmONN9///0OY7755hvVrl1bXl5eqlChgt555x2nlpOQkKBmzZrpiSeecBh/zz332O8vXbpUpUqV0u7duyVJ69evz3DU+7HHHpPNZtPSpUslKduj5evXr5ck/fHHH3r44YdVqlQpBQUFqUePHjp69KhD7WnruvlWsmRJ+/x+/fpl6MnN0p6Pmx09elQ2m82+PZK0YcMGNWnSRF5eXipbtqxGjRql5ORk+/zU1FRNnDhRVapUkZeXl+6++2699dZbudrWzNaXk8yes8w+bcjp+b9x44ZefPFF3XXXXfLz81PTpk3t/Zekr776SpUrV5a3t7eCgoL04IMP6ty5cznWcnPP0/f4+PHjuvvuuzV69Gj7tAoVKmjq1Kn2+z/88EOm+/PN5syZY1+fm5ubwsLC9NJLLyk1NTXLx7Ru3Vo2m02LFy92mF6/fn2HfS83+3BWz9vN2/Lkk08qOjraYX5ycrJCQ0P12WefZfvJUb9+/SRJK1eu1L333quSJUsqKChI0dHR+v333+3Lmzt3rooXL66DBw/apw0dOlTVqlXT1atXs+wFUNQQgIE7XEJCgt566y19/vnn+s9//qPLly/rkUcesc9fsmSJ/v73v2vkyJH69ddf9cwzz+iJJ57QunXrMiyrdu3a9qPNvXv3dpi3c+dO9e7dW4888oj27t2r2NhYvfrqq5ozZ47DOGNMlsvx9fXV8uXLtXnzZr366qsZ1r9161bFxMToq6++cgjF6etYvny5w7Sbj5JLfwW1tPvNmzdXQkKC2rRpo+LFi2vjxo3avHmzihcvrk6dOunGjRsOtUvSgQMHdOrUKYcQ5Sp//PGHunTposaNG+uXX37RzJkz9emnn+rNN9+0jxk9erQmTpyoV199Vb/99psWLFigkJCQXG3rrbr5Ocvs04bcPP9PPPGE/vOf/2jhwoXas2ePHnroIXXq1MkepmrUqKE5c+bowIEDWrVqlY4cOaKXXnop21rS74c3O3PmjNq3b6/o6GiNHz8+0zGpqakaOXKkihcvnmMPSpQooVOnTun48eOaMmWKJk2apFWrVmX7mLvuuksff/yx/f6OHTsyhPr0MtuHc+Opp57SypUr7c+9JH377beKj49X7969NW3aNIe+9e7d235/2rRpkqSrV69qxIgR+vHHH/XDDz+oWLFieuCBB+xB//HHH1eXLl30t7/9TcnJyVq5cqU++ugjffHFF/Lz83O6ZqCwuBd2AQDyV1JSkmbMmKGmTZtKkj7//HPVrFlTO3bsUJMmTfT222+rX79+GjRokCRpxIgR2rZtm95++221adPGvpzExET5+PgoNDRUkuTj46PExET7/HfffVft2rWzB9dq1arpt99+0+TJk+1Hl9LqyW45ZcqU0XfffafmzZvr7rvvtk8/cOCAunXrpvfee08dOnTIcntHjBihF154wSFAp60rTWBgoMO0+fPnq1ixYvrkk09ks9kkSbNnz1bJkiW1fv16RUVF2WuXZD+CGRAQkGUdt+qDDz5Q+fLlNWPGDNlsNtWoUUN//vmnXnrpJb322mu6evWqpk2bphkzZigmJkaSVLlyZd1777252tZb5e7u7rCc9J825PT8//777/ryyy918uRJhYWFSZKef/55rVy5UrNnz9a4ceNUt25d+/JKlSql0qVLKyUlxWE9Oe2HaS5evKioqCg1adJEM2bMyHK7Pv/8c12/fl09evRQfHx8tj2w2Wz29VasWFHFihXLcEQ/ve7du+ubb77RsWPHFB4ero8//lhPPvmkxo4dm+VjMtuHc6N58+b2T3BefPFFSX/txw899JA94Kftsz4+PpIy7i+9evVyuP/pp58qODhYv/32myIiIiRJH330kerWrathw4Zp8eLFGjNmjBo3buxUrUBh4wgwcIdzd3dXo0aN7Pdr1KihkiVLav/+/ZKk/fv3q0WLFg6PadGihX1+mvPnz6tEiRJZrier5Rw8eNAhxFy+fDnHI0UVK1ZU+fLlNWjQIH3//fe6ePGiOnXqpCtXrqhZs2ZZPm7p0qU6fPiwRo4cme3y09u5c6cOHTokf39/FS9eXMWLF1dgYKCuX7/u8PHv5cuXVaxYMXt4yMy///1vFS9eXCVLllSdOnX0/vvvO8yPi4uzr6N48eKqXbu2w/z9+/crMjLSHsSlv/oYHx+vkydPav/+/UpMTFS7du2c2sb0mjdvruLFi6tcuXLq1auXjhw5kqfl5fT8//zzzzLGqFq1ag7bv2HDBoceb9q0yd6/a9euZTiNIqf9UPrrY/8uXbpoz5496tChg4oVy/xHXUJCgv7xj39o8uTJcnfP+XhQ2nPn4+OjZs2a6YUXXlBkZGS2j/H09FTfvn31ySef6MqVK1qyZIn9F5fM5LQPpz1vabfjx487zH/qqac0e/ZsSdLZs2e1YsUKPfnkkzluW5rff/9dffr0UaVKlVSiRAlVrFhRkhzWU6pUKX366af2U6dGjRqV6+UDRQVHgAELuDlMZTYt/XxjTIZphw8fVoUKFbJcR2aPSTtl4GZ//vmn/QhgVqZNm6YrV65owYIFevTRR5WSkqJnnnlG7u7uGjBggP2cyZslJSXpxRdf1FtvvZVtQM1MamqqGjZsqC+++CLDvDJlyjjUHhISkmWgkqQ2bdpo5syZSk5O1g8//KBhw4apRo0a9sDq7++vn3/+2T7+jz/+UOvWre33s+ujzWZzetuysmjRItWsWVPnzp3TyJEj9fjjj2vTpk23vLycnv/U1FS5ublp586dcnNzcxh38+kHjRo10q5du3Ts2DH9/e9/16xZsxzO381pP5T++hjfx8dHH330kZ577jlFRUWpbNmyGcZNnjxZ1atXV7du3XL1BdK0584Yo//7v/9T//79VaNGDYdPODIzYMAAtW3bViEhIYqKilJQUFCm43KzD6c9b2lu3nekv05RGDVqlLZu3aqtW7eqQoUKatmyZY7blqZbt24qX768Zs2apbCwMKWmpioiIsLhVCBJ2rhxo9zc3PTnn3/q6tWrOf5SAhQ1HAEG7nDJycn66aef7PcPHDigS5cuqUaNGpKkmjVravPmzQ6P2bJli8MP2evXr2vHjh3Z/iCtVatWpsupVq2aPfCkpqbq559/Vv369bNczrFjxzRmzBh9+OGHeuihhzR48GBVqlRJ77//vsaPH6/Dhw/rk08+yfC4mTNnqnjx4urbt2823chcgwYNdPDgQQUHB6tKlSoOt5tPc/jxxx+zrV2S/Pz8VKVKFdWoUUODBw9WxYoVtWvXLvv8YsWKOSw/PDzc4fG1atXSli1bHMLjli1b5O/vr7vuuktVq1aVj4+PfvjhB6e382bly5dXlSpVFBkZqUGDBjnUeCtyev7r16+vlJQUnT17NkOPb/4Y3sfHR1WrVlX79u01YMAAh19KcrMfSn+dS75s2TINGDBALVq00IABAzKMOXXqlN555x29/fbbud7GtOeuatWq6tq1q6Kjo3MVnKtVq6aqVavq5Zdf1tNPP53luNzsw2nPW9ot/ZHroKAg3X///Zo9e7Zmz57t8IXSnJw/f1779+/XP/7xD7Vr1041a9bUxYsXM4zbsmWLJk2apOXLl6tEiRIaOnRortcBFBUcAQbucB4eHho6dKjee+89eXh4aMiQIWrWrJmaNGkiSXrhhRfUu3dvNWjQQO3atdPy5cu1ePFiff/995Kk+Ph4vfHGGzLGqEWLFjp9+rQk6dq1a0pMTFRcXJwCAgI0cuRINW7cWGPHjtXDDz+srVu3asaMGfrggw8kSSdOnFBsbKzOnj3r8CW89AYNGqQHH3xQbdu2lfTXx63+/v5yc3OTv7+/ZsyYoX79+qlbt24OwWnSpElatmxZpke7c/K3v/1NkydPVo8ePfTGG2+oXLlyOn78uBYvXqwXXnhBJUuW1CeffKIFCxboq6++ynZZqampun79upKTk7V27VodO3ZMderUyXUtgwYN0tSpUzV06FANGTJEBw4c0JgxYzRixAgVK1ZM3t7eeumll/Tiiy/K09NTLVq00Llz57Rv3z71798/1+u5ceOGrl+/rnPnzunLL790qsbM5PT8V6tWTX/729/0+OOP65133lH9+vX1v//9T2vXrlWdOnXUpUsXLVy4UJUrV1ZISIgOHjyoDz/80H76Tm73Q+mvfT7tqPLHH3+s2rVra+7cuXr88cft9b7//vvq1auXGjRokOttNMbo9OnTMsbo0KFDWrlypR599NFcPXbixInatGmT2rRpo7i4uEzH5GUfvtlTTz2l6OhopaSkZHu6RXppV0D5+OOPVbZsWR0/fjzD6Q1XrlxR3759NXToUHXu3Fl33323GjVqpOjoaD300EN5qhsoUAbAbScmJsb06NEjw/R169YZSebixYvGGGNmz55tAgICzDfffGMqVapkPD09Tdu2bc3Ro0cdHvfBBx+YSpUqGQ8PD1OtWjUzd+5c+7wxY8YYSVneYmJi7GO//vprU6tWLePh4WHuvvtuM3nyZPu8kSNHmvvuu89s2rQpy21ZuHChKVOmjDl//rzD+uvVq+fwmJ49e5qHHnrIYZujo6MdxkgyS5YsydAjSWbdunUZpp86dco8/vjjpnTp0sbLy8tUqlTJPP300yYuLs4sXrzY1KpVy8yaNcvhMWn9vXlb0vri7u5uKlWq5NCD9OONMebIkSNGktm1a5d92vr1603jxo2Np6enCQ0NNS+99JJJSkqyz09JSTFvvvmmCQ8Pt/d63LhxudrWtPWl3QICAkzHjh3N//3f/2V4fJrMnoP0+5ox2T//xhhz48YN89prr5kKFSoYDw8PExoaah544AGzZ88eY4wxr732milfvrzx9PQ0YWFh5sknn7QvP7f7YWY9njt3rilZsqT5448/jDHGhIeHGx8fH3PixAn7mKxeU2lmz55tX5fNZjPBwcHmqaeeMvHx8Vk+plWrVubvf/97hukXL150eG5ysw9ntp+kbcuUKVMcpqWmpprw8HDTpUuXLGuLiYlxeO2mWbNmjalZs6bx8vIydevWNevXr3eo44knnjB16tQx169ftz9m2rRpJjAw0Jw8eTLL9QFFjc2YTE7SA3BHmDNnjoYPH56nvwwXGxvr8O/Nli5dqqVLl2a41BngauyHuZeQkKCwsDB99tln6tmzZ2GXAxRJnAIBIFvZXR/V29s7Xy4FBqTHfpiz1NRUnT59Wu+8844CAgLUvXv3wi4JKLI4AgzcwVxxBBjA7eHo0aOqWLGiypUrpzlz5uT5UnnAnYwADAAAAEvhMmgAAACwFAIwAAAALIUADAAAAEshAAMAAMBSCMAAAACwFAIwAAAALIUADAAAAEshAAMAAMBS/j+lF8/G9ktZNQAAAABJRU5ErkJggg==\n",
      "text/plain": [
       "<Figure size 800x800 with 1 Axes>"
      ]
     },
     "metadata": {},
     "output_type": "display_data"
    }
   ],
   "source": [
    "plt.figure(figsize= (8,8))\n",
    "df_users_free.duration.hist(bins=10, grid=True) \n",
    "plt.title('Распределение времени поездки пользователей без подписки')\n",
    "plt.ylabel('Количество значений')\n",
    "plt.xlabel('Продолжительность поездки в минутах')\n",
    "plt.show\n",
    "# C помощью метода describe () получим числовое описание данных столбца duration \n",
    "df_users_free['duration'].describe().round().astype('int')"
   ]
  },
  {
   "cell_type": "markdown",
   "id": "62dd4be1",
   "metadata": {},
   "source": [
    "    Видно по гистограмме, что средняя продолжительность поездки среди пользователей без подписки равна 17 минутам. Медиана также равна 17. Максимальная продолжительность поездки в два раза превышает среднее значение и составляет 35 минут. Межквартильный размах равен разнице между третьим квартилем и первым квартилем и составляет 9 минут. Описывая гистограмму, можно сказать, что она имеет вид нормального распределения. "
   ]
  },
  {
   "cell_type": "code",
   "execution_count": 56,
   "id": "515fc950",
   "metadata": {},
   "outputs": [
    {
     "data": {
      "text/plain": [
       "count    6500\n",
       "mean     3115\n",
       "std       837\n",
       "min       244\n",
       "25%      2785\n",
       "50%      3149\n",
       "75%      3561\n",
       "max      5700\n",
       "Name: distance, dtype: int32"
      ]
     },
     "execution_count": 56,
     "metadata": {},
     "output_type": "execute_result"
    },
    {
     "data": {
      "image/png": "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\n",
      "text/plain": [
       "<Figure size 800x800 with 1 Axes>"
      ]
     },
     "metadata": {},
     "output_type": "display_data"
    }
   ],
   "source": [
    "plt.figure(figsize= (8,8))\n",
    "df_users_ultra.distance.hist(bins=40, grid=True) \n",
    "plt.title('Распределение расстояния, которое пользователь c подпиской проехал в текущей сессии в метрах')\n",
    "plt.ylabel('Количество значений')\n",
    "plt.xlabel('Расстояние поездки в метрах')\n",
    "plt.show\n",
    "# C помощью метода describe () изучим основные статистические показатели столбца distance \n",
    "df_users_ultra['distance'].describe().round().astype('int')"
   ]
  },
  {
   "cell_type": "markdown",
   "id": "74a19feb",
   "metadata": {},
   "source": [
    "      По гистограмме видим, что среднее значение составило 3115 метров. Медиана(второй квартиль) равен 3149 метров. Минимальное расстояние равно 244 метрам. Максимальное расстояние, которое проехал пользователь с подпиской составило 5700 метров. Описывая гистограмму можно сказать, что она не имеет вид нормального распределения, так как крайние значения слева встречаются довольно часто, как и значения, близкие к средней величине. \n",
    "      "
   ]
  },
  {
   "cell_type": "code",
   "execution_count": 57,
   "id": "661fde71",
   "metadata": {},
   "outputs": [
    {
     "data": {
      "text/plain": [
       "count    6500\n",
       "mean       19\n",
       "std         6\n",
       "min         4\n",
       "25%        15\n",
       "50%        18\n",
       "75%        22\n",
       "max        41\n",
       "Name: duration, dtype: int32"
      ]
     },
     "execution_count": 57,
     "metadata": {},
     "output_type": "execute_result"
    },
    {
     "data": {
      "image/png": "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\n",
      "text/plain": [
       "<Figure size 800x800 with 1 Axes>"
      ]
     },
     "metadata": {},
     "output_type": "display_data"
    }
   ],
   "source": [
    "plt.figure(figsize= (8,8))\n",
    "df_users_ultra.duration.hist(bins=10, grid=True) \n",
    "plt.title('Распределение времени поездки пользователей с подпиской ')\n",
    "plt.ylabel('Количество значений')\n",
    "plt.xlabel('Продолжительность поездки в минутах')\n",
    "plt.show\n",
    "# C помощью метода describe () получим числовое описание данных для столбца distance\n",
    "df_users_ultra['duration'].describe().round().astype('int')"
   ]
  },
  {
   "cell_type": "markdown",
   "id": "0c859c8b",
   "metadata": {},
   "source": [
    "      Глядя на гистограмму, можно сказать с уверенностью, что она имеет вид нормального распределения. Минимальное время поездки составило 4 минуты, максимальное время 41 минуту. Среднее значение равно 18 , медиана равна 19 минутам."
   ]
  },
  {
   "cell_type": "markdown",
   "id": "682aeb60",
   "metadata": {},
   "source": [
    "    Вывод по Объединению данных: \n",
    "    В данном шаге исследования мы объединили данные о пользователях, поездках и подписках в один датафрейм df_general. Также были созданы два датафрейма df_users_free и df_users_ultra, которые содержат информацию о пользователях сервиса без подписки и с подпиской соответственно. По каждому из датафреймов были построены гистограммы для признаков duration и distance, описаны вид гистограмм и получено числовое описание данных с помощью метода decribe()."
   ]
  },
  {
   "cell_type": "markdown",
   "id": "600a92cb",
   "metadata": {},
   "source": [
    "##   Шаг 5. Подсчёт выручки"
   ]
  },
  {
   "cell_type": "markdown",
   "id": "734ded74",
   "metadata": {},
   "source": [
    "     ## 5.1 Создадим датафрейм с агрегированными данными о поездках на основе датафрейма с объединёнными данными из шага 4. \n",
    "    Найдём суммарное расстояние, количество поездок и суммарное время для каждого пользователя за каждый месяц."
   ]
  },
  {
   "cell_type": "code",
   "execution_count": 58,
   "id": "e7f1dfdd",
   "metadata": {
    "scrolled": true
   },
   "outputs": [
    {
     "data": {
      "text/html": [
       "<div>\n",
       "<style scoped>\n",
       "    .dataframe tbody tr th:only-of-type {\n",
       "        vertical-align: middle;\n",
       "    }\n",
       "\n",
       "    .dataframe tbody tr th {\n",
       "        vertical-align: top;\n",
       "    }\n",
       "\n",
       "    .dataframe thead th {\n",
       "        text-align: right;\n",
       "    }\n",
       "</style>\n",
       "<table border=\"1\" class=\"dataframe\">\n",
       "  <thead>\n",
       "    <tr style=\"text-align: right;\">\n",
       "      <th></th>\n",
       "      <th>user_id</th>\n",
       "      <th>date_month</th>\n",
       "      <th>subscription_type</th>\n",
       "      <th>minute_price</th>\n",
       "      <th>start_ride_price</th>\n",
       "      <th>subscription_fee</th>\n",
       "      <th>duration</th>\n",
       "      <th>distance</th>\n",
       "      <th>name</th>\n",
       "    </tr>\n",
       "  </thead>\n",
       "  <tbody>\n",
       "    <tr>\n",
       "      <th>0</th>\n",
       "      <td>1</td>\n",
       "      <td>1</td>\n",
       "      <td>ultra</td>\n",
       "      <td>6</td>\n",
       "      <td>0</td>\n",
       "      <td>199</td>\n",
       "      <td>42</td>\n",
       "      <td>7028</td>\n",
       "      <td>2</td>\n",
       "    </tr>\n",
       "    <tr>\n",
       "      <th>1</th>\n",
       "      <td>1</td>\n",
       "      <td>4</td>\n",
       "      <td>ultra</td>\n",
       "      <td>6</td>\n",
       "      <td>0</td>\n",
       "      <td>199</td>\n",
       "      <td>6</td>\n",
       "      <td>754</td>\n",
       "      <td>1</td>\n",
       "    </tr>\n",
       "    <tr>\n",
       "      <th>2</th>\n",
       "      <td>1</td>\n",
       "      <td>8</td>\n",
       "      <td>ultra</td>\n",
       "      <td>6</td>\n",
       "      <td>0</td>\n",
       "      <td>199</td>\n",
       "      <td>45</td>\n",
       "      <td>6724</td>\n",
       "      <td>2</td>\n",
       "    </tr>\n",
       "    <tr>\n",
       "      <th>3</th>\n",
       "      <td>1</td>\n",
       "      <td>10</td>\n",
       "      <td>ultra</td>\n",
       "      <td>6</td>\n",
       "      <td>0</td>\n",
       "      <td>199</td>\n",
       "      <td>32</td>\n",
       "      <td>5810</td>\n",
       "      <td>2</td>\n",
       "    </tr>\n",
       "    <tr>\n",
       "      <th>4</th>\n",
       "      <td>1</td>\n",
       "      <td>11</td>\n",
       "      <td>ultra</td>\n",
       "      <td>6</td>\n",
       "      <td>0</td>\n",
       "      <td>199</td>\n",
       "      <td>53</td>\n",
       "      <td>7004</td>\n",
       "      <td>3</td>\n",
       "    </tr>\n",
       "    <tr>\n",
       "      <th>5</th>\n",
       "      <td>1</td>\n",
       "      <td>12</td>\n",
       "      <td>ultra</td>\n",
       "      <td>6</td>\n",
       "      <td>0</td>\n",
       "      <td>199</td>\n",
       "      <td>28</td>\n",
       "      <td>6752</td>\n",
       "      <td>2</td>\n",
       "    </tr>\n",
       "    <tr>\n",
       "      <th>6</th>\n",
       "      <td>2</td>\n",
       "      <td>3</td>\n",
       "      <td>ultra</td>\n",
       "      <td>6</td>\n",
       "      <td>0</td>\n",
       "      <td>199</td>\n",
       "      <td>61</td>\n",
       "      <td>10188</td>\n",
       "      <td>3</td>\n",
       "    </tr>\n",
       "    <tr>\n",
       "      <th>7</th>\n",
       "      <td>2</td>\n",
       "      <td>4</td>\n",
       "      <td>ultra</td>\n",
       "      <td>6</td>\n",
       "      <td>0</td>\n",
       "      <td>199</td>\n",
       "      <td>39</td>\n",
       "      <td>6165</td>\n",
       "      <td>2</td>\n",
       "    </tr>\n",
       "    <tr>\n",
       "      <th>8</th>\n",
       "      <td>2</td>\n",
       "      <td>6</td>\n",
       "      <td>ultra</td>\n",
       "      <td>6</td>\n",
       "      <td>0</td>\n",
       "      <td>199</td>\n",
       "      <td>14</td>\n",
       "      <td>3255</td>\n",
       "      <td>1</td>\n",
       "    </tr>\n",
       "    <tr>\n",
       "      <th>9</th>\n",
       "      <td>2</td>\n",
       "      <td>7</td>\n",
       "      <td>ultra</td>\n",
       "      <td>6</td>\n",
       "      <td>0</td>\n",
       "      <td>199</td>\n",
       "      <td>46</td>\n",
       "      <td>6781</td>\n",
       "      <td>2</td>\n",
       "    </tr>\n",
       "    <tr>\n",
       "      <th>10</th>\n",
       "      <td>2</td>\n",
       "      <td>8</td>\n",
       "      <td>ultra</td>\n",
       "      <td>6</td>\n",
       "      <td>0</td>\n",
       "      <td>199</td>\n",
       "      <td>7</td>\n",
       "      <td>923</td>\n",
       "      <td>1</td>\n",
       "    </tr>\n",
       "    <tr>\n",
       "      <th>11</th>\n",
       "      <td>2</td>\n",
       "      <td>10</td>\n",
       "      <td>ultra</td>\n",
       "      <td>6</td>\n",
       "      <td>0</td>\n",
       "      <td>199</td>\n",
       "      <td>19</td>\n",
       "      <td>2825</td>\n",
       "      <td>1</td>\n",
       "    </tr>\n",
       "    <tr>\n",
       "      <th>12</th>\n",
       "      <td>2</td>\n",
       "      <td>12</td>\n",
       "      <td>ultra</td>\n",
       "      <td>6</td>\n",
       "      <td>0</td>\n",
       "      <td>199</td>\n",
       "      <td>12</td>\n",
       "      <td>3828</td>\n",
       "      <td>1</td>\n",
       "    </tr>\n",
       "    <tr>\n",
       "      <th>13</th>\n",
       "      <td>3</td>\n",
       "      <td>1</td>\n",
       "      <td>ultra</td>\n",
       "      <td>6</td>\n",
       "      <td>0</td>\n",
       "      <td>199</td>\n",
       "      <td>13</td>\n",
       "      <td>3062</td>\n",
       "      <td>1</td>\n",
       "    </tr>\n",
       "    <tr>\n",
       "      <th>14</th>\n",
       "      <td>3</td>\n",
       "      <td>2</td>\n",
       "      <td>ultra</td>\n",
       "      <td>6</td>\n",
       "      <td>0</td>\n",
       "      <td>199</td>\n",
       "      <td>38</td>\n",
       "      <td>5421</td>\n",
       "      <td>2</td>\n",
       "    </tr>\n",
       "    <tr>\n",
       "      <th>15</th>\n",
       "      <td>3</td>\n",
       "      <td>4</td>\n",
       "      <td>ultra</td>\n",
       "      <td>6</td>\n",
       "      <td>0</td>\n",
       "      <td>199</td>\n",
       "      <td>21</td>\n",
       "      <td>2957</td>\n",
       "      <td>1</td>\n",
       "    </tr>\n",
       "    <tr>\n",
       "      <th>16</th>\n",
       "      <td>3</td>\n",
       "      <td>5</td>\n",
       "      <td>ultra</td>\n",
       "      <td>6</td>\n",
       "      <td>0</td>\n",
       "      <td>199</td>\n",
       "      <td>61</td>\n",
       "      <td>9064</td>\n",
       "      <td>3</td>\n",
       "    </tr>\n",
       "    <tr>\n",
       "      <th>17</th>\n",
       "      <td>3</td>\n",
       "      <td>7</td>\n",
       "      <td>ultra</td>\n",
       "      <td>6</td>\n",
       "      <td>0</td>\n",
       "      <td>199</td>\n",
       "      <td>66</td>\n",
       "      <td>10920</td>\n",
       "      <td>3</td>\n",
       "    </tr>\n",
       "    <tr>\n",
       "      <th>18</th>\n",
       "      <td>3</td>\n",
       "      <td>9</td>\n",
       "      <td>ultra</td>\n",
       "      <td>6</td>\n",
       "      <td>0</td>\n",
       "      <td>199</td>\n",
       "      <td>22</td>\n",
       "      <td>2891</td>\n",
       "      <td>1</td>\n",
       "    </tr>\n",
       "    <tr>\n",
       "      <th>19</th>\n",
       "      <td>3</td>\n",
       "      <td>12</td>\n",
       "      <td>ultra</td>\n",
       "      <td>6</td>\n",
       "      <td>0</td>\n",
       "      <td>199</td>\n",
       "      <td>13</td>\n",
       "      <td>2593</td>\n",
       "      <td>1</td>\n",
       "    </tr>\n",
       "    <tr>\n",
       "      <th>20</th>\n",
       "      <td>4</td>\n",
       "      <td>2</td>\n",
       "      <td>ultra</td>\n",
       "      <td>6</td>\n",
       "      <td>0</td>\n",
       "      <td>199</td>\n",
       "      <td>48</td>\n",
       "      <td>6339</td>\n",
       "      <td>2</td>\n",
       "    </tr>\n",
       "    <tr>\n",
       "      <th>21</th>\n",
       "      <td>4</td>\n",
       "      <td>6</td>\n",
       "      <td>ultra</td>\n",
       "      <td>6</td>\n",
       "      <td>0</td>\n",
       "      <td>199</td>\n",
       "      <td>43</td>\n",
       "      <td>6753</td>\n",
       "      <td>2</td>\n",
       "    </tr>\n",
       "    <tr>\n",
       "      <th>22</th>\n",
       "      <td>4</td>\n",
       "      <td>7</td>\n",
       "      <td>ultra</td>\n",
       "      <td>6</td>\n",
       "      <td>0</td>\n",
       "      <td>199</td>\n",
       "      <td>56</td>\n",
       "      <td>10491</td>\n",
       "      <td>3</td>\n",
       "    </tr>\n",
       "    <tr>\n",
       "      <th>23</th>\n",
       "      <td>4</td>\n",
       "      <td>8</td>\n",
       "      <td>ultra</td>\n",
       "      <td>6</td>\n",
       "      <td>0</td>\n",
       "      <td>199</td>\n",
       "      <td>36</td>\n",
       "      <td>4649</td>\n",
       "      <td>1</td>\n",
       "    </tr>\n",
       "    <tr>\n",
       "      <th>24</th>\n",
       "      <td>4</td>\n",
       "      <td>10</td>\n",
       "      <td>ultra</td>\n",
       "      <td>6</td>\n",
       "      <td>0</td>\n",
       "      <td>199</td>\n",
       "      <td>79</td>\n",
       "      <td>13260</td>\n",
       "      <td>4</td>\n",
       "    </tr>\n",
       "  </tbody>\n",
       "</table>\n",
       "</div>"
      ],
      "text/plain": [
       "    user_id  date_month subscription_type  minute_price  start_ride_price  \\\n",
       "0         1           1             ultra             6                 0   \n",
       "1         1           4             ultra             6                 0   \n",
       "2         1           8             ultra             6                 0   \n",
       "3         1          10             ultra             6                 0   \n",
       "4         1          11             ultra             6                 0   \n",
       "5         1          12             ultra             6                 0   \n",
       "6         2           3             ultra             6                 0   \n",
       "7         2           4             ultra             6                 0   \n",
       "8         2           6             ultra             6                 0   \n",
       "9         2           7             ultra             6                 0   \n",
       "10        2           8             ultra             6                 0   \n",
       "11        2          10             ultra             6                 0   \n",
       "12        2          12             ultra             6                 0   \n",
       "13        3           1             ultra             6                 0   \n",
       "14        3           2             ultra             6                 0   \n",
       "15        3           4             ultra             6                 0   \n",
       "16        3           5             ultra             6                 0   \n",
       "17        3           7             ultra             6                 0   \n",
       "18        3           9             ultra             6                 0   \n",
       "19        3          12             ultra             6                 0   \n",
       "20        4           2             ultra             6                 0   \n",
       "21        4           6             ultra             6                 0   \n",
       "22        4           7             ultra             6                 0   \n",
       "23        4           8             ultra             6                 0   \n",
       "24        4          10             ultra             6                 0   \n",
       "\n",
       "    subscription_fee  duration  distance  name  \n",
       "0                199        42      7028     2  \n",
       "1                199         6       754     1  \n",
       "2                199        45      6724     2  \n",
       "3                199        32      5810     2  \n",
       "4                199        53      7004     3  \n",
       "5                199        28      6752     2  \n",
       "6                199        61     10188     3  \n",
       "7                199        39      6165     2  \n",
       "8                199        14      3255     1  \n",
       "9                199        46      6781     2  \n",
       "10               199         7       923     1  \n",
       "11               199        19      2825     1  \n",
       "12               199        12      3828     1  \n",
       "13               199        13      3062     1  \n",
       "14               199        38      5421     2  \n",
       "15               199        21      2957     1  \n",
       "16               199        61      9064     3  \n",
       "17               199        66     10920     3  \n",
       "18               199        22      2891     1  \n",
       "19               199        13      2593     1  \n",
       "20               199        48      6339     2  \n",
       "21               199        43      6753     2  \n",
       "22               199        56     10491     3  \n",
       "23               199        36      4649     1  \n",
       "24               199        79     13260     4  "
      ]
     },
     "execution_count": 58,
     "metadata": {},
     "output_type": "execute_result"
    }
   ],
   "source": [
    "\n",
    "df_new = df_general.groupby(['user_id', 'date_month','subscription_type','minute_price','start_ride_price','subscription_fee']).agg({'duration': 'sum' , 'distance': 'sum', 'name':'count'}).reset_index()\n",
    "\n",
    "df_new.head(25)\n"
   ]
  },
  {
   "cell_type": "markdown",
   "id": "9ba445b6",
   "metadata": {},
   "source": [
    "   ##  5.2 В данный датафрейм добавим столбец с помесячной выручкой, которую принёс каждый пользователь."
   ]
  },
  {
   "cell_type": "code",
   "execution_count": 59,
   "id": "24bca090",
   "metadata": {},
   "outputs": [],
   "source": [
    "import numpy as np\n",
    "\n",
    "# каждое значение из столбца duration округляется с помощью «потолка»: \n",
    "\n",
    "df_new['duration'] = np.ceil(df_new['duration']) \n"
   ]
  },
  {
   "cell_type": "code",
   "execution_count": 60,
   "id": "cedaa470",
   "metadata": {},
   "outputs": [],
   "source": [
    "# Добавим столбец с помесячной выручкой по каждому пользователю\n",
    "df_new['monthly_revenue'] = df_new['start_ride_price'] * df_new['name'] + df_new['duration'] * df_new['minute_price'] + df_new['subscription_fee']"
   ]
  },
  {
   "cell_type": "code",
   "execution_count": 61,
   "id": "c4fa0eee",
   "metadata": {},
   "outputs": [
    {
     "data": {
      "text/html": [
       "<div>\n",
       "<style scoped>\n",
       "    .dataframe tbody tr th:only-of-type {\n",
       "        vertical-align: middle;\n",
       "    }\n",
       "\n",
       "    .dataframe tbody tr th {\n",
       "        vertical-align: top;\n",
       "    }\n",
       "\n",
       "    .dataframe thead th {\n",
       "        text-align: right;\n",
       "    }\n",
       "</style>\n",
       "<table border=\"1\" class=\"dataframe\">\n",
       "  <thead>\n",
       "    <tr style=\"text-align: right;\">\n",
       "      <th></th>\n",
       "      <th>user_id</th>\n",
       "      <th>date_month</th>\n",
       "      <th>subscription_type</th>\n",
       "      <th>minute_price</th>\n",
       "      <th>start_ride_price</th>\n",
       "      <th>subscription_fee</th>\n",
       "      <th>duration</th>\n",
       "      <th>distance</th>\n",
       "      <th>name</th>\n",
       "      <th>monthly_revenue</th>\n",
       "    </tr>\n",
       "  </thead>\n",
       "  <tbody>\n",
       "    <tr>\n",
       "      <th>0</th>\n",
       "      <td>1</td>\n",
       "      <td>1</td>\n",
       "      <td>ultra</td>\n",
       "      <td>6</td>\n",
       "      <td>0</td>\n",
       "      <td>199</td>\n",
       "      <td>42.0</td>\n",
       "      <td>7028</td>\n",
       "      <td>2</td>\n",
       "      <td>451.0</td>\n",
       "    </tr>\n",
       "    <tr>\n",
       "      <th>1</th>\n",
       "      <td>1</td>\n",
       "      <td>4</td>\n",
       "      <td>ultra</td>\n",
       "      <td>6</td>\n",
       "      <td>0</td>\n",
       "      <td>199</td>\n",
       "      <td>6.0</td>\n",
       "      <td>754</td>\n",
       "      <td>1</td>\n",
       "      <td>235.0</td>\n",
       "    </tr>\n",
       "    <tr>\n",
       "      <th>2</th>\n",
       "      <td>1</td>\n",
       "      <td>8</td>\n",
       "      <td>ultra</td>\n",
       "      <td>6</td>\n",
       "      <td>0</td>\n",
       "      <td>199</td>\n",
       "      <td>45.0</td>\n",
       "      <td>6724</td>\n",
       "      <td>2</td>\n",
       "      <td>469.0</td>\n",
       "    </tr>\n",
       "    <tr>\n",
       "      <th>3</th>\n",
       "      <td>1</td>\n",
       "      <td>10</td>\n",
       "      <td>ultra</td>\n",
       "      <td>6</td>\n",
       "      <td>0</td>\n",
       "      <td>199</td>\n",
       "      <td>32.0</td>\n",
       "      <td>5810</td>\n",
       "      <td>2</td>\n",
       "      <td>391.0</td>\n",
       "    </tr>\n",
       "    <tr>\n",
       "      <th>4</th>\n",
       "      <td>1</td>\n",
       "      <td>11</td>\n",
       "      <td>ultra</td>\n",
       "      <td>6</td>\n",
       "      <td>0</td>\n",
       "      <td>199</td>\n",
       "      <td>53.0</td>\n",
       "      <td>7004</td>\n",
       "      <td>3</td>\n",
       "      <td>517.0</td>\n",
       "    </tr>\n",
       "    <tr>\n",
       "      <th>5</th>\n",
       "      <td>1</td>\n",
       "      <td>12</td>\n",
       "      <td>ultra</td>\n",
       "      <td>6</td>\n",
       "      <td>0</td>\n",
       "      <td>199</td>\n",
       "      <td>28.0</td>\n",
       "      <td>6752</td>\n",
       "      <td>2</td>\n",
       "      <td>367.0</td>\n",
       "    </tr>\n",
       "    <tr>\n",
       "      <th>6</th>\n",
       "      <td>2</td>\n",
       "      <td>3</td>\n",
       "      <td>ultra</td>\n",
       "      <td>6</td>\n",
       "      <td>0</td>\n",
       "      <td>199</td>\n",
       "      <td>61.0</td>\n",
       "      <td>10188</td>\n",
       "      <td>3</td>\n",
       "      <td>565.0</td>\n",
       "    </tr>\n",
       "    <tr>\n",
       "      <th>7</th>\n",
       "      <td>2</td>\n",
       "      <td>4</td>\n",
       "      <td>ultra</td>\n",
       "      <td>6</td>\n",
       "      <td>0</td>\n",
       "      <td>199</td>\n",
       "      <td>39.0</td>\n",
       "      <td>6165</td>\n",
       "      <td>2</td>\n",
       "      <td>433.0</td>\n",
       "    </tr>\n",
       "    <tr>\n",
       "      <th>8</th>\n",
       "      <td>2</td>\n",
       "      <td>6</td>\n",
       "      <td>ultra</td>\n",
       "      <td>6</td>\n",
       "      <td>0</td>\n",
       "      <td>199</td>\n",
       "      <td>14.0</td>\n",
       "      <td>3255</td>\n",
       "      <td>1</td>\n",
       "      <td>283.0</td>\n",
       "    </tr>\n",
       "    <tr>\n",
       "      <th>9</th>\n",
       "      <td>2</td>\n",
       "      <td>7</td>\n",
       "      <td>ultra</td>\n",
       "      <td>6</td>\n",
       "      <td>0</td>\n",
       "      <td>199</td>\n",
       "      <td>46.0</td>\n",
       "      <td>6781</td>\n",
       "      <td>2</td>\n",
       "      <td>475.0</td>\n",
       "    </tr>\n",
       "  </tbody>\n",
       "</table>\n",
       "</div>"
      ],
      "text/plain": [
       "   user_id  date_month subscription_type  minute_price  start_ride_price  \\\n",
       "0        1           1             ultra             6                 0   \n",
       "1        1           4             ultra             6                 0   \n",
       "2        1           8             ultra             6                 0   \n",
       "3        1          10             ultra             6                 0   \n",
       "4        1          11             ultra             6                 0   \n",
       "5        1          12             ultra             6                 0   \n",
       "6        2           3             ultra             6                 0   \n",
       "7        2           4             ultra             6                 0   \n",
       "8        2           6             ultra             6                 0   \n",
       "9        2           7             ultra             6                 0   \n",
       "\n",
       "   subscription_fee  duration  distance  name  monthly_revenue  \n",
       "0               199      42.0      7028     2            451.0  \n",
       "1               199       6.0       754     1            235.0  \n",
       "2               199      45.0      6724     2            469.0  \n",
       "3               199      32.0      5810     2            391.0  \n",
       "4               199      53.0      7004     3            517.0  \n",
       "5               199      28.0      6752     2            367.0  \n",
       "6               199      61.0     10188     3            565.0  \n",
       "7               199      39.0      6165     2            433.0  \n",
       "8               199      14.0      3255     1            283.0  \n",
       "9               199      46.0      6781     2            475.0  "
      ]
     },
     "execution_count": 61,
     "metadata": {},
     "output_type": "execute_result"
    }
   ],
   "source": [
    "df_new.head(10)"
   ]
  },
  {
   "cell_type": "code",
   "execution_count": 62,
   "id": "2942a0e6",
   "metadata": {},
   "outputs": [
    {
     "data": {
      "text/plain": [
       "count    11331\n",
       "mean       336\n",
       "std        151\n",
       "min         50\n",
       "25%        234\n",
       "50%        313\n",
       "75%        409\n",
       "max       1428\n",
       "Name: monthly_revenue, dtype: int32"
      ]
     },
     "execution_count": 62,
     "metadata": {},
     "output_type": "execute_result"
    }
   ],
   "source": [
    "# Получим числовое описание данных для столбца 'monthly_revenue'\n",
    "df_new['monthly_revenue'].describe().round().astype('int')"
   ]
  },
  {
   "cell_type": "markdown",
   "id": "03334500",
   "metadata": {},
   "source": [
    "    Видим, что среднее значение составило 336 рублей, тогда как медиана равна 313 рублей. Минимальное значение равно 50, максимальное значение равно 1428 рублей.ё"
   ]
  },
  {
   "cell_type": "markdown",
   "id": "6911fa7e",
   "metadata": {},
   "source": [
    "    Вывод: В 5 шаге нашего исследования мы нашли суммарное расстояние, количество поездок и суммарное время для каждого пользователя за каждый месяц. Также посчитали и добавили столбец с помесячной выручкой для каждого пользователя. Перейдем к следующему этапу исследования "
   ]
  },
  {
   "cell_type": "markdown",
   "id": "06c6e042",
   "metadata": {},
   "source": [
    "#  Шаг 6. Проверка гипотез "
   ]
  },
  {
   "cell_type": "markdown",
   "id": "250fdef1",
   "metadata": {},
   "source": [
    " ## 6.1 Важно понять, тратят ли пользователи с подпиской больше времени на поездки? Если да, то пользователи с подпиской могут быть «выгоднее» для компании. Проверим гипотезу. Используем исходные данные о продолжительности каждой сессии — отдельно для подписчиков и тех, у кого нет подписки."
   ]
  },
  {
   "cell_type": "code",
   "execution_count": 63,
   "id": "61ae2a5c",
   "metadata": {},
   "outputs": [
    {
     "data": {
      "text/plain": [
       "array([26, 16,  6, 19, 17, 15, 23, 18, 10, 24, 12, 25, 21, 14, 20,  7, 13,\n",
       "       22, 28, 36, 11, 34, 27,  5, 30, 32, 38,  9,  8, 33, 31, 29, 37, 35,\n",
       "        4, 40, 41])"
      ]
     },
     "execution_count": 63,
     "metadata": {},
     "output_type": "execute_result"
    }
   ],
   "source": [
    "# Выведем на экран уникальные значения столбца duration\n",
    "df_users_ultra['duration'].unique()"
   ]
  },
  {
   "cell_type": "code",
   "execution_count": 64,
   "id": "c496c2d8",
   "metadata": {},
   "outputs": [
    {
     "data": {
      "text/plain": [
       "array([15, 16, 20, 10, 17, 22, 18, 11,  5, 33,  9, 14, 12, 13,  7, 19,  6,\n",
       "        0, 29, 23, 24, 21,  8, 25, 27,  4, 30, 34, 26, 32, 28, 35,  2,  3,\n",
       "       31])"
      ]
     },
     "execution_count": 64,
     "metadata": {},
     "output_type": "execute_result"
    }
   ],
   "source": [
    "# Выведем на экран уникальные значения столбца duration\n",
    "df_users_free['duration'].unique()"
   ]
  },
  {
   "cell_type": "code",
   "execution_count": 65,
   "id": "a8053273",
   "metadata": {},
   "outputs": [
    {
     "name": "stdout",
     "output_type": "stream",
     "text": [
      "p-значение: 0.10694967710566912\n",
      "Не получилось отвергнуть нулевую гипотезу: пользователи с подпиской тратят больше времени на поездки\n"
     ]
    }
   ],
   "source": [
    "from scipy import stats as st\n",
    "\n",
    "alpha = 0.05 # укажем уровень статистической значимости \n",
    "# если p-value окажется меньше него, отвергнем гипотезу\n",
    "sample1  = [26, 16,  6, 19, 17, 15, 23, 18, 10, 24, 12, 25, 21, 14, 20,  7, 13, 22, 28,\n",
    " 36, 11, 34, 27,  5, 30, 32, 38,  9,  8, 33, 31, 29, 37, 35,  4, 40, 41]\n",
    "sample2 = [15, 16, 20, 10, 17, 22, 18, 11,  5, 33,  9, 14, 12, 13,  7, 19,  6,  0, 29,\n",
    " 23, 24, 21,  8, 25, 27,  4, 30, 34, 26, 32, 28, 35,  2,  3, 31]\n",
    "\n",
    "results = st.ttest_ind(sample1, sample2, equal_var = False, alternative = 'two-sided') # используем метод st.ttest_ind \n",
    "\n",
    "print('p-значение:', results.pvalue)\n",
    "\n",
    "if (results.pvalue < alpha): \n",
    "    print('Отвергаем нулевую гипотезу: пользователи с подпиской тратят больше времени на поездки')\n",
    "else: \n",
    "    print('Не получилось отвергнуть нулевую гипотезу: пользователи с подпиской тратят больше времени на поездки')"
   ]
  },
  {
   "cell_type": "markdown",
   "id": "61bded09",
   "metadata": {},
   "source": [
    "   ## 6.2 Расстояние одной поездки в 3130 метров — оптимальное с точки зрения износа самоката. Можно ли сказать, что расстояние, которое проезжают пользователи с подпиской за одну поездку, не превышает 3130 метров? Проверим гипотезу и сделаем выводы. \n",
    "\n"
   ]
  },
  {
   "cell_type": "code",
   "execution_count": 66,
   "id": "dc6e2b61",
   "metadata": {},
   "outputs": [
    {
     "name": "stdout",
     "output_type": "stream",
     "text": [
      "p-значение: 1.0\n",
      "Не отвергаем нулевую гипотезу\n"
     ]
    }
   ],
   "source": [
    "\n",
    "from scipy import stats as st\n",
    "alpha = 0.05\n",
    "# укажем уровень статичтической значимости \n",
    "# если p-value окажется меньше него, то отвергнем гипотезу\n",
    "interested_value = 3130\n",
    "results = st.ttest_1samp(df_new['distance'], interested_value, alternative = 'less') # используем метод st.ttest_1samp\n",
    "\n",
    "print('p-значение:', results.pvalue) \n",
    "\n",
    "if (results.pvalue < alpha):\n",
    "    print('Отвергаем нулевую гипотезу: поездки менее 3130 метров')\n",
    "else:\n",
    "    print('Не отвергаем нулевую гипотезу') "
   ]
  },
  {
   "cell_type": "markdown",
   "id": "f3c10283",
   "metadata": {},
   "source": [
    "    Вывод: Следует отвергнуть нулевую гипотезу о том, что расстояние, которое проезжают пользователи с подпиской за одну поездку, не превышает 3130 метров."
   ]
  },
  {
   "cell_type": "markdown",
   "id": "ca9affa7",
   "metadata": {},
   "source": [
    "    6.3. Проверим гипотезу о том, будет ли помесячная выручка от пользователей с подпиской по месяцам выше, чем выручка от пользователей без подписки. Сделаем вывод. "
   ]
  },
  {
   "cell_type": "code",
   "execution_count": 67,
   "id": "f259a754",
   "metadata": {},
   "outputs": [
    {
     "name": "stdout",
     "output_type": "stream",
     "text": [
      "p-значение: 3.454813975677593e-37\n",
      "Отвергаем нулевую гипотезу: помесячная выручка от пользователей с подпиской по месяцам выше, чем выручка от пользователей без подписки\n"
     ]
    }
   ],
   "source": [
    "import pandas as pd\n",
    "from scipy import stats as st\n",
    "alpha = 0.05\n",
    "# укажем уровень статиcтической значимости \n",
    "\n",
    "users_free = df_new.query('subscription_type == \"free\"')['monthly_revenue']\n",
    "\n",
    "users_ultra = df_new.query('subscription_type == \"ultra\"')['monthly_revenue'] \n",
    "\n",
    "results = st.ttest_ind(users_free, users_ultra, alternative = 'two-sided')\n",
    "\n",
    "print('p-значение:', results.pvalue)\n",
    "\n",
    "if (results.pvalue < alpha):\n",
    "    print('Отвергаем нулевую гипотезу: помесячная выручка от пользователей с подпиской по месяцам выше, чем выручка от пользователей без подписки')\n",
    "else:\n",
    "    print('Не отвергаем нулевую гипотезу') "
   ]
  },
  {
   "cell_type": "markdown",
   "id": "93fabf35",
   "metadata": {},
   "source": [
    "Вывод: Следует отвергнуть гипотезу о том, что помесячная выручка от пользователей с подпиской по месяцам выше, чем выручка от пользователей без подписки"
   ]
  },
  {
   "cell_type": "markdown",
   "id": "9c4ae055",
   "metadata": {},
   "source": [
    "##  6.4. Представим  такую ситуацию: техническая команда сервиса обновила сервера, с которыми взаимодействует мобильное приложение. Она надеется, что из-за этого количество обращений в техподдержку значимо снизилось. Некоторый файл содержит для каждого пользователя данные о количестве обращений до обновления и после него. Ответим на вопрос: \"Какой тест вам понадобился бы для проверки этой гипотезы?\" "
   ]
  },
  {
   "cell_type": "markdown",
   "id": "44347b6d",
   "metadata": {},
   "source": [
    "    Чтобы проверить гипотезу о количестве обращений в техподдержку до и после обновления сервиса можно применть метод scipy.stats.ttest_rel(). Понадобился статистический тест Стьюдента."
   ]
  },
  {
   "cell_type": "markdown",
   "id": "3c7f55e4",
   "metadata": {},
   "source": [
    "##   Общие выводы: Статистический анализ данных о пользователях сервиса GoFast завершен. В ходе исследования были выполнены следующие шаги: \n",
    "1) В первом шаге исследования были выгружены три датафрейма, была изучена общая информация о каждом из них, проведено первичное знакомство с данными. \n",
    "2) Во втором шаге была проведена предобработка данных, по каждому датафрейму было проверено наличие пропущенных значений, были изменены типы данных для нужных столбцов датафрейма, создан новый столбец date_month c номером месяца на основе столбца date.\n",
    "3) В третьем шаге исследования провели исследовательский анализ данных. Было установлено, что больше всего пользователей сервиса GoFast находится  в Пятигорске - 219 человек, меньше всего пользователей живет в Москве -168 человек. 54 % пользователей не приобрели подписку, в то время как 46 % пользователей сервиса имеют подписку. Средний возраст пользователей сервиса составил 25 лет. Среднее расстояние, которое преодолевают пользователи равно 3071 м. Для визуализации данных по каждому признаку была построена гистограмма и сделаны выводы.\n",
    "4) В четвертом шаге исследования было проведено объединение данных о пользователях, поездках и подписках в один датафрейм df_general. Также были созданы два датафрейма df_users_free и df_users_ultra, которые содержат информацию о пользователях сервиса без подписки и с подпиской соответственно. \n",
    "5) На этом шаге исследования был посчитан и добавлен столбец monthly_revenue, который отображает помесячную выручку, принесенную каждым пользователем. \n",
    "6) В шестом шаге исследования были проверены несколько гипотез, которые призваны помочь бизнесу вырасти и улучшить показатели. \n",
    "\n",
    "    Результаты статистического анализа данных могут быть полезны для заказчика - сервиса аренды самокатов GoFast. В ходе исследования были учтены интересы и пожелания заказчика. Можно дать определенные рекомендации: \n",
    "    1) 54 % пользователей не имеют подписку. 46 % пользователей имеют подписку. Стоит внедрить интересные и выгодные акции для новых пользователей сервиса, чтобы повысить лояльность и повысить процент пользователей, приобретающих подписку \n",
    "    2) Средний возраст пользователя сервиса составил 25 лет. Максимальный возраст 43 года. Можно сделать акцент на категорию пользователей старше 40 лет, так как компания недополучает прибыль.\n",
    "    3) В среднем пользователь проезжает 3000 метров в течение 1 поездки\n",
    "    4) Была отвергнута гипотеза о том, что помесячная выручка от пользователей с подпиской по месяцам выше, чем выручка от пользователей без подписки\n",
    "    "
   ]
  }
 ],
 "metadata": {
  "kernelspec": {
   "display_name": "Python 3 (ipykernel)",
   "language": "python",
   "name": "python3"
  },
  "language_info": {
   "codemirror_mode": {
    "name": "ipython",
    "version": 3
   },
   "file_extension": ".py",
   "mimetype": "text/x-python",
   "name": "python",
   "nbconvert_exporter": "python",
   "pygments_lexer": "ipython3",
   "version": "3.10.9"
  }
 },
 "nbformat": 4,
 "nbformat_minor": 5
}
