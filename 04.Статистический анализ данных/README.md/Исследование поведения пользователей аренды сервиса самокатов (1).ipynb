{
 "cells": [ 
  { 
   "cell_type": "markdown",
   "id": "4ac79d27",
   "metadata": {},
   "source": [
    "# Исследование поведения пользователей аренды сервиса самокатов "
   ]
  },
  {
   "cell_type": "markdown",
   "id": "8634287c",
   "metadata": {},
   "source": [
    "## 1 Описание проекта"
   ]
  },
  {
   "cell_type": "markdown",
   "id": "d2be0adf",
   "metadata": {},
   "source": [
    "     В моём распоряжении данные о некоторых пользователях сервиса аренды самокатов GoFast из нескольких городов, а также об их поездках."
   ]
  },
  {
   "cell_type": "markdown",
   "id": "83d17434",
   "metadata": {},
   "source": [
    "    Чтобы совершать поездки по городу, пользователи сервиса GoFast пользуются мобильным приложением. Сервисом можно пользоваться:\n",
    "    * без подписки\n",
    "    * абонентская плата отсутствует;\n",
    "    * стоимость одной минуты поездки — 88 рублей;\n",
    "    * стоимость старта (начала поездки) — 50 рублей;\n",
    " \n",
    "    *с подпиской Ultra\n",
    "    *абонентская плата — 199 рублей в месяц;\n",
    "    *стоимость одной минуты поездки — 66 рублей;\n",
    "    *стоимость старта — бесплатно.\n",
    "    \n",
    "                 \n",
    "   ## 2  Описание данных \n",
    "   \n",
    "    В основных данных есть информация о пользователях, их поездках и подписках.\n",
    "    \n",
    "    * user_id - уникальный идентификатор пользователя\n",
    "    * name - имя пользователя\n",
    "    * age - возраст \n",
    "    * city - город \n",
    "    * subscription_type - тип подписки (free,ultra) \n",
    "    * distance - расстояние, которое пользователь проехал в текущей сессии (в метрах) \n",
    "    * duration - продолжительность сессии (в минутах) — время с того момента, как пользователь нажал кнопку «Начать поездку» до момента, как он нажал кнопку «Завершить поездку» \n",
    "    * date - дата совершения поездки \n",
    "    * minute_price - стоимость одной минуты поездки по данной подписке \n",
    "    * start_ride_price - стоимость начала поездки\n",
    "    * subscription_fee - стоимость ежемесячного платежа \n",
    "    \n",
    "    \n",
    "    Цель исследования - проанализировать данные и проверить некоторые гипотезы, которые могут помочь бизнесу вырасти.\n",
    "    \n",
    "    Ход исследования содержит следующие этапы:\n",
    "    1) Загрузка данных; \n",
    "    2) Предобработка данных;\n",
    "    3) Исследовательский анализ данных\n",
    "    4) Объединение данных \n",
    "    5) Подсчет выручки\n",
    "    6) Проверка гипотез \n",
    "    7) Общий вывод"
   ]
  },
  {
   "cell_type": "markdown",
   "id": "bf492e65",
   "metadata": {},
   "source": [
    "## 3  Шаг 1. Загрузка данных "
   ]
  },
  {
   "cell_type": "markdown",
   "id": "7825ecd3",
   "metadata": {},
   "source": [
    "    Загрузим библиотеки, которые будут необходимы для работы "
   ]
  },
  {
   "cell_type": "code",
   "execution_count": 1,
   "id": "e569f22c",
   "metadata": {},
   "outputs": [],
   "source": [
    "import pandas as pd\n",
    "import seaborn as sns\n",
    "import matplotlib.pyplot as plt\n",
    "import numpy as np \n",
    "from scipy import stats as st\n",
    "from math import factorial "
   ]
  },
  {
   "cell_type": "markdown",
   "id": "e32774a0",
   "metadata": {},
   "source": [
    "   ## 4 1.1 Посчитаем CSV-файлы с данными с помощью библиотеки Pandas и сохраним их в датафреймы"
   ]
  },
  {
   "cell_type": "code",
   "execution_count": 2,
   "id": "d3823151",
   "metadata": {},
   "outputs": [],
   "source": [
    "#  Используем конструкцию try-except: \n",
    "   \n",
    "try:\n",
    "\n",
    "    df_users = pd.read_csv('/datasets/users_go.csv', sep = ',') \n",
    "       \n",
    "except: \n",
    "    df_users = pd.read_csv('C:\\\\Users\\\\user\\\\Downloads\\\\users_go.csv', sep = ',')\n"
   ]
  },
  {
   "cell_type": "code",
   "execution_count": 3,
   "id": "3adac10e",
   "metadata": {},
   "outputs": [
    {
     "data": {
      "text/html": [
       "<div>\n",
       "<style scoped>\n",
       "    .dataframe tbody tr th:only-of-type {\n",
       "        vertical-align: middle;\n",
       "    }\n",
       "\n",
       "    .dataframe tbody tr th {\n",
       "        vertical-align: top;\n",
       "    }\n",
       "\n",
       "    .dataframe thead th {\n",
       "        text-align: right;\n",
       "    }\n",
       "</style>\n",
       "<table border=\"1\" class=\"dataframe\">\n",
       "  <thead>\n",
       "    <tr style=\"text-align: right;\">\n",
       "      <th></th>\n",
       "      <th>user_id</th>\n",
       "      <th>name</th>\n",
       "      <th>age</th>\n",
       "      <th>city</th>\n",
       "      <th>subscription_type</th>\n",
       "    </tr>\n",
       "  </thead>\n",
       "  <tbody>\n",
       "    <tr>\n",
       "      <th>0</th>\n",
       "      <td>1</td>\n",
       "      <td>Кира</td>\n",
       "      <td>22</td>\n",
       "      <td>Тюмень</td>\n",
       "      <td>ultra</td>\n",
       "    </tr>\n",
       "    <tr>\n",
       "      <th>1</th>\n",
       "      <td>2</td>\n",
       "      <td>Станислав</td>\n",
       "      <td>31</td>\n",
       "      <td>Омск</td>\n",
       "      <td>ultra</td>\n",
       "    </tr>\n",
       "    <tr>\n",
       "      <th>2</th>\n",
       "      <td>3</td>\n",
       "      <td>Алексей</td>\n",
       "      <td>20</td>\n",
       "      <td>Москва</td>\n",
       "      <td>ultra</td>\n",
       "    </tr>\n",
       "    <tr>\n",
       "      <th>3</th>\n",
       "      <td>4</td>\n",
       "      <td>Константин</td>\n",
       "      <td>26</td>\n",
       "      <td>Ростов-на-Дону</td>\n",
       "      <td>ultra</td>\n",
       "    </tr>\n",
       "    <tr>\n",
       "      <th>4</th>\n",
       "      <td>5</td>\n",
       "      <td>Адель</td>\n",
       "      <td>28</td>\n",
       "      <td>Омск</td>\n",
       "      <td>ultra</td>\n",
       "    </tr>\n",
       "  </tbody>\n",
       "</table>\n",
       "</div>"
      ],
      "text/plain": [
       "   user_id        name  age            city subscription_type\n",
       "0        1        Кира   22          Тюмень             ultra\n",
       "1        2   Станислав   31            Омск             ultra\n",
       "2        3     Алексей   20          Москва             ultra\n",
       "3        4  Константин   26  Ростов-на-Дону             ultra\n",
       "4        5       Адель   28            Омск             ultra"
      ]
     },
     "execution_count": 3,
     "metadata": {},
     "output_type": "execute_result"
    }
   ],
   "source": [
    "# выведем на экран первые 5 строк датафрейма \n",
    "df_users.head()"
   ]
  },
  {
   "cell_type": "code",
   "execution_count": 4,
   "id": "9f43e397",
   "metadata": {},
   "outputs": [
    {
     "data": {
      "text/html": [
       "<div>\n",
       "<style scoped>\n",
       "    .dataframe tbody tr th:only-of-type {\n",
       "        vertical-align: middle;\n",
       "    }\n",
       "\n",
       "    .dataframe tbody tr th {\n",
       "        vertical-align: top;\n",
       "    }\n",
       "\n",
       "    .dataframe thead th {\n",
       "        text-align: right;\n",
       "    }\n",
       "</style>\n",
       "<table border=\"1\" class=\"dataframe\">\n",
       "  <thead>\n",
       "    <tr style=\"text-align: right;\">\n",
       "      <th></th>\n",
       "      <th>user_id</th>\n",
       "      <th>name</th>\n",
       "      <th>age</th>\n",
       "      <th>city</th>\n",
       "      <th>subscription_type</th>\n",
       "    </tr>\n",
       "  </thead>\n",
       "  <tbody>\n",
       "    <tr>\n",
       "      <th>1560</th>\n",
       "      <td>829</td>\n",
       "      <td>Федор</td>\n",
       "      <td>29</td>\n",
       "      <td>Пятигорск</td>\n",
       "      <td>free</td>\n",
       "    </tr>\n",
       "    <tr>\n",
       "      <th>1561</th>\n",
       "      <td>809</td>\n",
       "      <td>Юрий</td>\n",
       "      <td>26</td>\n",
       "      <td>Сочи</td>\n",
       "      <td>free</td>\n",
       "    </tr>\n",
       "    <tr>\n",
       "      <th>1562</th>\n",
       "      <td>307</td>\n",
       "      <td>Ясмина</td>\n",
       "      <td>19</td>\n",
       "      <td>Краснодар</td>\n",
       "      <td>ultra</td>\n",
       "    </tr>\n",
       "    <tr>\n",
       "      <th>1563</th>\n",
       "      <td>47</td>\n",
       "      <td>Юрий</td>\n",
       "      <td>28</td>\n",
       "      <td>Тюмень</td>\n",
       "      <td>ultra</td>\n",
       "    </tr>\n",
       "    <tr>\n",
       "      <th>1564</th>\n",
       "      <td>1045</td>\n",
       "      <td>Артемий</td>\n",
       "      <td>28</td>\n",
       "      <td>Ростов-на-Дону</td>\n",
       "      <td>free</td>\n",
       "    </tr>\n",
       "  </tbody>\n",
       "</table>\n",
       "</div>"
      ],
      "text/plain": [
       "      user_id     name  age            city subscription_type\n",
       "1560      829    Федор   29       Пятигорск              free\n",
       "1561      809     Юрий   26            Сочи              free\n",
       "1562      307   Ясмина   19       Краснодар             ultra\n",
       "1563       47     Юрий   28          Тюмень             ultra\n",
       "1564     1045  Артемий   28  Ростов-на-Дону              free"
      ]
     },
     "execution_count": 4,
     "metadata": {},
     "output_type": "execute_result"
    }
   ],
   "source": [
    "# выведем на экран последние 5 строк датафрейма \n",
    "df_users.tail()"
   ]
  },
  {
   "cell_type": "code",
   "execution_count": 5,
   "id": "1e0826db",
   "metadata": {},
   "outputs": [],
   "source": [
    "#  Используем конструкцию try-except: \n",
    "   \n",
    "try:\n",
    "\n",
    "    df_rides = pd.read_csv('/datasets/rides_go.csv', sep = ',') \n",
    "       \n",
    "except: \n",
    "  \n",
    "    df_rides = pd.read_csv('C:\\\\Users\\\\user\\\\Downloads\\\\rides_go.csv', sep = ',')\n",
    " "
   ]
  },
  {
   "cell_type": "code",
   "execution_count": 6,
   "id": "d1dc9c37",
   "metadata": {},
   "outputs": [
    {
     "data": {
      "text/html": [
       "<div>\n",
       "<style scoped>\n",
       "    .dataframe tbody tr th:only-of-type {\n",
       "        vertical-align: middle;\n",
       "    }\n",
       "\n",
       "    .dataframe tbody tr th {\n",
       "        vertical-align: top;\n",
       "    }\n",
       "\n",
       "    .dataframe thead th {\n",
       "        text-align: right;\n",
       "    }\n",
       "</style>\n",
       "<table border=\"1\" class=\"dataframe\">\n",
       "  <thead>\n",
       "    <tr style=\"text-align: right;\">\n",
       "      <th></th>\n",
       "      <th>user_id</th>\n",
       "      <th>distance</th>\n",
       "      <th>duration</th>\n",
       "      <th>date</th>\n",
       "    </tr>\n",
       "  </thead>\n",
       "  <tbody>\n",
       "    <tr>\n",
       "      <th>0</th>\n",
       "      <td>1</td>\n",
       "      <td>4409.919140</td>\n",
       "      <td>25.599769</td>\n",
       "      <td>2021-01-01</td>\n",
       "    </tr>\n",
       "    <tr>\n",
       "      <th>1</th>\n",
       "      <td>1</td>\n",
       "      <td>2617.592153</td>\n",
       "      <td>15.816871</td>\n",
       "      <td>2021-01-18</td>\n",
       "    </tr>\n",
       "    <tr>\n",
       "      <th>2</th>\n",
       "      <td>1</td>\n",
       "      <td>754.159807</td>\n",
       "      <td>6.232113</td>\n",
       "      <td>2021-04-20</td>\n",
       "    </tr>\n",
       "    <tr>\n",
       "      <th>3</th>\n",
       "      <td>1</td>\n",
       "      <td>2694.783254</td>\n",
       "      <td>18.511000</td>\n",
       "      <td>2021-08-11</td>\n",
       "    </tr>\n",
       "    <tr>\n",
       "      <th>4</th>\n",
       "      <td>1</td>\n",
       "      <td>4028.687306</td>\n",
       "      <td>26.265803</td>\n",
       "      <td>2021-08-28</td>\n",
       "    </tr>\n",
       "  </tbody>\n",
       "</table>\n",
       "</div>"
      ],
      "text/plain": [
       "   user_id     distance   duration        date\n",
       "0        1  4409.919140  25.599769  2021-01-01\n",
       "1        1  2617.592153  15.816871  2021-01-18\n",
       "2        1   754.159807   6.232113  2021-04-20\n",
       "3        1  2694.783254  18.511000  2021-08-11\n",
       "4        1  4028.687306  26.265803  2021-08-28"
      ]
     },
     "execution_count": 6,
     "metadata": {},
     "output_type": "execute_result"
    }
   ],
   "source": [
    "# выведем на экран первые пять строк датафрейма \n",
    "df_rides.head() "
   ]
  },
  {
   "cell_type": "code",
   "execution_count": 7,
   "id": "6b6a8af1",
   "metadata": {},
   "outputs": [
    {
     "data": {
      "text/html": [
       "<div>\n",
       "<style scoped>\n",
       "    .dataframe tbody tr th:only-of-type {\n",
       "        vertical-align: middle;\n",
       "    }\n",
       "\n",
       "    .dataframe tbody tr th {\n",
       "        vertical-align: top;\n",
       "    }\n",
       "\n",
       "    .dataframe thead th {\n",
       "        text-align: right;\n",
       "    }\n",
       "</style>\n",
       "<table border=\"1\" class=\"dataframe\">\n",
       "  <thead>\n",
       "    <tr style=\"text-align: right;\">\n",
       "      <th></th>\n",
       "      <th>user_id</th>\n",
       "      <th>distance</th>\n",
       "      <th>duration</th>\n",
       "      <th>date</th>\n",
       "    </tr>\n",
       "  </thead>\n",
       "  <tbody>\n",
       "    <tr>\n",
       "      <th>0</th>\n",
       "      <td>1</td>\n",
       "      <td>4409.919140</td>\n",
       "      <td>25.599769</td>\n",
       "      <td>2021-01-01</td>\n",
       "    </tr>\n",
       "    <tr>\n",
       "      <th>1</th>\n",
       "      <td>1</td>\n",
       "      <td>2617.592153</td>\n",
       "      <td>15.816871</td>\n",
       "      <td>2021-01-18</td>\n",
       "    </tr>\n",
       "    <tr>\n",
       "      <th>2</th>\n",
       "      <td>1</td>\n",
       "      <td>754.159807</td>\n",
       "      <td>6.232113</td>\n",
       "      <td>2021-04-20</td>\n",
       "    </tr>\n",
       "    <tr>\n",
       "      <th>3</th>\n",
       "      <td>1</td>\n",
       "      <td>2694.783254</td>\n",
       "      <td>18.511000</td>\n",
       "      <td>2021-08-11</td>\n",
       "    </tr>\n",
       "    <tr>\n",
       "      <th>4</th>\n",
       "      <td>1</td>\n",
       "      <td>4028.687306</td>\n",
       "      <td>26.265803</td>\n",
       "      <td>2021-08-28</td>\n",
       "    </tr>\n",
       "  </tbody>\n",
       "</table>\n",
       "</div>"
      ],
      "text/plain": [
       "   user_id     distance   duration        date\n",
       "0        1  4409.919140  25.599769  2021-01-01\n",
       "1        1  2617.592153  15.816871  2021-01-18\n",
       "2        1   754.159807   6.232113  2021-04-20\n",
       "3        1  2694.783254  18.511000  2021-08-11\n",
       "4        1  4028.687306  26.265803  2021-08-28"
      ]
     },
     "execution_count": 7,
     "metadata": {},
     "output_type": "execute_result"
    }
   ],
   "source": [
    "# выведем на экран последние пять строк датафрейма \n",
    "df_rides.head() "
   ]
  },
  {
   "cell_type": "code",
   "execution_count": 8,
   "id": "0f3eb1ec",
   "metadata": {},
   "outputs": [],
   "source": [
    "#  Используем конструкцию try-except: \n",
    "   \n",
    "try: \n",
    "\n",
    "    df_subscriptions = pd.read_csv('/datasets/subscriptions_go.csv', sep = ',') \n",
    "       \n",
    "except: \n",
    "  \n",
    "    df_subscriptions = pd.read_csv('C:\\\\Users\\\\user\\\\Downloads\\\\subscriptions_go.csv', sep = ',')"
   ]
  },
  {
   "cell_type": "code",
   "execution_count": 9,
   "id": "08be1d88",
   "metadata": {},
   "outputs": [
    {
     "data": {
      "text/html": [
       "<div>\n",
       "<style scoped>\n",
       "    .dataframe tbody tr th:only-of-type {\n",
       "        vertical-align: middle;\n",
       "    }\n",
       "\n",
       "    .dataframe tbody tr th {\n",
       "        vertical-align: top;\n",
       "    }\n",
       "\n",
       "    .dataframe thead th {\n",
       "        text-align: right;\n",
       "    }\n",
       "</style>\n",
       "<table border=\"1\" class=\"dataframe\">\n",
       "  <thead>\n",
       "    <tr style=\"text-align: right;\">\n",
       "      <th></th>\n",
       "      <th>subscription_type</th>\n",
       "      <th>minute_price</th>\n",
       "      <th>start_ride_price</th>\n",
       "      <th>subscription_fee</th>\n",
       "    </tr>\n",
       "  </thead>\n",
       "  <tbody>\n",
       "    <tr>\n",
       "      <th>0</th>\n",
       "      <td>free</td>\n",
       "      <td>8</td>\n",
       "      <td>50</td>\n",
       "      <td>0</td>\n",
       "    </tr>\n",
       "    <tr>\n",
       "      <th>1</th>\n",
       "      <td>ultra</td>\n",
       "      <td>6</td>\n",
       "      <td>0</td>\n",
       "      <td>199</td>\n",
       "    </tr>\n",
       "  </tbody>\n",
       "</table>\n",
       "</div>"
      ],
      "text/plain": [
       "  subscription_type  minute_price  start_ride_price  subscription_fee\n",
       "0              free             8                50                 0\n",
       "1             ultra             6                 0               199"
      ]
     },
     "execution_count": 9,
     "metadata": {},
     "output_type": "execute_result"
    }
   ],
   "source": [
    "# выведем на экран первые пять строк датафрейма \n",
    "df_subscriptions"
   ]
  },
  {
   "cell_type": "markdown",
   "id": "e6c0d516",
   "metadata": {},
   "source": [
    "  ## 5  1.2 Выведем первые строки каждого набора данных. Изучим общую информацию о каждом датафрейме."
   ]
  },
  {
   "cell_type": "code",
   "execution_count": 10,
   "id": "bd7b4bca",
   "metadata": {},
   "outputs": [
    {
     "data": {
      "text/html": [
       "<div>\n",
       "<style scoped>\n",
       "    .dataframe tbody tr th:only-of-type {\n",
       "        vertical-align: middle;\n",
       "    }\n",
       "\n",
       "    .dataframe tbody tr th {\n",
       "        vertical-align: top;\n",
       "    }\n",
       "\n",
       "    .dataframe thead th {\n",
       "        text-align: right;\n",
       "    }\n",
       "</style>\n",
       "<table border=\"1\" class=\"dataframe\">\n",
       "  <thead>\n",
       "    <tr style=\"text-align: right;\">\n",
       "      <th></th>\n",
       "      <th>user_id</th>\n",
       "      <th>name</th>\n",
       "      <th>age</th>\n",
       "      <th>city</th>\n",
       "      <th>subscription_type</th>\n",
       "    </tr>\n",
       "  </thead>\n",
       "  <tbody>\n",
       "    <tr>\n",
       "      <th>0</th>\n",
       "      <td>1</td>\n",
       "      <td>Кира</td>\n",
       "      <td>22</td>\n",
       "      <td>Тюмень</td>\n",
       "      <td>ultra</td>\n",
       "    </tr>\n",
       "    <tr>\n",
       "      <th>1</th>\n",
       "      <td>2</td>\n",
       "      <td>Станислав</td>\n",
       "      <td>31</td>\n",
       "      <td>Омск</td>\n",
       "      <td>ultra</td>\n",
       "    </tr>\n",
       "    <tr>\n",
       "      <th>2</th>\n",
       "      <td>3</td>\n",
       "      <td>Алексей</td>\n",
       "      <td>20</td>\n",
       "      <td>Москва</td>\n",
       "      <td>ultra</td>\n",
       "    </tr>\n",
       "    <tr>\n",
       "      <th>3</th>\n",
       "      <td>4</td>\n",
       "      <td>Константин</td>\n",
       "      <td>26</td>\n",
       "      <td>Ростов-на-Дону</td>\n",
       "      <td>ultra</td>\n",
       "    </tr>\n",
       "    <tr>\n",
       "      <th>4</th>\n",
       "      <td>5</td>\n",
       "      <td>Адель</td>\n",
       "      <td>28</td>\n",
       "      <td>Омск</td>\n",
       "      <td>ultra</td>\n",
       "    </tr>\n",
       "    <tr>\n",
       "      <th>5</th>\n",
       "      <td>6</td>\n",
       "      <td>Регина</td>\n",
       "      <td>25</td>\n",
       "      <td>Краснодар</td>\n",
       "      <td>ultra</td>\n",
       "    </tr>\n",
       "    <tr>\n",
       "      <th>6</th>\n",
       "      <td>7</td>\n",
       "      <td>Игорь</td>\n",
       "      <td>23</td>\n",
       "      <td>Омск</td>\n",
       "      <td>ultra</td>\n",
       "    </tr>\n",
       "    <tr>\n",
       "      <th>7</th>\n",
       "      <td>8</td>\n",
       "      <td>Юрий</td>\n",
       "      <td>23</td>\n",
       "      <td>Краснодар</td>\n",
       "      <td>ultra</td>\n",
       "    </tr>\n",
       "    <tr>\n",
       "      <th>8</th>\n",
       "      <td>9</td>\n",
       "      <td>Ян</td>\n",
       "      <td>21</td>\n",
       "      <td>Пятигорск</td>\n",
       "      <td>ultra</td>\n",
       "    </tr>\n",
       "    <tr>\n",
       "      <th>9</th>\n",
       "      <td>10</td>\n",
       "      <td>Валерий</td>\n",
       "      <td>18</td>\n",
       "      <td>Екатеринбург</td>\n",
       "      <td>ultra</td>\n",
       "    </tr>\n",
       "  </tbody>\n",
       "</table>\n",
       "</div>"
      ],
      "text/plain": [
       "   user_id        name  age            city subscription_type\n",
       "0        1        Кира   22          Тюмень             ultra\n",
       "1        2   Станислав   31            Омск             ultra\n",
       "2        3     Алексей   20          Москва             ultra\n",
       "3        4  Константин   26  Ростов-на-Дону             ultra\n",
       "4        5       Адель   28            Омск             ultra\n",
       "5        6      Регина   25       Краснодар             ultra\n",
       "6        7       Игорь   23            Омск             ultra\n",
       "7        8        Юрий   23       Краснодар             ultra\n",
       "8        9          Ян   21       Пятигорск             ultra\n",
       "9       10     Валерий   18    Екатеринбург             ultra"
      ]
     },
     "execution_count": 10,
     "metadata": {},
     "output_type": "execute_result"
    }
   ],
   "source": [
    "# Изучим датафрейм df_users, где содержится информация о пользователях сервиса аренды самокатов GoFast. Выведем на экран первые 10 строк датафрейма\n",
    "df_users.head(10)"
   ]
  },
  {
   "cell_type": "code",
   "execution_count": 11,
   "id": "2c8c0cdf",
   "metadata": {},
   "outputs": [
    {
     "data": {
      "text/plain": [
       "1565"
      ]
     },
     "execution_count": 11,
     "metadata": {},
     "output_type": "execute_result"
    }
   ],
   "source": [
    "# Посчитаем количество строк датафрейма df_users\n",
    "len(df_users)\n"
   ]
  },
  {
   "cell_type": "markdown",
   "id": "4380e23d",
   "metadata": {},
   "source": [
    "    В нашем датафрейме есть 5 столбцов и 1565 строк. Столбец user_id означает уникальный идентификатор пользователя. В столбце name содержится имя пользователя. В столбце age - возраст, в city - информация о городе пользователя, в столбце subsription_type информация о типе подписки(free, ultra). "
   ]
  },
  {
   "cell_type": "code",
   "execution_count": 12,
   "id": "a8177a78",
   "metadata": {},
   "outputs": [
    {
     "data": {
      "text/html": [
       "<div>\n",
       "<style scoped>\n",
       "    .dataframe tbody tr th:only-of-type {\n",
       "        vertical-align: middle;\n",
       "    }\n",
       "\n",
       "    .dataframe tbody tr th {\n",
       "        vertical-align: top;\n",
       "    }\n",
       "\n",
       "    .dataframe thead th {\n",
       "        text-align: right;\n",
       "    }\n",
       "</style>\n",
       "<table border=\"1\" class=\"dataframe\">\n",
       "  <thead>\n",
       "    <tr style=\"text-align: right;\">\n",
       "      <th></th>\n",
       "      <th>user_id</th>\n",
       "      <th>name</th>\n",
       "      <th>age</th>\n",
       "      <th>city</th>\n",
       "      <th>subscription_type</th>\n",
       "    </tr>\n",
       "  </thead>\n",
       "  <tbody>\n",
       "    <tr>\n",
       "      <th>1267</th>\n",
       "      <td>1268</td>\n",
       "      <td>Юлия</td>\n",
       "      <td>26</td>\n",
       "      <td>Краснодар</td>\n",
       "      <td>free</td>\n",
       "    </tr>\n",
       "    <tr>\n",
       "      <th>894</th>\n",
       "      <td>895</td>\n",
       "      <td>Мирон</td>\n",
       "      <td>25</td>\n",
       "      <td>Сочи</td>\n",
       "      <td>free</td>\n",
       "    </tr>\n",
       "    <tr>\n",
       "      <th>270</th>\n",
       "      <td>271</td>\n",
       "      <td>Эмилия</td>\n",
       "      <td>22</td>\n",
       "      <td>Пятигорск</td>\n",
       "      <td>ultra</td>\n",
       "    </tr>\n",
       "    <tr>\n",
       "      <th>1086</th>\n",
       "      <td>1087</td>\n",
       "      <td>Петр</td>\n",
       "      <td>29</td>\n",
       "      <td>Ростов-на-Дону</td>\n",
       "      <td>free</td>\n",
       "    </tr>\n",
       "    <tr>\n",
       "      <th>1441</th>\n",
       "      <td>1442</td>\n",
       "      <td>Виктор</td>\n",
       "      <td>33</td>\n",
       "      <td>Екатеринбург</td>\n",
       "      <td>free</td>\n",
       "    </tr>\n",
       "    <tr>\n",
       "      <th>1016</th>\n",
       "      <td>1017</td>\n",
       "      <td>Марина</td>\n",
       "      <td>25</td>\n",
       "      <td>Екатеринбург</td>\n",
       "      <td>free</td>\n",
       "    </tr>\n",
       "    <tr>\n",
       "      <th>572</th>\n",
       "      <td>573</td>\n",
       "      <td>Петр</td>\n",
       "      <td>23</td>\n",
       "      <td>Краснодар</td>\n",
       "      <td>ultra</td>\n",
       "    </tr>\n",
       "    <tr>\n",
       "      <th>1350</th>\n",
       "      <td>1351</td>\n",
       "      <td>Захар</td>\n",
       "      <td>22</td>\n",
       "      <td>Ростов-на-Дону</td>\n",
       "      <td>free</td>\n",
       "    </tr>\n",
       "    <tr>\n",
       "      <th>1541</th>\n",
       "      <td>659</td>\n",
       "      <td>Злата</td>\n",
       "      <td>27</td>\n",
       "      <td>Ростов-на-Дону</td>\n",
       "      <td>ultra</td>\n",
       "    </tr>\n",
       "    <tr>\n",
       "      <th>920</th>\n",
       "      <td>921</td>\n",
       "      <td>Артур</td>\n",
       "      <td>28</td>\n",
       "      <td>Омск</td>\n",
       "      <td>free</td>\n",
       "    </tr>\n",
       "  </tbody>\n",
       "</table>\n",
       "</div>"
      ],
      "text/plain": [
       "      user_id    name  age            city subscription_type\n",
       "1267     1268    Юлия   26       Краснодар              free\n",
       "894       895   Мирон   25            Сочи              free\n",
       "270       271  Эмилия   22       Пятигорск             ultra\n",
       "1086     1087    Петр   29  Ростов-на-Дону              free\n",
       "1441     1442  Виктор   33    Екатеринбург              free\n",
       "1016     1017  Марина   25    Екатеринбург              free\n",
       "572       573    Петр   23       Краснодар             ultra\n",
       "1350     1351   Захар   22  Ростов-на-Дону              free\n",
       "1541      659   Злата   27  Ростов-на-Дону             ultra\n",
       "920       921   Артур   28            Омск              free"
      ]
     },
     "execution_count": 12,
     "metadata": {},
     "output_type": "execute_result"
    }
   ],
   "source": [
    "# Выведем 10 случайных строк датафрейма с помощью метода sample()\n",
    "df_users.sample(random_state=1, n=10) "
   ]
  },
  {
   "cell_type": "code",
   "execution_count": 13,
   "id": "0c745359",
   "metadata": {},
   "outputs": [
    {
     "name": "stdout",
     "output_type": "stream",
     "text": [
      "<class 'pandas.core.frame.DataFrame'>\n",
      "RangeIndex: 1565 entries, 0 to 1564\n",
      "Data columns (total 5 columns):\n",
      " #   Column             Non-Null Count  Dtype \n",
      "---  ------             --------------  ----- \n",
      " 0   user_id            1565 non-null   int64 \n",
      " 1   name               1565 non-null   object\n",
      " 2   age                1565 non-null   int64 \n",
      " 3   city               1565 non-null   object\n",
      " 4   subscription_type  1565 non-null   object\n",
      "dtypes: int64(2), object(3)\n",
      "memory usage: 61.3+ KB\n"
     ]
    }
   ],
   "source": [
    "# Изучим общую информацию о датасете с помощью метода info() и ознакомимся с типом данных.\n",
    "df_users.info()\n",
    "    "
   ]
  },
  {
   "cell_type": "markdown",
   "id": "878314ed",
   "metadata": {},
   "source": [
    "     Видим, что общий объем хранимых в датасете данных составил 61.3 килобайта. Всего три столбца с типом данных object(name, city, subsription_type) и 2 столбца с целочисленным типом данных int(user_id, age)"
   ]
  },
  {
   "cell_type": "code",
   "execution_count": 14,
   "id": "573b12c7",
   "metadata": {},
   "outputs": [
    {
     "data": {
      "text/html": [
       "<div>\n",
       "<style scoped>\n",
       "    .dataframe tbody tr th:only-of-type {\n",
       "        vertical-align: middle;\n",
       "    }\n",
       "\n",
       "    .dataframe tbody tr th {\n",
       "        vertical-align: top;\n",
       "    }\n",
       "\n",
       "    .dataframe thead th {\n",
       "        text-align: right;\n",
       "    }\n",
       "</style>\n",
       "<table border=\"1\" class=\"dataframe\">\n",
       "  <thead>\n",
       "    <tr style=\"text-align: right;\">\n",
       "      <th></th>\n",
       "      <th>user_id</th>\n",
       "      <th>distance</th>\n",
       "      <th>duration</th>\n",
       "      <th>date</th>\n",
       "    </tr>\n",
       "  </thead>\n",
       "  <tbody>\n",
       "    <tr>\n",
       "      <th>0</th>\n",
       "      <td>1</td>\n",
       "      <td>4409.919140</td>\n",
       "      <td>25.599769</td>\n",
       "      <td>2021-01-01</td>\n",
       "    </tr>\n",
       "    <tr>\n",
       "      <th>1</th>\n",
       "      <td>1</td>\n",
       "      <td>2617.592153</td>\n",
       "      <td>15.816871</td>\n",
       "      <td>2021-01-18</td>\n",
       "    </tr>\n",
       "    <tr>\n",
       "      <th>2</th>\n",
       "      <td>1</td>\n",
       "      <td>754.159807</td>\n",
       "      <td>6.232113</td>\n",
       "      <td>2021-04-20</td>\n",
       "    </tr>\n",
       "    <tr>\n",
       "      <th>3</th>\n",
       "      <td>1</td>\n",
       "      <td>2694.783254</td>\n",
       "      <td>18.511000</td>\n",
       "      <td>2021-08-11</td>\n",
       "    </tr>\n",
       "    <tr>\n",
       "      <th>4</th>\n",
       "      <td>1</td>\n",
       "      <td>4028.687306</td>\n",
       "      <td>26.265803</td>\n",
       "      <td>2021-08-28</td>\n",
       "    </tr>\n",
       "    <tr>\n",
       "      <th>5</th>\n",
       "      <td>1</td>\n",
       "      <td>2770.890808</td>\n",
       "      <td>16.650138</td>\n",
       "      <td>2021-10-09</td>\n",
       "    </tr>\n",
       "    <tr>\n",
       "      <th>6</th>\n",
       "      <td>1</td>\n",
       "      <td>3039.020292</td>\n",
       "      <td>14.927879</td>\n",
       "      <td>2021-10-19</td>\n",
       "    </tr>\n",
       "    <tr>\n",
       "      <th>7</th>\n",
       "      <td>1</td>\n",
       "      <td>2842.118050</td>\n",
       "      <td>23.117468</td>\n",
       "      <td>2021-11-06</td>\n",
       "    </tr>\n",
       "    <tr>\n",
       "      <th>8</th>\n",
       "      <td>1</td>\n",
       "      <td>3412.690668</td>\n",
       "      <td>15.238072</td>\n",
       "      <td>2021-11-14</td>\n",
       "    </tr>\n",
       "    <tr>\n",
       "      <th>9</th>\n",
       "      <td>1</td>\n",
       "      <td>748.690645</td>\n",
       "      <td>15.041884</td>\n",
       "      <td>2021-11-22</td>\n",
       "    </tr>\n",
       "  </tbody>\n",
       "</table>\n",
       "</div>"
      ],
      "text/plain": [
       "   user_id     distance   duration        date\n",
       "0        1  4409.919140  25.599769  2021-01-01\n",
       "1        1  2617.592153  15.816871  2021-01-18\n",
       "2        1   754.159807   6.232113  2021-04-20\n",
       "3        1  2694.783254  18.511000  2021-08-11\n",
       "4        1  4028.687306  26.265803  2021-08-28\n",
       "5        1  2770.890808  16.650138  2021-10-09\n",
       "6        1  3039.020292  14.927879  2021-10-19\n",
       "7        1  2842.118050  23.117468  2021-11-06\n",
       "8        1  3412.690668  15.238072  2021-11-14\n",
       "9        1   748.690645  15.041884  2021-11-22"
      ]
     },
     "execution_count": 14,
     "metadata": {},
     "output_type": "execute_result"
    }
   ],
   "source": [
    "# Изучим датафрейм df_rides, где содержится информация о поездках пользователей. Выведем на экран первые 10 строк датафрейма.\n",
    "df_rides.head(10)"
   ]
  },
  {
   "cell_type": "code",
   "execution_count": 15,
   "id": "f190e175",
   "metadata": {},
   "outputs": [
    {
     "data": {
      "text/plain": [
       "18068"
      ]
     },
     "execution_count": 15,
     "metadata": {},
     "output_type": "execute_result"
    }
   ],
   "source": [
    "# Посчитаем количество строк в таблице df_rides \n",
    "len(df_rides)"
   ]
  },
  {
   "cell_type": "markdown",
   "id": "2c4a105e",
   "metadata": {},
   "source": [
    "    В датасете всего 4 столбца и 18068 строк. Столбец user_id мы описали ранее и знаем, что это идентификационный номер пользователя. Столбец distance отображает расстояние, которое пользователь проехал в текущей сессии (в метрах). В столбце duration содержится информация о продолжительности сессии (в минутах). В столбце date хранится информация о дате совершения поездки."
   ]
  },
  {
   "cell_type": "code",
   "execution_count": 16,
   "id": "e506a4de",
   "metadata": {},
   "outputs": [
    {
     "data": {
      "text/html": [
       "<div>\n",
       "<style scoped>\n",
       "    .dataframe tbody tr th:only-of-type {\n",
       "        vertical-align: middle;\n",
       "    }\n",
       "\n",
       "    .dataframe tbody tr th {\n",
       "        vertical-align: top;\n",
       "    }\n",
       "\n",
       "    .dataframe thead th {\n",
       "        text-align: right;\n",
       "    }\n",
       "</style>\n",
       "<table border=\"1\" class=\"dataframe\">\n",
       "  <thead>\n",
       "    <tr style=\"text-align: right;\">\n",
       "      <th></th>\n",
       "      <th>user_id</th>\n",
       "      <th>distance</th>\n",
       "      <th>duration</th>\n",
       "      <th>date</th>\n",
       "    </tr>\n",
       "  </thead>\n",
       "  <tbody>\n",
       "    <tr>\n",
       "      <th>4019</th>\n",
       "      <td>433</td>\n",
       "      <td>2594.466053</td>\n",
       "      <td>20.783398</td>\n",
       "      <td>2021-07-06</td>\n",
       "    </tr>\n",
       "    <tr>\n",
       "      <th>9183</th>\n",
       "      <td>900</td>\n",
       "      <td>2579.925628</td>\n",
       "      <td>16.674721</td>\n",
       "      <td>2021-03-10</td>\n",
       "    </tr>\n",
       "    <tr>\n",
       "      <th>7401</th>\n",
       "      <td>763</td>\n",
       "      <td>3961.775902</td>\n",
       "      <td>20.804843</td>\n",
       "      <td>2021-09-25</td>\n",
       "    </tr>\n",
       "    <tr>\n",
       "      <th>6864</th>\n",
       "      <td>725</td>\n",
       "      <td>4399.454704</td>\n",
       "      <td>27.597819</td>\n",
       "      <td>2021-03-13</td>\n",
       "    </tr>\n",
       "    <tr>\n",
       "      <th>9655</th>\n",
       "      <td>934</td>\n",
       "      <td>4351.662178</td>\n",
       "      <td>17.054987</td>\n",
       "      <td>2021-10-25</td>\n",
       "    </tr>\n",
       "    <tr>\n",
       "      <th>2985</th>\n",
       "      <td>320</td>\n",
       "      <td>2259.390484</td>\n",
       "      <td>17.296952</td>\n",
       "      <td>2021-07-21</td>\n",
       "    </tr>\n",
       "    <tr>\n",
       "      <th>17507</th>\n",
       "      <td>1496</td>\n",
       "      <td>3655.491488</td>\n",
       "      <td>26.621966</td>\n",
       "      <td>2021-04-01</td>\n",
       "    </tr>\n",
       "    <tr>\n",
       "      <th>3736</th>\n",
       "      <td>402</td>\n",
       "      <td>3597.737317</td>\n",
       "      <td>26.604941</td>\n",
       "      <td>2021-04-16</td>\n",
       "    </tr>\n",
       "    <tr>\n",
       "      <th>12187</th>\n",
       "      <td>1115</td>\n",
       "      <td>2566.991879</td>\n",
       "      <td>23.834959</td>\n",
       "      <td>2021-07-22</td>\n",
       "    </tr>\n",
       "    <tr>\n",
       "      <th>6531</th>\n",
       "      <td>701</td>\n",
       "      <td>4196.445201</td>\n",
       "      <td>0.500000</td>\n",
       "      <td>2021-08-31</td>\n",
       "    </tr>\n",
       "  </tbody>\n",
       "</table>\n",
       "</div>"
      ],
      "text/plain": [
       "       user_id     distance   duration        date\n",
       "4019       433  2594.466053  20.783398  2021-07-06\n",
       "9183       900  2579.925628  16.674721  2021-03-10\n",
       "7401       763  3961.775902  20.804843  2021-09-25\n",
       "6864       725  4399.454704  27.597819  2021-03-13\n",
       "9655       934  4351.662178  17.054987  2021-10-25\n",
       "2985       320  2259.390484  17.296952  2021-07-21\n",
       "17507     1496  3655.491488  26.621966  2021-04-01\n",
       "3736       402  3597.737317  26.604941  2021-04-16\n",
       "12187     1115  2566.991879  23.834959  2021-07-22\n",
       "6531       701  4196.445201   0.500000  2021-08-31"
      ]
     },
     "execution_count": 16,
     "metadata": {},
     "output_type": "execute_result"
    }
   ],
   "source": [
    "# Выведем 10 случайных строк датафрейма с помощью метода sample()\n",
    "df_rides.sample(random_state = 1, n=10)\n"
   ]
  },
  {
   "cell_type": "code",
   "execution_count": 17,
   "id": "4e763aaf",
   "metadata": {},
   "outputs": [
    {
     "name": "stdout",
     "output_type": "stream",
     "text": [
      "<class 'pandas.core.frame.DataFrame'>\n",
      "RangeIndex: 18068 entries, 0 to 18067\n",
      "Data columns (total 4 columns):\n",
      " #   Column    Non-Null Count  Dtype  \n",
      "---  ------    --------------  -----  \n",
      " 0   user_id   18068 non-null  int64  \n",
      " 1   distance  18068 non-null  float64\n",
      " 2   duration  18068 non-null  float64\n",
      " 3   date      18068 non-null  object \n",
      "dtypes: float64(2), int64(1), object(1)\n",
      "memory usage: 564.8+ KB\n"
     ]
    }
   ],
   "source": [
    "# Ознакомимся с типом данных и изучим общую информацию о датафрейме \n",
    "df_rides.info()"
   ]
  },
  {
   "cell_type": "markdown",
   "id": "20f965e5",
   "metadata": {},
   "source": [
    "     Видим, что объём хранимых в датасете данных составил 564.8 килобайт. 1 столбец относится к целочисленному типу данных int(user_id), 1 столбец принадлежит к типу данных object(date) , 2 столбца с вещественным типом данных float(distance, duration)"
   ]
  },
  {
   "cell_type": "code",
   "execution_count": 18,
   "id": "46d814bf",
   "metadata": {},
   "outputs": [
    {
     "data": {
      "text/html": [
       "<div>\n",
       "<style scoped>\n",
       "    .dataframe tbody tr th:only-of-type {\n",
       "        vertical-align: middle;\n",
       "    }\n",
       "\n",
       "    .dataframe tbody tr th {\n",
       "        vertical-align: top;\n",
       "    }\n",
       "\n",
       "    .dataframe thead th {\n",
       "        text-align: right;\n",
       "    }\n",
       "</style>\n",
       "<table border=\"1\" class=\"dataframe\">\n",
       "  <thead>\n",
       "    <tr style=\"text-align: right;\">\n",
       "      <th></th>\n",
       "      <th>subscription_type</th>\n",
       "      <th>minute_price</th>\n",
       "      <th>start_ride_price</th>\n",
       "      <th>subscription_fee</th>\n",
       "    </tr>\n",
       "  </thead>\n",
       "  <tbody>\n",
       "    <tr>\n",
       "      <th>0</th>\n",
       "      <td>free</td>\n",
       "      <td>8</td>\n",
       "      <td>50</td>\n",
       "      <td>0</td>\n",
       "    </tr>\n",
       "    <tr>\n",
       "      <th>1</th>\n",
       "      <td>ultra</td>\n",
       "      <td>6</td>\n",
       "      <td>0</td>\n",
       "      <td>199</td>\n",
       "    </tr>\n",
       "  </tbody>\n",
       "</table>\n",
       "</div>"
      ],
      "text/plain": [
       "  subscription_type  minute_price  start_ride_price  subscription_fee\n",
       "0              free             8                50                 0\n",
       "1             ultra             6                 0               199"
      ]
     },
     "execution_count": 18,
     "metadata": {},
     "output_type": "execute_result"
    }
   ],
   "source": [
    "# Изучим датафрейм df_subscriptions, в котором содержится информация о подписках пользователей\n",
    "df_subscriptions "
   ]
  },
  {
   "cell_type": "markdown",
   "id": "1b339013",
   "metadata": {},
   "source": [
    "    В датафрейме всего две строки и 4 столбца. В столбце subscription_type содержится информация о типе подписки, в столбце minute_price стоимость одной минуты поездки по данной подписке. В столбце start_ride_price отображается стоимость начала поездки. В столбце subscription_fee содержится информация о стоимости ежемесячного платежа. \n"
   ]
  },
  {
   "cell_type": "code",
   "execution_count": 19,
   "id": "67722ef7",
   "metadata": {},
   "outputs": [
    {
     "name": "stdout",
     "output_type": "stream",
     "text": [
      "<class 'pandas.core.frame.DataFrame'>\n",
      "RangeIndex: 2 entries, 0 to 1\n",
      "Data columns (total 4 columns):\n",
      " #   Column             Non-Null Count  Dtype \n",
      "---  ------             --------------  ----- \n",
      " 0   subscription_type  2 non-null      object\n",
      " 1   minute_price       2 non-null      int64 \n",
      " 2   start_ride_price   2 non-null      int64 \n",
      " 3   subscription_fee   2 non-null      int64 \n",
      "dtypes: int64(3), object(1)\n",
      "memory usage: 192.0+ bytes\n"
     ]
    }
   ],
   "source": [
    "df_subscriptions.info()"
   ]
  },
  {
   "cell_type": "markdown",
   "id": "cccc6533",
   "metadata": {},
   "source": [
    "    Объём хранимых в датасете данных составил  192 байта. Столбец subscription_type относится к типу данных object. Есть три столбца с целочисленным типом данных int(minute_price, start_ride_price, subscription_fee)"
   ]
  },
  {
   "cell_type": "markdown",
   "id": "b0dc0975",
   "metadata": {},
   "source": [
    "      Вывод: по итогам первичного знакомства данных я загрузил и  проанализировал 3 датафрейма df_users, df_rides, df_subscriptions, в которых содержится информация о пользователях, их поездках и подписках. Перейдем к следующему шагу исследования."
   ]
  },
  {
   "cell_type": "markdown",
   "id": "f01e2368",
   "metadata": {},
   "source": [
    "##  6  Шаг 2. Предобработка данных  "
   ]
  },
  {
   "cell_type": "markdown",
   "id": "013ed498",
   "metadata": {},
   "source": [
    "  ##  7 2.1 Приведём столбец date к типу даты Pandas."
   ]
  },
  {
   "cell_type": "code",
   "execution_count": 20,
   "id": "145acb91",
   "metadata": {},
   "outputs": [
    {
     "data": {
      "text/html": [
       "<div>\n",
       "<style scoped>\n",
       "    .dataframe tbody tr th:only-of-type {\n",
       "        vertical-align: middle;\n",
       "    }\n",
       "\n",
       "    .dataframe tbody tr th {\n",
       "        vertical-align: top;\n",
       "    }\n",
       "\n",
       "    .dataframe thead th {\n",
       "        text-align: right;\n",
       "    }\n",
       "</style>\n",
       "<table border=\"1\" class=\"dataframe\">\n",
       "  <thead>\n",
       "    <tr style=\"text-align: right;\">\n",
       "      <th></th>\n",
       "      <th>user_id</th>\n",
       "      <th>distance</th>\n",
       "      <th>duration</th>\n",
       "      <th>date</th>\n",
       "    </tr>\n",
       "  </thead>\n",
       "  <tbody>\n",
       "    <tr>\n",
       "      <th>0</th>\n",
       "      <td>1</td>\n",
       "      <td>4409.919140</td>\n",
       "      <td>25.599769</td>\n",
       "      <td>2021-01-01</td>\n",
       "    </tr>\n",
       "    <tr>\n",
       "      <th>1</th>\n",
       "      <td>1</td>\n",
       "      <td>2617.592153</td>\n",
       "      <td>15.816871</td>\n",
       "      <td>2021-01-18</td>\n",
       "    </tr>\n",
       "    <tr>\n",
       "      <th>2</th>\n",
       "      <td>1</td>\n",
       "      <td>754.159807</td>\n",
       "      <td>6.232113</td>\n",
       "      <td>2021-04-20</td>\n",
       "    </tr>\n",
       "    <tr>\n",
       "      <th>3</th>\n",
       "      <td>1</td>\n",
       "      <td>2694.783254</td>\n",
       "      <td>18.511000</td>\n",
       "      <td>2021-08-11</td>\n",
       "    </tr>\n",
       "    <tr>\n",
       "      <th>4</th>\n",
       "      <td>1</td>\n",
       "      <td>4028.687306</td>\n",
       "      <td>26.265803</td>\n",
       "      <td>2021-08-28</td>\n",
       "    </tr>\n",
       "  </tbody>\n",
       "</table>\n",
       "</div>"
      ],
      "text/plain": [
       "   user_id     distance   duration        date\n",
       "0        1  4409.919140  25.599769  2021-01-01\n",
       "1        1  2617.592153  15.816871  2021-01-18\n",
       "2        1   754.159807   6.232113  2021-04-20\n",
       "3        1  2694.783254  18.511000  2021-08-11\n",
       "4        1  4028.687306  26.265803  2021-08-28"
      ]
     },
     "execution_count": 20,
     "metadata": {},
     "output_type": "execute_result"
    }
   ],
   "source": [
    "df_rides.head(5)"
   ]
  },
  {
   "cell_type": "code",
   "execution_count": 21,
   "id": "c8f27a00",
   "metadata": {},
   "outputs": [],
   "source": [
    "df_rides['date'] = pd.to_datetime(df_rides['date'])"
   ]
  },
  {
   "cell_type": "code",
   "execution_count": 22,
   "id": "34259061",
   "metadata": {},
   "outputs": [
    {
     "name": "stdout",
     "output_type": "stream",
     "text": [
      "<class 'pandas.core.frame.DataFrame'>\n",
      "RangeIndex: 18068 entries, 0 to 18067\n",
      "Data columns (total 4 columns):\n",
      " #   Column    Non-Null Count  Dtype         \n",
      "---  ------    --------------  -----         \n",
      " 0   user_id   18068 non-null  int64         \n",
      " 1   distance  18068 non-null  float64       \n",
      " 2   duration  18068 non-null  float64       \n",
      " 3   date      18068 non-null  datetime64[ns]\n",
      "dtypes: datetime64[ns](1), float64(2), int64(1)\n",
      "memory usage: 564.8 KB\n"
     ]
    }
   ],
   "source": [
    "df_rides.info()"
   ]
  },
  {
   "cell_type": "markdown",
   "id": "504bd34b",
   "metadata": {},
   "source": [
    "  ## 8  2.2 Создадим новый столбец с номером месяца на основе столбца date."
   ]
  },
  {
   "cell_type": "code",
   "execution_count": 23,
   "id": "ac3d8966",
   "metadata": {},
   "outputs": [
    {
     "data": {
      "text/html": [
       "<div>\n",
       "<style scoped>\n",
       "    .dataframe tbody tr th:only-of-type {\n",
       "        vertical-align: middle;\n",
       "    }\n",
       "\n",
       "    .dataframe tbody tr th {\n",
       "        vertical-align: top;\n",
       "    }\n",
       "\n",
       "    .dataframe thead th {\n",
       "        text-align: right;\n",
       "    }\n",
       "</style>\n",
       "<table border=\"1\" class=\"dataframe\">\n",
       "  <thead>\n",
       "    <tr style=\"text-align: right;\">\n",
       "      <th></th>\n",
       "      <th>user_id</th>\n",
       "      <th>distance</th>\n",
       "      <th>duration</th>\n",
       "      <th>date</th>\n",
       "      <th>date_month</th>\n",
       "    </tr>\n",
       "  </thead>\n",
       "  <tbody>\n",
       "    <tr>\n",
       "      <th>0</th>\n",
       "      <td>1</td>\n",
       "      <td>4409.919140</td>\n",
       "      <td>25.599769</td>\n",
       "      <td>2021-01-01</td>\n",
       "      <td>1</td>\n",
       "    </tr>\n",
       "    <tr>\n",
       "      <th>1</th>\n",
       "      <td>1</td>\n",
       "      <td>2617.592153</td>\n",
       "      <td>15.816871</td>\n",
       "      <td>2021-01-18</td>\n",
       "      <td>1</td>\n",
       "    </tr>\n",
       "    <tr>\n",
       "      <th>2</th>\n",
       "      <td>1</td>\n",
       "      <td>754.159807</td>\n",
       "      <td>6.232113</td>\n",
       "      <td>2021-04-20</td>\n",
       "      <td>4</td>\n",
       "    </tr>\n",
       "    <tr>\n",
       "      <th>3</th>\n",
       "      <td>1</td>\n",
       "      <td>2694.783254</td>\n",
       "      <td>18.511000</td>\n",
       "      <td>2021-08-11</td>\n",
       "      <td>8</td>\n",
       "    </tr>\n",
       "    <tr>\n",
       "      <th>4</th>\n",
       "      <td>1</td>\n",
       "      <td>4028.687306</td>\n",
       "      <td>26.265803</td>\n",
       "      <td>2021-08-28</td>\n",
       "      <td>8</td>\n",
       "    </tr>\n",
       "  </tbody>\n",
       "</table>\n",
       "</div>"
      ],
      "text/plain": [
       "   user_id     distance   duration       date  date_month\n",
       "0        1  4409.919140  25.599769 2021-01-01           1\n",
       "1        1  2617.592153  15.816871 2021-01-18           1\n",
       "2        1   754.159807   6.232113 2021-04-20           4\n",
       "3        1  2694.783254  18.511000 2021-08-11           8\n",
       "4        1  4028.687306  26.265803 2021-08-28           8"
      ]
     },
     "execution_count": 23,
     "metadata": {},
     "output_type": "execute_result"
    }
   ],
   "source": [
    "df_rides['date_month'] = df_rides['date'].dt.month\n",
    "df_rides.head(5)"
   ]
  },
  {
   "cell_type": "markdown",
   "id": "d5821d6c",
   "metadata": {},
   "source": [
    " Проверим за какой период времени в нашем распоряжении  данные о датах совершения поездки. \n",
    "\n",
    "\n",
    "\n"
   ]
  },
  {
   "cell_type": "code",
   "execution_count": 24,
   "id": "f9f5451d",
   "metadata": {},
   "outputs": [
    {
     "data": {
      "text/plain": [
       "Timestamp('2021-01-01 00:00:00')"
      ]
     },
     "execution_count": 24,
     "metadata": {},
     "output_type": "execute_result"
    }
   ],
   "source": [
    "# Посмотрим когда появилось первое упоминание о дате совершения поездки \n",
    "df_rides['date'].min()"
   ]
  },
  {
   "cell_type": "code",
   "execution_count": 25,
   "id": "da79b9ef",
   "metadata": {},
   "outputs": [
    {
     "data": {
      "text/plain": [
       "Timestamp('2021-12-30 00:00:00')"
      ]
     },
     "execution_count": 25,
     "metadata": {},
     "output_type": "execute_result"
    }
   ],
   "source": [
    "# Посмотрим когда появилось последнее упоминание о дате совершения поездки \n",
    "df_rides['date'].max()"
   ]
  },
  {
   "cell_type": "markdown",
   "id": "c0a86940",
   "metadata": {},
   "source": [
    "    Таким образом, мы видим что в нашем распоряжении есть данные о совершении поездок пользователями в период с 01.01.2021 по 30.12.2021 "
   ]
  },
  {
   "cell_type": "markdown",
   "id": "694cc5b9",
   "metadata": {},
   "source": [
    "  ##  9  2.3 Проверим наличие пропущенных значений и дубликатов в датафреймах. Обработаем их, если такие значения присутствуют.\n"
   ]
  },
  {
   "cell_type": "markdown",
   "id": "2b7ab637",
   "metadata": {},
   "source": [
    "    Изучим пропущенные значения в столбцах. Перед тем, как начать предобработку данных проверим наш датафрейм на наличие явных дубликатов"
   ]
  },
  {
   "cell_type": "code",
   "execution_count": 26,
   "id": "d3c69392",
   "metadata": {},
   "outputs": [
    {
     "data": {
      "text/plain": [
       "31"
      ]
     },
     "execution_count": 26,
     "metadata": {},
     "output_type": "execute_result"
    }
   ],
   "source": [
    "df_users.duplicated().sum()"
   ]
  },
  {
   "cell_type": "markdown",
   "id": "0af42026",
   "metadata": {},
   "source": [
    "    Всего в датафрейме df_users 31 явный дубликат. Воспользуемся методом drop_duplicates() для удаления дубликатов. "
   ]
  },
  {
   "cell_type": "code",
   "execution_count": 27,
   "id": "428efd2a",
   "metadata": {},
   "outputs": [],
   "source": [
    "df_users = df_users.drop_duplicates()"
   ]
  },
  {
   "cell_type": "code",
   "execution_count": 28,
   "id": "a1d46403",
   "metadata": {},
   "outputs": [
    {
     "data": {
      "text/plain": [
       "1534"
      ]
     },
     "execution_count": 28,
     "metadata": {},
     "output_type": "execute_result"
    }
   ],
   "source": [
    "# Проверим, удалились ли дубликаты. Для этого посчитает количество строк в df_users\n",
    "len(df_users)"
   ]
  },
  {
   "cell_type": "markdown",
   "id": "6993fd8c",
   "metadata": {},
   "source": [
    "    Видим, что изначально строк было 1565, после удаления дубликатов строк стало ровно на 31 меньше и составило 1534. Значит, удаление дубликатов прошло успешно"
   ]
  },
  {
   "cell_type": "code",
   "execution_count": 29,
   "id": "34d9f197",
   "metadata": {},
   "outputs": [
    {
     "data": {
      "text/plain": [
       "user_id              0\n",
       "name                 0\n",
       "age                  0\n",
       "city                 0\n",
       "subscription_type    0\n",
       "dtype: int64"
      ]
     },
     "execution_count": 29,
     "metadata": {},
     "output_type": "execute_result"
    }
   ],
   "source": [
    "# Посчитаем количество пропущенных значений \n",
    "df_users.isna().sum()"
   ]
  },
  {
   "cell_type": "markdown",
   "id": "d510c4d2",
   "metadata": {},
   "source": [
    " В df_users нет пропущенных значений. Можно двигаться дальше. "
   ]
  },
  {
   "cell_type": "code",
   "execution_count": 30,
   "id": "ea2a734f",
   "metadata": {},
   "outputs": [
    {
     "data": {
      "text/plain": [
       "0"
      ]
     },
     "execution_count": 30,
     "metadata": {},
     "output_type": "execute_result"
    }
   ],
   "source": [
    "# Перейдём к набору данных df_rides. Проверим датафрейм на наличие явных дубликатов \n",
    "\n",
    "df_rides.duplicated().sum()"
   ]
  },
  {
   "cell_type": "markdown",
   "id": "f51cb937",
   "metadata": {},
   "source": [
    "    Явные дубликаты здесь отсутствуют. Посчитаем количество пропущенных значений."
   ]
  },
  {
   "cell_type": "code",
   "execution_count": 31,
   "id": "579dff67",
   "metadata": {},
   "outputs": [
    {
     "data": {
      "text/plain": [
       "user_id       0\n",
       "distance      0\n",
       "duration      0\n",
       "date          0\n",
       "date_month    0\n",
       "dtype: int64"
      ]
     },
     "execution_count": 31,
     "metadata": {},
     "output_type": "execute_result"
    }
   ],
   "source": [
    "df_rides.isna().sum()"
   ]
  },
  {
   "cell_type": "code",
   "execution_count": 32,
   "id": "3d311b98",
   "metadata": {},
   "outputs": [
    {
     "name": "stdout",
     "output_type": "stream",
     "text": [
      "<class 'pandas.core.frame.DataFrame'>\n",
      "RangeIndex: 18068 entries, 0 to 18067\n",
      "Data columns (total 5 columns):\n",
      " #   Column      Non-Null Count  Dtype         \n",
      "---  ------      --------------  -----         \n",
      " 0   user_id     18068 non-null  int64         \n",
      " 1   distance    18068 non-null  float64       \n",
      " 2   duration    18068 non-null  float64       \n",
      " 3   date        18068 non-null  datetime64[ns]\n",
      " 4   date_month  18068 non-null  int64         \n",
      "dtypes: datetime64[ns](1), float64(2), int64(2)\n",
      "memory usage: 705.9 KB\n"
     ]
    }
   ],
   "source": [
    "# Пропущенных значений нет.Изучим общую информацию о датафрейме\n",
    "df_rides.info()"
   ]
  },
  {
   "cell_type": "code",
   "execution_count": 33,
   "id": "dc54a2e9",
   "metadata": {},
   "outputs": [],
   "source": [
    "# С помощью метода потолок библиотеки numpy - np.ceil() округлим продолжительность каждой поездки\n",
    "df_rides['duration'] = np.ceil(df_rides['duration']) "
   ]
  },
  {
   "cell_type": "code",
   "execution_count": 34,
   "id": "15b9b6ef",
   "metadata": {},
   "outputs": [
    {
     "data": {
      "text/plain": [
       "0"
      ]
     },
     "execution_count": 34,
     "metadata": {},
     "output_type": "execute_result"
    }
   ],
   "source": [
    "# Изучим датафрейм df_subsсriptions на наличие явных дубликатов\n",
    "df_subscriptions.duplicated().sum()"
   ]
  },
  {
   "cell_type": "markdown",
   "id": "85365cb9",
   "metadata": {},
   "source": [
    "    Явных дубликатов нет . Посчитаем количество пропущенных значений."
   ]
  },
  {
   "cell_type": "code",
   "execution_count": 35,
   "id": "4f42c4f1",
   "metadata": {},
   "outputs": [
    {
     "data": {
      "text/plain": [
       "subscription_type    0\n",
       "minute_price         0\n",
       "start_ride_price     0\n",
       "subscription_fee     0\n",
       "dtype: int64"
      ]
     },
     "execution_count": 35,
     "metadata": {},
     "output_type": "execute_result"
    }
   ],
   "source": [
    "df_subscriptions.isna().sum()"
   ]
  },
  {
   "cell_type": "markdown",
   "id": "beb572e0",
   "metadata": {},
   "source": [
    "    Пропущенных значений не наблюдается. Изучим еще раз общую информацию о датафрейме. "
   ]
  },
  {
   "cell_type": "code",
   "execution_count": 36,
   "id": "5b403a3e",
   "metadata": {},
   "outputs": [
    {
     "name": "stdout",
     "output_type": "stream",
     "text": [
      "<class 'pandas.core.frame.DataFrame'>\n",
      "RangeIndex: 2 entries, 0 to 1\n",
      "Data columns (total 4 columns):\n",
      " #   Column             Non-Null Count  Dtype \n",
      "---  ------             --------------  ----- \n",
      " 0   subscription_type  2 non-null      object\n",
      " 1   minute_price       2 non-null      int64 \n",
      " 2   start_ride_price   2 non-null      int64 \n",
      " 3   subscription_fee   2 non-null      int64 \n",
      "dtypes: int64(3), object(1)\n",
      "memory usage: 192.0+ bytes\n"
     ]
    }
   ],
   "source": [
    "df_subscriptions.info()"
   ]
  },
  {
   "cell_type": "markdown",
   "id": "0e08db57",
   "metadata": {},
   "source": [
    "     Все столбцы соответствуют типам данных, в которых изначально были записаны."
   ]
  },
  {
   "cell_type": "markdown",
   "id": "3b4c4da0",
   "metadata": {},
   "source": [
    "Вывод по предобработке данных: \n",
    "\n",
    "Все выбранные столбцы были приведены к тому типу данных, который изначально планировался в данных столбцах. Перейдем к следующему шагу нашего исследования."
   ]
  },
  {
   "cell_type": "markdown",
   "id": "e2419a49",
   "metadata": {},
   "source": [
    "##  10   Шаг 3. Исследовательский анализ данных.\n",
    "### 10. 1 Опишем и визуализируем общую информацию о пользователях и поездках:"
   ]
  },
  {
   "cell_type": "markdown",
   "id": "6dd8fafc",
   "metadata": {},
   "source": [
    "    3.1. Частота встречаемости городов."
   ]
  },
  {
   "cell_type": "code",
   "execution_count": 37,
   "id": "819e6c8e",
   "metadata": {},
   "outputs": [
    {
     "data": {
      "image/png": "[encoded data removed]",
      "text/plain": [
       "<Figure size 900x900 with 1 Axes>"
      ]
     },
     "metadata": {},
     "output_type": "display_data"
    }
   ],
   "source": [
    "# Построим столбчатую диаграмму, показывающую долю пользователей сервиса GoFast по городам \n",
    "df_users.groupby('city')['user_id'].agg('count').sort_values(ascending=True).plot(kind='pie',labels=None, label= ' ', autopct ='%1.0f%%',legend=True,figsize=(9, 9), title ='Доля пользователей сервиса аренды самокатов GoFast по городам', cmap = 'rainbow')\n",
    "\n",
    "plt.show()\n",
    "\n"
   ]
  },
  {
   "cell_type": "markdown",
   "id": "3cdb705c",
   "metadata": {},
   "source": [
    "    По данным столбчатой диаграммы можно увидеть, что наибольшая доля пользователей находится в Пятигорске, меньше всего пользователей в Москве. Можно заметить примерно равное распределение пользователей по городам, большого разброса значений не наблюдается."
   ]
  },
  {
   "cell_type": "code",
   "execution_count": 38,
   "id": "47eb64e2",
   "metadata": {
    "scrolled": true
   },
   "outputs": [
    {
     "data": {
      "text/plain": [
       "Пятигорск         219\n",
       "Екатеринбург      204\n",
       "Ростов-на-Дону    198\n",
       "Краснодар         193\n",
       "Сочи              189\n",
       "Омск              183\n",
       "Тюмень            180\n",
       "Москва            168\n",
       "Name: city, dtype: int64"
      ]
     },
     "execution_count": 38,
     "metadata": {},
     "output_type": "execute_result"
    },
    {
     "data": {
      "image/png": "[encoded data removed]",
      "text/plain": [
       "<Figure size 1000x1000 with 1 Axes>"
      ]
     },
     "metadata": {},
     "output_type": "display_data"
    }
   ],
   "source": [
    "plt.figure(figsize= (10,10))\n",
    "(df_users.groupby('city')['user_id'].agg('count').sort_values(ascending=True).plot(kind='barh', grid=True))\n",
    "plt.title('Распределение пользователей сервиса аренды самокатов GoFast среди городов')\n",
    "plt.ylabel('Количество значений')\n",
    "plt.xlabel('Город')\n",
    "plt.xticks(rotation = 'horizontal')\n",
    "plt.show\n",
    "# C помощью функции value_counts() посчитаем количество уникальных значений в столбце city.\n",
    "df_users['city'].value_counts()\n"
   ]
  },
  {
   "cell_type": "markdown",
   "id": "57b7eeba",
   "metadata": {},
   "source": [
    "Как видно из графика, больше всего пользователей сервиса аренды самокатов GoFast в Пятигорске, меньше всего в Москве."
   ]
  },
  {
   "cell_type": "markdown",
   "id": "dfca4506",
   "metadata": {},
   "source": [
    "    3.2 Соотношение пользователей с подпиской и без подписки "
   ]
  },
  {
   "cell_type": "code",
   "execution_count": 39,
   "id": "f4803303",
   "metadata": {},
   "outputs": [
    {
     "data": {
      "text/plain": [
       "835"
      ]
     },
     "execution_count": 39,
     "metadata": {},
     "output_type": "execute_result"
    }
   ],
   "source": [
    "# Посчитаем количество пользователей сервиса, которые не имеют подписки\n",
    "df_users.query('subscription_type == \"free\"')['subscription_type'].count()\n",
    "\n",
    "\n"
   ]
  },
  {
   "cell_type": "code",
   "execution_count": 40,
   "id": "3b9dd5e2",
   "metadata": {},
   "outputs": [
    {
     "data": {
      "text/plain": [
       "699"
      ]
     },
     "execution_count": 40,
     "metadata": {},
     "output_type": "execute_result"
    }
   ],
   "source": [
    "# Посчитаем количество пользователей сервиса, которые имеют подписку\n",
    "df_users.query('subscription_type ==\"ultra\"')['subscription_type'].count()"
   ]
  },
  {
   "cell_type": "code",
   "execution_count": 41,
   "id": "9ce7ecd4",
   "metadata": {},
   "outputs": [
    {
     "data": {
      "image/png": "[encoded data removed]",
      "text/plain": [
       "<Figure size 900x900 with 1 Axes>"
      ]
     },
     "metadata": {},
     "output_type": "display_data"
    }
   ],
   "source": [
    "# Построим столбчатую диаграмму, показывающую соотношение пользователей с подпиской и без подписки\n",
    "df_users.groupby('subscription_type')['user_id'].agg('count').sort_values(ascending=False).plot(kind='pie',labels=None, label= ' ', autopct ='%1.0f%%',legend=True,figsize=(9, 9), title ='Соотношение пользователей сервиса аренды самокатов GoFast c подпиской(free) и без подписки(ultra) ', cmap = 'bwr')\n",
    "plt.show()"
   ]
  },
  {
   "cell_type": "code",
   "execution_count": 42,
   "id": "fcad8afb",
   "metadata": {},
   "outputs": [
    {
     "data": {
      "text/plain": [
       "count     1534\n",
       "unique       2\n",
       "top       free\n",
       "freq       835\n",
       "Name: subscription_type, dtype: object"
      ]
     },
     "execution_count": 42,
     "metadata": {},
     "output_type": "execute_result"
    },
    {
     "data": {
      "image/png": "[encoded data removed]",
      "text/plain": [
       "<Figure size 800x800 with 1 Axes>"
      ]
     },
     "metadata": {},
     "output_type": "display_data"
    }
   ],
   "source": [
    "plt.figure(figsize= (8,8))\n",
    "df_users.subscription_type.hist(bins=10, grid=True) \n",
    "plt.title('Распределение пользователей сервиса аренды самокатов GoFast среди городов')\n",
    "plt.ylabel('Количество значений')\n",
    "plt.xlabel('Тип подписки')\n",
    "plt.show\n",
    "# Применим метод describe() к столбцу subscription_type.\n",
    "df_users['subscription_type'].describe()"
   ]
  },
  {
   "cell_type": "markdown",
   "id": "14baed0b",
   "metadata": {},
   "source": [
    "      Как видно из гистограммы, больше всего пользователей, которые не имеют подписки(835 человек). Почти 700 пользователей имеют подписку. Могу предположить, что многие пользователи сервиса не хотят оформлять подписку и тратить лишние 200 рублей в месяц, так как пользуются самокатом нечасто и довольно редко.  "
   ]
  },
  {
   "cell_type": "markdown",
   "id": "f9e4fa93",
   "metadata": {},
   "source": [
    "     3.3 Возраст пользователей"
   ]
  },
  {
   "cell_type": "code",
   "execution_count": 43,
   "id": "6aa495a8",
   "metadata": {},
   "outputs": [
    {
     "data": {
      "text/plain": [
       "count    1534\n",
       "mean       25\n",
       "std         5\n",
       "min        12\n",
       "25%        22\n",
       "50%        25\n",
       "75%        28\n",
       "max        43\n",
       "Name: age, dtype: Int64"
      ]
     },
     "execution_count": 43,
     "metadata": {},
     "output_type": "execute_result"
    },
    {
     "data": {
      "image/png": "[encoded data removed]",
      "text/plain": [
       "<Figure size 800x800 with 1 Axes>"
      ]
     },
     "metadata": {},
     "output_type": "display_data"
    }
   ],
   "source": [
    "plt.figure(figsize= (8,8))\n",
    "df_users.age.hist(bins=50, grid=True) \n",
    "plt.title('Распределение пользователей сервиса аренды самокатов GoFast по возрасту')\n",
    "plt.ylabel('Количество значений')\n",
    "plt.xlabel('Возраст')\n",
    "plt.show\n",
    "# С помощью метода describe() изучим основные статистические характеристики данных по признаку age. Округлим значения в большую сторону и приведем к целочисленному формату \n",
    "df_users['age'].describe().round().astype('Int64')"
   ]
  },
  {
   "cell_type": "markdown",
   "id": "c6e27cd2",
   "metadata": {},
   "source": [
    "     Медиана и среднее значение совпдают и равны 25. Минимальный возраст пользователя равен 12. Максимальное значение равно 43 годам. \n",
    "    На графике видим, что крайние значения признака встречаются довольно редко, а значения, близкие к средней величине, встречаются довольно часто . Описывая гистограмму можно сказать, что она имеет вид нормального распределения. "
   ]
  },
  {
   "cell_type": "markdown",
   "id": "f0a8ab6b",
   "metadata": {},
   "source": [
    "    3.4 Расстояние, которое пользователь преодолел за одну поездку\n",
    "   "
   ]
  },
  {
   "cell_type": "code",
   "execution_count": 44,
   "id": "80e12413",
   "metadata": {},
   "outputs": [
    {
     "data": {
      "text/plain": [
       "count    18068\n",
       "mean      3071\n",
       "std       1117\n",
       "min          1\n",
       "25%       2543\n",
       "50%       3134\n",
       "75%       3776\n",
       "max       7211\n",
       "Name: distance, dtype: int32"
      ]
     },
     "execution_count": 44,
     "metadata": {},
     "output_type": "execute_result"
    },
    {
     "data": {
      "image/png": "[encoded data removed]",
      "text/plain": [
       "<Figure size 800x800 with 1 Axes>"
      ]
     },
     "metadata": {},
     "output_type": "display_data"
    }
   ],
   "source": [
    "plt.figure(figsize= (8,8))\n",
    "df_rides.distance.hist(bins=50, grid=True) \n",
    "plt.title('Распределение расстояния, которое пользователь проехал в текущей сессии в метрах')\n",
    "plt.ylabel('Количество значений')\n",
    "plt.xlabel('Расстояние поездки в метрах')\n",
    "plt.show\n",
    "# C помощью метода describe () изучим основные статистические показатели столбца distance \n",
    "df_rides['distance'].describe().round().astype('int')"
   ]
  },
  {
   "cell_type": "markdown",
   "id": "e2560a53",
   "metadata": {},
   "source": [
    "      По данным гистограммы можно заметить, что среднее(3071 м) и медиана(3134 м) практически равны. Описывая гистограмму, можно сказать что она имеет вид нормального распределения, так как крайние значения встречаются достаточно редко, в то время как значения, близкие к среднему, встречаются довольно часто. \n",
    "      Можно сделать вывод, что поездки можно разделить на два типа: короткие поездки (от 0 до 3071 м) и далекие(от 3071 до 7211 м)"
   ]
  },
  {
   "cell_type": "code",
   "execution_count": 45,
   "id": "086ddc74",
   "metadata": {},
   "outputs": [
    {
     "data": {
      "image/png": "[encoded data removed]",
      "text/plain": [
       "<Figure size 640x480 with 1 Axes>"
      ]
     },
     "metadata": {},
     "output_type": "display_data"
    }
   ],
   "source": [
    "# Построим диаграмму размаха boxplot\n",
    "df_rides.boxplot(column='distance')\n",
    "plt.show()"
   ]
  },
  {
   "cell_type": "markdown",
   "id": "7ac46761",
   "metadata": {},
   "source": [
    "    Видно, что нижний \"ус\" упирается в значение 800 метров. Верхний \"уc\" примерно равняется 5700 метров. Это граница нормального размаха. Все, что лежит выше 5700 метров, можно считать выбросами."
   ]
  },
  {
   "cell_type": "markdown",
   "id": "bd5411e9",
   "metadata": {},
   "source": [
    "    3.5 Продолжительность поездок"
   ]
  },
  {
   "cell_type": "code",
   "execution_count": 46,
   "id": "90bff666",
   "metadata": {},
   "outputs": [
    {
     "data": {
      "text/plain": [
       "count    18068\n",
       "mean        18\n",
       "std          6\n",
       "min          1\n",
       "25%         14\n",
       "50%         18\n",
       "75%         22\n",
       "max         41\n",
       "Name: duration, dtype: int32"
      ]
     },
     "execution_count": 46,
     "metadata": {},
     "output_type": "execute_result"
    },
    {
     "data": {
      "image/png": "[encoded data removed]",
      "text/plain": [
       "<Figure size 800x800 with 1 Axes>"
      ]
     },
     "metadata": {},
     "output_type": "display_data"
    }
   ],
   "source": [
    "plt.figure(figsize= (8,8))\n",
    "df_rides.duration.hist(bins=20, grid=True) \n",
    "plt.title('Распределение продолжительности поездок в минутах среди пользователей сервиса')\n",
    "plt.ylabel('Количество значений')\n",
    "plt.xlabel('Продолжительность поездки в минутах')\n",
    "plt.show\n",
    "# C помощью метода describe () получим числовое описание данных для колонки duration\n",
    "df_rides['duration'].describe().round().astype('int') \n"
   ]
  },
  {
   "cell_type": "markdown",
   "id": "5c06a592",
   "metadata": {},
   "source": [
    "    По гистограмме видно, что среднее значение и медиана совпадают и равны 18 минутам. Минимальное значение равно 0. Считаю, что это аномальное значение. Также могу предположить, что  пользователь случайно нажал кнопку \"Начать поездку\" и сразу завершил сессию, из-за чего продолжительность его поездки составила 0 минут. Описывая гистограмму, можно сказать, что она имеет вид нормального распределения."
   ]
  },
  {
   "cell_type": "markdown",
   "id": "944f67d9",
   "metadata": {},
   "source": [
    "## 11 Вывод по исследовательскому анализу данных: \n",
    "1) Согласно данным гистограммы, больше всего пользователей сервиса GoFast находится  в Пятигорске - 219 человек, меньше всего пользователей живет в Москве -168 человек\n",
    "2) По данным столбчатой диаграммы доля пользователей, не имеющих подписку, от общего количества пользователей сервиса GoFast составляет 54 %. Соответственно, доля пользователей. оформивших подписку, составляет 46 %.\n",
    "3) Средний возраст пользователей составил 25 лет. Медиана также равна 25. Самому младшему пользователю 12 лет. Самому старшему пользователю 43 года. \n",
    "4) Среднее расстояние поездки в метрах составило 3 км(3071 м). Медиана составила 3134 м. Максимальное расстояние поездки составило 7211 метров. \n",
    "5) Средняя продолжительность поездки в минутах составила 18 минут. Медиана(второй квартиль) равна также 18 минутам. Максимальная продолжительность поездки составила 41 минуту.\n"
   ]
  },
  {
   "cell_type": "markdown",
   "id": "ccdb0171",
   "metadata": {},
   "source": [
    "##   12  Шаг 4. Объединение данных \n"
   ]
  },
  {
   "cell_type": "markdown",
   "id": "13ef01dd",
   "metadata": {},
   "source": [
    "   ##  13 4.1 Объединим данные о пользователях, поездках и подписках в один датафрейм. Для этого воспользуемся методом merge()."
   ]
  },
  {
   "cell_type": "code",
   "execution_count": 47,
   "id": "ca5cba5f",
   "metadata": {},
   "outputs": [
    {
     "data": {
      "text/html": [
       "<div>\n",
       "<style scoped>\n",
       "    .dataframe tbody tr th:only-of-type {\n",
       "        vertical-align: middle;\n",
       "    }\n",
       "\n",
       "    .dataframe tbody tr th {\n",
       "        vertical-align: top;\n",
       "    }\n",
       "\n",
       "    .dataframe thead th {\n",
       "        text-align: right;\n",
       "    }\n",
       "</style>\n",
       "<table border=\"1\" class=\"dataframe\">\n",
       "  <thead>\n",
       "    <tr style=\"text-align: right;\">\n",
       "      <th></th>\n",
       "      <th>user_id</th>\n",
       "      <th>name</th>\n",
       "      <th>age</th>\n",
       "      <th>city</th>\n",
       "      <th>subscription_type</th>\n",
       "      <th>distance</th>\n",
       "      <th>duration</th>\n",
       "      <th>date</th>\n",
       "      <th>date_month</th>\n",
       "      <th>minute_price</th>\n",
       "      <th>start_ride_price</th>\n",
       "      <th>subscription_fee</th>\n",
       "    </tr>\n",
       "  </thead>\n",
       "  <tbody>\n",
       "    <tr>\n",
       "      <th>0</th>\n",
       "      <td>1</td>\n",
       "      <td>Кира</td>\n",
       "      <td>22</td>\n",
       "      <td>Тюмень</td>\n",
       "      <td>ultra</td>\n",
       "      <td>4409.919140</td>\n",
       "      <td>26.0</td>\n",
       "      <td>2021-01-01</td>\n",
       "      <td>1</td>\n",
       "      <td>6</td>\n",
       "      <td>0</td>\n",
       "      <td>199</td>\n",
       "    </tr>\n",
       "    <tr>\n",
       "      <th>1</th>\n",
       "      <td>1</td>\n",
       "      <td>Кира</td>\n",
       "      <td>22</td>\n",
       "      <td>Тюмень</td>\n",
       "      <td>ultra</td>\n",
       "      <td>2617.592153</td>\n",
       "      <td>16.0</td>\n",
       "      <td>2021-01-18</td>\n",
       "      <td>1</td>\n",
       "      <td>6</td>\n",
       "      <td>0</td>\n",
       "      <td>199</td>\n",
       "    </tr>\n",
       "    <tr>\n",
       "      <th>2</th>\n",
       "      <td>1</td>\n",
       "      <td>Кира</td>\n",
       "      <td>22</td>\n",
       "      <td>Тюмень</td>\n",
       "      <td>ultra</td>\n",
       "      <td>754.159807</td>\n",
       "      <td>7.0</td>\n",
       "      <td>2021-04-20</td>\n",
       "      <td>4</td>\n",
       "      <td>6</td>\n",
       "      <td>0</td>\n",
       "      <td>199</td>\n",
       "    </tr>\n",
       "    <tr>\n",
       "      <th>3</th>\n",
       "      <td>1</td>\n",
       "      <td>Кира</td>\n",
       "      <td>22</td>\n",
       "      <td>Тюмень</td>\n",
       "      <td>ultra</td>\n",
       "      <td>2694.783254</td>\n",
       "      <td>19.0</td>\n",
       "      <td>2021-08-11</td>\n",
       "      <td>8</td>\n",
       "      <td>6</td>\n",
       "      <td>0</td>\n",
       "      <td>199</td>\n",
       "    </tr>\n",
       "    <tr>\n",
       "      <th>4</th>\n",
       "      <td>1</td>\n",
       "      <td>Кира</td>\n",
       "      <td>22</td>\n",
       "      <td>Тюмень</td>\n",
       "      <td>ultra</td>\n",
       "      <td>4028.687306</td>\n",
       "      <td>27.0</td>\n",
       "      <td>2021-08-28</td>\n",
       "      <td>8</td>\n",
       "      <td>6</td>\n",
       "      <td>0</td>\n",
       "      <td>199</td>\n",
       "    </tr>\n",
       "    <tr>\n",
       "      <th>...</th>\n",
       "      <td>...</td>\n",
       "      <td>...</td>\n",
       "      <td>...</td>\n",
       "      <td>...</td>\n",
       "      <td>...</td>\n",
       "      <td>...</td>\n",
       "      <td>...</td>\n",
       "      <td>...</td>\n",
       "      <td>...</td>\n",
       "      <td>...</td>\n",
       "      <td>...</td>\n",
       "      <td>...</td>\n",
       "    </tr>\n",
       "    <tr>\n",
       "      <th>18063</th>\n",
       "      <td>1534</td>\n",
       "      <td>Альберт</td>\n",
       "      <td>25</td>\n",
       "      <td>Краснодар</td>\n",
       "      <td>free</td>\n",
       "      <td>3781.098080</td>\n",
       "      <td>20.0</td>\n",
       "      <td>2021-11-04</td>\n",
       "      <td>11</td>\n",
       "      <td>8</td>\n",
       "      <td>50</td>\n",
       "      <td>0</td>\n",
       "    </tr>\n",
       "    <tr>\n",
       "      <th>18064</th>\n",
       "      <td>1534</td>\n",
       "      <td>Альберт</td>\n",
       "      <td>25</td>\n",
       "      <td>Краснодар</td>\n",
       "      <td>free</td>\n",
       "      <td>2840.423057</td>\n",
       "      <td>22.0</td>\n",
       "      <td>2021-11-16</td>\n",
       "      <td>11</td>\n",
       "      <td>8</td>\n",
       "      <td>50</td>\n",
       "      <td>0</td>\n",
       "    </tr>\n",
       "    <tr>\n",
       "      <th>18065</th>\n",
       "      <td>1534</td>\n",
       "      <td>Альберт</td>\n",
       "      <td>25</td>\n",
       "      <td>Краснодар</td>\n",
       "      <td>free</td>\n",
       "      <td>3826.185507</td>\n",
       "      <td>19.0</td>\n",
       "      <td>2021-11-18</td>\n",
       "      <td>11</td>\n",
       "      <td>8</td>\n",
       "      <td>50</td>\n",
       "      <td>0</td>\n",
       "    </tr>\n",
       "    <tr>\n",
       "      <th>18066</th>\n",
       "      <td>1534</td>\n",
       "      <td>Альберт</td>\n",
       "      <td>25</td>\n",
       "      <td>Краснодар</td>\n",
       "      <td>free</td>\n",
       "      <td>2902.308661</td>\n",
       "      <td>17.0</td>\n",
       "      <td>2021-11-27</td>\n",
       "      <td>11</td>\n",
       "      <td>8</td>\n",
       "      <td>50</td>\n",
       "      <td>0</td>\n",
       "    </tr>\n",
       "    <tr>\n",
       "      <th>18067</th>\n",
       "      <td>1534</td>\n",
       "      <td>Альберт</td>\n",
       "      <td>25</td>\n",
       "      <td>Краснодар</td>\n",
       "      <td>free</td>\n",
       "      <td>2371.711192</td>\n",
       "      <td>16.0</td>\n",
       "      <td>2021-12-29</td>\n",
       "      <td>12</td>\n",
       "      <td>8</td>\n",
       "      <td>50</td>\n",
       "      <td>0</td>\n",
       "    </tr>\n",
       "  </tbody>\n",
       "</table>\n",
       "<p>18068 rows × 12 columns</p>\n",
       "</div>"
      ],
      "text/plain": [
       "       user_id     name  age       city subscription_type     distance  \\\n",
       "0            1     Кира   22     Тюмень             ultra  4409.919140   \n",
       "1            1     Кира   22     Тюмень             ultra  2617.592153   \n",
       "2            1     Кира   22     Тюмень             ultra   754.159807   \n",
       "3            1     Кира   22     Тюмень             ultra  2694.783254   \n",
       "4            1     Кира   22     Тюмень             ultra  4028.687306   \n",
       "...        ...      ...  ...        ...               ...          ...   \n",
       "18063     1534  Альберт   25  Краснодар              free  3781.098080   \n",
       "18064     1534  Альберт   25  Краснодар              free  2840.423057   \n",
       "18065     1534  Альберт   25  Краснодар              free  3826.185507   \n",
       "18066     1534  Альберт   25  Краснодар              free  2902.308661   \n",
       "18067     1534  Альберт   25  Краснодар              free  2371.711192   \n",
       "\n",
       "       duration       date  date_month  minute_price  start_ride_price  \\\n",
       "0          26.0 2021-01-01           1             6                 0   \n",
       "1          16.0 2021-01-18           1             6                 0   \n",
       "2           7.0 2021-04-20           4             6                 0   \n",
       "3          19.0 2021-08-11           8             6                 0   \n",
       "4          27.0 2021-08-28           8             6                 0   \n",
       "...         ...        ...         ...           ...               ...   \n",
       "18063      20.0 2021-11-04          11             8                50   \n",
       "18064      22.0 2021-11-16          11             8                50   \n",
       "18065      19.0 2021-11-18          11             8                50   \n",
       "18066      17.0 2021-11-27          11             8                50   \n",
       "18067      16.0 2021-12-29          12             8                50   \n",
       "\n",
       "       subscription_fee  \n",
       "0                   199  \n",
       "1                   199  \n",
       "2                   199  \n",
       "3                   199  \n",
       "4                   199  \n",
       "...                 ...  \n",
       "18063                 0  \n",
       "18064                 0  \n",
       "18065                 0  \n",
       "18066                 0  \n",
       "18067                 0  \n",
       "\n",
       "[18068 rows x 12 columns]"
      ]
     },
     "execution_count": 47,
     "metadata": {},
     "output_type": "execute_result"
    }
   ],
   "source": [
    "\n",
    "df_general = df_users.merge(df_rides).merge(df_subscriptions)\n",
    "df_general"
   ]
  },
  {
   "cell_type": "markdown",
   "id": "350e14fc",
   "metadata": {},
   "source": [
    "    После объединения данных сравним количество строк в таблицах до объединения и после, также посчитаем количество уникальных пользователей и проверим наличие пропусков. \n"
   ]
  },
  {
   "cell_type": "code",
   "execution_count": 48,
   "id": "cd832f91",
   "metadata": {},
   "outputs": [
    {
     "data": {
      "text/plain": [
       "1534"
      ]
     },
     "execution_count": 48,
     "metadata": {},
     "output_type": "execute_result"
    }
   ],
   "source": [
    "# вычислим количество строк в датафрейме df_users\n",
    "len(df_users)\n"
   ]
  },
  {
   "cell_type": "code",
   "execution_count": 49,
   "id": "72e20c4c",
   "metadata": {},
   "outputs": [
    {
     "data": {
      "text/plain": [
       "user_id              0\n",
       "name                 0\n",
       "age                  0\n",
       "city                 0\n",
       "subscription_type    0\n",
       "dtype: int64"
      ]
     },
     "execution_count": 49,
     "metadata": {},
     "output_type": "execute_result"
    }
   ],
   "source": [
    "# Проверим наличие пропусков в датафрейме \n",
    "df_users.isna().sum()"
   ]
  },
  {
   "cell_type": "code",
   "execution_count": 50,
   "id": "edf5f8eb",
   "metadata": {},
   "outputs": [
    {
     "data": {
      "text/plain": [
       "user_id  name       age  city            subscription_type\n",
       "1        Кира       22   Тюмень          ultra                1\n",
       "1020     Камилла    32   Москва          free                 1\n",
       "1029     Игорь      21   Краснодар       free                 1\n",
       "1028     Вадим      17   Сочи            free                 1\n",
       "1027     Мария      21   Сочи            free                 1\n",
       "                                                             ..\n",
       "510      Роман      24   Ростов-на-Дону  ultra                1\n",
       "509      Ян         29   Москва          ultra                1\n",
       "508      Станислав  15   Тюмень          ultra                1\n",
       "507      Эвелина    27   Пятигорск       ultra                1\n",
       "1534     Альберт    25   Краснодар       free                 1\n",
       "Length: 1534, dtype: int64"
      ]
     },
     "execution_count": 50,
     "metadata": {},
     "output_type": "execute_result"
    }
   ],
   "source": [
    "# Посчитаем количество уникальных пользователей\n",
    "df_users.value_counts()"
   ]
  },
  {
   "cell_type": "code",
   "execution_count": 51,
   "id": "5e232cfb",
   "metadata": {},
   "outputs": [
    {
     "data": {
      "text/plain": [
       "18068"
      ]
     },
     "execution_count": 51,
     "metadata": {},
     "output_type": "execute_result"
    }
   ],
   "source": [
    "# Посчитаем количество строк в таблице df_rides\n",
    "len(df_rides) "
   ]
  },
  {
   "cell_type": "code",
   "execution_count": 52,
   "id": "78b64d21",
   "metadata": {},
   "outputs": [
    {
     "data": {
      "text/plain": [
       "user_id       0\n",
       "distance      0\n",
       "duration      0\n",
       "date          0\n",
       "date_month    0\n",
       "dtype: int64"
      ]
     },
     "execution_count": 52,
     "metadata": {},
     "output_type": "execute_result"
    }
   ],
   "source": [
    "# Проверим датафрейм на наличие пропусков\n",
    "df_rides.isna().sum()"
   ]
  },
  {
   "cell_type": "code",
   "execution_count": 53,
   "id": "171b3ca6",
   "metadata": {},
   "outputs": [
    {
     "data": {
      "text/plain": [
       "2"
      ]
     },
     "execution_count": 53,
     "metadata": {},
     "output_type": "execute_result"
    }
   ],
   "source": [
    "# Посчитаем количество строк в таблице df_subscriptions\n",
    "len(df_subscriptions)"
   ]
  },
  {
   "cell_type": "code",
   "execution_count": 54,
   "id": "f61fdbe8",
   "metadata": {},
   "outputs": [
    {
     "data": {
      "text/plain": [
       "subscription_type    0\n",
       "minute_price         0\n",
       "start_ride_price     0\n",
       "subscription_fee     0\n",
       "dtype: int64"
      ]
     },
     "execution_count": 54,
     "metadata": {},
     "output_type": "execute_result"
    }
   ],
   "source": [
    "# Проверим датафрейм на наличие пропусков \n",
    "df_subscriptions.isna().sum()"
   ]
  },
  {
   "cell_type": "markdown",
   "id": "6de67f5a",
   "metadata": {},
   "source": [
    "     Размеры таблиц после объединения остались такими же как и до объединения. В каждой из 3 таблиц по-прежнему нет пропущенных значений."
   ]
  },
  {
   "cell_type": "markdown",
   "id": "b357edd4",
   "metadata": {},
   "source": [
    "    4.2 Создадим ещё два датафрейма из датафрейма, созданного в шаге 4.1:\n",
    "\n",
    "    c данными о пользователях без подписки;\n",
    "    с данными о пользователях с подпиской.\n",
    "    \n",
    "    \n",
    "    "
   ]
  },
  {
   "cell_type": "code",
   "execution_count": 55,
   "id": "2d1ee641",
   "metadata": {},
   "outputs": [],
   "source": [
    "# Создадим датафрейм с данными о пользователях без подписки, выведем случайным образом 10 строк датафрейма с помощью метода sample\n",
    "df_users_free = df_users.query(\"subscription_type =='free'\").merge(df_rides).merge(df_subscriptions)"
   ]
  },
  {
   "cell_type": "code",
   "execution_count": 56,
   "id": "53250c74",
   "metadata": {},
   "outputs": [
    {
     "data": {
      "text/html": [
       "<div>\n",
       "<style scoped>\n",
       "    .dataframe tbody tr th:only-of-type {\n",
       "        vertical-align: middle;\n",
       "    }\n",
       "\n",
       "    .dataframe tbody tr th {\n",
       "        vertical-align: top;\n",
       "    }\n",
       "\n",
       "    .dataframe thead th {\n",
       "        text-align: right;\n",
       "    }\n",
       "</style>\n",
       "<table border=\"1\" class=\"dataframe\">\n",
       "  <thead>\n",
       "    <tr style=\"text-align: right;\">\n",
       "      <th></th>\n",
       "      <th>user_id</th>\n",
       "      <th>name</th>\n",
       "      <th>age</th>\n",
       "      <th>city</th>\n",
       "      <th>subscription_type</th>\n",
       "      <th>distance</th>\n",
       "      <th>duration</th>\n",
       "      <th>date</th>\n",
       "      <th>date_month</th>\n",
       "      <th>minute_price</th>\n",
       "      <th>start_ride_price</th>\n",
       "      <th>subscription_fee</th>\n",
       "    </tr>\n",
       "  </thead>\n",
       "  <tbody>\n",
       "    <tr>\n",
       "      <th>10368</th>\n",
       "      <td>1449</td>\n",
       "      <td>Софья</td>\n",
       "      <td>28</td>\n",
       "      <td>Москва</td>\n",
       "      <td>free</td>\n",
       "      <td>3708.588548</td>\n",
       "      <td>22.0</td>\n",
       "      <td>2021-02-14</td>\n",
       "      <td>2</td>\n",
       "      <td>8</td>\n",
       "      <td>50</td>\n",
       "      <td>0</td>\n",
       "    </tr>\n",
       "    <tr>\n",
       "      <th>1131</th>\n",
       "      <td>781</td>\n",
       "      <td>Амир</td>\n",
       "      <td>23</td>\n",
       "      <td>Пятигорск</td>\n",
       "      <td>free</td>\n",
       "      <td>3623.675880</td>\n",
       "      <td>22.0</td>\n",
       "      <td>2021-12-05</td>\n",
       "      <td>12</td>\n",
       "      <td>8</td>\n",
       "      <td>50</td>\n",
       "      <td>0</td>\n",
       "    </tr>\n",
       "    <tr>\n",
       "      <th>10131</th>\n",
       "      <td>1431</td>\n",
       "      <td>Яна</td>\n",
       "      <td>26</td>\n",
       "      <td>Екатеринбург</td>\n",
       "      <td>free</td>\n",
       "      <td>2075.008422</td>\n",
       "      <td>14.0</td>\n",
       "      <td>2021-05-18</td>\n",
       "      <td>5</td>\n",
       "      <td>8</td>\n",
       "      <td>50</td>\n",
       "      <td>0</td>\n",
       "    </tr>\n",
       "    <tr>\n",
       "      <th>9691</th>\n",
       "      <td>1402</td>\n",
       "      <td>Мария</td>\n",
       "      <td>30</td>\n",
       "      <td>Ростов-на-Дону</td>\n",
       "      <td>free</td>\n",
       "      <td>2756.188060</td>\n",
       "      <td>9.0</td>\n",
       "      <td>2021-10-09</td>\n",
       "      <td>10</td>\n",
       "      <td>8</td>\n",
       "      <td>50</td>\n",
       "      <td>0</td>\n",
       "    </tr>\n",
       "    <tr>\n",
       "      <th>9681</th>\n",
       "      <td>1402</td>\n",
       "      <td>Мария</td>\n",
       "      <td>30</td>\n",
       "      <td>Ростов-на-Дону</td>\n",
       "      <td>free</td>\n",
       "      <td>944.246089</td>\n",
       "      <td>15.0</td>\n",
       "      <td>2021-01-07</td>\n",
       "      <td>1</td>\n",
       "      <td>8</td>\n",
       "      <td>50</td>\n",
       "      <td>0</td>\n",
       "    </tr>\n",
       "    <tr>\n",
       "      <th>4288</th>\n",
       "      <td>1013</td>\n",
       "      <td>Зарина</td>\n",
       "      <td>24</td>\n",
       "      <td>Москва</td>\n",
       "      <td>free</td>\n",
       "      <td>2700.273410</td>\n",
       "      <td>22.0</td>\n",
       "      <td>2021-12-12</td>\n",
       "      <td>12</td>\n",
       "      <td>8</td>\n",
       "      <td>50</td>\n",
       "      <td>0</td>\n",
       "    </tr>\n",
       "    <tr>\n",
       "      <th>10654</th>\n",
       "      <td>1470</td>\n",
       "      <td>Ангелина</td>\n",
       "      <td>32</td>\n",
       "      <td>Сочи</td>\n",
       "      <td>free</td>\n",
       "      <td>3854.432849</td>\n",
       "      <td>13.0</td>\n",
       "      <td>2021-11-16</td>\n",
       "      <td>11</td>\n",
       "      <td>8</td>\n",
       "      <td>50</td>\n",
       "      <td>0</td>\n",
       "    </tr>\n",
       "    <tr>\n",
       "      <th>10378</th>\n",
       "      <td>1449</td>\n",
       "      <td>Софья</td>\n",
       "      <td>28</td>\n",
       "      <td>Москва</td>\n",
       "      <td>free</td>\n",
       "      <td>4445.718112</td>\n",
       "      <td>20.0</td>\n",
       "      <td>2021-09-21</td>\n",
       "      <td>9</td>\n",
       "      <td>8</td>\n",
       "      <td>50</td>\n",
       "      <td>0</td>\n",
       "    </tr>\n",
       "    <tr>\n",
       "      <th>10658</th>\n",
       "      <td>1471</td>\n",
       "      <td>Роман</td>\n",
       "      <td>21</td>\n",
       "      <td>Краснодар</td>\n",
       "      <td>free</td>\n",
       "      <td>4523.605506</td>\n",
       "      <td>25.0</td>\n",
       "      <td>2021-01-09</td>\n",
       "      <td>1</td>\n",
       "      <td>8</td>\n",
       "      <td>50</td>\n",
       "      <td>0</td>\n",
       "    </tr>\n",
       "    <tr>\n",
       "      <th>8346</th>\n",
       "      <td>1306</td>\n",
       "      <td>Антонина</td>\n",
       "      <td>22</td>\n",
       "      <td>Москва</td>\n",
       "      <td>free</td>\n",
       "      <td>1761.181273</td>\n",
       "      <td>20.0</td>\n",
       "      <td>2021-03-20</td>\n",
       "      <td>3</td>\n",
       "      <td>8</td>\n",
       "      <td>50</td>\n",
       "      <td>0</td>\n",
       "    </tr>\n",
       "  </tbody>\n",
       "</table>\n",
       "</div>"
      ],
      "text/plain": [
       "       user_id      name  age            city subscription_type     distance  \\\n",
       "10368     1449     Софья   28          Москва              free  3708.588548   \n",
       "1131       781      Амир   23       Пятигорск              free  3623.675880   \n",
       "10131     1431       Яна   26    Екатеринбург              free  2075.008422   \n",
       "9691      1402     Мария   30  Ростов-на-Дону              free  2756.188060   \n",
       "9681      1402     Мария   30  Ростов-на-Дону              free   944.246089   \n",
       "4288      1013    Зарина   24          Москва              free  2700.273410   \n",
       "10654     1470  Ангелина   32            Сочи              free  3854.432849   \n",
       "10378     1449     Софья   28          Москва              free  4445.718112   \n",
       "10658     1471     Роман   21       Краснодар              free  4523.605506   \n",
       "8346      1306  Антонина   22          Москва              free  1761.181273   \n",
       "\n",
       "       duration       date  date_month  minute_price  start_ride_price  \\\n",
       "10368      22.0 2021-02-14           2             8                50   \n",
       "1131       22.0 2021-12-05          12             8                50   \n",
       "10131      14.0 2021-05-18           5             8                50   \n",
       "9691        9.0 2021-10-09          10             8                50   \n",
       "9681       15.0 2021-01-07           1             8                50   \n",
       "4288       22.0 2021-12-12          12             8                50   \n",
       "10654      13.0 2021-11-16          11             8                50   \n",
       "10378      20.0 2021-09-21           9             8                50   \n",
       "10658      25.0 2021-01-09           1             8                50   \n",
       "8346       20.0 2021-03-20           3             8                50   \n",
       "\n",
       "       subscription_fee  \n",
       "10368                 0  \n",
       "1131                  0  \n",
       "10131                 0  \n",
       "9691                  0  \n",
       "9681                  0  \n",
       "4288                  0  \n",
       "10654                 0  \n",
       "10378                 0  \n",
       "10658                 0  \n",
       "8346                  0  "
      ]
     },
     "execution_count": 56,
     "metadata": {},
     "output_type": "execute_result"
    }
   ],
   "source": [
    "df_users_free.sample(random_state=1, n =10)"
   ]
  },
  {
   "cell_type": "code",
   "execution_count": 57,
   "id": "6c8a9836",
   "metadata": {},
   "outputs": [],
   "source": [
    "# Создадим датафрейм с данными о пользователях с подпиской, выведем случайным образом 10 строк датафрейма с помощью метода sample()\n",
    "df_users_ultra = df_users.query(\"subscription_type =='ultra'\").merge(df_rides).merge(df_subscriptions)"
   ]
  },
  {
   "cell_type": "code",
   "execution_count": 58,
   "id": "60bfe85e",
   "metadata": {},
   "outputs": [
    {
     "data": {
      "text/html": [
       "<div>\n",
       "<style scoped>\n",
       "    .dataframe tbody tr th:only-of-type {\n",
       "        vertical-align: middle;\n",
       "    }\n",
       "\n",
       "    .dataframe tbody tr th {\n",
       "        vertical-align: top;\n",
       "    }\n",
       "\n",
       "    .dataframe thead th {\n",
       "        text-align: right;\n",
       "    }\n",
       "</style>\n",
       "<table border=\"1\" class=\"dataframe\">\n",
       "  <thead>\n",
       "    <tr style=\"text-align: right;\">\n",
       "      <th></th>\n",
       "      <th>user_id</th>\n",
       "      <th>name</th>\n",
       "      <th>age</th>\n",
       "      <th>city</th>\n",
       "      <th>subscription_type</th>\n",
       "      <th>distance</th>\n",
       "      <th>duration</th>\n",
       "      <th>date</th>\n",
       "      <th>date_month</th>\n",
       "      <th>minute_price</th>\n",
       "      <th>start_ride_price</th>\n",
       "      <th>subscription_fee</th>\n",
       "    </tr>\n",
       "  </thead>\n",
       "  <tbody>\n",
       "    <tr>\n",
       "      <th>3773</th>\n",
       "      <td>405</td>\n",
       "      <td>Руслан</td>\n",
       "      <td>22</td>\n",
       "      <td>Екатеринбург</td>\n",
       "      <td>ultra</td>\n",
       "      <td>3001.697420</td>\n",
       "      <td>14.0</td>\n",
       "      <td>2021-11-11</td>\n",
       "      <td>11</td>\n",
       "      <td>6</td>\n",
       "      <td>0</td>\n",
       "      <td>199</td>\n",
       "    </tr>\n",
       "    <tr>\n",
       "      <th>6012</th>\n",
       "      <td>643</td>\n",
       "      <td>Егор</td>\n",
       "      <td>31</td>\n",
       "      <td>Москва</td>\n",
       "      <td>ultra</td>\n",
       "      <td>2537.701321</td>\n",
       "      <td>18.0</td>\n",
       "      <td>2021-11-21</td>\n",
       "      <td>11</td>\n",
       "      <td>6</td>\n",
       "      <td>0</td>\n",
       "      <td>199</td>\n",
       "    </tr>\n",
       "    <tr>\n",
       "      <th>3464</th>\n",
       "      <td>373</td>\n",
       "      <td>Даниэль</td>\n",
       "      <td>26</td>\n",
       "      <td>Тюмень</td>\n",
       "      <td>ultra</td>\n",
       "      <td>2841.412234</td>\n",
       "      <td>14.0</td>\n",
       "      <td>2021-01-03</td>\n",
       "      <td>1</td>\n",
       "      <td>6</td>\n",
       "      <td>0</td>\n",
       "      <td>199</td>\n",
       "    </tr>\n",
       "    <tr>\n",
       "      <th>1518</th>\n",
       "      <td>164</td>\n",
       "      <td>Зарина</td>\n",
       "      <td>17</td>\n",
       "      <td>Сочи</td>\n",
       "      <td>ultra</td>\n",
       "      <td>3948.507835</td>\n",
       "      <td>23.0</td>\n",
       "      <td>2021-02-13</td>\n",
       "      <td>2</td>\n",
       "      <td>6</td>\n",
       "      <td>0</td>\n",
       "      <td>199</td>\n",
       "    </tr>\n",
       "    <tr>\n",
       "      <th>3762</th>\n",
       "      <td>404</td>\n",
       "      <td>Влад</td>\n",
       "      <td>23</td>\n",
       "      <td>Сочи</td>\n",
       "      <td>ultra</td>\n",
       "      <td>4179.177250</td>\n",
       "      <td>18.0</td>\n",
       "      <td>2021-07-22</td>\n",
       "      <td>7</td>\n",
       "      <td>6</td>\n",
       "      <td>0</td>\n",
       "      <td>199</td>\n",
       "    </tr>\n",
       "    <tr>\n",
       "      <th>1070</th>\n",
       "      <td>115</td>\n",
       "      <td>Полина</td>\n",
       "      <td>25</td>\n",
       "      <td>Москва</td>\n",
       "      <td>ultra</td>\n",
       "      <td>2991.653655</td>\n",
       "      <td>20.0</td>\n",
       "      <td>2021-02-11</td>\n",
       "      <td>2</td>\n",
       "      <td>6</td>\n",
       "      <td>0</td>\n",
       "      <td>199</td>\n",
       "    </tr>\n",
       "    <tr>\n",
       "      <th>2809</th>\n",
       "      <td>300</td>\n",
       "      <td>Данила</td>\n",
       "      <td>27</td>\n",
       "      <td>Ростов-на-Дону</td>\n",
       "      <td>ultra</td>\n",
       "      <td>3220.194392</td>\n",
       "      <td>12.0</td>\n",
       "      <td>2021-04-14</td>\n",
       "      <td>4</td>\n",
       "      <td>6</td>\n",
       "      <td>0</td>\n",
       "      <td>199</td>\n",
       "    </tr>\n",
       "    <tr>\n",
       "      <th>3792</th>\n",
       "      <td>408</td>\n",
       "      <td>Станислав</td>\n",
       "      <td>26</td>\n",
       "      <td>Ростов-на-Дону</td>\n",
       "      <td>ultra</td>\n",
       "      <td>2922.883623</td>\n",
       "      <td>20.0</td>\n",
       "      <td>2021-04-10</td>\n",
       "      <td>4</td>\n",
       "      <td>6</td>\n",
       "      <td>0</td>\n",
       "      <td>199</td>\n",
       "    </tr>\n",
       "    <tr>\n",
       "      <th>3819</th>\n",
       "      <td>410</td>\n",
       "      <td>Виктор</td>\n",
       "      <td>19</td>\n",
       "      <td>Тюмень</td>\n",
       "      <td>ultra</td>\n",
       "      <td>2616.878715</td>\n",
       "      <td>13.0</td>\n",
       "      <td>2021-10-11</td>\n",
       "      <td>10</td>\n",
       "      <td>6</td>\n",
       "      <td>0</td>\n",
       "      <td>199</td>\n",
       "    </tr>\n",
       "    <tr>\n",
       "      <th>5350</th>\n",
       "      <td>574</td>\n",
       "      <td>Жанна</td>\n",
       "      <td>34</td>\n",
       "      <td>Пятигорск</td>\n",
       "      <td>ultra</td>\n",
       "      <td>4198.428714</td>\n",
       "      <td>21.0</td>\n",
       "      <td>2021-03-09</td>\n",
       "      <td>3</td>\n",
       "      <td>6</td>\n",
       "      <td>0</td>\n",
       "      <td>199</td>\n",
       "    </tr>\n",
       "  </tbody>\n",
       "</table>\n",
       "</div>"
      ],
      "text/plain": [
       "      user_id       name  age            city subscription_type     distance  \\\n",
       "3773      405     Руслан   22    Екатеринбург             ultra  3001.697420   \n",
       "6012      643       Егор   31          Москва             ultra  2537.701321   \n",
       "3464      373    Даниэль   26          Тюмень             ultra  2841.412234   \n",
       "1518      164     Зарина   17            Сочи             ultra  3948.507835   \n",
       "3762      404       Влад   23            Сочи             ultra  4179.177250   \n",
       "1070      115     Полина   25          Москва             ultra  2991.653655   \n",
       "2809      300     Данила   27  Ростов-на-Дону             ultra  3220.194392   \n",
       "3792      408  Станислав   26  Ростов-на-Дону             ultra  2922.883623   \n",
       "3819      410     Виктор   19          Тюмень             ultra  2616.878715   \n",
       "5350      574      Жанна   34       Пятигорск             ultra  4198.428714   \n",
       "\n",
       "      duration       date  date_month  minute_price  start_ride_price  \\\n",
       "3773      14.0 2021-11-11          11             6                 0   \n",
       "6012      18.0 2021-11-21          11             6                 0   \n",
       "3464      14.0 2021-01-03           1             6                 0   \n",
       "1518      23.0 2021-02-13           2             6                 0   \n",
       "3762      18.0 2021-07-22           7             6                 0   \n",
       "1070      20.0 2021-02-11           2             6                 0   \n",
       "2809      12.0 2021-04-14           4             6                 0   \n",
       "3792      20.0 2021-04-10           4             6                 0   \n",
       "3819      13.0 2021-10-11          10             6                 0   \n",
       "5350      21.0 2021-03-09           3             6                 0   \n",
       "\n",
       "      subscription_fee  \n",
       "3773               199  \n",
       "6012               199  \n",
       "3464               199  \n",
       "1518               199  \n",
       "3762               199  \n",
       "1070               199  \n",
       "2809               199  \n",
       "3792               199  \n",
       "3819               199  \n",
       "5350               199  "
      ]
     },
     "execution_count": 58,
     "metadata": {},
     "output_type": "execute_result"
    }
   ],
   "source": [
    "df_users_ultra.sample(random_state=1, n=10)"
   ]
  },
  {
   "cell_type": "markdown",
   "id": "6dc9ac0b",
   "metadata": {},
   "source": [
    "     4.3 Визуализируем информацию о  расстоянии и времени поездок для пользователей обеих категорий"
   ]
  },
  {
   "cell_type": "code",
   "execution_count": 59,
   "id": "2496bf7f",
   "metadata": {},
   "outputs": [
    {
     "data": {
      "text/plain": [
       "count    11568\n",
       "mean      3045\n",
       "std       1246\n",
       "min          1\n",
       "25%       2367\n",
       "50%       3115\n",
       "75%       3906\n",
       "max       7211\n",
       "Name: distance, dtype: int32"
      ]
     },
     "execution_count": 59,
     "metadata": {},
     "output_type": "execute_result"
    },
    {
     "data": {
      "image/png": "[encoded data removed]",
      "text/plain": [
       "<Figure size 800x800 with 1 Axes>"
      ]
     },
     "metadata": {},
     "output_type": "display_data"
    }
   ],
   "source": [
    "plt.figure(figsize= (8,8))\n",
    "df_users_free.distance.hist(bins=20, grid=True) \n",
    "plt.title('Распределение расстояния, которое пользователь без подписки проехал в текущей сессии в метрах')\n",
    "plt.ylabel('Количество значений')\n",
    "plt.xlabel('Расстояние поездки в метрах')\n",
    "plt.show\n",
    "# C помощью метода describe () изучим основные статистические показатели столбца distance \n",
    "df_users_free['distance'].describe().round().astype('int')"
   ]
  },
  {
   "cell_type": "markdown",
   "id": "a7dd0025",
   "metadata": {},
   "source": [
    "     По данным гистограммы мы видим, что среднее значение равно 3045 метрам. Медиана равна 3115 метрам. Если отбросить значения от 0 до 1000 м, можно сказать, что гистограмма имеет вид нормального распределения. "
   ]
  },
  {
   "cell_type": "code",
   "execution_count": 60,
   "id": "88b3254e",
   "metadata": {},
   "outputs": [
    {
     "data": {
      "text/plain": [
       "count    11568\n",
       "mean        18\n",
       "std          6\n",
       "min          1\n",
       "25%         13\n",
       "50%         18\n",
       "75%         22\n",
       "max         35\n",
       "Name: duration, dtype: int32"
      ]
     },
     "execution_count": 60,
     "metadata": {},
     "output_type": "execute_result"
    },
    {
     "data": {
      "image/png": "[encoded data removed]",
      "text/plain": [
       "<Figure size 800x800 with 1 Axes>"
      ]
     },
     "metadata": {},
     "output_type": "display_data"
    }
   ],
   "source": [
    "plt.figure(figsize= (8,8))\n",
    "df_users_free.duration.hist(bins=10, grid=True) \n",
    "plt.title('Распределение времени поездки пользователей без подписки')\n",
    "plt.ylabel('Количество значений')\n",
    "plt.xlabel('Продолжительность поездки в минутах')\n",
    "plt.show\n",
    "# C помощью метода describe () получим числовое описание данных столбца duration \n",
    "df_users_free['duration'].describe().round().astype('int')"
   ]
  },
  {
   "cell_type": "markdown",
   "id": "62dd4be1",
   "metadata": {},
   "source": [
    "    Видно по гистограмме, что средняя продолжительность поездки среди пользователей без подписки равна 17 минутам. Медиана также равна 17. Максимальная продолжительность поездки в два раза превышает среднее значение и составляет 35 минут. Межквартильный размах равен разнице между третьим квартилем и первым квартилем и составляет 9 минут. Описывая гистограмму, можно сказать, что она имеет вид нормального распределения. "
   ]
  },
  {
   "cell_type": "code",
   "execution_count": 61,
   "id": "515fc950",
   "metadata": {},
   "outputs": [
    {
     "data": {
      "text/plain": [
       "count    6500\n",
       "mean     3115\n",
       "std       837\n",
       "min       244\n",
       "25%      2785\n",
       "50%      3149\n",
       "75%      3561\n",
       "max      5700\n",
       "Name: distance, dtype: int32"
      ]
     },
     "execution_count": 61,
     "metadata": {},
     "output_type": "execute_result"
    },
    {
     "data": {
      "image/png": "[encoded data removed]",
      "text/plain": [
       "<Figure size 800x800 with 1 Axes>"
      ]
     },
     "metadata": {},
     "output_type": "display_data"
    }
   ],
   "source": [
    "plt.figure(figsize= (8,8))\n",
    "df_users_ultra.distance.hist(bins=40, grid=True) \n",
    "plt.title('Распределение расстояния, которое пользователь c подпиской проехал в текущей сессии в метрах')\n",
    "plt.ylabel('Количество значений')\n",
    "plt.xlabel('Расстояние поездки в метрах')\n",
    "plt.show\n",
    "# C помощью метода describe () изучим основные статистические показатели столбца distance \n",
    "df_users_ultra['distance'].describe().round().astype('int')"
   ]
  },
  {
   "cell_type": "markdown",
   "id": "74a19feb",
   "metadata": {},
   "source": [
    "      По гистограмме видим, что среднее значение составило 3115 метров. Медиана(второй квартиль) равен 3149 метров. Минимальное расстояние равно 244 метрам. Максимальное расстояние, которое проехал пользователь с подпиской составило 5700 метров. Описывая гистограмму можно сказать, что она не имеет вид нормального распределения, так как крайние значения слева встречаются довольно часто, как и значения, близкие к средней величине. \n",
    "      "
   ]
  },
  {
   "cell_type": "code",
   "execution_count": 62,
   "id": "661fde71",
   "metadata": {},
   "outputs": [
    {
     "data": {
      "text/plain": [
       "Text(0.5, 1.0, 'Распределение расстояния поездки пользователей с подпиской и без подписки ')"
      ]
     },
     "execution_count": 62,
     "metadata": {},
     "output_type": "execute_result"
    },
    {
     "data": {
      "image/png": "[encoded data removed]",
      "text/plain": [
       "<Figure size 640x480 with 1 Axes>"
      ]
     },
     "metadata": {},
     "output_type": "display_data"
    }
   ],
   "source": [
    "# Сравним распределения расстояния поездок  пользователей с подпиской и без подписки\n",
    "x1 = list(df_users_ultra['distance'])\n",
    "x2 = list(df_users_free['distance'])\n",
    "colors = ['yellow','green']\n",
    "names = ['ultra', 'free'] \n",
    "\n",
    "plt.hist([x1, x2], bins = 20, color = colors, label=names)\n",
    "plt.legend()\n",
    "plt.xlabel('Расстояние поездки в метрах')\n",
    "plt.ylabel('Количество значений')\n",
    "plt.title('Распределение расстояния поездки пользователей с подпиской и без подписки ')"
   ]
  },
  {
   "cell_type": "markdown",
   "id": "7ac333f9",
   "metadata": {},
   "source": [
    "      Как видно из графика, пользователи без подписки проезжают больше 5 км, чем пользователи с подпиской."
   ]
  },
  {
   "cell_type": "code",
   "execution_count": 63,
   "id": "a1341c6a",
   "metadata": {},
   "outputs": [
    {
     "data": {
      "text/plain": [
       "count    6500\n",
       "mean       19\n",
       "std         6\n",
       "min         4\n",
       "25%        15\n",
       "50%        19\n",
       "75%        22\n",
       "max        41\n",
       "Name: duration, dtype: int32"
      ]
     },
     "execution_count": 63,
     "metadata": {},
     "output_type": "execute_result"
    },
    {
     "data": {
      "image/png": "[encoded data removed]",
      "text/plain": [
       "<Figure size 800x800 with 1 Axes>"
      ]
     },
     "metadata": {},
     "output_type": "display_data"
    }
   ],
   "source": [
    "plt.figure(figsize= (8,8))\n",
    "df_users_ultra['duration'].hist(bins=10, grid=True) \n",
    "plt.title('Распределение времени поездки пользователей с подпиской и без подписки')\n",
    "plt.ylabel('Количество значений')\n",
    "plt.xlabel('Продолжительность поездки в минутах')\n",
    "plt.show\n",
    "# C помощью метода describe () получим числовое описание данных для столбца duration\n",
    "df_users_ultra['duration'].describe().round().astype('int')"
   ]
  },
  {
   "cell_type": "markdown",
   "id": "a5d42e08",
   "metadata": {},
   "source": [
    "      Глядя на гистограмму, можно сказать с уверенностью, что она имеет вид нормального распределения. Минимальное время поездки составило 4 минуты, максимальное время 41 минуту. Среднее значение равно 19, медиана равна 19 минутам."
   ]
  },
  {
   "cell_type": "code",
   "execution_count": 64,
   "id": "6fef7627",
   "metadata": {},
   "outputs": [
    {
     "data": {
      "text/plain": [
       "Text(0.5, 1.0, 'Распределение продолжительности поездки  пользователей с подпиской и без')"
      ]
     },
     "execution_count": 64,
     "metadata": {},
     "output_type": "execute_result"
    },
    {
     "data": {
      "image/png": "[encoded data removed]",
      "text/plain": [
       "<Figure size 640x480 with 1 Axes>"
      ]
     },
     "metadata": {},
     "output_type": "display_data"
    }
   ],
   "source": [
    "# Сравним распределения продолжительности поездок  пользователей с подпиской и без подписки\n",
    "x1 = list(df_users_ultra['duration'])\n",
    "x2 = list(df_users_free['duration'])\n",
    "colors = ['yellow','green']\n",
    "names = ['ultra', 'free'] \n",
    "\n",
    "plt.hist([x1, x2], bins = 20, color = colors, label=names)\n",
    "plt.legend()\n",
    "plt.xlabel('Продолжительность поездки')\n",
    "plt.ylabel('Количество значений')\n",
    "plt.title('Распределение продолжительности поездки  пользователей с подпиской и без')\n"
   ]
  },
  {
   "cell_type": "markdown",
   "id": "0ef2ace0",
   "metadata": {},
   "source": [
    "     Как видно из графика, продолжительность поездки среди пользователей с подпиской и без подписки примерно равная и составляет 20 минут."
   ]
  },
  {
   "cell_type": "markdown",
   "id": "ed3b9b6d",
   "metadata": {},
   "source": [
    "    Вывод по Объединению данных: \n",
    "    В данном шаге исследования мы объединили данные о пользователях, поездках и подписках в один датафрейм df_general. Также были созданы два датафрейма df_users_free и df_users_ultra, которые содержат информацию о пользователях сервиса без подписки и с подпиской соответственно. По каждому из датафреймов были построены гистограммы для признаков duration и distance, описаны вид гистограмм и получено числовое описание данных с помощью метода decribe()."
   ]
  },
  {
   "cell_type": "markdown",
   "id": "600a92cb",
   "metadata": {},
   "source": [
    "##   14 Шаг 5. Подсчёт выручки"
   ]
  },
  {
   "cell_type": "markdown",
   "id": "734ded74",
   "metadata": {},
   "source": [
    "   ##  15 5.1 Создадим датафрейм с агрегированными данными о поездках на основе датафрейма с объединёнными данными из шага 4. \n",
    "   \n",
    "    Найдём суммарное расстояние, количество поездок и суммарное время для каждого пользователя за каждый месяц."
   ]
  },
  {
   "cell_type": "code",
   "execution_count": 65,
   "id": "e7f1dfdd",
   "metadata": {
    "scrolled": true
   },
   "outputs": [
    {
     "data": {
      "text/html": [
       "<div>\n",
       "<style scoped>\n",
       "    .dataframe tbody tr th:only-of-type {\n",
       "        vertical-align: middle;\n",
       "    }\n",
       "\n",
       "    .dataframe tbody tr th {\n",
       "        vertical-align: top;\n",
       "    }\n",
       "\n",
       "    .dataframe thead th {\n",
       "        text-align: right;\n",
       "    }\n",
       "</style>\n",
       "<table border=\"1\" class=\"dataframe\">\n",
       "  <thead>\n",
       "    <tr style=\"text-align: right;\">\n",
       "      <th></th>\n",
       "      <th>user_id</th>\n",
       "      <th>date_month</th>\n",
       "      <th>subscription_type</th>\n",
       "      <th>minute_price</th>\n",
       "      <th>start_ride_price</th>\n",
       "      <th>subscription_fee</th>\n",
       "      <th>duration</th>\n",
       "      <th>distance</th>\n",
       "      <th>name</th>\n",
       "    </tr>\n",
       "  </thead>\n",
       "  <tbody>\n",
       "    <tr>\n",
       "      <th>0</th>\n",
       "      <td>1</td>\n",
       "      <td>1</td>\n",
       "      <td>ultra</td>\n",
       "      <td>6</td>\n",
       "      <td>0</td>\n",
       "      <td>199</td>\n",
       "      <td>42.0</td>\n",
       "      <td>7027.511294</td>\n",
       "      <td>2</td>\n",
       "    </tr>\n",
       "    <tr>\n",
       "      <th>1</th>\n",
       "      <td>1</td>\n",
       "      <td>4</td>\n",
       "      <td>ultra</td>\n",
       "      <td>6</td>\n",
       "      <td>0</td>\n",
       "      <td>199</td>\n",
       "      <td>7.0</td>\n",
       "      <td>754.159807</td>\n",
       "      <td>1</td>\n",
       "    </tr>\n",
       "    <tr>\n",
       "      <th>2</th>\n",
       "      <td>1</td>\n",
       "      <td>8</td>\n",
       "      <td>ultra</td>\n",
       "      <td>6</td>\n",
       "      <td>0</td>\n",
       "      <td>199</td>\n",
       "      <td>46.0</td>\n",
       "      <td>6723.470560</td>\n",
       "      <td>2</td>\n",
       "    </tr>\n",
       "    <tr>\n",
       "      <th>3</th>\n",
       "      <td>1</td>\n",
       "      <td>10</td>\n",
       "      <td>ultra</td>\n",
       "      <td>6</td>\n",
       "      <td>0</td>\n",
       "      <td>199</td>\n",
       "      <td>32.0</td>\n",
       "      <td>5809.911100</td>\n",
       "      <td>2</td>\n",
       "    </tr>\n",
       "    <tr>\n",
       "      <th>4</th>\n",
       "      <td>1</td>\n",
       "      <td>11</td>\n",
       "      <td>ultra</td>\n",
       "      <td>6</td>\n",
       "      <td>0</td>\n",
       "      <td>199</td>\n",
       "      <td>56.0</td>\n",
       "      <td>7003.499363</td>\n",
       "      <td>3</td>\n",
       "    </tr>\n",
       "    <tr>\n",
       "      <th>5</th>\n",
       "      <td>1</td>\n",
       "      <td>12</td>\n",
       "      <td>ultra</td>\n",
       "      <td>6</td>\n",
       "      <td>0</td>\n",
       "      <td>199</td>\n",
       "      <td>28.0</td>\n",
       "      <td>6751.629942</td>\n",
       "      <td>2</td>\n",
       "    </tr>\n",
       "    <tr>\n",
       "      <th>6</th>\n",
       "      <td>2</td>\n",
       "      <td>3</td>\n",
       "      <td>ultra</td>\n",
       "      <td>6</td>\n",
       "      <td>0</td>\n",
       "      <td>199</td>\n",
       "      <td>63.0</td>\n",
       "      <td>10187.723006</td>\n",
       "      <td>3</td>\n",
       "    </tr>\n",
       "    <tr>\n",
       "      <th>7</th>\n",
       "      <td>2</td>\n",
       "      <td>4</td>\n",
       "      <td>ultra</td>\n",
       "      <td>6</td>\n",
       "      <td>0</td>\n",
       "      <td>199</td>\n",
       "      <td>40.0</td>\n",
       "      <td>6164.381824</td>\n",
       "      <td>2</td>\n",
       "    </tr>\n",
       "    <tr>\n",
       "      <th>8</th>\n",
       "      <td>2</td>\n",
       "      <td>6</td>\n",
       "      <td>ultra</td>\n",
       "      <td>6</td>\n",
       "      <td>0</td>\n",
       "      <td>199</td>\n",
       "      <td>14.0</td>\n",
       "      <td>3255.338202</td>\n",
       "      <td>1</td>\n",
       "    </tr>\n",
       "    <tr>\n",
       "      <th>9</th>\n",
       "      <td>2</td>\n",
       "      <td>7</td>\n",
       "      <td>ultra</td>\n",
       "      <td>6</td>\n",
       "      <td>0</td>\n",
       "      <td>199</td>\n",
       "      <td>48.0</td>\n",
       "      <td>6780.722964</td>\n",
       "      <td>2</td>\n",
       "    </tr>\n",
       "    <tr>\n",
       "      <th>10</th>\n",
       "      <td>2</td>\n",
       "      <td>8</td>\n",
       "      <td>ultra</td>\n",
       "      <td>6</td>\n",
       "      <td>0</td>\n",
       "      <td>199</td>\n",
       "      <td>7.0</td>\n",
       "      <td>923.007439</td>\n",
       "      <td>1</td>\n",
       "    </tr>\n",
       "    <tr>\n",
       "      <th>11</th>\n",
       "      <td>2</td>\n",
       "      <td>10</td>\n",
       "      <td>ultra</td>\n",
       "      <td>6</td>\n",
       "      <td>0</td>\n",
       "      <td>199</td>\n",
       "      <td>19.0</td>\n",
       "      <td>2824.636598</td>\n",
       "      <td>1</td>\n",
       "    </tr>\n",
       "    <tr>\n",
       "      <th>12</th>\n",
       "      <td>2</td>\n",
       "      <td>12</td>\n",
       "      <td>ultra</td>\n",
       "      <td>6</td>\n",
       "      <td>0</td>\n",
       "      <td>199</td>\n",
       "      <td>12.0</td>\n",
       "      <td>3828.248580</td>\n",
       "      <td>1</td>\n",
       "    </tr>\n",
       "    <tr>\n",
       "      <th>13</th>\n",
       "      <td>3</td>\n",
       "      <td>1</td>\n",
       "      <td>ultra</td>\n",
       "      <td>6</td>\n",
       "      <td>0</td>\n",
       "      <td>199</td>\n",
       "      <td>13.0</td>\n",
       "      <td>3061.777147</td>\n",
       "      <td>1</td>\n",
       "    </tr>\n",
       "    <tr>\n",
       "      <th>14</th>\n",
       "      <td>3</td>\n",
       "      <td>2</td>\n",
       "      <td>ultra</td>\n",
       "      <td>6</td>\n",
       "      <td>0</td>\n",
       "      <td>199</td>\n",
       "      <td>39.0</td>\n",
       "      <td>5421.152016</td>\n",
       "      <td>2</td>\n",
       "    </tr>\n",
       "    <tr>\n",
       "      <th>15</th>\n",
       "      <td>3</td>\n",
       "      <td>4</td>\n",
       "      <td>ultra</td>\n",
       "      <td>6</td>\n",
       "      <td>0</td>\n",
       "      <td>199</td>\n",
       "      <td>21.0</td>\n",
       "      <td>2956.651632</td>\n",
       "      <td>1</td>\n",
       "    </tr>\n",
       "    <tr>\n",
       "      <th>16</th>\n",
       "      <td>3</td>\n",
       "      <td>5</td>\n",
       "      <td>ultra</td>\n",
       "      <td>6</td>\n",
       "      <td>0</td>\n",
       "      <td>199</td>\n",
       "      <td>63.0</td>\n",
       "      <td>9064.026918</td>\n",
       "      <td>3</td>\n",
       "    </tr>\n",
       "    <tr>\n",
       "      <th>17</th>\n",
       "      <td>3</td>\n",
       "      <td>7</td>\n",
       "      <td>ultra</td>\n",
       "      <td>6</td>\n",
       "      <td>0</td>\n",
       "      <td>199</td>\n",
       "      <td>67.0</td>\n",
       "      <td>10919.595403</td>\n",
       "      <td>3</td>\n",
       "    </tr>\n",
       "    <tr>\n",
       "      <th>18</th>\n",
       "      <td>3</td>\n",
       "      <td>9</td>\n",
       "      <td>ultra</td>\n",
       "      <td>6</td>\n",
       "      <td>0</td>\n",
       "      <td>199</td>\n",
       "      <td>23.0</td>\n",
       "      <td>2891.012822</td>\n",
       "      <td>1</td>\n",
       "    </tr>\n",
       "    <tr>\n",
       "      <th>19</th>\n",
       "      <td>3</td>\n",
       "      <td>12</td>\n",
       "      <td>ultra</td>\n",
       "      <td>6</td>\n",
       "      <td>0</td>\n",
       "      <td>199</td>\n",
       "      <td>13.0</td>\n",
       "      <td>2593.381928</td>\n",
       "      <td>1</td>\n",
       "    </tr>\n",
       "    <tr>\n",
       "      <th>20</th>\n",
       "      <td>4</td>\n",
       "      <td>2</td>\n",
       "      <td>ultra</td>\n",
       "      <td>6</td>\n",
       "      <td>0</td>\n",
       "      <td>199</td>\n",
       "      <td>49.0</td>\n",
       "      <td>6339.696747</td>\n",
       "      <td>2</td>\n",
       "    </tr>\n",
       "    <tr>\n",
       "      <th>21</th>\n",
       "      <td>4</td>\n",
       "      <td>6</td>\n",
       "      <td>ultra</td>\n",
       "      <td>6</td>\n",
       "      <td>0</td>\n",
       "      <td>199</td>\n",
       "      <td>45.0</td>\n",
       "      <td>6753.041806</td>\n",
       "      <td>2</td>\n",
       "    </tr>\n",
       "    <tr>\n",
       "      <th>22</th>\n",
       "      <td>4</td>\n",
       "      <td>7</td>\n",
       "      <td>ultra</td>\n",
       "      <td>6</td>\n",
       "      <td>0</td>\n",
       "      <td>199</td>\n",
       "      <td>56.0</td>\n",
       "      <td>10491.175555</td>\n",
       "      <td>3</td>\n",
       "    </tr>\n",
       "    <tr>\n",
       "      <th>23</th>\n",
       "      <td>4</td>\n",
       "      <td>8</td>\n",
       "      <td>ultra</td>\n",
       "      <td>6</td>\n",
       "      <td>0</td>\n",
       "      <td>199</td>\n",
       "      <td>36.0</td>\n",
       "      <td>4649.488243</td>\n",
       "      <td>1</td>\n",
       "    </tr>\n",
       "    <tr>\n",
       "      <th>24</th>\n",
       "      <td>4</td>\n",
       "      <td>10</td>\n",
       "      <td>ultra</td>\n",
       "      <td>6</td>\n",
       "      <td>0</td>\n",
       "      <td>199</td>\n",
       "      <td>79.0</td>\n",
       "      <td>13260.762274</td>\n",
       "      <td>4</td>\n",
       "    </tr>\n",
       "  </tbody>\n",
       "</table>\n",
       "</div>"
      ],
      "text/plain": [
       "    user_id  date_month subscription_type  minute_price  start_ride_price  \\\n",
       "0         1           1             ultra             6                 0   \n",
       "1         1           4             ultra             6                 0   \n",
       "2         1           8             ultra             6                 0   \n",
       "3         1          10             ultra             6                 0   \n",
       "4         1          11             ultra             6                 0   \n",
       "5         1          12             ultra             6                 0   \n",
       "6         2           3             ultra             6                 0   \n",
       "7         2           4             ultra             6                 0   \n",
       "8         2           6             ultra             6                 0   \n",
       "9         2           7             ultra             6                 0   \n",
       "10        2           8             ultra             6                 0   \n",
       "11        2          10             ultra             6                 0   \n",
       "12        2          12             ultra             6                 0   \n",
       "13        3           1             ultra             6                 0   \n",
       "14        3           2             ultra             6                 0   \n",
       "15        3           4             ultra             6                 0   \n",
       "16        3           5             ultra             6                 0   \n",
       "17        3           7             ultra             6                 0   \n",
       "18        3           9             ultra             6                 0   \n",
       "19        3          12             ultra             6                 0   \n",
       "20        4           2             ultra             6                 0   \n",
       "21        4           6             ultra             6                 0   \n",
       "22        4           7             ultra             6                 0   \n",
       "23        4           8             ultra             6                 0   \n",
       "24        4          10             ultra             6                 0   \n",
       "\n",
       "    subscription_fee  duration      distance  name  \n",
       "0                199      42.0   7027.511294     2  \n",
       "1                199       7.0    754.159807     1  \n",
       "2                199      46.0   6723.470560     2  \n",
       "3                199      32.0   5809.911100     2  \n",
       "4                199      56.0   7003.499363     3  \n",
       "5                199      28.0   6751.629942     2  \n",
       "6                199      63.0  10187.723006     3  \n",
       "7                199      40.0   6164.381824     2  \n",
       "8                199      14.0   3255.338202     1  \n",
       "9                199      48.0   6780.722964     2  \n",
       "10               199       7.0    923.007439     1  \n",
       "11               199      19.0   2824.636598     1  \n",
       "12               199      12.0   3828.248580     1  \n",
       "13               199      13.0   3061.777147     1  \n",
       "14               199      39.0   5421.152016     2  \n",
       "15               199      21.0   2956.651632     1  \n",
       "16               199      63.0   9064.026918     3  \n",
       "17               199      67.0  10919.595403     3  \n",
       "18               199      23.0   2891.012822     1  \n",
       "19               199      13.0   2593.381928     1  \n",
       "20               199      49.0   6339.696747     2  \n",
       "21               199      45.0   6753.041806     2  \n",
       "22               199      56.0  10491.175555     3  \n",
       "23               199      36.0   4649.488243     1  \n",
       "24               199      79.0  13260.762274     4  "
      ]
     },
     "execution_count": 65,
     "metadata": {},
     "output_type": "execute_result"
    }
   ],
   "source": [
    "\n",
    "df_new = df_general.groupby(['user_id', 'date_month','subscription_type','minute_price','start_ride_price','subscription_fee']).agg({'duration': 'sum' , 'distance': 'sum', 'name':'count'}).reset_index()\n",
    "\n",
    "df_new.head(25)\n"
   ]
  },
  {
   "cell_type": "markdown",
   "id": "9ba445b6",
   "metadata": {},
   "source": [
    "   ##  16 5.2 В данный датафрейм добавим столбец с помесячной выручкой, которую принёс каждый пользователь."
   ]
  },
  {
   "cell_type": "code",
   "execution_count": 66,
   "id": "cedaa470",
   "metadata": {},
   "outputs": [],
   "source": [
    "# Добавим столбец с помесячной выручкой по каждому пользователю\n",
    "df_new['monthly_revenue'] = df_new['start_ride_price'] * df_new['name'] + df_new['duration'] * df_new['minute_price'] + df_new['subscription_fee']"
   ]
  },
  {
   "cell_type": "code",
   "execution_count": 67,
   "id": "c4fa0eee",
   "metadata": {},
   "outputs": [
    {
     "data": {
      "text/html": [
       "<div>\n",
       "<style scoped>\n",
       "    .dataframe tbody tr th:only-of-type {\n",
       "        vertical-align: middle;\n",
       "    }\n",
       "\n",
       "    .dataframe tbody tr th {\n",
       "        vertical-align: top;\n",
       "    }\n",
       "\n",
       "    .dataframe thead th {\n",
       "        text-align: right;\n",
       "    }\n",
       "</style>\n",
       "<table border=\"1\" class=\"dataframe\">\n",
       "  <thead>\n",
       "    <tr style=\"text-align: right;\">\n",
       "      <th></th>\n",
       "      <th>user_id</th>\n",
       "      <th>date_month</th>\n",
       "      <th>subscription_type</th>\n",
       "      <th>minute_price</th>\n",
       "      <th>start_ride_price</th>\n",
       "      <th>subscription_fee</th>\n",
       "      <th>duration</th>\n",
       "      <th>distance</th>\n",
       "      <th>name</th>\n",
       "      <th>monthly_revenue</th>\n",
       "    </tr>\n",
       "  </thead>\n",
       "  <tbody>\n",
       "    <tr>\n",
       "      <th>0</th>\n",
       "      <td>1</td>\n",
       "      <td>1</td>\n",
       "      <td>ultra</td>\n",
       "      <td>6</td>\n",
       "      <td>0</td>\n",
       "      <td>199</td>\n",
       "      <td>42.0</td>\n",
       "      <td>7027.511294</td>\n",
       "      <td>2</td>\n",
       "      <td>451.0</td>\n",
       "    </tr>\n",
       "    <tr>\n",
       "      <th>1</th>\n",
       "      <td>1</td>\n",
       "      <td>4</td>\n",
       "      <td>ultra</td>\n",
       "      <td>6</td>\n",
       "      <td>0</td>\n",
       "      <td>199</td>\n",
       "      <td>7.0</td>\n",
       "      <td>754.159807</td>\n",
       "      <td>1</td>\n",
       "      <td>241.0</td>\n",
       "    </tr>\n",
       "    <tr>\n",
       "      <th>2</th>\n",
       "      <td>1</td>\n",
       "      <td>8</td>\n",
       "      <td>ultra</td>\n",
       "      <td>6</td>\n",
       "      <td>0</td>\n",
       "      <td>199</td>\n",
       "      <td>46.0</td>\n",
       "      <td>6723.470560</td>\n",
       "      <td>2</td>\n",
       "      <td>475.0</td>\n",
       "    </tr>\n",
       "    <tr>\n",
       "      <th>3</th>\n",
       "      <td>1</td>\n",
       "      <td>10</td>\n",
       "      <td>ultra</td>\n",
       "      <td>6</td>\n",
       "      <td>0</td>\n",
       "      <td>199</td>\n",
       "      <td>32.0</td>\n",
       "      <td>5809.911100</td>\n",
       "      <td>2</td>\n",
       "      <td>391.0</td>\n",
       "    </tr>\n",
       "    <tr>\n",
       "      <th>4</th>\n",
       "      <td>1</td>\n",
       "      <td>11</td>\n",
       "      <td>ultra</td>\n",
       "      <td>6</td>\n",
       "      <td>0</td>\n",
       "      <td>199</td>\n",
       "      <td>56.0</td>\n",
       "      <td>7003.499363</td>\n",
       "      <td>3</td>\n",
       "      <td>535.0</td>\n",
       "    </tr>\n",
       "    <tr>\n",
       "      <th>5</th>\n",
       "      <td>1</td>\n",
       "      <td>12</td>\n",
       "      <td>ultra</td>\n",
       "      <td>6</td>\n",
       "      <td>0</td>\n",
       "      <td>199</td>\n",
       "      <td>28.0</td>\n",
       "      <td>6751.629942</td>\n",
       "      <td>2</td>\n",
       "      <td>367.0</td>\n",
       "    </tr>\n",
       "    <tr>\n",
       "      <th>6</th>\n",
       "      <td>2</td>\n",
       "      <td>3</td>\n",
       "      <td>ultra</td>\n",
       "      <td>6</td>\n",
       "      <td>0</td>\n",
       "      <td>199</td>\n",
       "      <td>63.0</td>\n",
       "      <td>10187.723006</td>\n",
       "      <td>3</td>\n",
       "      <td>577.0</td>\n",
       "    </tr>\n",
       "    <tr>\n",
       "      <th>7</th>\n",
       "      <td>2</td>\n",
       "      <td>4</td>\n",
       "      <td>ultra</td>\n",
       "      <td>6</td>\n",
       "      <td>0</td>\n",
       "      <td>199</td>\n",
       "      <td>40.0</td>\n",
       "      <td>6164.381824</td>\n",
       "      <td>2</td>\n",
       "      <td>439.0</td>\n",
       "    </tr>\n",
       "    <tr>\n",
       "      <th>8</th>\n",
       "      <td>2</td>\n",
       "      <td>6</td>\n",
       "      <td>ultra</td>\n",
       "      <td>6</td>\n",
       "      <td>0</td>\n",
       "      <td>199</td>\n",
       "      <td>14.0</td>\n",
       "      <td>3255.338202</td>\n",
       "      <td>1</td>\n",
       "      <td>283.0</td>\n",
       "    </tr>\n",
       "    <tr>\n",
       "      <th>9</th>\n",
       "      <td>2</td>\n",
       "      <td>7</td>\n",
       "      <td>ultra</td>\n",
       "      <td>6</td>\n",
       "      <td>0</td>\n",
       "      <td>199</td>\n",
       "      <td>48.0</td>\n",
       "      <td>6780.722964</td>\n",
       "      <td>2</td>\n",
       "      <td>487.0</td>\n",
       "    </tr>\n",
       "  </tbody>\n",
       "</table>\n",
       "</div>"
      ],
      "text/plain": [
       "   user_id  date_month subscription_type  minute_price  start_ride_price  \\\n",
       "0        1           1             ultra             6                 0   \n",
       "1        1           4             ultra             6                 0   \n",
       "2        1           8             ultra             6                 0   \n",
       "3        1          10             ultra             6                 0   \n",
       "4        1          11             ultra             6                 0   \n",
       "5        1          12             ultra             6                 0   \n",
       "6        2           3             ultra             6                 0   \n",
       "7        2           4             ultra             6                 0   \n",
       "8        2           6             ultra             6                 0   \n",
       "9        2           7             ultra             6                 0   \n",
       "\n",
       "   subscription_fee  duration      distance  name  monthly_revenue  \n",
       "0               199      42.0   7027.511294     2            451.0  \n",
       "1               199       7.0    754.159807     1            241.0  \n",
       "2               199      46.0   6723.470560     2            475.0  \n",
       "3               199      32.0   5809.911100     2            391.0  \n",
       "4               199      56.0   7003.499363     3            535.0  \n",
       "5               199      28.0   6751.629942     2            367.0  \n",
       "6               199      63.0  10187.723006     3            577.0  \n",
       "7               199      40.0   6164.381824     2            439.0  \n",
       "8               199      14.0   3255.338202     1            283.0  \n",
       "9               199      48.0   6780.722964     2            487.0  "
      ]
     },
     "execution_count": 67,
     "metadata": {},
     "output_type": "execute_result"
    }
   ],
   "source": [
    "df_new.head(10)"
   ]
  },
  {
   "cell_type": "code",
   "execution_count": 68,
   "id": "2942a0e6",
   "metadata": {},
   "outputs": [
    {
     "data": {
      "text/plain": [
       "count    11331\n",
       "mean       342\n",
       "std        154\n",
       "min         58\n",
       "25%        234\n",
       "50%        319\n",
       "75%        415\n",
       "max       1444\n",
       "Name: monthly_revenue, dtype: int32"
      ]
     },
     "execution_count": 68,
     "metadata": {},
     "output_type": "execute_result"
    }
   ],
   "source": [
    "# Получим числовое описание данных для столбца 'monthly_revenue'\n",
    "df_new['monthly_revenue'].describe().round().astype('int')"
   ]
  },
  {
   "cell_type": "markdown",
   "id": "12501ca7",
   "metadata": {},
   "source": [
    "    Видим, что среднее значение составило 342 рубля, тогда как медиана равна 319 рублей. Минимальное значение равно 58, максимальное значение равно 1444 рубля."
   ]
  },
  {
   "cell_type": "markdown",
   "id": "6911fa7e",
   "metadata": {},
   "source": [
    "    Вывод: В 5 шаге нашего исследования мы нашли суммарное расстояние, количество поездок и суммарное время для каждого пользователя за каждый месяц. Также посчитали и добавили столбец с помесячной выручкой для каждого пользователя. Перейдем к следующему этапу исследования "
   ]
  },
  {
   "cell_type": "markdown",
   "id": "06c6e042",
   "metadata": {},
   "source": [
    "## 17  Шаг 6. Проверка гипотез "
   ]
  },
  {
   "cell_type": "markdown",
   "id": "250fdef1",
   "metadata": {},
   "source": [
    " ## 18  6.1 Важно понять, тратят ли пользователи с подпиской больше времени на поездки? Если да, то пользователи с подпиской могут быть «выгоднее» для компании. Проверим гипотезу. Используем исходные данные о продолжительности каждой сессии — отдельно для подписчиков и тех, у кого нет подписки."
   ]
  },
  {
   "cell_type": "markdown",
   "id": "98b86245",
   "metadata": {},
   "source": [
    "Сформулируем гипотезы:\n",
    "\n",
    "Н0 - среднее время поездки у пользователей с подпиской равно среднему времени поездки у пользователей без подписки \n",
    "\n",
    "Н1 - среднее время поездки у пользователей с подпиской больше чем у пользователей без подписки"
   ]
  },
  {
   "cell_type": "code",
   "execution_count": 69,
   "id": "eb6016bc",
   "metadata": {},
   "outputs": [
    {
     "name": "stdout",
     "output_type": "stream",
     "text": [
      "p-значение: 2.4959453720736625e-34\n",
      "Отвергаем нулевую гипотезу:среднее время поездки у пользователей с подпиской равно среднему времени поездки у пользователей без подписки\n"
     ]
    }
   ],
   "source": [
    "\n",
    "alpha = 0.05 # укажем уровень статистической значимости \n",
    "# если p-value окажется меньше него, отвергнем гипотезу\n",
    "\n",
    "results = st.ttest_ind(df_users_ultra['duration'],df_users_free['duration'],alternative = 'greater') # используем метод st.ttest_ind \n",
    "\n",
    "print('p-значение:', results.pvalue)\n",
    "\n",
    "if (results.pvalue < alpha): \n",
    "    print('Отвергаем нулевую гипотезу:среднее время поездки у пользователей с подпиской равно среднему времени поездки у пользователей без подписки')\n",
    "else: \n",
    "    print('Не получилось отвергнуть нулевую гипотезу:')"
   ]
  },
  {
   "cell_type": "markdown",
   "id": "1f906957",
   "metadata": {},
   "source": [
    "    Вывод: На имеющихся данных на уровне значимости 5% (уровне доверия 95%) есть основания  отвергнуть нулевую гипотезу в пользу альтернативы. Cреднее время поездки у пользователей с подпиской больше чем у пользователей без подписки."
   ]
  },
  {
   "cell_type": "markdown",
   "id": "61bded09",
   "metadata": {},
   "source": [
    "   ## 19 6.2 Расстояние одной поездки в 3130 метров — оптимальное с точки зрения износа самоката. Можно ли сказать, что расстояние, которое проезжают пользователи с подпиской за одну поездку, не превышает 3130 метров? Проверим гипотезу и сделаем выводы. \n",
    "\n"
   ]
  },
  {
   "cell_type": "markdown",
   "id": "6d0f4250",
   "metadata": {},
   "source": [
    "   Cформулируем гипотезы: \n",
    "\n",
    "H0 - Расстояние, которое проезжают пользователи с подпиской за одну поездку не превышает 3130 метров.\n",
    "\n",
    "H1 - Расстояние, которое проезжают пользователи с подпиской за одну поездку, больше 3130 метров."
   ]
  },
  {
   "cell_type": "code",
   "execution_count": 70,
   "id": "67f7267a",
   "metadata": {},
   "outputs": [
    {
     "name": "stdout",
     "output_type": "stream",
     "text": [
      "p-значение: 0.9195368847849785\n",
      "Не отвергаем нулевую гипотезу\n"
     ]
    }
   ],
   "source": [
    "\n",
    "alpha = 0.05\n",
    "# укажем уровень статичтической значимости \n",
    "# если p-value окажется меньше него, то отвергнем гипотезу\n",
    "interested_value = 3130\n",
    "results = st.ttest_1samp(df_users_ultra['distance'], interested_value, alternative = 'greater') # используем метод st.ttest_1samp\n",
    "\n",
    "print('p-значение:', results.pvalue) \n",
    "\n",
    "if (results.pvalue < alpha):\n",
    "    print('Отвергаем нулевую гипотезу: Расстояние, которое проезжают пользователи с подпиской за одну поездку не превышает 3130 метров ')\n",
    "else:\n",
    "    print('Не отвергаем нулевую гипотезу') "
   ]
  },
  {
   "cell_type": "markdown",
   "id": "adf4e6d3",
   "metadata": {},
   "source": [
    " Вывод: На имеющихся данных на уровне значимости 5% (уровне доверия 95%) нет оснований  отвергнуть нулевую гипотезу в пользу альтернативы. Расстояние, которое проезжают пользователи с подпиской за одну поездку , не превышает 3130 метров \n"
   ]
  },
  {
   "cell_type": "markdown",
   "id": "ca9affa7",
   "metadata": {},
   "source": [
    "  ##  20  6.3 Проверим гипотезу о том, будет ли помесячная выручка от пользователей с подпиской по месяцам выше, чем выручка от пользователей без подписки. Сделаем вывод. "
   ]
  },
  {
   "cell_type": "markdown",
   "id": "a70bdad3",
   "metadata": {},
   "source": [
    "Cформулируем гипотезы: \n",
    "\n",
    "H0 - Средняя месячная выручка от пользователей с подпиской равна средней месячной выручке от пользователей без подписки.\n",
    "\n",
    "Н1 - Средняя месячная выручка от пользователей с подпиской выше средней месячной выручки от пользователей без подписки.\n"
   ]
  },
  {
   "cell_type": "code",
   "execution_count": 71,
   "id": "77723f4e",
   "metadata": {},
   "outputs": [
    {
     "name": "stdout",
     "output_type": "stream",
     "text": [
      "p-значение: 1.8850394384715216e-31\n",
      "Отвергаем нулевую гипотезу: Средняя месячная выручка от пользователей с подпиской равна средней месячной выручке от пользователей бе подписки\n"
     ]
    }
   ],
   "source": [
    "\n",
    "alpha = 0.05\n",
    "# укажем уровень статиcтической значимости \n",
    "sample1 = df_new.query('subscription_type == \"ultra\"')['monthly_revenue']\n",
    "sample2 = df_new.query('subscription_type == \"free\"')['monthly_revenue']\n",
    "\n",
    "results = st.ttest_ind(sample1, sample2, alternative = 'greater')\n",
    "\n",
    "print('p-значение:', results.pvalue)\n",
    "\n",
    "if (results.pvalue < alpha):\n",
    "    print('Отвергаем нулевую гипотезу: Средняя месячная выручка от пользователей с подпиской равна средней месячной выручке от пользователей бе подписки')\n",
    "else:\n",
    "    print('Не отвергаем нулевую гипотезу') "
   ]
  },
  {
   "cell_type": "markdown",
   "id": "592b9e5d",
   "metadata": {},
   "source": [
    "    Вывод: На имеющихся данных на уровне значимости 5% (уровне доверия 95%) есть основания отвергнуть нулевую гипотезу в пользу альтернативы. Средняя месячная выручка у пользователей с подпиской выше чем у пользователей без подписки.\n"
   ]
  },
  {
   "cell_type": "markdown",
   "id": "9c4ae055",
   "metadata": {},
   "source": [
    "##  21  6.4. Представим  такую ситуацию: техническая команда сервиса обновила сервера, с которыми взаимодействует мобильное приложение. Она надеется, что из-за этого количество обращений в техподдержку значимо снизилось. Некоторый файл содержит для каждого пользователя данные о количестве обращений до обновления и после него. Ответим на вопрос: \"Какой тест вам понадобился бы для проверки этой гипотезы?\" "
   ]
  },
  {
   "cell_type": "markdown",
   "id": "22bbbd80",
   "metadata": {},
   "source": [
    "    Чтобы проверить гипотезу о количестве обращений в техподдержку до и после обновления сервиса можно применть метод scipy.stats.ttest_rel(). Для решения потребуется тест на равенство средних для зависимых выборок, до и после изменений."
   ]
  },
  {
   "cell_type": "markdown",
   "id": "3c7f55e4",
   "metadata": {},
   "source": [
    "##  22  Общие выводы: \n",
    "\n",
    "Статистический анализ данных о пользователях сервиса GoFast завершен. В ходе исследования были выполнены следующие шаги: \n",
    "1) В первом шаге исследования были выгружены три датафрейма, была изучена общая информация о каждом из них, проведено первичное знакомство с данными. \n",
    "2) Во втором шаге была проведена предобработка данных, по каждому датафрейму было проверено наличие пропущенных значений, были изменены типы данных для нужных столбцов датафрейма, создан новый столбец date_month c номером месяца на основе столбца date.\n",
    "3) В третьем шаге исследования провели исследовательский анализ данных. Было установлено, что больше всего пользователей сервиса GoFast находится  в Пятигорске - 219 человек, меньше всего пользователей живет в Москве -168 человек. 54 % пользователей не приобрели подписку, в то время как 46 % пользователей сервиса имеют подписку. Средний возраст пользователей сервиса составил 25 лет. Среднее расстояние, которое преодолевают пользователи равно 3071 м. Для визуализации данных по каждому признаку была построена гистограмма и сделаны выводы.\n",
    "4) В четвертом шаге исследования было проведено объединение данных о пользователях, поездках и подписках в один датафрейм df_general. Также были созданы два датафрейма df_users_free и df_users_ultra, которые содержат информацию о пользователях сервиса без подписки и с подпиской соответственно. \n",
    "5) На этом шаге исследования был посчитан и добавлен столбец monthly_revenue, который отображает помесячную выручку, принесенную каждым пользователем. \n",
    "6) В шестом шаге исследования были проверены несколько гипотез, которые призваны помочь бизнесу вырасти и улучшить показатели. \n",
    "\n",
    "    Результаты статистического анализа данных могут быть полезны для заказчика - сервиса аренды самокатов GoFast. В ходе исследования были учтены интересы и пожелания заказчика. Можно дать определенные рекомендации: \n",
    "    1) 54 % пользователей не имеют подписку. 46 % пользователей имеют подписку. Стоит внедрить интересные и выгодные акции для новых пользователей сервиса, чтобы повысить лояльность и повысить процент пользователей, приобретающих подписку \n",
    "    2) Средний возраст пользователя сервиса составил 25 лет. Максимальный возраст 43 года. Можно сделать акцент на категорию пользователей старше 40 лет, так как компания недополучает прибыль.\n",
    "    3) В среднем пользователь проезжает 3000 метров в течение 1 поездки\n",
    "    4) Была отвергнута гипотеза о том, что помесячная выручка от пользователей с подпиской по месяцам выше, чем выручка от пользователей без подписки\n",
    "    "
   ]
  }
 ],
 "metadata": {
  "kernelspec": {
   "display_name": "Python 3 (ipykernel)",
   "language": "python",
   "name": "python3"
  },
  "language_info": {
   "codemirror_mode": {
    "name": "ipython",
    "version": 3
   },
   "file_extension": ".py",
   "mimetype": "text/x-python",
   "name": "python",
   "nbconvert_exporter": "python",
   "pygments_lexer": "ipython3",
   "version": "3.10.9"
  }
 },
 "nbformat": 4,
 "nbformat_minor": 5
}
