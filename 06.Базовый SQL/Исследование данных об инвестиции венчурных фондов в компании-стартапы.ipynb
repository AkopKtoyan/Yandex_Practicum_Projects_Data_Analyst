{
 "cells": [
  {
   "cell_type": "markdown",
   "id": "486541f6",
   "metadata": {},
   "source": [
    "#   Исследование данных об инвестиции венчурных фондов в компании-стартапы"
   ]
  },
  {
   "cell_type": "markdown",
   "id": "68ec2408",
   "metadata": {},
   "source": [
    "##  Исходные данные "
   ]
  },
  {
   "cell_type": "markdown",
   "id": "e7cb4869",
   "metadata": {},
   "source": [
    " Cамостоятельный проект основан на базе данных, которая хранит информацию о венчурных фондах и инвестициях в компании-стартапы. Эта база данных основана на датасете Startup Investments, опубликованном на популярной платформе для соревнований по исследованию данных Kaggle. https://www.kaggle.com/datasets/justinas/startup-investments "
   ]
  },
  {
   "cell_type": "markdown",
   "id": "815fcd99",
   "metadata": {},
   "source": [
    "## Цель исследования "
   ]
  },
  {
   "cell_type": "markdown",
   "id": "ecb4aae3",
   "metadata": {},
   "source": [
    "Проанализировать данные о фондах и инвестициях, произвести выгрузки данных и ответить на поставленные вопросы с помощью SQL."
   ]
  },
  {
   "cell_type": "markdown",
   "id": "c01a220b",
   "metadata": {},
   "source": [
    "### Задания "
   ]
  },
  {
   "cell_type": "markdown",
   "id": "fd3b8b59",
   "metadata": {},
   "source": [
    "Задание 1 "
   ]
  },
  {
   "cell_type": "markdown",
   "id": "c9278960",
   "metadata": {},
   "source": [
    "Отобразите все записи из таблицы company по компаниям, которые закрылись."
   ]
  },
  {
   "cell_type": "code",
   "execution_count": null,
   "id": "7799d6ea",
   "metadata": {},
   "outputs": [],
   "source": [
    "'''\n",
    "SELECT COUNT(name)\n",
    "FROM company\n",
    "WHERE status = 'closed';\n",
    "'''"
   ]
  },
  {
   "cell_type": "markdown",
   "id": "e75a5e73",
   "metadata": {},
   "source": [
    "Задание 2"
   ]
  },
  {
   "cell_type": "markdown",
   "id": "d3a3d9f9",
   "metadata": {},
   "source": [
    "Отобразите количество привлечённых средств для новостных компаний США. Используйте данные из таблицы company. Отсортируйте таблицу по убыванию значений в поле funding_total."
   ]
  },
  {
   "cell_type": "code",
   "execution_count": null,
   "id": "6d850a80",
   "metadata": {},
   "outputs": [],
   "source": [
    "'''\n",
    "SELECT funding_total\n",
    "FROM company\n",
    "WHERE country_code = 'USA' and category_code = 'news'\n",
    "ORDER BY funding_total DESC; \n",
    "'''"
   ]
  },
  {
   "cell_type": "markdown",
   "id": "d332fb7f",
   "metadata": {},
   "source": [
    "Задание 3 "
   ]
  },
  {
   "cell_type": "markdown",
   "id": "d2c1739d",
   "metadata": {},
   "source": [
    "Найдите общую сумму сделок по покупке одних компаний другими в долларах. Отберите сделки, которые осуществлялись только за наличные с 2011 по 2013 год включительно."
   ]
  },
  {
   "cell_type": "code",
   "execution_count": null,
   "id": "b74042a8",
   "metadata": {},
   "outputs": [],
   "source": [
    "'''\n",
    "SELECT \n",
    "       SUM(price_amount) AS sum_price\n",
    "FROM acquisition\n",
    "WHERE \n",
    "   term_code = 'cash' AND \n",
    "EXTRACT(YEAR FROM CAST(acquired_at AS date)) BETWEEN '2011' AND  '2013';\n",
    "''' "
   ]
  },
  {
   "cell_type": "markdown",
   "id": "96acd94d",
   "metadata": {},
   "source": [
    "Задание 4 "
   ]
  },
  {
   "cell_type": "markdown",
   "id": "3f40b64a",
   "metadata": {},
   "source": [
    "Отобразите имя, фамилию и названия аккаунтов людей в твиттере, у которых названия аккаунтов начинаются на 'Silver'."
   ]
  },
  {
   "cell_type": "code",
   "execution_count": null,
   "id": "7d7ebb03",
   "metadata": {},
   "outputs": [],
   "source": [
    "'''\n",
    "SELECT first_name,\n",
    "       last_name,\n",
    "       twitter_username\n",
    "FROM people \n",
    "WHERE twitter_username LIKE 'Silver%';\n",
    "''' "
   ]
  },
  {
   "cell_type": "markdown",
   "id": "60cdc144",
   "metadata": {},
   "source": [
    "Задание 5 "
   ]
  },
  {
   "cell_type": "markdown",
   "id": "3f6ac3eb",
   "metadata": {},
   "source": [
    "Выведите на экран всю информацию о людях, у которых названия аккаунтов в твиттере содержат подстроку 'money', а фамилия начинается на 'K'."
   ]
  },
  {
   "cell_type": "code",
   "execution_count": null,
   "id": "4710ebef",
   "metadata": {},
   "outputs": [],
   "source": [
    "'''\n",
    "SELECT *\n",
    "FROM people\n",
    "WHERE twitter_username LIKE '%money%' AND\n",
    "      last_name LIKE '%K%';\n",
    "''' "
   ]
  },
  {
   "cell_type": "markdown",
   "id": "41b8b1bc",
   "metadata": {},
   "source": [
    "Задание 6 "
   ]
  },
  {
   "cell_type": "markdown",
   "id": "e984295b",
   "metadata": {},
   "source": [
    "Для каждой страны отобразите общую сумму привлечённых инвестиций, которые получили компании, зарегистрированные в этой стране. Страну, в которой зарегистрирована компания, можно определить по коду страны. Отсортируйте данные по убыванию суммы."
   ]
  },
  {
   "cell_type": "code",
   "execution_count": null,
   "id": "af237561",
   "metadata": {},
   "outputs": [],
   "source": [
    "'''\n",
    "SELECT SUM(funding_total) AS sum_fund,\n",
    "       country_code\n",
    "FROM company\n",
    "GROUP BY country_code\n",
    "ORDER BY SUM(funding_total) DESC; \n",
    "''' "
   ]
  },
  {
   "cell_type": "markdown",
   "id": "3399c403",
   "metadata": {},
   "source": [
    " Задание 7 "
   ]
  },
  {
   "cell_type": "markdown",
   "id": "df2e86bd",
   "metadata": {},
   "source": [
    "Составьте таблицу, в которую войдёт дата проведения раунда, а также минимальное и максимальное значения суммы инвестиций, привлечённых в эту дату.\n",
    "Оставьте в итоговой таблице только те записи, в которых минимальное значение суммы инвестиций не равно нулю и не равно максимальному значению."
   ]
  },
  {
   "cell_type": "code",
   "execution_count": null,
   "id": "889f45d7",
   "metadata": {},
   "outputs": [],
   "source": [
    "'''\n",
    "SELECT funded_at,\n",
    "       MIN(raised_amount),\n",
    "       MAX(raised_amount) \n",
    "FROM funding_round \n",
    "GROUP BY funded_at\n",
    "HAVING MIN(raised_amount) != 0 AND  MIN(raised_amount) !=  MAX(raised_amount) ; \n",
    "'''"
   ]
  },
  {
   "cell_type": "markdown",
   "id": "56eebfe0",
   "metadata": {},
   "source": [
    "Задание 8 "
   ]
  },
  {
   "cell_type": "markdown",
   "id": "2e59619e",
   "metadata": {},
   "source": [
    "Создайте поле с категориями:\n",
    "\n",
    "    Для фондов, которые инвестируют в 100 и более компаний, назначьте категорию high_activity.\n",
    "    Для фондов, которые инвестируют в 20 и более компаний до 100, назначьте категорию middle_activity.\n",
    "    Если количество инвестируемых компаний фонда не достигает 20, назначьте категорию low_activity.\n",
    "\n",
    "Отобразите все поля таблицы fund и новое поле с категориями."
   ]
  },
  {
   "cell_type": "code",
   "execution_count": null,
   "id": "0e611245",
   "metadata": {},
   "outputs": [],
   "source": [
    "''' \n",
    "SELECT *,\n",
    "     CASE\n",
    "         WHEN invested_companies >=100 THEN 'high_activity'\n",
    "         WHEN invested_companies >=20 THEN 'middle_activity'\n",
    "         ELSE 'low_activity'\n",
    "      END\n",
    "FROM fund; \n",
    "'''\n"
   ]
  },
  {
   "cell_type": "markdown",
   "id": "2453503a",
   "metadata": {},
   "source": [
    "Задание 9"
   ]
  },
  {
   "cell_type": "markdown",
   "id": "30e32355",
   "metadata": {},
   "source": [
    "Для каждой из категорий, назначенных в предыдущем задании, посчитайте округлённое до ближайшего целого числа среднее количество инвестиционных раундов, в которых фонд принимал участие. Выведите на экран категории и среднее число инвестиционных раундов. Отсортируйте таблицу по возрастанию среднего."
   ]
  },
  {
   "cell_type": "code",
   "execution_count": null,
   "id": "6329dac8",
   "metadata": {},
   "outputs": [],
   "source": [
    "''' \n",
    "SELECT \n",
    "       CASE\n",
    "           WHEN invested_companies>=100 THEN 'high_activity'\n",
    "           WHEN invested_companies>=20 THEN 'middle_activity'\n",
    "           ELSE 'low_activity'\n",
    "       END AS activity,\n",
    "       ROUND(AVG(investment_rounds)) AS average_rounds\n",
    "FROM fund\n",
    "GROUP BY activity\n",
    "ORDER BY average_rounds ASC;\n",
    "'''"
   ]
  },
  {
   "cell_type": "markdown",
   "id": "93993856",
   "metadata": {},
   "source": [
    "Задание 10 "
   ]
  },
  {
   "cell_type": "markdown",
   "id": "adbca0b5",
   "metadata": {},
   "source": [
    "Проанализируйте, в каких странах находятся фонды, которые чаще всего инвестируют в стартапы. \n",
    "Для каждой страны посчитайте минимальное, максимальное и среднее число компаний, в которые инвестировали фонды этой страны, основанные с 2010 по 2012 год включительно. Исключите страны с фондами, у которых минимальное число компаний, получивших инвестиции, равно нулю. \n",
    "Выгрузите десять самых активных стран-инвесторов: отсортируйте таблицу по среднему количеству компаний от большего к меньшему. Затем добавьте сортировку по коду страны в лексикографическом порядке."
   ]
  },
  {
   "cell_type": "code",
   "execution_count": null,
   "id": "795f36ca",
   "metadata": {},
   "outputs": [],
   "source": [
    "''' \n",
    "SELECT country_code, \n",
    "       MAX(invested_companies) AS max_invested_companies,\n",
    "       MIN(invested_companies) AS min_invested_companies,\n",
    "       AVG(invested_companies) AS avg_invested_companies\n",
    "FROM fund\n",
    "WHERE EXTRACT(YEAR FROM CAST(founded_at AS date)) BETWEEN '2010' AND '2012' \n",
    "GROUP BY country_code\n",
    "HAVING MIN(invested_companies) > 0 \n",
    "ORDER BY avg_invested_companies DESC, country_code ASC\n",
    "LIMIT 10;\n",
    "'''"
   ]
  },
  {
   "cell_type": "markdown",
   "id": "6eef024e",
   "metadata": {},
   "source": [
    "Задание 11 "
   ]
  },
  {
   "cell_type": "markdown",
   "id": "6d0c4af1",
   "metadata": {},
   "source": [
    "Отобразите имя и фамилию всех сотрудников стартапов. Добавьте поле с названием учебного заведения, которое окончил сотрудник, если эта информация известна."
   ]
  },
  {
   "cell_type": "code",
   "execution_count": null,
   "id": "ed60c9e7",
   "metadata": {},
   "outputs": [],
   "source": [
    "'''\n",
    "SELECT first_name,\n",
    "       last_name, \n",
    "      e.instituition AS education_instituition\n",
    "FROM people AS p \n",
    "LEFT OUTER JOIN education AS e ON e.person_id = p.id;\n",
    "'''\n"
   ]
  },
  {
   "cell_type": "markdown",
   "id": "0ff95c76",
   "metadata": {},
   "source": [
    "Задание 12 "
   ]
  },
  {
   "cell_type": "markdown",
   "id": "548b1e8c",
   "metadata": {},
   "source": [
    "Для каждой компании найдите количество учебных заведений, которые окончили её сотрудники. Выведите название компании и число уникальных названий учебных заведений. Составьте топ-5 компаний по количеству университетов."
   ]
  },
  {
   "cell_type": "code",
   "execution_count": null,
   "id": "18513709",
   "metadata": {},
   "outputs": [],
   "source": [
    "''' \n",
    "SELECT  \n",
    "    c.name AS company_name,\n",
    "    COUNT(DISTINCT(e.instituition))AS count_instituition \n",
    "FROM people AS p \n",
    "JOIN education AS e ON p.id = e.person_id\n",
    "JOIN company AS c ON c.id = p.company_id\n",
    "GROUP BY c.name\n",
    "ORDER BY count_instituition DESC\n",
    "LIMIT 5 ; \n",
    "'''"
   ]
  },
  {
   "cell_type": "markdown",
   "id": "eaac2b20",
   "metadata": {},
   "source": [
    "Задание 13 "
   ]
  },
  {
   "cell_type": "markdown",
   "id": "0ad35a00",
   "metadata": {},
   "source": [
    "Составьте список с уникальными названиями закрытых компаний, для которых первый раунд финансирования оказался последним."
   ]
  },
  {
   "cell_type": "code",
   "execution_count": null,
   "id": "6a78c0a6",
   "metadata": {},
   "outputs": [],
   "source": [
    "'''\n",
    "SELECT name\n",
    "FROM company AS c\n",
    "JOIN funding_round AS fr ON fr.company_id = c.id \n",
    "WHERE status = 'closed' \n",
    "AND is_first_round = 1 \n",
    "AND is_last_round = 1 \n",
    "GROUP BY name;\n",
    "'''"
   ]
  },
  {
   "cell_type": "markdown",
   "id": "520de7fe",
   "metadata": {},
   "source": [
    "Задание 14 "
   ]
  },
  {
   "cell_type": "markdown",
   "id": "d22457d9",
   "metadata": {},
   "source": [
    "Составьте список уникальных номеров сотрудников, которые работают в компаниях, отобранных в предыдущем задании."
   ]
  },
  {
   "cell_type": "code",
   "execution_count": null,
   "id": "e1646413",
   "metadata": {},
   "outputs": [],
   "source": [
    "'''\n",
    "SELECT DISTINCT(p.id)\n",
    "FROM people AS p \n",
    "WHERE p.company_id IN (SELECT c.id\n",
    "                       FROM company AS c \n",
    "                       JOIN funding_round AS fr ON fr.company_id = c.id \n",
    "                       WHERE status = 'closed'\n",
    "                       AND is_first_round = 1 \n",
    "                       AND is_last_round = 1\n",
    "                       GROUP BY c.id);\n",
    "'''"
   ]
  },
  {
   "cell_type": "markdown",
   "id": "412cb7c4",
   "metadata": {},
   "source": [
    "Задание 15"
   ]
  },
  {
   "cell_type": "markdown",
   "id": "55c406e0",
   "metadata": {},
   "source": [
    "Составьте таблицу, куда войдут уникальные пары с номерами сотрудников из предыдущей задачи и учебным заведением, которое окончил сотрудник."
   ]
  },
  {
   "cell_type": "code",
   "execution_count": null,
   "id": "6bf645e6",
   "metadata": {},
   "outputs": [],
   "source": [
    "'''\n",
    "SELECT  p.id,\n",
    "        e.instituition\n",
    "FROM  people AS p\n",
    "LEFT OUTER JOIN education AS e ON p.id = e.person_id     \n",
    "WHERE p.company_id IN (SELECT c.id\n",
    "                       FROM company AS c \n",
    "                       JOIN funding_round AS fr ON fr.company_id = c.id \n",
    "                       WHERE status = 'closed'\n",
    "                       AND is_first_round = 1 \n",
    "                       AND is_last_round = 1\n",
    "                       GROUP BY c.id)\n",
    "GROUP BY p.id, e.instituition\n",
    "HAVING e.instituition is NOT NULL;\n",
    "'''"
   ]
  },
  {
   "cell_type": "markdown",
   "id": "842eae2b",
   "metadata": {},
   "source": [
    "Задание 16 \n"
   ]
  },
  {
   "cell_type": "markdown",
   "id": "d662be74",
   "metadata": {},
   "source": [
    "Посчитайте количество учебных заведений для каждого сотрудника из предыдущего задания. При подсчёте учитывайте, что некоторые сотрудники могли окончить одно и то же заведение дважды."
   ]
  },
  {
   "cell_type": "code",
   "execution_count": null,
   "id": "8fc068b1",
   "metadata": {},
   "outputs": [],
   "source": [
    "'''\n",
    "SELECT  p.id,\n",
    "        COUNT(e.instituition) \n",
    "FROM  people AS p\n",
    "LEFT OUTER JOIN education AS e ON p.id = e.person_id     \n",
    "WHERE p.company_id IN (SELECT c.id\n",
    "                       FROM company AS c \n",
    "                       JOIN funding_round AS fr ON fr.company_id = c.id \n",
    "                       WHERE status = 'closed'\n",
    "                       AND is_first_round = 1 \n",
    "                       AND is_last_round = 1\n",
    "                       GROUP BY c.id)\n",
    "GROUP BY p.id\n",
    "HAVING COUNT(DISTINCT(e.instituition)) > 0; \n",
    "'''"
   ]
  },
  {
   "cell_type": "markdown",
   "id": "409c8e7d",
   "metadata": {},
   "source": [
    "Задание 17 "
   ]
  },
  {
   "cell_type": "markdown",
   "id": "a06ed223",
   "metadata": {},
   "source": [
    "Дополните предыдущий запрос и выведите среднее число учебных заведений (всех, не только уникальных), которые окончили сотрудники разных компаний. Нужно вывести только одну запись, группировка здесь не понадобится."
   ]
  },
  {
   "cell_type": "code",
   "execution_count": null,
   "id": "a0e3bd01",
   "metadata": {},
   "outputs": [],
   "source": [
    "'''\n",
    "WITH \n",
    "i AS (SELECT p.id,\n",
    "        COUNT(e.instituition) \n",
    "FROM  people AS p\n",
    "LEFT OUTER JOIN education AS e ON p.id = e.person_id     \n",
    "WHERE p.company_id IN (SELECT c.id\n",
    "                       FROM company AS c \n",
    "                       JOIN funding_round AS fr ON fr.company_id = c.id \n",
    "                       WHERE status = 'closed'\n",
    "                       AND is_first_round = 1 \n",
    "                       AND is_last_round = 1\n",
    "                       GROUP BY c.id)\n",
    "GROUP BY p.id\n",
    "HAVING COUNT(DISTINCT(e.instituition)) > 0)\n",
    "SELECT AVG (COUNT)\n",
    "FROM i;\n",
    "'''"
   ]
  },
  {
   "cell_type": "markdown",
   "id": "40609ed7",
   "metadata": {},
   "source": [
    "Задание 18 "
   ]
  },
  {
   "cell_type": "markdown",
   "id": "5c7a7972",
   "metadata": {},
   "source": [
    "Напишите похожий запрос: выведите среднее число учебных заведений (всех, не только уникальных), которые окончили сотрудники Facebook*.\n",
    "*(сервис, запрещённый на территории РФ)"
   ]
  },
  {
   "cell_type": "code",
   "execution_count": null,
   "id": "1013ace3",
   "metadata": {},
   "outputs": [],
   "source": [
    "'''\n",
    "WITH \n",
    "i AS (SELECT p.id,\n",
    "        COUNT(e.instituition) \n",
    "FROM  people AS p\n",
    "LEFT OUTER JOIN education AS e ON p.id = e.person_id     \n",
    "WHERE p.company_id IN (SELECT id\n",
    "                       FROM company\n",
    "                       WHERE name = 'Facebook')                     \n",
    "GROUP BY p.id\n",
    "HAVING COUNT(DISTINCT(e.instituition)) > 0)\n",
    "SELECT AVG (COUNT)\n",
    "FROM i; \n",
    "''' "
   ]
  },
  {
   "cell_type": "markdown",
   "id": "e9306371",
   "metadata": {},
   "source": [
    "Задание 19 "
   ]
  },
  {
   "cell_type": "markdown",
   "id": "47b314a2",
   "metadata": {},
   "source": [
    "Составьте таблицу из полей:\n",
    "\n",
    "    name_of_fund — название фонда;\n",
    "    name_of_company — название компании;\n",
    "    amount — сумма инвестиций, которую привлекла компания в раунде.\n",
    "\n",
    "В таблицу войдут данные о компаниях, в истории которых было больше шести важных этапов, а раунды финансирования проходили с 2012 по 2013 год включительно."
   ]
  },
  {
   "cell_type": "code",
   "execution_count": null,
   "id": "c9ee54de",
   "metadata": {},
   "outputs": [],
   "source": [
    "'''\n",
    "SELECT f.name AS name_of_fund,\n",
    "       c.name AS name_of_company,\n",
    "       fr.raised_amount AS amount\n",
    "FROM investment AS i\n",
    "LEFT OUTER JOIN company AS c ON c.id = i.company_id \n",
    "LEFT OUTER JOIN fund AS f ON i.fund_id = f.id\n",
    "INNER JOIN ( SELECT * \n",
    "             FROM funding_round\n",
    "            WHERE funded_at  BETWEEN '2012-01-01' AND '2013-12-31')\n",
    "AS fr ON fr.id = i.funding_round_id\n",
    "WHERE c.milestones > 6; \n",
    "'''"
   ]
  },
  {
   "cell_type": "markdown",
   "id": "690caab3",
   "metadata": {},
   "source": [
    "Задание 20"
   ]
  },
  {
   "cell_type": "markdown",
   "id": "cdf42d50",
   "metadata": {},
   "source": [
    "Выгрузите таблицу, в которой будут такие поля:\n",
    "\n",
    "    название компании-покупателя;\n",
    "    сумма сделки;\n",
    "    название компании, которую купили;\n",
    "    сумма инвестиций, вложенных в купленную компанию;\n",
    "    доля, которая отображает, во сколько раз сумма покупки превысила сумму вложенных в компанию инвестиций, округлённая до ближайшего целого числа.\n",
    "\n",
    "Не учитывайте те сделки, в которых сумма покупки равна нулю. Если сумма инвестиций в компанию равна нулю, исключите такую компанию из таблицы. \n",
    "Отсортируйте таблицу по сумме сделки от большей к меньшей, а затем по названию купленной компании в лексикографическом порядке. Ограничьте таблицу первыми десятью записями."
   ]
  },
  {
   "cell_type": "code",
   "execution_count": null,
   "id": "6b74680e",
   "metadata": {},
   "outputs": [],
   "source": [
    "''' \n",
    "SELECT c.name AS acquiring_name,\n",
    "       a.price_amount AS price,\n",
    "       c2.name AS acquired_name,\n",
    "       c2.funding_total,\n",
    "       ROUND((a.price_amount / c2.funding_total))\n",
    "\n",
    "FROM acquisition AS a\n",
    "LEFT JOIN company AS c ON a.acquiring_company_id=c.id\n",
    "LEFT JOIN company AS c2 ON a.acquired_company_id=c2.id\n",
    "WHERE a.price_amount > 0 AND c2.funding_total >  0\n",
    "ORDER BY  a.price_amount DESC, acquired_name\n",
    "LIMIT 10;\n",
    "'''"
   ]
  },
  {
   "cell_type": "markdown",
   "id": "1ffca70d",
   "metadata": {},
   "source": [
    "Задание 21"
   ]
  },
  {
   "cell_type": "markdown",
   "id": "5976f7ce",
   "metadata": {},
   "source": [
    "Выгрузите таблицу, в которую войдут названия компаний из категории social, получившие финансирование с 2010 по 2013 год включительно. Проверьте, что сумма инвестиций не равна нулю. Выведите также номер месяца, в котором проходил раунд финансирования."
   ]
  },
  {
   "cell_type": "code",
   "execution_count": null,
   "id": "175a8e01",
   "metadata": {},
   "outputs": [],
   "source": [
    "''' \n",
    "SELECT c.name,\n",
    "       EXTRACT(MONTH FROM fr.funded_at)\n",
    "FROM company AS c\n",
    "LEFT OUTER JOIN funding_round AS fr ON c.id = fr.company_id\n",
    "WHERE c.category_code = 'social'\n",
    "AND EXTRACT(YEAR FROM fr.funded_at)  BETWEEN '2010' AND '2013'\n",
    "AND fr.raised_amount > 0;\n",
    "'''"
   ]
  },
  {
   "cell_type": "markdown",
   "id": "35c63c61",
   "metadata": {},
   "source": [
    "Задание 22 "
   ]
  },
  {
   "cell_type": "markdown",
   "id": "557bdc3c",
   "metadata": {},
   "source": [
    "Отберите данные по месяцам с 2010 по 2013 год, когда проходили инвестиционные раунды. Сгруппируйте данные по номеру месяца и получите таблицу, в которой будут поля:\n",
    "\n",
    "    номер месяца, в котором проходили раунды;\n",
    "    количество уникальных названий фондов из США, которые инвестировали в этом месяце;\n",
    "    количество компаний, купленных за этот месяц;\n",
    "    общая сумма сделок по покупкам в этом месяце"
   ]
  },
  {
   "cell_type": "code",
   "execution_count": null,
   "id": "e56d48c2",
   "metadata": {},
   "outputs": [],
   "source": [
    "'''\n",
    "WITH month_fund AS\n",
    "  (SELECT EXTRACT(MONTH\n",
    "                  FROM fr.funded_at) AS MONTH,\n",
    "          COUNT(DISTINCT f.name) AS count_of_fund\n",
    "   FROM funding_round AS fr\n",
    "   LEFT JOIN investment AS i ON i.funding_round_id = fr.id\n",
    "   LEFT JOIN fund AS f ON i.fund_id = f.id\n",
    "   WHERE EXTRACT(YEAR\n",
    "                 FROM fr.funded_at) BETWEEN '2010' AND '2013'\n",
    "     AND f.country_code = 'USA'\n",
    "   GROUP BY MONTH),\n",
    "     month_acquired AS\n",
    "  (SELECT EXTRACT(MONTH\n",
    "                  FROM acquired_at) AS MONTH,\n",
    "          COUNT(acquired_company_id) AS count_of_acquired,\n",
    "          SUM(price_amount) AS sum_of_acquired\n",
    "   FROM acquisition\n",
    "   WHERE EXTRACT(YEAR\n",
    "                 FROM acquired_at) BETWEEN '2010' AND '2013'\n",
    "   GROUP BY MONTH)\n",
    " \n",
    "SELECT month_fund.month,\n",
    "       month_fund.count_of_fund,\n",
    "       month_acquired.count_of_acquired,\n",
    "       month_acquired.sum_of_acquired\n",
    "FROM month_fund\n",
    "JOIN month_acquired ON month_fund.month = month_acquired.month; \n",
    "'''"
   ]
  },
  {
   "cell_type": "markdown",
   "id": "81bd5c32",
   "metadata": {},
   "source": [
    "Задание 23 "
   ]
  },
  {
   "cell_type": "markdown",
   "id": "5709ac31",
   "metadata": {},
   "source": [
    "Составьте сводную таблицу и выведите среднюю сумму инвестиций для стран, в которых есть стартапы, зарегистрированные в 2011, 2012 и 2013 годах. Данные за каждый год должны быть в отдельном поле. Отсортируйте таблицу по среднему значению инвестиций за 2011 год от большего к меньшему."
   ]
  },
  {
   "cell_type": "code",
   "execution_count": null,
   "id": "aed988ed",
   "metadata": {},
   "outputs": [],
   "source": [
    "''' WITH y_11 AS\n",
    "        (SELECT country_code AS country,\n",
    "         AVG(funding_total) AS y_2011\n",
    "         FROM company\n",
    "         WHERE EXTRACT(YEAR FROM founded_at) BETWEEN 2011 AND 2013\n",
    "         GROUP BY country, EXTRACT(YEAR FROM founded_at)\n",
    "         HAVING EXTRACT(YEAR FROM founded_at) = '2011'),\n",
    "y_12 AS\n",
    "(SELECT country_code AS country,\n",
    "AVG(funding_total) AS y_2012\n",
    "FROM company\n",
    "WHERE EXTRACT(YEAR FROM founded_at) IN(2011, 2012, 2013)\n",
    "GROUP BY country, EXTRACT(YEAR FROM founded_at)\n",
    "HAVING EXTRACT(YEAR FROM founded_at) = '2012'),\n",
    "y_13 AS\n",
    "(SELECT country_code AS country,\n",
    "AVG(funding_total) AS y_2013\n",
    "FROM company\n",
    "WHERE EXTRACT(YEAR FROM founded_at) IN(2011, 2012, 2013)\n",
    "GROUP BY country, EXTRACT(YEAR FROM founded_at)\n",
    "HAVING EXTRACT(YEAR FROM founded_at) = '2013')\n",
    "SELECT y_11.country, y_2011, y_2012, y_2013\n",
    "FROM y_11\n",
    "JOIN y_12 ON y_11.country = y_12.country\n",
    "JOIN y_13 ON y_12.country = y_13.country\n",
    "ORDER BY y_2011 DESC; \n",
    "'''"
   ]
  }
 ],
 "metadata": {
  "kernelspec": {
   "display_name": "Python 3 (ipykernel)",
   "language": "python",
   "name": "python3"
  },
  "language_info": {
   "codemirror_mode": {
    "name": "ipython",
    "version": 3
   },
   "file_extension": ".py",
   "mimetype": "text/x-python",
   "name": "python",
   "nbconvert_exporter": "python",
   "pygments_lexer": "ipython3",
   "version": "3.10.9"
  }
 },
 "nbformat": 4,
 "nbformat_minor": 5
}
