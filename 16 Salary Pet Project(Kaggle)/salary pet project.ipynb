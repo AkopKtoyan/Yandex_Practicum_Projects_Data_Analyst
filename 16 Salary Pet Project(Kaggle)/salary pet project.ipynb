{
 "cells": [
  {
   "cell_type": "markdown",
   "id": "08cebd79",
   "metadata": {},
   "source": [
    "##  1 Описание проекта \n",
    " \n",
    "  В нашем распоряжении данные, полученные  из множества источников, включая опросы, сайты по размещению вакансий и другие общедоступные источники.\n",
    "  Цель исследования: исследовать какие факторы больше всего влияют на размер заработной платы и сформировать рекомендации для заказчика. "
   ]
  },
  {
   "cell_type": "markdown",
   "id": "565a3503",
   "metadata": {},
   "source": [
    "## 2 Описание данных \n",
    "\n",
    " Необходимые данные расположены на сайте kaggle: https://www.kaggle.com/datasets/mohithsairamreddy/salary-data \n",
    " \n",
    " Всего в датафрейме 6 столбцов: \n",
    " \n",
    " * Age - возраст сотрудника;\n",
    " * Gender - пол;\n",
    " * Education level - уровень образования;\n",
    " * Job title - должность; \n",
    " * Years of Experience - опыт работы в годах; \n",
    " * Salary - заработная плата \n",
    " \n",
    " Ход исследования содержит следующие этапы: \n",
    " \n",
    " 1. Загрузка данных и изучение общей информации \n",
    " 2. Предобработка данных \n",
    " 3. Исследовательский анализ данных \n",
    " 4. Проверка статистических гипотез и обоснование выбора статистического теста \n",
    " 5. Общие выводы и выработка рекомендаций "
   ]
  },
  {
   "cell_type": "markdown",
   "id": "9f163793",
   "metadata": {},
   "source": [
    "##  1 Загрузка данных и изучение общей информации"
   ]
  },
  {
   "cell_type": "markdown",
   "id": "4587514b",
   "metadata": {},
   "source": [
    "Загрузим необходимые библиотеки, которые понадобятся для работы."
   ]
  },
  {
   "cell_type": "code",
   "execution_count": 1,
   "id": "1f201285",
   "metadata": {},
   "outputs": [],
   "source": [
    "import pandas as pd \n",
    "import numpy as np \n",
    "import matplotlib.pyplot as plt \n",
    "import seaborn as sns \n",
    "import math as mt \n",
    "import plotly.graph_objects as go \n",
    "import plotly.express as px \n",
    "from scipy import stats as st "
   ]
  },
  {
   "cell_type": "code",
   "execution_count": 2,
   "id": "f08f2a82",
   "metadata": {},
   "outputs": [],
   "source": [
    "data = pd.read_csv('C:\\\\Users\\\\user\\\\Downloads\\Salary_Data.csv')"
   ]
  },
  {
   "cell_type": "code",
   "execution_count": 3,
   "id": "c0328e4a",
   "metadata": {},
   "outputs": [
    {
     "data": {
      "text/html": [
       "<div>\n",
       "<style scoped>\n",
       "    .dataframe tbody tr th:only-of-type {\n",
       "        vertical-align: middle;\n",
       "    }\n",
       "\n",
       "    .dataframe tbody tr th {\n",
       "        vertical-align: top;\n",
       "    }\n",
       "\n",
       "    .dataframe thead th {\n",
       "        text-align: right;\n",
       "    }\n",
       "</style>\n",
       "<table border=\"1\" class=\"dataframe\">\n",
       "  <thead>\n",
       "    <tr style=\"text-align: right;\">\n",
       "      <th></th>\n",
       "      <th>Age</th>\n",
       "      <th>Gender</th>\n",
       "      <th>Education Level</th>\n",
       "      <th>Job Title</th>\n",
       "      <th>Years of Experience</th>\n",
       "      <th>Salary</th>\n",
       "    </tr>\n",
       "  </thead>\n",
       "  <tbody>\n",
       "    <tr>\n",
       "      <th>0</th>\n",
       "      <td>32.0</td>\n",
       "      <td>Male</td>\n",
       "      <td>Bachelor's</td>\n",
       "      <td>Software Engineer</td>\n",
       "      <td>5.0</td>\n",
       "      <td>90000.0</td>\n",
       "    </tr>\n",
       "    <tr>\n",
       "      <th>1</th>\n",
       "      <td>28.0</td>\n",
       "      <td>Female</td>\n",
       "      <td>Master's</td>\n",
       "      <td>Data Analyst</td>\n",
       "      <td>3.0</td>\n",
       "      <td>65000.0</td>\n",
       "    </tr>\n",
       "    <tr>\n",
       "      <th>2</th>\n",
       "      <td>45.0</td>\n",
       "      <td>Male</td>\n",
       "      <td>PhD</td>\n",
       "      <td>Senior Manager</td>\n",
       "      <td>15.0</td>\n",
       "      <td>150000.0</td>\n",
       "    </tr>\n",
       "    <tr>\n",
       "      <th>3</th>\n",
       "      <td>36.0</td>\n",
       "      <td>Female</td>\n",
       "      <td>Bachelor's</td>\n",
       "      <td>Sales Associate</td>\n",
       "      <td>7.0</td>\n",
       "      <td>60000.0</td>\n",
       "    </tr>\n",
       "    <tr>\n",
       "      <th>4</th>\n",
       "      <td>52.0</td>\n",
       "      <td>Male</td>\n",
       "      <td>Master's</td>\n",
       "      <td>Director</td>\n",
       "      <td>20.0</td>\n",
       "      <td>200000.0</td>\n",
       "    </tr>\n",
       "  </tbody>\n",
       "</table>\n",
       "</div>"
      ],
      "text/plain": [
       "    Age  Gender Education Level          Job Title  Years of Experience  \\\n",
       "0  32.0    Male      Bachelor's  Software Engineer                  5.0   \n",
       "1  28.0  Female        Master's       Data Analyst                  3.0   \n",
       "2  45.0    Male             PhD     Senior Manager                 15.0   \n",
       "3  36.0  Female      Bachelor's    Sales Associate                  7.0   \n",
       "4  52.0    Male        Master's           Director                 20.0   \n",
       "\n",
       "     Salary  \n",
       "0   90000.0  \n",
       "1   65000.0  \n",
       "2  150000.0  \n",
       "3   60000.0  \n",
       "4  200000.0  "
      ]
     },
     "execution_count": 3,
     "metadata": {},
     "output_type": "execute_result"
    }
   ],
   "source": [
    "# Посмотрим на соедржимое датасета. Выведем первые пять строк\n",
    "data.head()"
   ]
  },
  {
   "cell_type": "code",
   "execution_count": 4,
   "id": "390e01bf",
   "metadata": {},
   "outputs": [
    {
     "data": {
      "text/html": [
       "<div>\n",
       "<style scoped>\n",
       "    .dataframe tbody tr th:only-of-type {\n",
       "        vertical-align: middle;\n",
       "    }\n",
       "\n",
       "    .dataframe tbody tr th {\n",
       "        vertical-align: top;\n",
       "    }\n",
       "\n",
       "    .dataframe thead th {\n",
       "        text-align: right;\n",
       "    }\n",
       "</style>\n",
       "<table border=\"1\" class=\"dataframe\">\n",
       "  <thead>\n",
       "    <tr style=\"text-align: right;\">\n",
       "      <th></th>\n",
       "      <th>Age</th>\n",
       "      <th>Gender</th>\n",
       "      <th>Education Level</th>\n",
       "      <th>Job Title</th>\n",
       "      <th>Years of Experience</th>\n",
       "      <th>Salary</th>\n",
       "    </tr>\n",
       "  </thead>\n",
       "  <tbody>\n",
       "    <tr>\n",
       "      <th>6699</th>\n",
       "      <td>49.0</td>\n",
       "      <td>Female</td>\n",
       "      <td>PhD</td>\n",
       "      <td>Director of Marketing</td>\n",
       "      <td>20.0</td>\n",
       "      <td>200000.0</td>\n",
       "    </tr>\n",
       "    <tr>\n",
       "      <th>6700</th>\n",
       "      <td>32.0</td>\n",
       "      <td>Male</td>\n",
       "      <td>High School</td>\n",
       "      <td>Sales Associate</td>\n",
       "      <td>3.0</td>\n",
       "      <td>50000.0</td>\n",
       "    </tr>\n",
       "    <tr>\n",
       "      <th>6701</th>\n",
       "      <td>30.0</td>\n",
       "      <td>Female</td>\n",
       "      <td>Bachelor's Degree</td>\n",
       "      <td>Financial Manager</td>\n",
       "      <td>4.0</td>\n",
       "      <td>55000.0</td>\n",
       "    </tr>\n",
       "    <tr>\n",
       "      <th>6702</th>\n",
       "      <td>46.0</td>\n",
       "      <td>Male</td>\n",
       "      <td>Master's Degree</td>\n",
       "      <td>Marketing Manager</td>\n",
       "      <td>14.0</td>\n",
       "      <td>140000.0</td>\n",
       "    </tr>\n",
       "    <tr>\n",
       "      <th>6703</th>\n",
       "      <td>26.0</td>\n",
       "      <td>Female</td>\n",
       "      <td>High School</td>\n",
       "      <td>Sales Executive</td>\n",
       "      <td>1.0</td>\n",
       "      <td>35000.0</td>\n",
       "    </tr>\n",
       "  </tbody>\n",
       "</table>\n",
       "</div>"
      ],
      "text/plain": [
       "       Age  Gender    Education Level              Job Title  \\\n",
       "6699  49.0  Female                PhD  Director of Marketing   \n",
       "6700  32.0    Male        High School        Sales Associate   \n",
       "6701  30.0  Female  Bachelor's Degree      Financial Manager   \n",
       "6702  46.0    Male    Master's Degree      Marketing Manager   \n",
       "6703  26.0  Female        High School        Sales Executive   \n",
       "\n",
       "      Years of Experience    Salary  \n",
       "6699                 20.0  200000.0  \n",
       "6700                  3.0   50000.0  \n",
       "6701                  4.0   55000.0  \n",
       "6702                 14.0  140000.0  \n",
       "6703                  1.0   35000.0  "
      ]
     },
     "execution_count": 4,
     "metadata": {},
     "output_type": "execute_result"
    }
   ],
   "source": [
    "# выведем последние пять строк \n",
    "data.tail()"
   ]
  },
  {
   "cell_type": "code",
   "execution_count": 5,
   "id": "604fe9b7",
   "metadata": {},
   "outputs": [
    {
     "data": {
      "text/plain": [
       "(6704, 6)"
      ]
     },
     "execution_count": 5,
     "metadata": {},
     "output_type": "execute_result"
    }
   ],
   "source": [
    "# посомтрим на размер датасета \n",
    "data.shape"
   ]
  },
  {
   "cell_type": "code",
   "execution_count": 6,
   "id": "c9c20c7c",
   "metadata": {},
   "outputs": [
    {
     "data": {
      "text/html": [
       "<div>\n",
       "<style scoped>\n",
       "    .dataframe tbody tr th:only-of-type {\n",
       "        vertical-align: middle;\n",
       "    }\n",
       "\n",
       "    .dataframe tbody tr th {\n",
       "        vertical-align: top;\n",
       "    }\n",
       "\n",
       "    .dataframe thead th {\n",
       "        text-align: right;\n",
       "    }\n",
       "</style>\n",
       "<table border=\"1\" class=\"dataframe\">\n",
       "  <thead>\n",
       "    <tr style=\"text-align: right;\">\n",
       "      <th></th>\n",
       "      <th>Age</th>\n",
       "      <th>Gender</th>\n",
       "      <th>Education Level</th>\n",
       "      <th>Job Title</th>\n",
       "      <th>Years of Experience</th>\n",
       "      <th>Salary</th>\n",
       "    </tr>\n",
       "  </thead>\n",
       "  <tbody>\n",
       "    <tr>\n",
       "      <th>2192</th>\n",
       "      <td>33.0</td>\n",
       "      <td>Male</td>\n",
       "      <td>Bachelor's Degree</td>\n",
       "      <td>Full Stack Engineer</td>\n",
       "      <td>7.0</td>\n",
       "      <td>130000.0</td>\n",
       "    </tr>\n",
       "    <tr>\n",
       "      <th>2544</th>\n",
       "      <td>23.0</td>\n",
       "      <td>Female</td>\n",
       "      <td>High School</td>\n",
       "      <td>Back end Developer</td>\n",
       "      <td>2.0</td>\n",
       "      <td>62807.0</td>\n",
       "    </tr>\n",
       "    <tr>\n",
       "      <th>2328</th>\n",
       "      <td>41.0</td>\n",
       "      <td>Female</td>\n",
       "      <td>PhD</td>\n",
       "      <td>Director of Data Science</td>\n",
       "      <td>16.0</td>\n",
       "      <td>200000.0</td>\n",
       "    </tr>\n",
       "    <tr>\n",
       "      <th>4032</th>\n",
       "      <td>43.0</td>\n",
       "      <td>Male</td>\n",
       "      <td>PhD</td>\n",
       "      <td>Data Scientist</td>\n",
       "      <td>16.0</td>\n",
       "      <td>160000.0</td>\n",
       "    </tr>\n",
       "    <tr>\n",
       "      <th>5759</th>\n",
       "      <td>29.0</td>\n",
       "      <td>Male</td>\n",
       "      <td>Bachelor's Degree</td>\n",
       "      <td>Product Manager</td>\n",
       "      <td>5.0</td>\n",
       "      <td>80000.0</td>\n",
       "    </tr>\n",
       "    <tr>\n",
       "      <th>1615</th>\n",
       "      <td>43.0</td>\n",
       "      <td>Male</td>\n",
       "      <td>PhD</td>\n",
       "      <td>Senior Project Engineer</td>\n",
       "      <td>13.0</td>\n",
       "      <td>185000.0</td>\n",
       "    </tr>\n",
       "    <tr>\n",
       "      <th>4605</th>\n",
       "      <td>27.0</td>\n",
       "      <td>Female</td>\n",
       "      <td>Bachelor's Degree</td>\n",
       "      <td>Web Developer</td>\n",
       "      <td>2.0</td>\n",
       "      <td>50000.0</td>\n",
       "    </tr>\n",
       "    <tr>\n",
       "      <th>2740</th>\n",
       "      <td>42.0</td>\n",
       "      <td>Male</td>\n",
       "      <td>Master's Degree</td>\n",
       "      <td>Product Manager</td>\n",
       "      <td>14.0</td>\n",
       "      <td>180000.0</td>\n",
       "    </tr>\n",
       "    <tr>\n",
       "      <th>1163</th>\n",
       "      <td>30.0</td>\n",
       "      <td>Male</td>\n",
       "      <td>Master's</td>\n",
       "      <td>Software Engineer</td>\n",
       "      <td>6.0</td>\n",
       "      <td>170000.0</td>\n",
       "    </tr>\n",
       "    <tr>\n",
       "      <th>3067</th>\n",
       "      <td>54.0</td>\n",
       "      <td>Male</td>\n",
       "      <td>Bachelor's Degree</td>\n",
       "      <td>Full Stack Engineer</td>\n",
       "      <td>25.0</td>\n",
       "      <td>179756.0</td>\n",
       "    </tr>\n",
       "  </tbody>\n",
       "</table>\n",
       "</div>"
      ],
      "text/plain": [
       "       Age  Gender    Education Level                 Job Title  \\\n",
       "2192  33.0    Male  Bachelor's Degree       Full Stack Engineer   \n",
       "2544  23.0  Female        High School        Back end Developer   \n",
       "2328  41.0  Female                PhD  Director of Data Science   \n",
       "4032  43.0    Male                PhD            Data Scientist   \n",
       "5759  29.0    Male  Bachelor's Degree           Product Manager   \n",
       "1615  43.0    Male                PhD   Senior Project Engineer   \n",
       "4605  27.0  Female  Bachelor's Degree             Web Developer   \n",
       "2740  42.0    Male    Master's Degree           Product Manager   \n",
       "1163  30.0    Male           Master's         Software Engineer   \n",
       "3067  54.0    Male  Bachelor's Degree       Full Stack Engineer   \n",
       "\n",
       "      Years of Experience    Salary  \n",
       "2192                  7.0  130000.0  \n",
       "2544                  2.0   62807.0  \n",
       "2328                 16.0  200000.0  \n",
       "4032                 16.0  160000.0  \n",
       "5759                  5.0   80000.0  \n",
       "1615                 13.0  185000.0  \n",
       "4605                  2.0   50000.0  \n",
       "2740                 14.0  180000.0  \n",
       "1163                  6.0  170000.0  \n",
       "3067                 25.0  179756.0  "
      ]
     },
     "execution_count": 6,
     "metadata": {},
     "output_type": "execute_result"
    }
   ],
   "source": [
    "# выведем случайным образом 10 строк \n",
    "data.sample(random_state=1, n = 10)"
   ]
  },
  {
   "cell_type": "code",
   "execution_count": 7,
   "id": "c2825f17",
   "metadata": {},
   "outputs": [
    {
     "name": "stdout",
     "output_type": "stream",
     "text": [
      "<class 'pandas.core.frame.DataFrame'>\n",
      "RangeIndex: 6704 entries, 0 to 6703\n",
      "Data columns (total 6 columns):\n",
      " #   Column               Non-Null Count  Dtype  \n",
      "---  ------               --------------  -----  \n",
      " 0   Age                  6702 non-null   float64\n",
      " 1   Gender               6702 non-null   object \n",
      " 2   Education Level      6701 non-null   object \n",
      " 3   Job Title            6702 non-null   object \n",
      " 4   Years of Experience  6701 non-null   float64\n",
      " 5   Salary               6699 non-null   float64\n",
      "dtypes: float64(3), object(3)\n",
      "memory usage: 314.4+ KB\n"
     ]
    }
   ],
   "source": [
    "# изучим общую информацию о датасете \n",
    "data.info()"
   ]
  },
  {
   "cell_type": "markdown",
   "id": "278663a5",
   "metadata": {},
   "source": [
    "   Всего 6704 строк и 6 столбцов. 3 столбца принадлежат к вещественному типу данных float('age','years of experience','salary'). \n",
    "   \n",
    "3 столбца принадлежат к типу данных object('gender', 'education level', 'job title'). Общий объем данных составил 314.4 КB."
   ]
  },
  {
   "cell_type": "markdown",
   "id": "d57bcc95",
   "metadata": {},
   "source": [
    "   Вывод:  В первом шаге исследования изучили общую информацию о датасете, поменяли тип данных, там где было необходимо, поменяли названия столбцов, обнаружили, что объем данных составил 314.4 КB. \n",
    "\n",
    "В дальнейшем шаге исследования будем заниматься предобработкой данных  "
   ]
  },
  {
   "cell_type": "markdown",
   "id": "84b1f46e",
   "metadata": {},
   "source": [
    "##  2 Предобработка данных "
   ]
  },
  {
   "cell_type": "code",
   "execution_count": 8,
   "id": "d84195ec",
   "metadata": {},
   "outputs": [
    {
     "data": {
      "text/plain": [
       "Index(['Age', 'Gender', 'Education Level', 'Job Title', 'Years of Experience',\n",
       "       'Salary'],\n",
       "      dtype='object')"
      ]
     },
     "execution_count": 8,
     "metadata": {},
     "output_type": "execute_result"
    }
   ],
   "source": [
    "# посмотрим на названия столбцов датасета data \n",
    "data.columns "
   ]
  },
  {
   "cell_type": "code",
   "execution_count": 9,
   "id": "ec2c99b4",
   "metadata": {},
   "outputs": [
    {
     "data": {
      "text/html": [
       "<div>\n",
       "<style scoped>\n",
       "    .dataframe tbody tr th:only-of-type {\n",
       "        vertical-align: middle;\n",
       "    }\n",
       "\n",
       "    .dataframe tbody tr th {\n",
       "        vertical-align: top;\n",
       "    }\n",
       "\n",
       "    .dataframe thead th {\n",
       "        text-align: right;\n",
       "    }\n",
       "</style>\n",
       "<table border=\"1\" class=\"dataframe\">\n",
       "  <thead>\n",
       "    <tr style=\"text-align: right;\">\n",
       "      <th></th>\n",
       "      <th>age</th>\n",
       "      <th>gender</th>\n",
       "      <th>education level</th>\n",
       "      <th>job title</th>\n",
       "      <th>years of experience</th>\n",
       "      <th>salary</th>\n",
       "    </tr>\n",
       "  </thead>\n",
       "  <tbody>\n",
       "    <tr>\n",
       "      <th>0</th>\n",
       "      <td>32.0</td>\n",
       "      <td>Male</td>\n",
       "      <td>Bachelor's</td>\n",
       "      <td>Software Engineer</td>\n",
       "      <td>5.0</td>\n",
       "      <td>90000.0</td>\n",
       "    </tr>\n",
       "    <tr>\n",
       "      <th>1</th>\n",
       "      <td>28.0</td>\n",
       "      <td>Female</td>\n",
       "      <td>Master's</td>\n",
       "      <td>Data Analyst</td>\n",
       "      <td>3.0</td>\n",
       "      <td>65000.0</td>\n",
       "    </tr>\n",
       "    <tr>\n",
       "      <th>2</th>\n",
       "      <td>45.0</td>\n",
       "      <td>Male</td>\n",
       "      <td>PhD</td>\n",
       "      <td>Senior Manager</td>\n",
       "      <td>15.0</td>\n",
       "      <td>150000.0</td>\n",
       "    </tr>\n",
       "    <tr>\n",
       "      <th>3</th>\n",
       "      <td>36.0</td>\n",
       "      <td>Female</td>\n",
       "      <td>Bachelor's</td>\n",
       "      <td>Sales Associate</td>\n",
       "      <td>7.0</td>\n",
       "      <td>60000.0</td>\n",
       "    </tr>\n",
       "    <tr>\n",
       "      <th>4</th>\n",
       "      <td>52.0</td>\n",
       "      <td>Male</td>\n",
       "      <td>Master's</td>\n",
       "      <td>Director</td>\n",
       "      <td>20.0</td>\n",
       "      <td>200000.0</td>\n",
       "    </tr>\n",
       "    <tr>\n",
       "      <th>...</th>\n",
       "      <td>...</td>\n",
       "      <td>...</td>\n",
       "      <td>...</td>\n",
       "      <td>...</td>\n",
       "      <td>...</td>\n",
       "      <td>...</td>\n",
       "    </tr>\n",
       "    <tr>\n",
       "      <th>6699</th>\n",
       "      <td>49.0</td>\n",
       "      <td>Female</td>\n",
       "      <td>PhD</td>\n",
       "      <td>Director of Marketing</td>\n",
       "      <td>20.0</td>\n",
       "      <td>200000.0</td>\n",
       "    </tr>\n",
       "    <tr>\n",
       "      <th>6700</th>\n",
       "      <td>32.0</td>\n",
       "      <td>Male</td>\n",
       "      <td>High School</td>\n",
       "      <td>Sales Associate</td>\n",
       "      <td>3.0</td>\n",
       "      <td>50000.0</td>\n",
       "    </tr>\n",
       "    <tr>\n",
       "      <th>6701</th>\n",
       "      <td>30.0</td>\n",
       "      <td>Female</td>\n",
       "      <td>Bachelor's Degree</td>\n",
       "      <td>Financial Manager</td>\n",
       "      <td>4.0</td>\n",
       "      <td>55000.0</td>\n",
       "    </tr>\n",
       "    <tr>\n",
       "      <th>6702</th>\n",
       "      <td>46.0</td>\n",
       "      <td>Male</td>\n",
       "      <td>Master's Degree</td>\n",
       "      <td>Marketing Manager</td>\n",
       "      <td>14.0</td>\n",
       "      <td>140000.0</td>\n",
       "    </tr>\n",
       "    <tr>\n",
       "      <th>6703</th>\n",
       "      <td>26.0</td>\n",
       "      <td>Female</td>\n",
       "      <td>High School</td>\n",
       "      <td>Sales Executive</td>\n",
       "      <td>1.0</td>\n",
       "      <td>35000.0</td>\n",
       "    </tr>\n",
       "  </tbody>\n",
       "</table>\n",
       "<p>6704 rows × 6 columns</p>\n",
       "</div>"
      ],
      "text/plain": [
       "       age  gender    education level              job title  \\\n",
       "0     32.0    Male         Bachelor's      Software Engineer   \n",
       "1     28.0  Female           Master's           Data Analyst   \n",
       "2     45.0    Male                PhD         Senior Manager   \n",
       "3     36.0  Female         Bachelor's        Sales Associate   \n",
       "4     52.0    Male           Master's               Director   \n",
       "...    ...     ...                ...                    ...   \n",
       "6699  49.0  Female                PhD  Director of Marketing   \n",
       "6700  32.0    Male        High School        Sales Associate   \n",
       "6701  30.0  Female  Bachelor's Degree      Financial Manager   \n",
       "6702  46.0    Male    Master's Degree      Marketing Manager   \n",
       "6703  26.0  Female        High School        Sales Executive   \n",
       "\n",
       "      years of experience    salary  \n",
       "0                     5.0   90000.0  \n",
       "1                     3.0   65000.0  \n",
       "2                    15.0  150000.0  \n",
       "3                     7.0   60000.0  \n",
       "4                    20.0  200000.0  \n",
       "...                   ...       ...  \n",
       "6699                 20.0  200000.0  \n",
       "6700                  3.0   50000.0  \n",
       "6701                  4.0   55000.0  \n",
       "6702                 14.0  140000.0  \n",
       "6703                  1.0   35000.0  \n",
       "\n",
       "[6704 rows x 6 columns]"
      ]
     },
     "execution_count": 9,
     "metadata": {},
     "output_type": "execute_result"
    }
   ],
   "source": [
    "# Приведем названия столбцов на нижний регистр \n",
    "data.columns = [x.lower() for x in data.columns] \n",
    "data"
   ]
  },
  {
   "cell_type": "code",
   "execution_count": 10,
   "id": "a45758b5",
   "metadata": {},
   "outputs": [
    {
     "data": {
      "text/html": [
       "<div>\n",
       "<style scoped>\n",
       "    .dataframe tbody tr th:only-of-type {\n",
       "        vertical-align: middle;\n",
       "    }\n",
       "\n",
       "    .dataframe tbody tr th {\n",
       "        vertical-align: top;\n",
       "    }\n",
       "\n",
       "    .dataframe thead th {\n",
       "        text-align: right;\n",
       "    }\n",
       "</style>\n",
       "<table border=\"1\" class=\"dataframe\">\n",
       "  <thead>\n",
       "    <tr style=\"text-align: right;\">\n",
       "      <th></th>\n",
       "      <th>age</th>\n",
       "      <th>gender</th>\n",
       "      <th>education_level</th>\n",
       "      <th>job_title</th>\n",
       "      <th>years_of_experience</th>\n",
       "      <th>salary</th>\n",
       "    </tr>\n",
       "  </thead>\n",
       "  <tbody>\n",
       "    <tr>\n",
       "      <th>0</th>\n",
       "      <td>32.0</td>\n",
       "      <td>Male</td>\n",
       "      <td>Bachelor's</td>\n",
       "      <td>Software Engineer</td>\n",
       "      <td>5.0</td>\n",
       "      <td>90000.0</td>\n",
       "    </tr>\n",
       "    <tr>\n",
       "      <th>1</th>\n",
       "      <td>28.0</td>\n",
       "      <td>Female</td>\n",
       "      <td>Master's</td>\n",
       "      <td>Data Analyst</td>\n",
       "      <td>3.0</td>\n",
       "      <td>65000.0</td>\n",
       "    </tr>\n",
       "    <tr>\n",
       "      <th>2</th>\n",
       "      <td>45.0</td>\n",
       "      <td>Male</td>\n",
       "      <td>PhD</td>\n",
       "      <td>Senior Manager</td>\n",
       "      <td>15.0</td>\n",
       "      <td>150000.0</td>\n",
       "    </tr>\n",
       "    <tr>\n",
       "      <th>3</th>\n",
       "      <td>36.0</td>\n",
       "      <td>Female</td>\n",
       "      <td>Bachelor's</td>\n",
       "      <td>Sales Associate</td>\n",
       "      <td>7.0</td>\n",
       "      <td>60000.0</td>\n",
       "    </tr>\n",
       "    <tr>\n",
       "      <th>4</th>\n",
       "      <td>52.0</td>\n",
       "      <td>Male</td>\n",
       "      <td>Master's</td>\n",
       "      <td>Director</td>\n",
       "      <td>20.0</td>\n",
       "      <td>200000.0</td>\n",
       "    </tr>\n",
       "    <tr>\n",
       "      <th>...</th>\n",
       "      <td>...</td>\n",
       "      <td>...</td>\n",
       "      <td>...</td>\n",
       "      <td>...</td>\n",
       "      <td>...</td>\n",
       "      <td>...</td>\n",
       "    </tr>\n",
       "    <tr>\n",
       "      <th>6699</th>\n",
       "      <td>49.0</td>\n",
       "      <td>Female</td>\n",
       "      <td>PhD</td>\n",
       "      <td>Director of Marketing</td>\n",
       "      <td>20.0</td>\n",
       "      <td>200000.0</td>\n",
       "    </tr>\n",
       "    <tr>\n",
       "      <th>6700</th>\n",
       "      <td>32.0</td>\n",
       "      <td>Male</td>\n",
       "      <td>High School</td>\n",
       "      <td>Sales Associate</td>\n",
       "      <td>3.0</td>\n",
       "      <td>50000.0</td>\n",
       "    </tr>\n",
       "    <tr>\n",
       "      <th>6701</th>\n",
       "      <td>30.0</td>\n",
       "      <td>Female</td>\n",
       "      <td>Bachelor's Degree</td>\n",
       "      <td>Financial Manager</td>\n",
       "      <td>4.0</td>\n",
       "      <td>55000.0</td>\n",
       "    </tr>\n",
       "    <tr>\n",
       "      <th>6702</th>\n",
       "      <td>46.0</td>\n",
       "      <td>Male</td>\n",
       "      <td>Master's Degree</td>\n",
       "      <td>Marketing Manager</td>\n",
       "      <td>14.0</td>\n",
       "      <td>140000.0</td>\n",
       "    </tr>\n",
       "    <tr>\n",
       "      <th>6703</th>\n",
       "      <td>26.0</td>\n",
       "      <td>Female</td>\n",
       "      <td>High School</td>\n",
       "      <td>Sales Executive</td>\n",
       "      <td>1.0</td>\n",
       "      <td>35000.0</td>\n",
       "    </tr>\n",
       "  </tbody>\n",
       "</table>\n",
       "<p>6704 rows × 6 columns</p>\n",
       "</div>"
      ],
      "text/plain": [
       "       age  gender    education_level              job_title  \\\n",
       "0     32.0    Male         Bachelor's      Software Engineer   \n",
       "1     28.0  Female           Master's           Data Analyst   \n",
       "2     45.0    Male                PhD         Senior Manager   \n",
       "3     36.0  Female         Bachelor's        Sales Associate   \n",
       "4     52.0    Male           Master's               Director   \n",
       "...    ...     ...                ...                    ...   \n",
       "6699  49.0  Female                PhD  Director of Marketing   \n",
       "6700  32.0    Male        High School        Sales Associate   \n",
       "6701  30.0  Female  Bachelor's Degree      Financial Manager   \n",
       "6702  46.0    Male    Master's Degree      Marketing Manager   \n",
       "6703  26.0  Female        High School        Sales Executive   \n",
       "\n",
       "      years_of_experience    salary  \n",
       "0                     5.0   90000.0  \n",
       "1                     3.0   65000.0  \n",
       "2                    15.0  150000.0  \n",
       "3                     7.0   60000.0  \n",
       "4                    20.0  200000.0  \n",
       "...                   ...       ...  \n",
       "6699                 20.0  200000.0  \n",
       "6700                  3.0   50000.0  \n",
       "6701                  4.0   55000.0  \n",
       "6702                 14.0  140000.0  \n",
       "6703                  1.0   35000.0  \n",
       "\n",
       "[6704 rows x 6 columns]"
      ]
     },
     "execution_count": 10,
     "metadata": {},
     "output_type": "execute_result"
    }
   ],
   "source": [
    "# Приведем названия к столбцов к змиеному регистру \n",
    "data = data.rename(columns = {'education level':'education_level','job title':'job_title','years of experience':'years_of_experience'})\n",
    "data"
   ]
  },
  {
   "cell_type": "code",
   "execution_count": 11,
   "id": "1a6bf7e3",
   "metadata": {},
   "outputs": [
    {
     "data": {
      "text/plain": [
       "age                    float64\n",
       "gender                  object\n",
       "education_level         object\n",
       "job_title               object\n",
       "years_of_experience    float64\n",
       "salary                 float64\n",
       "dtype: object"
      ]
     },
     "execution_count": 11,
     "metadata": {},
     "output_type": "execute_result"
    }
   ],
   "source": [
    "# посмотрим на типы данных \n",
    "data.dtypes "
   ]
  },
  {
   "cell_type": "code",
   "execution_count": 12,
   "id": "b0838644",
   "metadata": {},
   "outputs": [],
   "source": [
    "# Для столбца age поменяем тип данных на integer. \n",
    "\n",
    "data['age'] = data['age'].astype('Int64') "
   ]
  },
  {
   "cell_type": "code",
   "execution_count": 13,
   "id": "eba6ed8d",
   "metadata": {},
   "outputs": [
    {
     "data": {
      "text/html": [
       "<div>\n",
       "<style scoped>\n",
       "    .dataframe tbody tr th:only-of-type {\n",
       "        vertical-align: middle;\n",
       "    }\n",
       "\n",
       "    .dataframe tbody tr th {\n",
       "        vertical-align: top;\n",
       "    }\n",
       "\n",
       "    .dataframe thead th {\n",
       "        text-align: right;\n",
       "    }\n",
       "</style>\n",
       "<table border=\"1\" class=\"dataframe\">\n",
       "  <thead>\n",
       "    <tr style=\"text-align: right;\">\n",
       "      <th></th>\n",
       "      <th>age</th>\n",
       "      <th>gender</th>\n",
       "      <th>education_level</th>\n",
       "      <th>job_title</th>\n",
       "      <th>years_of_experience</th>\n",
       "      <th>salary</th>\n",
       "    </tr>\n",
       "  </thead>\n",
       "  <tbody>\n",
       "    <tr>\n",
       "      <th>0</th>\n",
       "      <td>32</td>\n",
       "      <td>Male</td>\n",
       "      <td>Bachelor's</td>\n",
       "      <td>Software Engineer</td>\n",
       "      <td>5.0</td>\n",
       "      <td>90000.0</td>\n",
       "    </tr>\n",
       "    <tr>\n",
       "      <th>1</th>\n",
       "      <td>28</td>\n",
       "      <td>Female</td>\n",
       "      <td>Master's</td>\n",
       "      <td>Data Analyst</td>\n",
       "      <td>3.0</td>\n",
       "      <td>65000.0</td>\n",
       "    </tr>\n",
       "    <tr>\n",
       "      <th>2</th>\n",
       "      <td>45</td>\n",
       "      <td>Male</td>\n",
       "      <td>PhD</td>\n",
       "      <td>Senior Manager</td>\n",
       "      <td>15.0</td>\n",
       "      <td>150000.0</td>\n",
       "    </tr>\n",
       "    <tr>\n",
       "      <th>3</th>\n",
       "      <td>36</td>\n",
       "      <td>Female</td>\n",
       "      <td>Bachelor's</td>\n",
       "      <td>Sales Associate</td>\n",
       "      <td>7.0</td>\n",
       "      <td>60000.0</td>\n",
       "    </tr>\n",
       "    <tr>\n",
       "      <th>4</th>\n",
       "      <td>52</td>\n",
       "      <td>Male</td>\n",
       "      <td>Master's</td>\n",
       "      <td>Director</td>\n",
       "      <td>20.0</td>\n",
       "      <td>200000.0</td>\n",
       "    </tr>\n",
       "  </tbody>\n",
       "</table>\n",
       "</div>"
      ],
      "text/plain": [
       "   age  gender education_level          job_title  years_of_experience  \\\n",
       "0   32    Male      Bachelor's  Software Engineer                  5.0   \n",
       "1   28  Female        Master's       Data Analyst                  3.0   \n",
       "2   45    Male             PhD     Senior Manager                 15.0   \n",
       "3   36  Female      Bachelor's    Sales Associate                  7.0   \n",
       "4   52    Male        Master's           Director                 20.0   \n",
       "\n",
       "     salary  \n",
       "0   90000.0  \n",
       "1   65000.0  \n",
       "2  150000.0  \n",
       "3   60000.0  \n",
       "4  200000.0  "
      ]
     },
     "execution_count": 13,
     "metadata": {},
     "output_type": "execute_result"
    }
   ],
   "source": [
    "data.head()"
   ]
  },
  {
   "cell_type": "code",
   "execution_count": 14,
   "id": "0bc963a1",
   "metadata": {},
   "outputs": [
    {
     "data": {
      "text/plain": [
       "age                    2\n",
       "gender                 2\n",
       "education_level        3\n",
       "job_title              2\n",
       "years_of_experience    3\n",
       "salary                 5\n",
       "dtype: int64"
      ]
     },
     "execution_count": 14,
     "metadata": {},
     "output_type": "execute_result"
    }
   ],
   "source": [
    "# Проверим датасет на наличие пропусков \n",
    "data.isna().sum()"
   ]
  },
  {
   "cell_type": "code",
   "execution_count": 15,
   "id": "b605a9c4",
   "metadata": {},
   "outputs": [
    {
     "data": {
      "text/html": [
       "<div>\n",
       "<style scoped>\n",
       "    .dataframe tbody tr th:only-of-type {\n",
       "        vertical-align: middle;\n",
       "    }\n",
       "\n",
       "    .dataframe tbody tr th {\n",
       "        vertical-align: top;\n",
       "    }\n",
       "\n",
       "    .dataframe thead th {\n",
       "        text-align: right;\n",
       "    }\n",
       "</style>\n",
       "<table border=\"1\" class=\"dataframe\">\n",
       "  <thead>\n",
       "    <tr style=\"text-align: right;\">\n",
       "      <th></th>\n",
       "      <th>age</th>\n",
       "      <th>gender</th>\n",
       "      <th>education_level</th>\n",
       "      <th>job_title</th>\n",
       "      <th>years_of_experience</th>\n",
       "      <th>salary</th>\n",
       "    </tr>\n",
       "  </thead>\n",
       "  <tbody>\n",
       "    <tr>\n",
       "      <th>0</th>\n",
       "      <td>32</td>\n",
       "      <td>Male</td>\n",
       "      <td>Bachelor's</td>\n",
       "      <td>Software Engineer</td>\n",
       "      <td>5.0</td>\n",
       "      <td>90000.0</td>\n",
       "    </tr>\n",
       "    <tr>\n",
       "      <th>1</th>\n",
       "      <td>28</td>\n",
       "      <td>Female</td>\n",
       "      <td>Master's</td>\n",
       "      <td>Data Analyst</td>\n",
       "      <td>3.0</td>\n",
       "      <td>65000.0</td>\n",
       "    </tr>\n",
       "    <tr>\n",
       "      <th>2</th>\n",
       "      <td>45</td>\n",
       "      <td>Male</td>\n",
       "      <td>PhD</td>\n",
       "      <td>Senior Manager</td>\n",
       "      <td>15.0</td>\n",
       "      <td>150000.0</td>\n",
       "    </tr>\n",
       "    <tr>\n",
       "      <th>3</th>\n",
       "      <td>36</td>\n",
       "      <td>Female</td>\n",
       "      <td>Bachelor's</td>\n",
       "      <td>Sales Associate</td>\n",
       "      <td>7.0</td>\n",
       "      <td>60000.0</td>\n",
       "    </tr>\n",
       "    <tr>\n",
       "      <th>4</th>\n",
       "      <td>52</td>\n",
       "      <td>Male</td>\n",
       "      <td>Master's</td>\n",
       "      <td>Director</td>\n",
       "      <td>20.0</td>\n",
       "      <td>200000.0</td>\n",
       "    </tr>\n",
       "    <tr>\n",
       "      <th>...</th>\n",
       "      <td>...</td>\n",
       "      <td>...</td>\n",
       "      <td>...</td>\n",
       "      <td>...</td>\n",
       "      <td>...</td>\n",
       "      <td>...</td>\n",
       "    </tr>\n",
       "    <tr>\n",
       "      <th>6699</th>\n",
       "      <td>49</td>\n",
       "      <td>Female</td>\n",
       "      <td>PhD</td>\n",
       "      <td>Director of Marketing</td>\n",
       "      <td>20.0</td>\n",
       "      <td>200000.0</td>\n",
       "    </tr>\n",
       "    <tr>\n",
       "      <th>6700</th>\n",
       "      <td>32</td>\n",
       "      <td>Male</td>\n",
       "      <td>High School</td>\n",
       "      <td>Sales Associate</td>\n",
       "      <td>3.0</td>\n",
       "      <td>50000.0</td>\n",
       "    </tr>\n",
       "    <tr>\n",
       "      <th>6701</th>\n",
       "      <td>30</td>\n",
       "      <td>Female</td>\n",
       "      <td>Bachelor's Degree</td>\n",
       "      <td>Financial Manager</td>\n",
       "      <td>4.0</td>\n",
       "      <td>55000.0</td>\n",
       "    </tr>\n",
       "    <tr>\n",
       "      <th>6702</th>\n",
       "      <td>46</td>\n",
       "      <td>Male</td>\n",
       "      <td>Master's Degree</td>\n",
       "      <td>Marketing Manager</td>\n",
       "      <td>14.0</td>\n",
       "      <td>140000.0</td>\n",
       "    </tr>\n",
       "    <tr>\n",
       "      <th>6703</th>\n",
       "      <td>26</td>\n",
       "      <td>Female</td>\n",
       "      <td>High School</td>\n",
       "      <td>Sales Executive</td>\n",
       "      <td>1.0</td>\n",
       "      <td>35000.0</td>\n",
       "    </tr>\n",
       "  </tbody>\n",
       "</table>\n",
       "<p>6698 rows × 6 columns</p>\n",
       "</div>"
      ],
      "text/plain": [
       "      age  gender    education_level              job_title  \\\n",
       "0      32    Male         Bachelor's      Software Engineer   \n",
       "1      28  Female           Master's           Data Analyst   \n",
       "2      45    Male                PhD         Senior Manager   \n",
       "3      36  Female         Bachelor's        Sales Associate   \n",
       "4      52    Male           Master's               Director   \n",
       "...   ...     ...                ...                    ...   \n",
       "6699   49  Female                PhD  Director of Marketing   \n",
       "6700   32    Male        High School        Sales Associate   \n",
       "6701   30  Female  Bachelor's Degree      Financial Manager   \n",
       "6702   46    Male    Master's Degree      Marketing Manager   \n",
       "6703   26  Female        High School        Sales Executive   \n",
       "\n",
       "      years_of_experience    salary  \n",
       "0                     5.0   90000.0  \n",
       "1                     3.0   65000.0  \n",
       "2                    15.0  150000.0  \n",
       "3                     7.0   60000.0  \n",
       "4                    20.0  200000.0  \n",
       "...                   ...       ...  \n",
       "6699                 20.0  200000.0  \n",
       "6700                  3.0   50000.0  \n",
       "6701                  4.0   55000.0  \n",
       "6702                 14.0  140000.0  \n",
       "6703                  1.0   35000.0  \n",
       "\n",
       "[6698 rows x 6 columns]"
      ]
     },
     "execution_count": 15,
     "metadata": {},
     "output_type": "execute_result"
    }
   ],
   "source": [
    "# Удалим пропуски с помощью метода dropna\n",
    "\n",
    "data = data.dropna()\n",
    "data"
   ]
  },
  {
   "cell_type": "code",
   "execution_count": 16,
   "id": "b2d45499",
   "metadata": {},
   "outputs": [
    {
     "data": {
      "text/plain": [
       "age                    0\n",
       "gender                 0\n",
       "education_level        0\n",
       "job_title              0\n",
       "years_of_experience    0\n",
       "salary                 0\n",
       "dtype: int64"
      ]
     },
     "execution_count": 16,
     "metadata": {},
     "output_type": "execute_result"
    }
   ],
   "source": [
    "# Проверка на удаление пропусков\n",
    "data.isna().sum()"
   ]
  },
  {
   "cell_type": "code",
   "execution_count": 17,
   "id": "7c1c1a05",
   "metadata": {},
   "outputs": [
    {
     "data": {
      "text/plain": [
       "4911"
      ]
     },
     "execution_count": 17,
     "metadata": {},
     "output_type": "execute_result"
    }
   ],
   "source": [
    "# Проверим на наличие дубликатов \n",
    "data.duplicated().sum()"
   ]
  },
  {
   "cell_type": "code",
   "execution_count": 18,
   "id": "83e8ce9e",
   "metadata": {},
   "outputs": [
    {
     "data": {
      "text/html": [
       "<div>\n",
       "<style scoped>\n",
       "    .dataframe tbody tr th:only-of-type {\n",
       "        vertical-align: middle;\n",
       "    }\n",
       "\n",
       "    .dataframe tbody tr th {\n",
       "        vertical-align: top;\n",
       "    }\n",
       "\n",
       "    .dataframe thead th {\n",
       "        text-align: right;\n",
       "    }\n",
       "</style>\n",
       "<table border=\"1\" class=\"dataframe\">\n",
       "  <thead>\n",
       "    <tr style=\"text-align: right;\">\n",
       "      <th></th>\n",
       "      <th>age</th>\n",
       "      <th>gender</th>\n",
       "      <th>education_level</th>\n",
       "      <th>job_title</th>\n",
       "      <th>years_of_experience</th>\n",
       "      <th>salary</th>\n",
       "    </tr>\n",
       "  </thead>\n",
       "  <tbody>\n",
       "    <tr>\n",
       "      <th>5057</th>\n",
       "      <td>21</td>\n",
       "      <td>Female</td>\n",
       "      <td>High School</td>\n",
       "      <td>Junior Sales Representative</td>\n",
       "      <td>0.0</td>\n",
       "      <td>25000.0</td>\n",
       "    </tr>\n",
       "    <tr>\n",
       "      <th>5122</th>\n",
       "      <td>21</td>\n",
       "      <td>Female</td>\n",
       "      <td>High School</td>\n",
       "      <td>Junior Sales Representative</td>\n",
       "      <td>0.0</td>\n",
       "      <td>25000.0</td>\n",
       "    </tr>\n",
       "    <tr>\n",
       "      <th>5109</th>\n",
       "      <td>21</td>\n",
       "      <td>Female</td>\n",
       "      <td>High School</td>\n",
       "      <td>Junior Sales Representative</td>\n",
       "      <td>0.0</td>\n",
       "      <td>25000.0</td>\n",
       "    </tr>\n",
       "    <tr>\n",
       "      <th>5096</th>\n",
       "      <td>21</td>\n",
       "      <td>Female</td>\n",
       "      <td>High School</td>\n",
       "      <td>Junior Sales Representative</td>\n",
       "      <td>0.0</td>\n",
       "      <td>25000.0</td>\n",
       "    </tr>\n",
       "    <tr>\n",
       "      <th>5083</th>\n",
       "      <td>21</td>\n",
       "      <td>Female</td>\n",
       "      <td>High School</td>\n",
       "      <td>Junior Sales Representative</td>\n",
       "      <td>0.0</td>\n",
       "      <td>25000.0</td>\n",
       "    </tr>\n",
       "    <tr>\n",
       "      <th>...</th>\n",
       "      <td>...</td>\n",
       "      <td>...</td>\n",
       "      <td>...</td>\n",
       "      <td>...</td>\n",
       "      <td>...</td>\n",
       "      <td>...</td>\n",
       "    </tr>\n",
       "    <tr>\n",
       "      <th>1225</th>\n",
       "      <td>62</td>\n",
       "      <td>Male</td>\n",
       "      <td>PhD</td>\n",
       "      <td>Software Engineer Manager</td>\n",
       "      <td>19.0</td>\n",
       "      <td>200000.0</td>\n",
       "    </tr>\n",
       "    <tr>\n",
       "      <th>1258</th>\n",
       "      <td>62</td>\n",
       "      <td>Male</td>\n",
       "      <td>PhD</td>\n",
       "      <td>Software Engineer Manager</td>\n",
       "      <td>19.0</td>\n",
       "      <td>200000.0</td>\n",
       "    </tr>\n",
       "    <tr>\n",
       "      <th>1236</th>\n",
       "      <td>62</td>\n",
       "      <td>Male</td>\n",
       "      <td>PhD</td>\n",
       "      <td>Software Engineer Manager</td>\n",
       "      <td>20.0</td>\n",
       "      <td>200000.0</td>\n",
       "    </tr>\n",
       "    <tr>\n",
       "      <th>1305</th>\n",
       "      <td>62</td>\n",
       "      <td>Male</td>\n",
       "      <td>PhD</td>\n",
       "      <td>Software Engineer Manager</td>\n",
       "      <td>19.0</td>\n",
       "      <td>200000.0</td>\n",
       "    </tr>\n",
       "    <tr>\n",
       "      <th>1304</th>\n",
       "      <td>62</td>\n",
       "      <td>Male</td>\n",
       "      <td>PhD</td>\n",
       "      <td>Software Engineer Manager</td>\n",
       "      <td>20.0</td>\n",
       "      <td>200000.0</td>\n",
       "    </tr>\n",
       "  </tbody>\n",
       "</table>\n",
       "<p>6698 rows × 6 columns</p>\n",
       "</div>"
      ],
      "text/plain": [
       "      age  gender education_level                    job_title  \\\n",
       "5057   21  Female     High School  Junior Sales Representative   \n",
       "5122   21  Female     High School  Junior Sales Representative   \n",
       "5109   21  Female     High School  Junior Sales Representative   \n",
       "5096   21  Female     High School  Junior Sales Representative   \n",
       "5083   21  Female     High School  Junior Sales Representative   \n",
       "...   ...     ...             ...                          ...   \n",
       "1225   62    Male             PhD    Software Engineer Manager   \n",
       "1258   62    Male             PhD    Software Engineer Manager   \n",
       "1236   62    Male             PhD    Software Engineer Manager   \n",
       "1305   62    Male             PhD    Software Engineer Manager   \n",
       "1304   62    Male             PhD    Software Engineer Manager   \n",
       "\n",
       "      years_of_experience    salary  \n",
       "5057                  0.0   25000.0  \n",
       "5122                  0.0   25000.0  \n",
       "5109                  0.0   25000.0  \n",
       "5096                  0.0   25000.0  \n",
       "5083                  0.0   25000.0  \n",
       "...                   ...       ...  \n",
       "1225                 19.0  200000.0  \n",
       "1258                 19.0  200000.0  \n",
       "1236                 20.0  200000.0  \n",
       "1305                 19.0  200000.0  \n",
       "1304                 20.0  200000.0  \n",
       "\n",
       "[6698 rows x 6 columns]"
      ]
     },
     "execution_count": 18,
     "metadata": {},
     "output_type": "execute_result"
    }
   ],
   "source": [
    "data[data.duplicated(['age'], keep = False)].sort_values(by='age')"
   ]
  },
  {
   "cell_type": "markdown",
   "id": "f7e52a71",
   "metadata": {},
   "source": [
    "   Проверить являются ли одинаковые строки дубликатами довольно сложно, так как отсутствует уникальный идентификатор. Будем считать что каждая строка в таблице это информация об отдельном человеке"
   ]
  },
  {
   "cell_type": "markdown",
   "id": "b7b7570a",
   "metadata": {},
   "source": [
    "Вывод по предобработке данных:  \n",
    "\n",
    "   Во втором шаге исследования привели названия столбцов к нижнему регистру, поменяли тип данных, где было необходимо и исследовали датасет на наличие пропущенных значений и дубликатов. "
   ]
  },
  {
   "cell_type": "markdown",
   "id": "5c02167c",
   "metadata": {},
   "source": [
    "## 3 Исследовательский анализ данных "
   ]
  },
  {
   "cell_type": "code",
   "execution_count": 19,
   "id": "45e90bca",
   "metadata": {},
   "outputs": [
    {
     "data": {
      "image/png": "[encoded data removed]",
      "text/plain": [
       "<Figure size 900x1100 with 1 Axes>"
      ]
     },
     "metadata": {},
     "output_type": "display_data"
    }
   ],
   "source": [
    "# посмотрим на распределение возраста \n",
    "\n",
    "plt.figure(figsize=(9,11))\n",
    "data['age'].hist() \n",
    "plt.xlabel('Возраст')\n",
    "plt.ylabel('Количество значений')\n",
    "plt.title('Распределение возраста среди сотрудников')\n",
    "plt.show() \n"
   ]
  },
  {
   "cell_type": "code",
   "execution_count": 20,
   "id": "ad15659c",
   "metadata": {},
   "outputs": [
    {
     "data": {
      "text/plain": [
       "count    6698.0\n",
       "mean       34.0\n",
       "std         8.0\n",
       "min        21.0\n",
       "25%        28.0\n",
       "50%        32.0\n",
       "75%        38.0\n",
       "max        62.0\n",
       "Name: age, dtype: Float64"
      ]
     },
     "execution_count": 20,
     "metadata": {},
     "output_type": "execute_result"
    }
   ],
   "source": [
    "data['age'].describe().round()"
   ]
  },
  {
   "cell_type": "markdown",
   "id": "309a4428",
   "metadata": {},
   "source": [
    "Средний возраст составил 34 года, медиана составила 32 года. Самому молодому сотруднику 21 год, самому зрелому - 62 года."
   ]
  },
  {
   "cell_type": "code",
   "execution_count": 21,
   "id": "18dc240e",
   "metadata": {},
   "outputs": [
    {
     "data": {
      "text/plain": [
       "Male      3671\n",
       "Female    3013\n",
       "Other       14\n",
       "Name: gender, dtype: int64"
      ]
     },
     "execution_count": 21,
     "metadata": {},
     "output_type": "execute_result"
    }
   ],
   "source": [
    "# посмотрим на распределение сотрудников по полу \n",
    "\n",
    "gender_count = data['gender'].value_counts()\n",
    "gender_count"
   ]
  },
  {
   "cell_type": "code",
   "execution_count": 22,
   "id": "b820d9a6",
   "metadata": {},
   "outputs": [
    {
     "data": {
      "text/html": [
       "<div>\n",
       "<style scoped>\n",
       "    .dataframe tbody tr th:only-of-type {\n",
       "        vertical-align: middle;\n",
       "    }\n",
       "\n",
       "    .dataframe tbody tr th {\n",
       "        vertical-align: top;\n",
       "    }\n",
       "\n",
       "    .dataframe thead th {\n",
       "        text-align: right;\n",
       "    }\n",
       "</style>\n",
       "<table border=\"1\" class=\"dataframe\">\n",
       "  <thead>\n",
       "    <tr style=\"text-align: right;\">\n",
       "      <th></th>\n",
       "      <th>age</th>\n",
       "      <th>gender</th>\n",
       "      <th>education_level</th>\n",
       "      <th>job_title</th>\n",
       "      <th>years_of_experience</th>\n",
       "      <th>salary</th>\n",
       "    </tr>\n",
       "  </thead>\n",
       "  <tbody>\n",
       "    <tr>\n",
       "      <th>2378</th>\n",
       "      <td>53</td>\n",
       "      <td>Other</td>\n",
       "      <td>High School</td>\n",
       "      <td>Senior Project Engineer</td>\n",
       "      <td>31.0</td>\n",
       "      <td>166109.0</td>\n",
       "    </tr>\n",
       "    <tr>\n",
       "      <th>2385</th>\n",
       "      <td>25</td>\n",
       "      <td>Other</td>\n",
       "      <td>High School</td>\n",
       "      <td>Full Stack Engineer</td>\n",
       "      <td>2.0</td>\n",
       "      <td>69032.0</td>\n",
       "    </tr>\n",
       "    <tr>\n",
       "      <th>2406</th>\n",
       "      <td>37</td>\n",
       "      <td>Other</td>\n",
       "      <td>Master's Degree</td>\n",
       "      <td>Full Stack Engineer</td>\n",
       "      <td>14.0</td>\n",
       "      <td>161393.0</td>\n",
       "    </tr>\n",
       "    <tr>\n",
       "      <th>2448</th>\n",
       "      <td>31</td>\n",
       "      <td>Other</td>\n",
       "      <td>High School</td>\n",
       "      <td>Back end Developer</td>\n",
       "      <td>8.0</td>\n",
       "      <td>104127.0</td>\n",
       "    </tr>\n",
       "    <tr>\n",
       "      <th>2454</th>\n",
       "      <td>23</td>\n",
       "      <td>Other</td>\n",
       "      <td>High School</td>\n",
       "      <td>Front end Developer</td>\n",
       "      <td>2.0</td>\n",
       "      <td>62852.0</td>\n",
       "    </tr>\n",
       "    <tr>\n",
       "      <th>2458</th>\n",
       "      <td>53</td>\n",
       "      <td>Other</td>\n",
       "      <td>High School</td>\n",
       "      <td>Senior Project Engineer</td>\n",
       "      <td>31.0</td>\n",
       "      <td>166109.0</td>\n",
       "    </tr>\n",
       "    <tr>\n",
       "      <th>2465</th>\n",
       "      <td>25</td>\n",
       "      <td>Other</td>\n",
       "      <td>High School</td>\n",
       "      <td>Full Stack Engineer</td>\n",
       "      <td>2.0</td>\n",
       "      <td>69032.0</td>\n",
       "    </tr>\n",
       "    <tr>\n",
       "      <th>2486</th>\n",
       "      <td>37</td>\n",
       "      <td>Other</td>\n",
       "      <td>Master's Degree</td>\n",
       "      <td>Full Stack Engineer</td>\n",
       "      <td>14.0</td>\n",
       "      <td>161393.0</td>\n",
       "    </tr>\n",
       "    <tr>\n",
       "      <th>2528</th>\n",
       "      <td>31</td>\n",
       "      <td>Other</td>\n",
       "      <td>High School</td>\n",
       "      <td>Back end Developer</td>\n",
       "      <td>8.0</td>\n",
       "      <td>104127.0</td>\n",
       "    </tr>\n",
       "    <tr>\n",
       "      <th>2534</th>\n",
       "      <td>23</td>\n",
       "      <td>Other</td>\n",
       "      <td>High School</td>\n",
       "      <td>Front end Developer</td>\n",
       "      <td>2.0</td>\n",
       "      <td>62852.0</td>\n",
       "    </tr>\n",
       "    <tr>\n",
       "      <th>2554</th>\n",
       "      <td>54</td>\n",
       "      <td>Other</td>\n",
       "      <td>High School</td>\n",
       "      <td>Senior Software Engineer</td>\n",
       "      <td>29.0</td>\n",
       "      <td>158254.0</td>\n",
       "    </tr>\n",
       "    <tr>\n",
       "      <th>2800</th>\n",
       "      <td>54</td>\n",
       "      <td>Other</td>\n",
       "      <td>High School</td>\n",
       "      <td>Senior Software Engineer</td>\n",
       "      <td>29.0</td>\n",
       "      <td>158966.0</td>\n",
       "    </tr>\n",
       "    <tr>\n",
       "      <th>2919</th>\n",
       "      <td>54</td>\n",
       "      <td>Other</td>\n",
       "      <td>High School</td>\n",
       "      <td>Senior Software Engineer</td>\n",
       "      <td>29.0</td>\n",
       "      <td>158966.0</td>\n",
       "    </tr>\n",
       "    <tr>\n",
       "      <th>3038</th>\n",
       "      <td>54</td>\n",
       "      <td>Other</td>\n",
       "      <td>High School</td>\n",
       "      <td>Senior Software Engineer</td>\n",
       "      <td>29.0</td>\n",
       "      <td>158966.0</td>\n",
       "    </tr>\n",
       "  </tbody>\n",
       "</table>\n",
       "</div>"
      ],
      "text/plain": [
       "      age gender  education_level                 job_title  \\\n",
       "2378   53  Other      High School   Senior Project Engineer   \n",
       "2385   25  Other      High School       Full Stack Engineer   \n",
       "2406   37  Other  Master's Degree       Full Stack Engineer   \n",
       "2448   31  Other      High School        Back end Developer   \n",
       "2454   23  Other      High School       Front end Developer   \n",
       "2458   53  Other      High School   Senior Project Engineer   \n",
       "2465   25  Other      High School       Full Stack Engineer   \n",
       "2486   37  Other  Master's Degree       Full Stack Engineer   \n",
       "2528   31  Other      High School        Back end Developer   \n",
       "2534   23  Other      High School       Front end Developer   \n",
       "2554   54  Other      High School  Senior Software Engineer   \n",
       "2800   54  Other      High School  Senior Software Engineer   \n",
       "2919   54  Other      High School  Senior Software Engineer   \n",
       "3038   54  Other      High School  Senior Software Engineer   \n",
       "\n",
       "      years_of_experience    salary  \n",
       "2378                 31.0  166109.0  \n",
       "2385                  2.0   69032.0  \n",
       "2406                 14.0  161393.0  \n",
       "2448                  8.0  104127.0  \n",
       "2454                  2.0   62852.0  \n",
       "2458                 31.0  166109.0  \n",
       "2465                  2.0   69032.0  \n",
       "2486                 14.0  161393.0  \n",
       "2528                  8.0  104127.0  \n",
       "2534                  2.0   62852.0  \n",
       "2554                 29.0  158254.0  \n",
       "2800                 29.0  158966.0  \n",
       "2919                 29.0  158966.0  \n",
       "3038                 29.0  158966.0  "
      ]
     },
     "execution_count": 22,
     "metadata": {},
     "output_type": "execute_result"
    }
   ],
   "source": [
    "# посмотрим на сотрудников, которые принадлежат к мужчинам и женщинам. \n",
    "data[data['gender'] == 'Other']"
   ]
  },
  {
   "cell_type": "code",
   "execution_count": 23,
   "id": "7a3832a4",
   "metadata": {},
   "outputs": [
    {
     "data": {
      "text/plain": [
       "<Figure size 1000x1000 with 0 Axes>"
      ]
     },
     "metadata": {},
     "output_type": "display_data"
    },
    {
     "data": {
      "image/png": "[encoded data removed]",
      "text/plain": [
       "<Figure size 640x480 with 1 Axes>"
      ]
     },
     "metadata": {},
     "output_type": "display_data"
    }
   ],
   "source": [
    "# Построим круговую диаграмму \n",
    "\n",
    "plt.figure(figsize = (10,10)) \n",
    "\n",
    "fig, ax = plt.subplots() \n",
    "\n",
    "sizes = data['gender'].value_counts()\n",
    "labels = gender_count.index\n",
    "ax.pie(sizes, labels = labels, autopct='%1.1f%%', pctdistance =1.1, labeldistance =.6)\n",
    "ax.set_title('Распределение пола сотрудников')\n",
    "\n",
    "plt.show()\n",
    "\n"
   ]
  },
  {
   "cell_type": "markdown",
   "id": "fc8fdd29",
   "metadata": {},
   "source": [
    " Среди сотрудников: 54.8 % - мужчины, 45 % - женщины и 0.2 % принадлежат к категории  'Другие'"
   ]
  },
  {
   "cell_type": "code",
   "execution_count": 24,
   "id": "45654d6c",
   "metadata": {},
   "outputs": [
    {
     "data": {
      "text/html": [
       "<div>\n",
       "<style scoped>\n",
       "    .dataframe tbody tr th:only-of-type {\n",
       "        vertical-align: middle;\n",
       "    }\n",
       "\n",
       "    .dataframe tbody tr th {\n",
       "        vertical-align: top;\n",
       "    }\n",
       "\n",
       "    .dataframe thead th {\n",
       "        text-align: right;\n",
       "    }\n",
       "</style>\n",
       "<table border=\"1\" class=\"dataframe\">\n",
       "  <thead>\n",
       "    <tr style=\"text-align: right;\">\n",
       "      <th></th>\n",
       "      <th>education_level</th>\n",
       "      <th>count</th>\n",
       "    </tr>\n",
       "  </thead>\n",
       "  <tbody>\n",
       "    <tr>\n",
       "      <th>0</th>\n",
       "      <td>Bachelor's Degree</td>\n",
       "      <td>2265</td>\n",
       "    </tr>\n",
       "    <tr>\n",
       "      <th>1</th>\n",
       "      <td>Master's Degree</td>\n",
       "      <td>1572</td>\n",
       "    </tr>\n",
       "    <tr>\n",
       "      <th>2</th>\n",
       "      <td>PhD</td>\n",
       "      <td>1368</td>\n",
       "    </tr>\n",
       "    <tr>\n",
       "      <th>3</th>\n",
       "      <td>Bachelor's</td>\n",
       "      <td>756</td>\n",
       "    </tr>\n",
       "    <tr>\n",
       "      <th>4</th>\n",
       "      <td>High School</td>\n",
       "      <td>448</td>\n",
       "    </tr>\n",
       "    <tr>\n",
       "      <th>5</th>\n",
       "      <td>Master's</td>\n",
       "      <td>288</td>\n",
       "    </tr>\n",
       "  </tbody>\n",
       "</table>\n",
       "</div>"
      ],
      "text/plain": [
       "     education_level  count\n",
       "0  Bachelor's Degree   2265\n",
       "1    Master's Degree   1572\n",
       "2                PhD   1368\n",
       "3         Bachelor's    756\n",
       "4        High School    448\n",
       "5           Master's    288"
      ]
     },
     "execution_count": 24,
     "metadata": {},
     "output_type": "execute_result"
    }
   ],
   "source": [
    "# посмотрим уровень образования среди сотрудников\n",
    "education_level_df = data['education_level'].value_counts() \n",
    "education_level_df = education_level_df.reset_index()\n",
    "education_level_df.columns = ['education_level', 'count'] \n",
    "# удалим последнюю строку\n",
    "education_level_df =  education_level_df.drop(6) \n",
    "education_level_df"
   ]
  },
  {
   "cell_type": "code",
   "execution_count": 25,
   "id": "9f1b7e4a",
   "metadata": {},
   "outputs": [
    {
     "data": {
      "image/png": "[encoded data removed]",
      "text/plain": [
       "<Figure size 640x480 with 1 Axes>"
      ]
     },
     "metadata": {},
     "output_type": "display_data"
    }
   ],
   "source": [
    "# Построим барплот \n",
    "education_level_df.plot(kind = 'barh', grid = True, x = 'education_level', y = 'count', legend = False)\n",
    "\n",
    "plt.xlabel('Количество сотрудников')\n",
    "plt.ylabel('Уровень образования ')\n",
    "plt.title('Уровень образования сотрудников')\n",
    "\n",
    "plt.show()"
   ]
  },
  {
   "cell_type": "markdown",
   "id": "8293a407",
   "metadata": {},
   "source": [
    "   Большинство сотрудников имеют степень бакалавра (2265 человек), 1572 сотрудника имеют степень магистра, 1368 сотрудников имеют степень доктора философии, 756 сотрудников являются бакалаврами, 448 сотрудников из высшей школы,  288 - магистры "
   ]
  },
  {
   "cell_type": "code",
   "execution_count": 26,
   "id": "4dd72b64",
   "metadata": {},
   "outputs": [
    {
     "data": {
      "text/plain": [
       "<Axes: ylabel='education_level'>"
      ]
     },
     "execution_count": 26,
     "metadata": {},
     "output_type": "execute_result"
    },
    {
     "data": {
      "image/png": "[encoded data removed]",
      "text/plain": [
       "<Figure size 640x480 with 1 Axes>"
      ]
     },
     "metadata": {},
     "output_type": "display_data"
    }
   ],
   "source": [
    "education_level_df.plot(kind = 'barh', grid = True, x = 'education_level', y = 'count', legend = False)"
   ]
  },
  {
   "cell_type": "code",
   "execution_count": 27,
   "id": "e55cdf92",
   "metadata": {},
   "outputs": [
    {
     "data": {
      "text/plain": [
       "Bachelor's Degree    0.17\n",
       "Master's Degree      0.17\n",
       "PhD                  0.17\n",
       "Bachelor's           0.17\n",
       "High School          0.17\n",
       "Master's             0.17\n",
       "Name: education_level, dtype: float64"
      ]
     },
     "execution_count": 27,
     "metadata": {},
     "output_type": "execute_result"
    }
   ],
   "source": [
    "education_level_df['education_level'].value_counts(normalize = True).round(2)"
   ]
  },
  {
   "cell_type": "markdown",
   "id": "be075f7b",
   "metadata": {},
   "source": [
    "В относительном выражении распределение сотрудников по уровню образования прошло равномерно"
   ]
  },
  {
   "cell_type": "code",
   "execution_count": 28,
   "id": "6dbad0c1",
   "metadata": {},
   "outputs": [
    {
     "data": {
      "text/plain": [
       "191"
      ]
     },
     "execution_count": 28,
     "metadata": {},
     "output_type": "execute_result"
    }
   ],
   "source": [
    "# посмотрим суммарное количество должностей  сторудников \n",
    "data['job_title'].nunique()"
   ]
  },
  {
   "cell_type": "code",
   "execution_count": 29,
   "id": "9a04b54d",
   "metadata": {},
   "outputs": [
    {
     "data": {
      "text/html": [
       "<div>\n",
       "<style scoped>\n",
       "    .dataframe tbody tr th:only-of-type {\n",
       "        vertical-align: middle;\n",
       "    }\n",
       "\n",
       "    .dataframe tbody tr th {\n",
       "        vertical-align: top;\n",
       "    }\n",
       "\n",
       "    .dataframe thead th {\n",
       "        text-align: right;\n",
       "    }\n",
       "</style>\n",
       "<table border=\"1\" class=\"dataframe\">\n",
       "  <thead>\n",
       "    <tr style=\"text-align: right;\">\n",
       "      <th></th>\n",
       "      <th>job_title</th>\n",
       "      <th>count</th>\n",
       "    </tr>\n",
       "  </thead>\n",
       "  <tbody>\n",
       "    <tr>\n",
       "      <th>0</th>\n",
       "      <td>Software Engineer</td>\n",
       "      <td>518</td>\n",
       "    </tr>\n",
       "    <tr>\n",
       "      <th>1</th>\n",
       "      <td>Data Scientist</td>\n",
       "      <td>453</td>\n",
       "    </tr>\n",
       "    <tr>\n",
       "      <th>2</th>\n",
       "      <td>Software Engineer Manager</td>\n",
       "      <td>376</td>\n",
       "    </tr>\n",
       "    <tr>\n",
       "      <th>3</th>\n",
       "      <td>Data Analyst</td>\n",
       "      <td>363</td>\n",
       "    </tr>\n",
       "    <tr>\n",
       "      <th>4</th>\n",
       "      <td>Senior Project Engineer</td>\n",
       "      <td>318</td>\n",
       "    </tr>\n",
       "    <tr>\n",
       "      <th>5</th>\n",
       "      <td>Product Manager</td>\n",
       "      <td>313</td>\n",
       "    </tr>\n",
       "    <tr>\n",
       "      <th>6</th>\n",
       "      <td>Full Stack Engineer</td>\n",
       "      <td>308</td>\n",
       "    </tr>\n",
       "    <tr>\n",
       "      <th>7</th>\n",
       "      <td>Marketing Manager</td>\n",
       "      <td>255</td>\n",
       "    </tr>\n",
       "    <tr>\n",
       "      <th>8</th>\n",
       "      <td>Back end Developer</td>\n",
       "      <td>244</td>\n",
       "    </tr>\n",
       "    <tr>\n",
       "      <th>9</th>\n",
       "      <td>Senior Software Engineer</td>\n",
       "      <td>244</td>\n",
       "    </tr>\n",
       "  </tbody>\n",
       "</table>\n",
       "</div>"
      ],
      "text/plain": [
       "                   job_title  count\n",
       "0          Software Engineer    518\n",
       "1             Data Scientist    453\n",
       "2  Software Engineer Manager    376\n",
       "3               Data Analyst    363\n",
       "4    Senior Project Engineer    318\n",
       "5            Product Manager    313\n",
       "6        Full Stack Engineer    308\n",
       "7          Marketing Manager    255\n",
       "8         Back end Developer    244\n",
       "9   Senior Software Engineer    244"
      ]
     },
     "execution_count": 29,
     "metadata": {},
     "output_type": "execute_result"
    }
   ],
   "source": [
    "# Посмотрим на топ-10 популярных должностей сотрудников \n",
    "\n",
    "top_10 = data['job_title'].value_counts().sort_values(ascending= False).reset_index()\n",
    "top_10.columns = ['job_title','count']\n",
    "top_10 = top_10[0:10]\n",
    "top_10"
   ]
  },
  {
   "cell_type": "markdown",
   "id": "57959173",
   "metadata": {},
   "source": [
    "В 10 самых популярных должностей по количеству сотрудников вошли : \n",
    "\n",
    "* Software Engineer (518 сотрудников), \n",
    "* специалист по Data Scientist (453 сотрудников), \n",
    "* Software Engineer Manager(376 сотрудника), \n",
    "* Data Analyst(363 сотрудника),\n",
    "* Senior Project Engineer (318 сотрудников), \n",
    "* Product Manager (313 сотрудников), \n",
    "* Full Stack Engineer (308 сотрудников), \n",
    "* Marketing Manager (255 сотрудников), \n",
    "* Back end Developer (244 сотрудникка), \n",
    "* Senior Software Engineer (244 сотрудника) \n",
    "\n"
   ]
  },
  {
   "cell_type": "code",
   "execution_count": 30,
   "id": "9f5dfdb5",
   "metadata": {},
   "outputs": [
    {
     "data": {
      "text/plain": [
       "Text(0, 0.5, 'Количество сотрудников')"
      ]
     },
     "execution_count": 30,
     "metadata": {},
     "output_type": "execute_result"
    },
    {
     "data": {
      "image/png": "[encoded data removed]",
      "text/plain": [
       "<Figure size 800x800 with 1 Axes>"
      ]
     },
     "metadata": {},
     "output_type": "display_data"
    }
   ],
   "source": [
    "# построим гистограмму распределения опыта работы \n",
    "plt.figure(figsize=(8,8))\n",
    "data['years_of_experience'].hist()\n",
    "plt.title('Распределение опыта работы среди сотрудников')\n",
    "plt.xlabel('Опыт работы в годах')\n",
    "plt.ylabel('Количество сотрудников')"
   ]
  },
  {
   "cell_type": "markdown",
   "id": "6f9eab77",
   "metadata": {},
   "source": [
    "Опыт работы сотрудниеов не имеет вид нормального распределения."
   ]
  },
  {
   "cell_type": "code",
   "execution_count": 31,
   "id": "2198e450",
   "metadata": {},
   "outputs": [
    {
     "data": {
      "text/plain": [
       "<Axes: xlabel='years_of_experience', ylabel='Proportion'>"
      ]
     },
     "execution_count": 31,
     "metadata": {},
     "output_type": "execute_result"
    },
    {
     "data": {
      "image/png": "[encoded data removed]",
      "text/plain": [
       "<Figure size 640x480 with 1 Axes>"
      ]
     },
     "metadata": {},
     "output_type": "display_data"
    }
   ],
   "source": [
    "# Построим ecdfplot\n",
    "sns.ecdfplot(data = data, x = 'years_of_experience', stat = 'proportion') "
   ]
  },
  {
   "cell_type": "markdown",
   "id": "b115f973",
   "metadata": {},
   "source": [
    "По графику ecdfplot можно заметить, какой процент значений меньше для каждого выбранного значения опыта работы "
   ]
  },
  {
   "cell_type": "code",
   "execution_count": 32,
   "id": "7689bb8c",
   "metadata": {},
   "outputs": [
    {
     "data": {
      "text/plain": [
       "count    6698\n",
       "mean        8\n",
       "std         6\n",
       "min         0\n",
       "25%         3\n",
       "50%         7\n",
       "75%        12\n",
       "max        34\n",
       "Name: years_of_experience, dtype: int32"
      ]
     },
     "execution_count": 32,
     "metadata": {},
     "output_type": "execute_result"
    }
   ],
   "source": [
    "data['years_of_experience'].describe().round().astype('int32')\n"
   ]
  },
  {
   "cell_type": "markdown",
   "id": "4301d5b6",
   "metadata": {},
   "source": [
    "   Среднее количество лет опыта равно 8 годам, медиана примерно равна среднему значению и составила 7 лет. Минимальное количество лет опыта - 0, максимальное количество лет опыта составило 34 года "
   ]
  },
  {
   "cell_type": "code",
   "execution_count": 33,
   "id": "a9aecd45",
   "metadata": {},
   "outputs": [
    {
     "data": {
      "text/plain": [
       "37"
      ]
     },
     "execution_count": 33,
     "metadata": {},
     "output_type": "execute_result"
    }
   ],
   "source": [
    "# количество уникальных значений по признаку years_of_experience \n",
    "data['years_of_experience'].nunique()"
   ]
  },
  {
   "cell_type": "code",
   "execution_count": 34,
   "id": "0161ff8b",
   "metadata": {},
   "outputs": [
    {
     "data": {
      "image/png": "[encoded data removed]",
      "text/plain": [
       "<Figure size 1700x1200 with 1 Axes>"
      ]
     },
     "metadata": {},
     "output_type": "display_data"
    }
   ],
   "source": [
    "# Посмотрим на распределение опыта работы среди сотрудников  \n",
    "plt.figure(figsize=(17,12)) \n",
    "\n",
    "sns.countplot(data = data, x = 'years_of_experience') \n",
    "plt.title('Количество лет опыта работы среди сотрудников')\n",
    "plt.xlabel('Количество лет опыта работы')\n",
    "plt.ylabel('Число сотрудников')\n",
    "plt.show() "
   ]
  },
  {
   "cell_type": "markdown",
   "id": "f93d91c2",
   "metadata": {},
   "source": [
    "   По данным графика, можно заметить, что есть два пика - 2 и 3 года опыта работы, далее постепенно с увеличением количества лет опыта число сотрудников потепенно понижается. Как и ожидалось, число опытных сотрудников(более 20 лет) довольно мало по сравнению с количеством сотрудников, имеющих опыт работы до 10 лет."
   ]
  },
  {
   "cell_type": "code",
   "execution_count": 35,
   "id": "0a1ded3e",
   "metadata": {},
   "outputs": [
    {
     "data": {
      "image/png": "[encoded data removed]",
      "text/plain": [
       "<Figure size 640x480 with 1 Axes>"
      ]
     },
     "metadata": {},
     "output_type": "display_data"
    }
   ],
   "source": [
    "# Построим boxplot для признака salary \n",
    "plt.hist(data = data , x = 'salary')\n",
    "plt.title('Распределение заработной платы среди сотрудников')\n",
    "plt.xlabel('Заработная плата')\n",
    "plt.ylabel('Количество сотрудников')\n",
    "plt.show() \n"
   ]
  },
  {
   "cell_type": "code",
   "execution_count": 36,
   "id": "d36009ef",
   "metadata": {},
   "outputs": [
    {
     "data": {
      "text/plain": [
       "count      6698.00\n",
       "mean     115329.25\n",
       "std       52789.79\n",
       "min         350.00\n",
       "25%       70000.00\n",
       "50%      115000.00\n",
       "75%      160000.00\n",
       "max      250000.00\n",
       "Name: salary, dtype: float64"
      ]
     },
     "execution_count": 36,
     "metadata": {},
     "output_type": "execute_result"
    }
   ],
   "source": [
    "data['salary'].describe().round(2)"
   ]
  },
  {
   "cell_type": "markdown",
   "id": "69de824d",
   "metadata": {},
   "source": [
    "Максимальная зарплата составила 250000 у.е. Средняя зарпалат равна медианной и составила 115000 рублей. Межквартильный размах составил 90000 рублей."
   ]
  },
  {
   "cell_type": "code",
   "execution_count": 37,
   "id": "eba97786",
   "metadata": {},
   "outputs": [
    {
     "data": {
      "image/png": "[encoded data removed]",
      "text/plain": [
       "<Figure size 640x480 with 2 Axes>"
      ]
     },
     "metadata": {},
     "output_type": "display_data"
    }
   ],
   "source": [
    "# Построим тепловую карту heatmap\n",
    "corr = data.corr(numeric_only=True)\n",
    "sns.heatmap(corr, annot = True, fmt = '.2f', cmap = 'bwr', linewidth = .5) \n",
    "plt.title('Корреляционная матрица ')\n",
    "plt.show()  \n"
   ]
  },
  {
   "cell_type": "markdown",
   "id": "4496a0db",
   "metadata": {},
   "source": [
    "   По данным тепловой карты можно установить положительную сильную связь между возрастом сотрудника и его опытом работы. Логично, что чем старше человек, тем больше у него опыта работы . \n",
    "   \n",
    "   Согласно шкале Чеддока, между заработной платой и возрастом сотрудника наблюдается высокая положительная связь (0.73). Между заработной платой и опытом работы также можно заметить положительную высокую связь (0.81) "
   ]
  },
  {
   "cell_type": "code",
   "execution_count": 38,
   "id": "295ddfbe",
   "metadata": {},
   "outputs": [
    {
     "data": {
      "text/plain": [
       "gender\n",
       "Female    38\n",
       "Male      40\n",
       "Other      6\n",
       "Name: age, dtype: int64"
      ]
     },
     "execution_count": 38,
     "metadata": {},
     "output_type": "execute_result"
    }
   ],
   "source": [
    "data.groupby('gender')['age'].agg('nunique')"
   ]
  },
  {
   "cell_type": "code",
   "execution_count": 39,
   "id": "6cfbbaad",
   "metadata": {},
   "outputs": [
    {
     "data": {
      "text/plain": [
       "<seaborn.axisgrid.FacetGrid at 0x1ab06223b80>"
      ]
     },
     "execution_count": 39,
     "metadata": {},
     "output_type": "execute_result"
    },
    {
     "data": {
      "image/png": "[encoded data removed]",
      "text/plain": [
       "<Figure size 600.25x500 with 1 Axes>"
      ]
     },
     "metadata": {},
     "output_type": "display_data"
    }
   ],
   "source": [
    "sns.lmplot(x='years_of_experience', y='salary', data=data, hue = 'gender')"
   ]
  },
  {
   "cell_type": "markdown",
   "id": "06563ae4",
   "metadata": {},
   "source": [
    "   По графику можно заметить, что зарплата напрямую зависит от опыта работы. Это одинаково верно как для мужчин, так и для женщин и категории 'Другие' "
   ]
  },
  {
   "cell_type": "code",
   "execution_count": 40,
   "id": "dd769429",
   "metadata": {},
   "outputs": [
    {
     "data": {
      "text/html": [
       "<div>\n",
       "<style scoped>\n",
       "    .dataframe tbody tr th:only-of-type {\n",
       "        vertical-align: middle;\n",
       "    }\n",
       "\n",
       "    .dataframe tbody tr th {\n",
       "        vertical-align: top;\n",
       "    }\n",
       "\n",
       "    .dataframe thead th {\n",
       "        text-align: right;\n",
       "    }\n",
       "</style>\n",
       "<table border=\"1\" class=\"dataframe\">\n",
       "  <thead>\n",
       "    <tr style=\"text-align: right;\">\n",
       "      <th></th>\n",
       "      <th>education_level</th>\n",
       "      <th>median_salary</th>\n",
       "    </tr>\n",
       "  </thead>\n",
       "  <tbody>\n",
       "    <tr>\n",
       "      <th>0</th>\n",
       "      <td>Bachelor's</td>\n",
       "      <td>130000.0</td>\n",
       "    </tr>\n",
       "    <tr>\n",
       "      <th>1</th>\n",
       "      <td>Bachelor's Degree</td>\n",
       "      <td>75000.0</td>\n",
       "    </tr>\n",
       "    <tr>\n",
       "      <th>2</th>\n",
       "      <td>High School</td>\n",
       "      <td>30000.0</td>\n",
       "    </tr>\n",
       "    <tr>\n",
       "      <th>3</th>\n",
       "      <td>Master's</td>\n",
       "      <td>177500.0</td>\n",
       "    </tr>\n",
       "    <tr>\n",
       "      <th>4</th>\n",
       "      <td>Master's Degree</td>\n",
       "      <td>122000.0</td>\n",
       "    </tr>\n",
       "    <tr>\n",
       "      <th>5</th>\n",
       "      <td>PhD</td>\n",
       "      <td>170000.0</td>\n",
       "    </tr>\n",
       "    <tr>\n",
       "      <th>6</th>\n",
       "      <td>phD</td>\n",
       "      <td>120000.0</td>\n",
       "    </tr>\n",
       "  </tbody>\n",
       "</table>\n",
       "</div>"
      ],
      "text/plain": [
       "     education_level  median_salary\n",
       "0         Bachelor's       130000.0\n",
       "1  Bachelor's Degree        75000.0\n",
       "2        High School        30000.0\n",
       "3           Master's       177500.0\n",
       "4    Master's Degree       122000.0\n",
       "5                PhD       170000.0\n",
       "6                phD       120000.0"
      ]
     },
     "execution_count": 40,
     "metadata": {},
     "output_type": "execute_result"
    }
   ],
   "source": [
    "ed_level_salary = data.groupby('education_level')['salary'].agg('median').reset_index() \n",
    "ed_level_salary.columns = ['education_level', 'median_salary']\n",
    "ed_level_salary"
   ]
  },
  {
   "cell_type": "code",
   "execution_count": 41,
   "id": "b380b267",
   "metadata": {},
   "outputs": [
    {
     "data": {
      "image/png": "[encoded data removed]",
      "text/plain": [
       "<Figure size 640x480 with 1 Axes>"
      ]
     },
     "metadata": {},
     "output_type": "display_data"
    }
   ],
   "source": [
    "ed_level_salary.sort_values(by = 'median_salary',ascending = False).plot(kind='bar', grid = True,  x = 'education_level', y ='median_salary')\n",
    "plt.title('Медианная зарплата сотрудников в зависимости от уровня образования')\n",
    "plt.xlabel('Уровень образования')\n",
    "plt.ylabel('Медианная заработная плата')\n",
    "plt.xticks(rotation = 45)\n",
    "plt.show()"
   ]
  },
  {
   "cell_type": "markdown",
   "id": "ae065b3a",
   "metadata": {},
   "source": [
    "   Наибольшая медианная зарплата у сотрудников с образованием магистра, далее на втором месте сотрудники со степенью доктора философии, на третьем месте - сотрудники, закончившие бакалавриат."
   ]
  },
  {
   "cell_type": "markdown",
   "id": "72c5a0df",
   "metadata": {},
   "source": [
    "Вывод по исследовательскому анализу данных: \n",
    "\n",
    "* была построена тепловая карта , по результатам которой установлено, что заработная плата напрямую коррелирует с возрастом и опытом работы; \n",
    "* также определили, что наибольшая медианная зарплата у сотрудников, имеющих степень магистра и доктора философских наук\n",
    "* среди сотрудников 54.8 % мужчины, 45 % женщины и 0.2 % относятся к категории 'Другие' \n",
    "* средний возраст сотрудников составил 34 года \n",
    "* средняя заработная плата сотрудников равна медианной заработной плате и составила 115000 у.е. \n"
   ]
  },
  {
   "cell_type": "markdown",
   "id": "19e64d21",
   "metadata": {},
   "source": [
    "## 4 Проверка статистических гипотез и обоснование выбора статистического теста "
   ]
  },
  {
   "cell_type": "markdown",
   "id": "405efe85",
   "metadata": {},
   "source": [
    "Проверим гипотезу различия заработной платы между сотрудниками мужского и женского пола \n",
    "\n",
    "Сформулируем гипотезы: \n",
    "\n",
    "Нулевая гипотеза (Н0) : средняя заработная плата мужчин равна средней заработной плате женщин\n",
    "\n",
    "Альтернативная гипотеза (Н1): средняя заработная плата мужчин не равна средней заработной плате женщин \n",
    "\n",
    "\n",
    "\n"
   ]
  },
  {
   "cell_type": "code",
   "execution_count": 42,
   "id": "6c3d6f0b",
   "metadata": {},
   "outputs": [],
   "source": [
    "# Cформируем контрольную и экспериментальную выборки \n",
    "\n",
    "sample_1 = data[data['gender'] == 'Male']['salary']\n",
    "sample_2 = data[data['gender'] == 'Female']['salary']\n"
   ]
  },
  {
   "cell_type": "code",
   "execution_count": 43,
   "id": "cd70019e",
   "metadata": {},
   "outputs": [
    {
     "data": {
      "text/plain": [
       "3671"
      ]
     },
     "execution_count": 43,
     "metadata": {},
     "output_type": "execute_result"
    }
   ],
   "source": [
    "len(sample_1)"
   ]
  },
  {
   "cell_type": "code",
   "execution_count": 44,
   "id": "2369b292",
   "metadata": {},
   "outputs": [
    {
     "data": {
      "text/plain": [
       "3013"
      ]
     },
     "execution_count": 44,
     "metadata": {},
     "output_type": "execute_result"
    }
   ],
   "source": [
    "len(sample_2)"
   ]
  },
  {
   "cell_type": "code",
   "execution_count": 45,
   "id": "f2dbd07b",
   "metadata": {},
   "outputs": [
    {
     "data": {
      "image/png": "[encoded data removed]",
      "text/plain": [
       "<Figure size 1000x500 with 2 Axes>"
      ]
     },
     "metadata": {},
     "output_type": "display_data"
    }
   ],
   "source": [
    "# Проверим из какого распределения пришли выборки и присутствуют выбросы. Выберем статистический тест\n",
    "sns.displot(data.query('gender == [\"Male\",\"Female\"]'), x = 'salary', col = 'gender') \n",
    "plt.xlabel('Заработная плата')\n",
    "plt.ylabel('Количество сотрудников')\n",
    "plt.show()\n",
    "     \n"
   ]
  },
  {
   "cell_type": "markdown",
   "id": "900a4a29",
   "metadata": {},
   "source": [
    "   Выборки пришли не из нормального распределения, есть длинные хвосты в сторону больших значений. Применим U-критерий Манна-Уитни , который менее подвержен выбросам. "
   ]
  },
  {
   "cell_type": "code",
   "execution_count": 46,
   "id": "c921dbb3",
   "metadata": {},
   "outputs": [
    {
     "name": "stdout",
     "output_type": "stream",
     "text": [
      "Pvalue: 7.454164887275822e-25\n",
      "Отвергаем нулевую гипотезу\n"
     ]
    }
   ],
   "source": [
    "results = st.mannwhitneyu(sample_1, sample_2, alternative = 'two-sided') \n",
    "\n",
    "# критический уровень статистической значимости \n",
    "alpha = 0.05\n",
    "\n",
    "print('Pvalue:', results.pvalue) \n",
    "\n",
    "if results.pvalue < alpha: \n",
    "    \n",
    "    print('Отвергаем нулевую гипотезу')\n",
    "else: \n",
    "    print('Не отвергаем нулевую гипотезу') \n",
    "    "
   ]
  },
  {
   "cell_type": "markdown",
   "id": "b8f18f71",
   "metadata": {},
   "source": [
    " Вывод: Получившееся значение p_value < 0.05. Следовательно, на имеющихся данных на уровне значимости 5 %(уровне доверия 95 %) есть основания отвергнуть нулевую гипотезу в пользу альтернативы. Средняя заработная плата мужчин не равна средней заработной плате женщин "
   ]
  },
  {
   "cell_type": "markdown",
   "id": "4d376306",
   "metadata": {},
   "source": [
    "Вывод по проверке статистических гипотез: есть статистически значимая разница между средней заработной платой мужчин и женщин "
   ]
  },
  {
   "cell_type": "markdown",
   "id": "0048f6ad",
   "metadata": {},
   "source": [
    "## Общие выводы и выработка рекомендаций \n",
    "\n",
    "В ходе выполнения пет проекта были изучены и решены цели исследования. Ход исследования содержал 4 шага.\n",
    " 1. на первом шаге исследования была изучена общая информация о наборе данных, установили, что всего датасет содержит 6 столбцов и 6704 строк; \n",
    " 2. на втором шаге исследования была проведена предобработка данных. Удалены пропущенные значения, была проведена проверка на дубликаты, привели названия столбцов к нижнему регистру \n",
    " 3. на третьем шаге исследования был проведен EDA: \n",
    "   * была построена тепловая карта , по результатам которой установлено, что заработная плата напрямую коррелирует с возрастом и опытом работы;\n",
    "   * также определили, что наибольшая медианная зарплата у сотрудников, имеющих степень магистра и доктора философских наук\n",
    "   * среди сотрудников 54.8 % мужчины, 45 % женщины и 0.2 % относятся к категории 'Другие'\n",
    "   * средний возраст сотрудников составил 34 года\n",
    "   * средняя заработная плата сотрудников равна медианной заработной плате и составила 115000 у.е.\n",
    " 4. на четвертом шаге исследования была проведена проверка статистической гипотезы о различии средней заработной платы между сотрудниками мужского и женского пола, в результате которой обнаружили, что есть статистически значимая разница между зарплатами мужчин и женщин \n",
    "\n",
    "  По результатам проведенного исследования можно дать рекомендации для заказчика: соискатели вакансий в сфере IT. \n",
    "  1. заработная плата зависит от опыта работы. Рекомендовать кандидату на вакансию ориентироваться на свой релевантный опыт и трезво оценивать зарплатные ожидания \n",
    "  2. самая высокая медианная заработная плата у сотрудников, имеющих степень магистра и доктора философских наук. Рекомендовать кандидатам ориентироваться на уровень образования и улучшать повседневно свои навыки и знания для повышения шансов на оффер."
   ]
  }
 ],
 "metadata": {
  "kernelspec": {
   "display_name": "Python 3 (ipykernel)",
   "language": "python",
   "name": "python3"
  },
  "language_info": {
   "codemirror_mode": {
    "name": "ipython",
    "version": 3
   },
   "file_extension": ".py",
   "mimetype": "text/x-python",
   "name": "python",
   "nbconvert_exporter": "python",
   "pygments_lexer": "ipython3",
   "version": "3.10.9"
  }
 },
 "nbformat": 4,
 "nbformat_minor": 5
}
